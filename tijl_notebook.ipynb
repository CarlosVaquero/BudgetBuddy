{
  "nbformat": 4,
  "nbformat_minor": 0,
  "metadata": {
    "colab": {
      "provenance": [],
      "authorship_tag": "ABX9TyPyqSGzZ1BDN9v/Q5Td1VU4",
      "include_colab_link": true
    },
    "kernelspec": {
      "name": "python3",
      "display_name": "Python 3"
    },
    "language_info": {
      "name": "python"
    }
  },
  "cells": [
    {
      "cell_type": "markdown",
      "metadata": {
        "id": "view-in-github",
        "colab_type": "text"
      },
      "source": [
        "<a href=\"https://colab.research.google.com/github/CarlosVaquero/BudgetBuddy/blob/main/tijl_notebook.ipynb\" target=\"_parent\"><img src=\"https://colab.research.google.com/assets/colab-badge.svg\" alt=\"Open In Colab\"/></a>"
      ]
    },
    {
      "cell_type": "code",
      "source": [
        "!git clone https://github.com/CarlosVaquero/BudgetBuddy/"
      ],
      "metadata": {
        "colab": {
          "base_uri": "https://localhost:8080/"
        },
        "id": "UQXHf5Z0tMQQ",
        "outputId": "ab45e606-407a-4039-c447-e1181419eabe"
      },
      "execution_count": 2,
      "outputs": [
        {
          "output_type": "stream",
          "name": "stdout",
          "text": [
            "Cloning into 'BudgetBuddy'...\n",
            "remote: Enumerating objects: 918, done.\u001b[K\n",
            "remote: Counting objects: 100% (918/918), done.\u001b[K\n",
            "remote: Compressing objects: 100% (852/852), done.\u001b[K\n",
            "remote: Total 918 (delta 66), reused 914 (delta 64), pack-reused 0 (from 0)\u001b[K\n",
            "Receiving objects: 100% (918/918), 504.58 KiB | 8.01 MiB/s, done.\n",
            "Resolving deltas: 100% (66/66), done.\n"
          ]
        }
      ]
    },
    {
      "cell_type": "code",
      "source": [
        "!pip install langchain_community\n",
        "!pip install langchain-google-genai\n",
        "!pip install langchain-chroma\n",
        "!pip install faiss-cpu\n",
        "!pip install -U langgraph\n",
        "!pip install html2text"
      ],
      "metadata": {
        "colab": {
          "base_uri": "https://localhost:8080/"
        },
        "id": "g93rtQXft0er",
        "outputId": "a2457336-001e-414d-8a8b-565e50d0a125"
      },
      "execution_count": 226,
      "outputs": [
        {
          "output_type": "stream",
          "name": "stdout",
          "text": [
            "Requirement already satisfied: langchain_community in /usr/local/lib/python3.11/dist-packages (0.3.20)\n",
            "Requirement already satisfied: langchain-core<1.0.0,>=0.3.45 in /usr/local/lib/python3.11/dist-packages (from langchain_community) (0.3.49)\n",
            "Requirement already satisfied: langchain<1.0.0,>=0.3.21 in /usr/local/lib/python3.11/dist-packages (from langchain_community) (0.3.21)\n",
            "Requirement already satisfied: SQLAlchemy<3,>=1.4 in /usr/local/lib/python3.11/dist-packages (from langchain_community) (2.0.40)\n",
            "Requirement already satisfied: requests<3,>=2 in /usr/local/lib/python3.11/dist-packages (from langchain_community) (2.32.3)\n",
            "Requirement already satisfied: PyYAML>=5.3 in /usr/local/lib/python3.11/dist-packages (from langchain_community) (6.0.2)\n",
            "Requirement already satisfied: aiohttp<4.0.0,>=3.8.3 in /usr/local/lib/python3.11/dist-packages (from langchain_community) (3.11.14)\n",
            "Requirement already satisfied: tenacity!=8.4.0,<10,>=8.1.0 in /usr/local/lib/python3.11/dist-packages (from langchain_community) (9.0.0)\n",
            "Requirement already satisfied: dataclasses-json<0.7,>=0.5.7 in /usr/local/lib/python3.11/dist-packages (from langchain_community) (0.6.7)\n",
            "Requirement already satisfied: pydantic-settings<3.0.0,>=2.4.0 in /usr/local/lib/python3.11/dist-packages (from langchain_community) (2.8.1)\n",
            "Requirement already satisfied: langsmith<0.4,>=0.1.125 in /usr/local/lib/python3.11/dist-packages (from langchain_community) (0.3.19)\n",
            "Requirement already satisfied: httpx-sse<1.0.0,>=0.4.0 in /usr/local/lib/python3.11/dist-packages (from langchain_community) (0.4.0)\n",
            "Requirement already satisfied: numpy<3,>=1.26.2 in /usr/local/lib/python3.11/dist-packages (from langchain_community) (1.26.4)\n",
            "Requirement already satisfied: aiohappyeyeballs>=2.3.0 in /usr/local/lib/python3.11/dist-packages (from aiohttp<4.0.0,>=3.8.3->langchain_community) (2.6.1)\n",
            "Requirement already satisfied: aiosignal>=1.1.2 in /usr/local/lib/python3.11/dist-packages (from aiohttp<4.0.0,>=3.8.3->langchain_community) (1.3.2)\n",
            "Requirement already satisfied: attrs>=17.3.0 in /usr/local/lib/python3.11/dist-packages (from aiohttp<4.0.0,>=3.8.3->langchain_community) (25.3.0)\n",
            "Requirement already satisfied: frozenlist>=1.1.1 in /usr/local/lib/python3.11/dist-packages (from aiohttp<4.0.0,>=3.8.3->langchain_community) (1.5.0)\n",
            "Requirement already satisfied: multidict<7.0,>=4.5 in /usr/local/lib/python3.11/dist-packages (from aiohttp<4.0.0,>=3.8.3->langchain_community) (6.2.0)\n",
            "Requirement already satisfied: propcache>=0.2.0 in /usr/local/lib/python3.11/dist-packages (from aiohttp<4.0.0,>=3.8.3->langchain_community) (0.3.1)\n",
            "Requirement already satisfied: yarl<2.0,>=1.17.0 in /usr/local/lib/python3.11/dist-packages (from aiohttp<4.0.0,>=3.8.3->langchain_community) (1.18.3)\n",
            "Requirement already satisfied: marshmallow<4.0.0,>=3.18.0 in /usr/local/lib/python3.11/dist-packages (from dataclasses-json<0.7,>=0.5.7->langchain_community) (3.26.1)\n",
            "Requirement already satisfied: typing-inspect<1,>=0.4.0 in /usr/local/lib/python3.11/dist-packages (from dataclasses-json<0.7,>=0.5.7->langchain_community) (0.9.0)\n",
            "Requirement already satisfied: langchain-text-splitters<1.0.0,>=0.3.7 in /usr/local/lib/python3.11/dist-packages (from langchain<1.0.0,>=0.3.21->langchain_community) (0.3.7)\n",
            "Requirement already satisfied: pydantic<3.0.0,>=2.7.4 in /usr/local/lib/python3.11/dist-packages (from langchain<1.0.0,>=0.3.21->langchain_community) (2.11.0)\n",
            "Requirement already satisfied: jsonpatch<2.0,>=1.33 in /usr/local/lib/python3.11/dist-packages (from langchain-core<1.0.0,>=0.3.45->langchain_community) (1.33)\n",
            "Requirement already satisfied: packaging<25,>=23.2 in /usr/local/lib/python3.11/dist-packages (from langchain-core<1.0.0,>=0.3.45->langchain_community) (24.2)\n",
            "Requirement already satisfied: typing-extensions>=4.7 in /usr/local/lib/python3.11/dist-packages (from langchain-core<1.0.0,>=0.3.45->langchain_community) (4.13.0)\n",
            "Requirement already satisfied: httpx<1,>=0.23.0 in /usr/local/lib/python3.11/dist-packages (from langsmith<0.4,>=0.1.125->langchain_community) (0.28.1)\n",
            "Requirement already satisfied: orjson<4.0.0,>=3.9.14 in /usr/local/lib/python3.11/dist-packages (from langsmith<0.4,>=0.1.125->langchain_community) (3.10.16)\n",
            "Requirement already satisfied: requests-toolbelt<2.0.0,>=1.0.0 in /usr/local/lib/python3.11/dist-packages (from langsmith<0.4,>=0.1.125->langchain_community) (1.0.0)\n",
            "Requirement already satisfied: zstandard<0.24.0,>=0.23.0 in /usr/local/lib/python3.11/dist-packages (from langsmith<0.4,>=0.1.125->langchain_community) (0.23.0)\n",
            "Requirement already satisfied: python-dotenv>=0.21.0 in /usr/local/lib/python3.11/dist-packages (from pydantic-settings<3.0.0,>=2.4.0->langchain_community) (1.1.0)\n",
            "Requirement already satisfied: charset-normalizer<4,>=2 in /usr/local/lib/python3.11/dist-packages (from requests<3,>=2->langchain_community) (3.4.1)\n",
            "Requirement already satisfied: idna<4,>=2.5 in /usr/local/lib/python3.11/dist-packages (from requests<3,>=2->langchain_community) (3.10)\n",
            "Requirement already satisfied: urllib3<3,>=1.21.1 in /usr/local/lib/python3.11/dist-packages (from requests<3,>=2->langchain_community) (2.3.0)\n",
            "Requirement already satisfied: certifi>=2017.4.17 in /usr/local/lib/python3.11/dist-packages (from requests<3,>=2->langchain_community) (2025.1.31)\n",
            "Requirement already satisfied: greenlet>=1 in /usr/local/lib/python3.11/dist-packages (from SQLAlchemy<3,>=1.4->langchain_community) (3.1.1)\n",
            "Requirement already satisfied: anyio in /usr/local/lib/python3.11/dist-packages (from httpx<1,>=0.23.0->langsmith<0.4,>=0.1.125->langchain_community) (4.9.0)\n",
            "Requirement already satisfied: httpcore==1.* in /usr/local/lib/python3.11/dist-packages (from httpx<1,>=0.23.0->langsmith<0.4,>=0.1.125->langchain_community) (1.0.7)\n",
            "Requirement already satisfied: h11<0.15,>=0.13 in /usr/local/lib/python3.11/dist-packages (from httpcore==1.*->httpx<1,>=0.23.0->langsmith<0.4,>=0.1.125->langchain_community) (0.14.0)\n",
            "Requirement already satisfied: jsonpointer>=1.9 in /usr/local/lib/python3.11/dist-packages (from jsonpatch<2.0,>=1.33->langchain-core<1.0.0,>=0.3.45->langchain_community) (3.0.0)\n",
            "Requirement already satisfied: annotated-types>=0.6.0 in /usr/local/lib/python3.11/dist-packages (from pydantic<3.0.0,>=2.7.4->langchain<1.0.0,>=0.3.21->langchain_community) (0.7.0)\n",
            "Requirement already satisfied: pydantic-core==2.33.0 in /usr/local/lib/python3.11/dist-packages (from pydantic<3.0.0,>=2.7.4->langchain<1.0.0,>=0.3.21->langchain_community) (2.33.0)\n",
            "Requirement already satisfied: typing-inspection>=0.4.0 in /usr/local/lib/python3.11/dist-packages (from pydantic<3.0.0,>=2.7.4->langchain<1.0.0,>=0.3.21->langchain_community) (0.4.0)\n",
            "Requirement already satisfied: mypy-extensions>=0.3.0 in /usr/local/lib/python3.11/dist-packages (from typing-inspect<1,>=0.4.0->dataclasses-json<0.7,>=0.5.7->langchain_community) (1.0.0)\n",
            "Requirement already satisfied: sniffio>=1.1 in /usr/local/lib/python3.11/dist-packages (from anyio->httpx<1,>=0.23.0->langsmith<0.4,>=0.1.125->langchain_community) (1.3.1)\n",
            "Requirement already satisfied: langchain-google-genai in /usr/local/lib/python3.11/dist-packages (2.1.2)\n",
            "Requirement already satisfied: filetype<2.0.0,>=1.2.0 in /usr/local/lib/python3.11/dist-packages (from langchain-google-genai) (1.2.0)\n",
            "Requirement already satisfied: google-ai-generativelanguage<0.7.0,>=0.6.16 in /usr/local/lib/python3.11/dist-packages (from langchain-google-genai) (0.6.17)\n",
            "Requirement already satisfied: langchain-core<0.4.0,>=0.3.49 in /usr/local/lib/python3.11/dist-packages (from langchain-google-genai) (0.3.49)\n",
            "Requirement already satisfied: pydantic<3,>=2 in /usr/local/lib/python3.11/dist-packages (from langchain-google-genai) (2.11.0)\n",
            "Requirement already satisfied: google-api-core!=2.0.*,!=2.1.*,!=2.10.*,!=2.2.*,!=2.3.*,!=2.4.*,!=2.5.*,!=2.6.*,!=2.7.*,!=2.8.*,!=2.9.*,<3.0.0,>=1.34.1 in /usr/local/lib/python3.11/dist-packages (from google-api-core[grpc]!=2.0.*,!=2.1.*,!=2.10.*,!=2.2.*,!=2.3.*,!=2.4.*,!=2.5.*,!=2.6.*,!=2.7.*,!=2.8.*,!=2.9.*,<3.0.0,>=1.34.1->google-ai-generativelanguage<0.7.0,>=0.6.16->langchain-google-genai) (2.24.2)\n",
            "Requirement already satisfied: google-auth!=2.24.0,!=2.25.0,<3.0.0,>=2.14.1 in /usr/local/lib/python3.11/dist-packages (from google-ai-generativelanguage<0.7.0,>=0.6.16->langchain-google-genai) (2.38.0)\n",
            "Requirement already satisfied: proto-plus<2.0.0,>=1.22.3 in /usr/local/lib/python3.11/dist-packages (from google-ai-generativelanguage<0.7.0,>=0.6.16->langchain-google-genai) (1.26.1)\n",
            "Requirement already satisfied: protobuf!=4.21.0,!=4.21.1,!=4.21.2,!=4.21.3,!=4.21.4,!=4.21.5,<7.0.0,>=3.20.2 in /usr/local/lib/python3.11/dist-packages (from google-ai-generativelanguage<0.7.0,>=0.6.16->langchain-google-genai) (5.29.4)\n",
            "Requirement already satisfied: langsmith<0.4,>=0.1.125 in /usr/local/lib/python3.11/dist-packages (from langchain-core<0.4.0,>=0.3.49->langchain-google-genai) (0.3.19)\n",
            "Requirement already satisfied: tenacity!=8.4.0,<10.0.0,>=8.1.0 in /usr/local/lib/python3.11/dist-packages (from langchain-core<0.4.0,>=0.3.49->langchain-google-genai) (9.0.0)\n",
            "Requirement already satisfied: jsonpatch<2.0,>=1.33 in /usr/local/lib/python3.11/dist-packages (from langchain-core<0.4.0,>=0.3.49->langchain-google-genai) (1.33)\n",
            "Requirement already satisfied: PyYAML>=5.3 in /usr/local/lib/python3.11/dist-packages (from langchain-core<0.4.0,>=0.3.49->langchain-google-genai) (6.0.2)\n",
            "Requirement already satisfied: packaging<25,>=23.2 in /usr/local/lib/python3.11/dist-packages (from langchain-core<0.4.0,>=0.3.49->langchain-google-genai) (24.2)\n",
            "Requirement already satisfied: typing-extensions>=4.7 in /usr/local/lib/python3.11/dist-packages (from langchain-core<0.4.0,>=0.3.49->langchain-google-genai) (4.13.0)\n",
            "Requirement already satisfied: annotated-types>=0.6.0 in /usr/local/lib/python3.11/dist-packages (from pydantic<3,>=2->langchain-google-genai) (0.7.0)\n",
            "Requirement already satisfied: pydantic-core==2.33.0 in /usr/local/lib/python3.11/dist-packages (from pydantic<3,>=2->langchain-google-genai) (2.33.0)\n",
            "Requirement already satisfied: typing-inspection>=0.4.0 in /usr/local/lib/python3.11/dist-packages (from pydantic<3,>=2->langchain-google-genai) (0.4.0)\n",
            "Requirement already satisfied: googleapis-common-protos<2.0.0,>=1.56.2 in /usr/local/lib/python3.11/dist-packages (from google-api-core!=2.0.*,!=2.1.*,!=2.10.*,!=2.2.*,!=2.3.*,!=2.4.*,!=2.5.*,!=2.6.*,!=2.7.*,!=2.8.*,!=2.9.*,<3.0.0,>=1.34.1->google-api-core[grpc]!=2.0.*,!=2.1.*,!=2.10.*,!=2.2.*,!=2.3.*,!=2.4.*,!=2.5.*,!=2.6.*,!=2.7.*,!=2.8.*,!=2.9.*,<3.0.0,>=1.34.1->google-ai-generativelanguage<0.7.0,>=0.6.16->langchain-google-genai) (1.69.2)\n",
            "Requirement already satisfied: requests<3.0.0,>=2.18.0 in /usr/local/lib/python3.11/dist-packages (from google-api-core!=2.0.*,!=2.1.*,!=2.10.*,!=2.2.*,!=2.3.*,!=2.4.*,!=2.5.*,!=2.6.*,!=2.7.*,!=2.8.*,!=2.9.*,<3.0.0,>=1.34.1->google-api-core[grpc]!=2.0.*,!=2.1.*,!=2.10.*,!=2.2.*,!=2.3.*,!=2.4.*,!=2.5.*,!=2.6.*,!=2.7.*,!=2.8.*,!=2.9.*,<3.0.0,>=1.34.1->google-ai-generativelanguage<0.7.0,>=0.6.16->langchain-google-genai) (2.32.3)\n",
            "Requirement already satisfied: grpcio<2.0dev,>=1.33.2 in /usr/local/lib/python3.11/dist-packages (from google-api-core[grpc]!=2.0.*,!=2.1.*,!=2.10.*,!=2.2.*,!=2.3.*,!=2.4.*,!=2.5.*,!=2.6.*,!=2.7.*,!=2.8.*,!=2.9.*,<3.0.0,>=1.34.1->google-ai-generativelanguage<0.7.0,>=0.6.16->langchain-google-genai) (1.71.0)\n",
            "Requirement already satisfied: grpcio-status<2.0.dev0,>=1.33.2 in /usr/local/lib/python3.11/dist-packages (from google-api-core[grpc]!=2.0.*,!=2.1.*,!=2.10.*,!=2.2.*,!=2.3.*,!=2.4.*,!=2.5.*,!=2.6.*,!=2.7.*,!=2.8.*,!=2.9.*,<3.0.0,>=1.34.1->google-ai-generativelanguage<0.7.0,>=0.6.16->langchain-google-genai) (1.71.0)\n",
            "Requirement already satisfied: cachetools<6.0,>=2.0.0 in /usr/local/lib/python3.11/dist-packages (from google-auth!=2.24.0,!=2.25.0,<3.0.0,>=2.14.1->google-ai-generativelanguage<0.7.0,>=0.6.16->langchain-google-genai) (5.5.2)\n",
            "Requirement already satisfied: pyasn1-modules>=0.2.1 in /usr/local/lib/python3.11/dist-packages (from google-auth!=2.24.0,!=2.25.0,<3.0.0,>=2.14.1->google-ai-generativelanguage<0.7.0,>=0.6.16->langchain-google-genai) (0.4.2)\n",
            "Requirement already satisfied: rsa<5,>=3.1.4 in /usr/local/lib/python3.11/dist-packages (from google-auth!=2.24.0,!=2.25.0,<3.0.0,>=2.14.1->google-ai-generativelanguage<0.7.0,>=0.6.16->langchain-google-genai) (4.9)\n",
            "Requirement already satisfied: jsonpointer>=1.9 in /usr/local/lib/python3.11/dist-packages (from jsonpatch<2.0,>=1.33->langchain-core<0.4.0,>=0.3.49->langchain-google-genai) (3.0.0)\n",
            "Requirement already satisfied: httpx<1,>=0.23.0 in /usr/local/lib/python3.11/dist-packages (from langsmith<0.4,>=0.1.125->langchain-core<0.4.0,>=0.3.49->langchain-google-genai) (0.28.1)\n",
            "Requirement already satisfied: orjson<4.0.0,>=3.9.14 in /usr/local/lib/python3.11/dist-packages (from langsmith<0.4,>=0.1.125->langchain-core<0.4.0,>=0.3.49->langchain-google-genai) (3.10.16)\n",
            "Requirement already satisfied: requests-toolbelt<2.0.0,>=1.0.0 in /usr/local/lib/python3.11/dist-packages (from langsmith<0.4,>=0.1.125->langchain-core<0.4.0,>=0.3.49->langchain-google-genai) (1.0.0)\n",
            "Requirement already satisfied: zstandard<0.24.0,>=0.23.0 in /usr/local/lib/python3.11/dist-packages (from langsmith<0.4,>=0.1.125->langchain-core<0.4.0,>=0.3.49->langchain-google-genai) (0.23.0)\n",
            "Requirement already satisfied: anyio in /usr/local/lib/python3.11/dist-packages (from httpx<1,>=0.23.0->langsmith<0.4,>=0.1.125->langchain-core<0.4.0,>=0.3.49->langchain-google-genai) (4.9.0)\n",
            "Requirement already satisfied: certifi in /usr/local/lib/python3.11/dist-packages (from httpx<1,>=0.23.0->langsmith<0.4,>=0.1.125->langchain-core<0.4.0,>=0.3.49->langchain-google-genai) (2025.1.31)\n",
            "Requirement already satisfied: httpcore==1.* in /usr/local/lib/python3.11/dist-packages (from httpx<1,>=0.23.0->langsmith<0.4,>=0.1.125->langchain-core<0.4.0,>=0.3.49->langchain-google-genai) (1.0.7)\n",
            "Requirement already satisfied: idna in /usr/local/lib/python3.11/dist-packages (from httpx<1,>=0.23.0->langsmith<0.4,>=0.1.125->langchain-core<0.4.0,>=0.3.49->langchain-google-genai) (3.10)\n",
            "Requirement already satisfied: h11<0.15,>=0.13 in /usr/local/lib/python3.11/dist-packages (from httpcore==1.*->httpx<1,>=0.23.0->langsmith<0.4,>=0.1.125->langchain-core<0.4.0,>=0.3.49->langchain-google-genai) (0.14.0)\n",
            "Requirement already satisfied: pyasn1<0.7.0,>=0.6.1 in /usr/local/lib/python3.11/dist-packages (from pyasn1-modules>=0.2.1->google-auth!=2.24.0,!=2.25.0,<3.0.0,>=2.14.1->google-ai-generativelanguage<0.7.0,>=0.6.16->langchain-google-genai) (0.6.1)\n",
            "Requirement already satisfied: charset-normalizer<4,>=2 in /usr/local/lib/python3.11/dist-packages (from requests<3.0.0,>=2.18.0->google-api-core!=2.0.*,!=2.1.*,!=2.10.*,!=2.2.*,!=2.3.*,!=2.4.*,!=2.5.*,!=2.6.*,!=2.7.*,!=2.8.*,!=2.9.*,<3.0.0,>=1.34.1->google-api-core[grpc]!=2.0.*,!=2.1.*,!=2.10.*,!=2.2.*,!=2.3.*,!=2.4.*,!=2.5.*,!=2.6.*,!=2.7.*,!=2.8.*,!=2.9.*,<3.0.0,>=1.34.1->google-ai-generativelanguage<0.7.0,>=0.6.16->langchain-google-genai) (3.4.1)\n",
            "Requirement already satisfied: urllib3<3,>=1.21.1 in /usr/local/lib/python3.11/dist-packages (from requests<3.0.0,>=2.18.0->google-api-core!=2.0.*,!=2.1.*,!=2.10.*,!=2.2.*,!=2.3.*,!=2.4.*,!=2.5.*,!=2.6.*,!=2.7.*,!=2.8.*,!=2.9.*,<3.0.0,>=1.34.1->google-api-core[grpc]!=2.0.*,!=2.1.*,!=2.10.*,!=2.2.*,!=2.3.*,!=2.4.*,!=2.5.*,!=2.6.*,!=2.7.*,!=2.8.*,!=2.9.*,<3.0.0,>=1.34.1->google-ai-generativelanguage<0.7.0,>=0.6.16->langchain-google-genai) (2.3.0)\n",
            "Requirement already satisfied: sniffio>=1.1 in /usr/local/lib/python3.11/dist-packages (from anyio->httpx<1,>=0.23.0->langsmith<0.4,>=0.1.125->langchain-core<0.4.0,>=0.3.49->langchain-google-genai) (1.3.1)\n",
            "Requirement already satisfied: langchain-chroma in /usr/local/lib/python3.11/dist-packages (0.2.2)\n",
            "Requirement already satisfied: langchain-core!=0.3.0,!=0.3.1,!=0.3.10,!=0.3.11,!=0.3.12,!=0.3.13,!=0.3.14,!=0.3.2,!=0.3.3,!=0.3.4,!=0.3.5,!=0.3.6,!=0.3.7,!=0.3.8,!=0.3.9,<0.4.0,>=0.2.43 in /usr/local/lib/python3.11/dist-packages (from langchain-chroma) (0.3.49)\n",
            "Requirement already satisfied: numpy<2.0.0,>=1.22.4 in /usr/local/lib/python3.11/dist-packages (from langchain-chroma) (1.26.4)\n",
            "Requirement already satisfied: chromadb!=0.5.10,!=0.5.11,!=0.5.12,!=0.5.4,!=0.5.5,!=0.5.7,!=0.5.9,<0.7.0,>=0.4.0 in /usr/local/lib/python3.11/dist-packages (from langchain-chroma) (0.6.3)\n",
            "Requirement already satisfied: build>=1.0.3 in /usr/local/lib/python3.11/dist-packages (from chromadb!=0.5.10,!=0.5.11,!=0.5.12,!=0.5.4,!=0.5.5,!=0.5.7,!=0.5.9,<0.7.0,>=0.4.0->langchain-chroma) (1.2.2.post1)\n",
            "Requirement already satisfied: pydantic>=1.9 in /usr/local/lib/python3.11/dist-packages (from chromadb!=0.5.10,!=0.5.11,!=0.5.12,!=0.5.4,!=0.5.5,!=0.5.7,!=0.5.9,<0.7.0,>=0.4.0->langchain-chroma) (2.11.0)\n",
            "Requirement already satisfied: chroma-hnswlib==0.7.6 in /usr/local/lib/python3.11/dist-packages (from chromadb!=0.5.10,!=0.5.11,!=0.5.12,!=0.5.4,!=0.5.5,!=0.5.7,!=0.5.9,<0.7.0,>=0.4.0->langchain-chroma) (0.7.6)\n",
            "Requirement already satisfied: fastapi>=0.95.2 in /usr/local/lib/python3.11/dist-packages (from chromadb!=0.5.10,!=0.5.11,!=0.5.12,!=0.5.4,!=0.5.5,!=0.5.7,!=0.5.9,<0.7.0,>=0.4.0->langchain-chroma) (0.115.12)\n",
            "Requirement already satisfied: uvicorn>=0.18.3 in /usr/local/lib/python3.11/dist-packages (from uvicorn[standard]>=0.18.3->chromadb!=0.5.10,!=0.5.11,!=0.5.12,!=0.5.4,!=0.5.5,!=0.5.7,!=0.5.9,<0.7.0,>=0.4.0->langchain-chroma) (0.34.0)\n",
            "Requirement already satisfied: posthog>=2.4.0 in /usr/local/lib/python3.11/dist-packages (from chromadb!=0.5.10,!=0.5.11,!=0.5.12,!=0.5.4,!=0.5.5,!=0.5.7,!=0.5.9,<0.7.0,>=0.4.0->langchain-chroma) (3.23.0)\n",
            "Requirement already satisfied: typing_extensions>=4.5.0 in /usr/local/lib/python3.11/dist-packages (from chromadb!=0.5.10,!=0.5.11,!=0.5.12,!=0.5.4,!=0.5.5,!=0.5.7,!=0.5.9,<0.7.0,>=0.4.0->langchain-chroma) (4.13.0)\n",
            "Requirement already satisfied: onnxruntime>=1.14.1 in /usr/local/lib/python3.11/dist-packages (from chromadb!=0.5.10,!=0.5.11,!=0.5.12,!=0.5.4,!=0.5.5,!=0.5.7,!=0.5.9,<0.7.0,>=0.4.0->langchain-chroma) (1.21.0)\n",
            "Requirement already satisfied: opentelemetry-api>=1.2.0 in /usr/local/lib/python3.11/dist-packages (from chromadb!=0.5.10,!=0.5.11,!=0.5.12,!=0.5.4,!=0.5.5,!=0.5.7,!=0.5.9,<0.7.0,>=0.4.0->langchain-chroma) (1.31.1)\n",
            "Requirement already satisfied: opentelemetry-exporter-otlp-proto-grpc>=1.2.0 in /usr/local/lib/python3.11/dist-packages (from chromadb!=0.5.10,!=0.5.11,!=0.5.12,!=0.5.4,!=0.5.5,!=0.5.7,!=0.5.9,<0.7.0,>=0.4.0->langchain-chroma) (1.31.1)\n",
            "Requirement already satisfied: opentelemetry-instrumentation-fastapi>=0.41b0 in /usr/local/lib/python3.11/dist-packages (from chromadb!=0.5.10,!=0.5.11,!=0.5.12,!=0.5.4,!=0.5.5,!=0.5.7,!=0.5.9,<0.7.0,>=0.4.0->langchain-chroma) (0.52b1)\n",
            "Requirement already satisfied: opentelemetry-sdk>=1.2.0 in /usr/local/lib/python3.11/dist-packages (from chromadb!=0.5.10,!=0.5.11,!=0.5.12,!=0.5.4,!=0.5.5,!=0.5.7,!=0.5.9,<0.7.0,>=0.4.0->langchain-chroma) (1.31.1)\n",
            "Requirement already satisfied: tokenizers>=0.13.2 in /usr/local/lib/python3.11/dist-packages (from chromadb!=0.5.10,!=0.5.11,!=0.5.12,!=0.5.4,!=0.5.5,!=0.5.7,!=0.5.9,<0.7.0,>=0.4.0->langchain-chroma) (0.21.1)\n",
            "Requirement already satisfied: pypika>=0.48.9 in /usr/local/lib/python3.11/dist-packages (from chromadb!=0.5.10,!=0.5.11,!=0.5.12,!=0.5.4,!=0.5.5,!=0.5.7,!=0.5.9,<0.7.0,>=0.4.0->langchain-chroma) (0.48.9)\n",
            "Requirement already satisfied: tqdm>=4.65.0 in /usr/local/lib/python3.11/dist-packages (from chromadb!=0.5.10,!=0.5.11,!=0.5.12,!=0.5.4,!=0.5.5,!=0.5.7,!=0.5.9,<0.7.0,>=0.4.0->langchain-chroma) (4.67.1)\n",
            "Requirement already satisfied: overrides>=7.3.1 in /usr/local/lib/python3.11/dist-packages (from chromadb!=0.5.10,!=0.5.11,!=0.5.12,!=0.5.4,!=0.5.5,!=0.5.7,!=0.5.9,<0.7.0,>=0.4.0->langchain-chroma) (7.7.0)\n",
            "Requirement already satisfied: importlib-resources in /usr/local/lib/python3.11/dist-packages (from chromadb!=0.5.10,!=0.5.11,!=0.5.12,!=0.5.4,!=0.5.5,!=0.5.7,!=0.5.9,<0.7.0,>=0.4.0->langchain-chroma) (6.5.2)\n",
            "Requirement already satisfied: grpcio>=1.58.0 in /usr/local/lib/python3.11/dist-packages (from chromadb!=0.5.10,!=0.5.11,!=0.5.12,!=0.5.4,!=0.5.5,!=0.5.7,!=0.5.9,<0.7.0,>=0.4.0->langchain-chroma) (1.71.0)\n",
            "Requirement already satisfied: bcrypt>=4.0.1 in /usr/local/lib/python3.11/dist-packages (from chromadb!=0.5.10,!=0.5.11,!=0.5.12,!=0.5.4,!=0.5.5,!=0.5.7,!=0.5.9,<0.7.0,>=0.4.0->langchain-chroma) (4.3.0)\n",
            "Requirement already satisfied: typer>=0.9.0 in /usr/local/lib/python3.11/dist-packages (from chromadb!=0.5.10,!=0.5.11,!=0.5.12,!=0.5.4,!=0.5.5,!=0.5.7,!=0.5.9,<0.7.0,>=0.4.0->langchain-chroma) (0.15.2)\n",
            "Requirement already satisfied: kubernetes>=28.1.0 in /usr/local/lib/python3.11/dist-packages (from chromadb!=0.5.10,!=0.5.11,!=0.5.12,!=0.5.4,!=0.5.5,!=0.5.7,!=0.5.9,<0.7.0,>=0.4.0->langchain-chroma) (32.0.1)\n",
            "Requirement already satisfied: tenacity>=8.2.3 in /usr/local/lib/python3.11/dist-packages (from chromadb!=0.5.10,!=0.5.11,!=0.5.12,!=0.5.4,!=0.5.5,!=0.5.7,!=0.5.9,<0.7.0,>=0.4.0->langchain-chroma) (9.0.0)\n",
            "Requirement already satisfied: PyYAML>=6.0.0 in /usr/local/lib/python3.11/dist-packages (from chromadb!=0.5.10,!=0.5.11,!=0.5.12,!=0.5.4,!=0.5.5,!=0.5.7,!=0.5.9,<0.7.0,>=0.4.0->langchain-chroma) (6.0.2)\n",
            "Requirement already satisfied: mmh3>=4.0.1 in /usr/local/lib/python3.11/dist-packages (from chromadb!=0.5.10,!=0.5.11,!=0.5.12,!=0.5.4,!=0.5.5,!=0.5.7,!=0.5.9,<0.7.0,>=0.4.0->langchain-chroma) (5.1.0)\n",
            "Requirement already satisfied: orjson>=3.9.12 in /usr/local/lib/python3.11/dist-packages (from chromadb!=0.5.10,!=0.5.11,!=0.5.12,!=0.5.4,!=0.5.5,!=0.5.7,!=0.5.9,<0.7.0,>=0.4.0->langchain-chroma) (3.10.16)\n",
            "Requirement already satisfied: httpx>=0.27.0 in /usr/local/lib/python3.11/dist-packages (from chromadb!=0.5.10,!=0.5.11,!=0.5.12,!=0.5.4,!=0.5.5,!=0.5.7,!=0.5.9,<0.7.0,>=0.4.0->langchain-chroma) (0.28.1)\n",
            "Requirement already satisfied: rich>=10.11.0 in /usr/local/lib/python3.11/dist-packages (from chromadb!=0.5.10,!=0.5.11,!=0.5.12,!=0.5.4,!=0.5.5,!=0.5.7,!=0.5.9,<0.7.0,>=0.4.0->langchain-chroma) (13.9.4)\n",
            "Requirement already satisfied: langsmith<0.4,>=0.1.125 in /usr/local/lib/python3.11/dist-packages (from langchain-core!=0.3.0,!=0.3.1,!=0.3.10,!=0.3.11,!=0.3.12,!=0.3.13,!=0.3.14,!=0.3.2,!=0.3.3,!=0.3.4,!=0.3.5,!=0.3.6,!=0.3.7,!=0.3.8,!=0.3.9,<0.4.0,>=0.2.43->langchain-chroma) (0.3.19)\n",
            "Requirement already satisfied: jsonpatch<2.0,>=1.33 in /usr/local/lib/python3.11/dist-packages (from langchain-core!=0.3.0,!=0.3.1,!=0.3.10,!=0.3.11,!=0.3.12,!=0.3.13,!=0.3.14,!=0.3.2,!=0.3.3,!=0.3.4,!=0.3.5,!=0.3.6,!=0.3.7,!=0.3.8,!=0.3.9,<0.4.0,>=0.2.43->langchain-chroma) (1.33)\n",
            "Requirement already satisfied: packaging<25,>=23.2 in /usr/local/lib/python3.11/dist-packages (from langchain-core!=0.3.0,!=0.3.1,!=0.3.10,!=0.3.11,!=0.3.12,!=0.3.13,!=0.3.14,!=0.3.2,!=0.3.3,!=0.3.4,!=0.3.5,!=0.3.6,!=0.3.7,!=0.3.8,!=0.3.9,<0.4.0,>=0.2.43->langchain-chroma) (24.2)\n",
            "Requirement already satisfied: pyproject_hooks in /usr/local/lib/python3.11/dist-packages (from build>=1.0.3->chromadb!=0.5.10,!=0.5.11,!=0.5.12,!=0.5.4,!=0.5.5,!=0.5.7,!=0.5.9,<0.7.0,>=0.4.0->langchain-chroma) (1.2.0)\n",
            "Requirement already satisfied: starlette<0.47.0,>=0.40.0 in /usr/local/lib/python3.11/dist-packages (from fastapi>=0.95.2->chromadb!=0.5.10,!=0.5.11,!=0.5.12,!=0.5.4,!=0.5.5,!=0.5.7,!=0.5.9,<0.7.0,>=0.4.0->langchain-chroma) (0.46.1)\n",
            "Requirement already satisfied: anyio in /usr/local/lib/python3.11/dist-packages (from httpx>=0.27.0->chromadb!=0.5.10,!=0.5.11,!=0.5.12,!=0.5.4,!=0.5.5,!=0.5.7,!=0.5.9,<0.7.0,>=0.4.0->langchain-chroma) (4.9.0)\n",
            "Requirement already satisfied: certifi in /usr/local/lib/python3.11/dist-packages (from httpx>=0.27.0->chromadb!=0.5.10,!=0.5.11,!=0.5.12,!=0.5.4,!=0.5.5,!=0.5.7,!=0.5.9,<0.7.0,>=0.4.0->langchain-chroma) (2025.1.31)\n",
            "Requirement already satisfied: httpcore==1.* in /usr/local/lib/python3.11/dist-packages (from httpx>=0.27.0->chromadb!=0.5.10,!=0.5.11,!=0.5.12,!=0.5.4,!=0.5.5,!=0.5.7,!=0.5.9,<0.7.0,>=0.4.0->langchain-chroma) (1.0.7)\n",
            "Requirement already satisfied: idna in /usr/local/lib/python3.11/dist-packages (from httpx>=0.27.0->chromadb!=0.5.10,!=0.5.11,!=0.5.12,!=0.5.4,!=0.5.5,!=0.5.7,!=0.5.9,<0.7.0,>=0.4.0->langchain-chroma) (3.10)\n",
            "Requirement already satisfied: h11<0.15,>=0.13 in /usr/local/lib/python3.11/dist-packages (from httpcore==1.*->httpx>=0.27.0->chromadb!=0.5.10,!=0.5.11,!=0.5.12,!=0.5.4,!=0.5.5,!=0.5.7,!=0.5.9,<0.7.0,>=0.4.0->langchain-chroma) (0.14.0)\n",
            "Requirement already satisfied: jsonpointer>=1.9 in /usr/local/lib/python3.11/dist-packages (from jsonpatch<2.0,>=1.33->langchain-core!=0.3.0,!=0.3.1,!=0.3.10,!=0.3.11,!=0.3.12,!=0.3.13,!=0.3.14,!=0.3.2,!=0.3.3,!=0.3.4,!=0.3.5,!=0.3.6,!=0.3.7,!=0.3.8,!=0.3.9,<0.4.0,>=0.2.43->langchain-chroma) (3.0.0)\n",
            "Requirement already satisfied: six>=1.9.0 in /usr/local/lib/python3.11/dist-packages (from kubernetes>=28.1.0->chromadb!=0.5.10,!=0.5.11,!=0.5.12,!=0.5.4,!=0.5.5,!=0.5.7,!=0.5.9,<0.7.0,>=0.4.0->langchain-chroma) (1.17.0)\n",
            "Requirement already satisfied: python-dateutil>=2.5.3 in /usr/local/lib/python3.11/dist-packages (from kubernetes>=28.1.0->chromadb!=0.5.10,!=0.5.11,!=0.5.12,!=0.5.4,!=0.5.5,!=0.5.7,!=0.5.9,<0.7.0,>=0.4.0->langchain-chroma) (2.8.2)\n",
            "Requirement already satisfied: google-auth>=1.0.1 in /usr/local/lib/python3.11/dist-packages (from kubernetes>=28.1.0->chromadb!=0.5.10,!=0.5.11,!=0.5.12,!=0.5.4,!=0.5.5,!=0.5.7,!=0.5.9,<0.7.0,>=0.4.0->langchain-chroma) (2.38.0)\n",
            "Requirement already satisfied: websocket-client!=0.40.0,!=0.41.*,!=0.42.*,>=0.32.0 in /usr/local/lib/python3.11/dist-packages (from kubernetes>=28.1.0->chromadb!=0.5.10,!=0.5.11,!=0.5.12,!=0.5.4,!=0.5.5,!=0.5.7,!=0.5.9,<0.7.0,>=0.4.0->langchain-chroma) (1.8.0)\n",
            "Requirement already satisfied: requests in /usr/local/lib/python3.11/dist-packages (from kubernetes>=28.1.0->chromadb!=0.5.10,!=0.5.11,!=0.5.12,!=0.5.4,!=0.5.5,!=0.5.7,!=0.5.9,<0.7.0,>=0.4.0->langchain-chroma) (2.32.3)\n",
            "Requirement already satisfied: requests-oauthlib in /usr/local/lib/python3.11/dist-packages (from kubernetes>=28.1.0->chromadb!=0.5.10,!=0.5.11,!=0.5.12,!=0.5.4,!=0.5.5,!=0.5.7,!=0.5.9,<0.7.0,>=0.4.0->langchain-chroma) (2.0.0)\n",
            "Requirement already satisfied: oauthlib>=3.2.2 in /usr/local/lib/python3.11/dist-packages (from kubernetes>=28.1.0->chromadb!=0.5.10,!=0.5.11,!=0.5.12,!=0.5.4,!=0.5.5,!=0.5.7,!=0.5.9,<0.7.0,>=0.4.0->langchain-chroma) (3.2.2)\n",
            "Requirement already satisfied: urllib3>=1.24.2 in /usr/local/lib/python3.11/dist-packages (from kubernetes>=28.1.0->chromadb!=0.5.10,!=0.5.11,!=0.5.12,!=0.5.4,!=0.5.5,!=0.5.7,!=0.5.9,<0.7.0,>=0.4.0->langchain-chroma) (2.3.0)\n",
            "Requirement already satisfied: durationpy>=0.7 in /usr/local/lib/python3.11/dist-packages (from kubernetes>=28.1.0->chromadb!=0.5.10,!=0.5.11,!=0.5.12,!=0.5.4,!=0.5.5,!=0.5.7,!=0.5.9,<0.7.0,>=0.4.0->langchain-chroma) (0.9)\n",
            "Requirement already satisfied: requests-toolbelt<2.0.0,>=1.0.0 in /usr/local/lib/python3.11/dist-packages (from langsmith<0.4,>=0.1.125->langchain-core!=0.3.0,!=0.3.1,!=0.3.10,!=0.3.11,!=0.3.12,!=0.3.13,!=0.3.14,!=0.3.2,!=0.3.3,!=0.3.4,!=0.3.5,!=0.3.6,!=0.3.7,!=0.3.8,!=0.3.9,<0.4.0,>=0.2.43->langchain-chroma) (1.0.0)\n",
            "Requirement already satisfied: zstandard<0.24.0,>=0.23.0 in /usr/local/lib/python3.11/dist-packages (from langsmith<0.4,>=0.1.125->langchain-core!=0.3.0,!=0.3.1,!=0.3.10,!=0.3.11,!=0.3.12,!=0.3.13,!=0.3.14,!=0.3.2,!=0.3.3,!=0.3.4,!=0.3.5,!=0.3.6,!=0.3.7,!=0.3.8,!=0.3.9,<0.4.0,>=0.2.43->langchain-chroma) (0.23.0)\n",
            "Requirement already satisfied: coloredlogs in /usr/local/lib/python3.11/dist-packages (from onnxruntime>=1.14.1->chromadb!=0.5.10,!=0.5.11,!=0.5.12,!=0.5.4,!=0.5.5,!=0.5.7,!=0.5.9,<0.7.0,>=0.4.0->langchain-chroma) (15.0.1)\n",
            "Requirement already satisfied: flatbuffers in /usr/local/lib/python3.11/dist-packages (from onnxruntime>=1.14.1->chromadb!=0.5.10,!=0.5.11,!=0.5.12,!=0.5.4,!=0.5.5,!=0.5.7,!=0.5.9,<0.7.0,>=0.4.0->langchain-chroma) (25.2.10)\n",
            "Requirement already satisfied: protobuf in /usr/local/lib/python3.11/dist-packages (from onnxruntime>=1.14.1->chromadb!=0.5.10,!=0.5.11,!=0.5.12,!=0.5.4,!=0.5.5,!=0.5.7,!=0.5.9,<0.7.0,>=0.4.0->langchain-chroma) (5.29.4)\n",
            "Requirement already satisfied: sympy in /usr/local/lib/python3.11/dist-packages (from onnxruntime>=1.14.1->chromadb!=0.5.10,!=0.5.11,!=0.5.12,!=0.5.4,!=0.5.5,!=0.5.7,!=0.5.9,<0.7.0,>=0.4.0->langchain-chroma) (1.13.1)\n",
            "Requirement already satisfied: deprecated>=1.2.6 in /usr/local/lib/python3.11/dist-packages (from opentelemetry-api>=1.2.0->chromadb!=0.5.10,!=0.5.11,!=0.5.12,!=0.5.4,!=0.5.5,!=0.5.7,!=0.5.9,<0.7.0,>=0.4.0->langchain-chroma) (1.2.18)\n",
            "Requirement already satisfied: importlib-metadata<8.7.0,>=6.0 in /usr/local/lib/python3.11/dist-packages (from opentelemetry-api>=1.2.0->chromadb!=0.5.10,!=0.5.11,!=0.5.12,!=0.5.4,!=0.5.5,!=0.5.7,!=0.5.9,<0.7.0,>=0.4.0->langchain-chroma) (8.6.1)\n",
            "Requirement already satisfied: googleapis-common-protos~=1.52 in /usr/local/lib/python3.11/dist-packages (from opentelemetry-exporter-otlp-proto-grpc>=1.2.0->chromadb!=0.5.10,!=0.5.11,!=0.5.12,!=0.5.4,!=0.5.5,!=0.5.7,!=0.5.9,<0.7.0,>=0.4.0->langchain-chroma) (1.69.2)\n",
            "Requirement already satisfied: opentelemetry-exporter-otlp-proto-common==1.31.1 in /usr/local/lib/python3.11/dist-packages (from opentelemetry-exporter-otlp-proto-grpc>=1.2.0->chromadb!=0.5.10,!=0.5.11,!=0.5.12,!=0.5.4,!=0.5.5,!=0.5.7,!=0.5.9,<0.7.0,>=0.4.0->langchain-chroma) (1.31.1)\n",
            "Requirement already satisfied: opentelemetry-proto==1.31.1 in /usr/local/lib/python3.11/dist-packages (from opentelemetry-exporter-otlp-proto-grpc>=1.2.0->chromadb!=0.5.10,!=0.5.11,!=0.5.12,!=0.5.4,!=0.5.5,!=0.5.7,!=0.5.9,<0.7.0,>=0.4.0->langchain-chroma) (1.31.1)\n",
            "Requirement already satisfied: opentelemetry-instrumentation-asgi==0.52b1 in /usr/local/lib/python3.11/dist-packages (from opentelemetry-instrumentation-fastapi>=0.41b0->chromadb!=0.5.10,!=0.5.11,!=0.5.12,!=0.5.4,!=0.5.5,!=0.5.7,!=0.5.9,<0.7.0,>=0.4.0->langchain-chroma) (0.52b1)\n",
            "Requirement already satisfied: opentelemetry-instrumentation==0.52b1 in /usr/local/lib/python3.11/dist-packages (from opentelemetry-instrumentation-fastapi>=0.41b0->chromadb!=0.5.10,!=0.5.11,!=0.5.12,!=0.5.4,!=0.5.5,!=0.5.7,!=0.5.9,<0.7.0,>=0.4.0->langchain-chroma) (0.52b1)\n",
            "Requirement already satisfied: opentelemetry-semantic-conventions==0.52b1 in /usr/local/lib/python3.11/dist-packages (from opentelemetry-instrumentation-fastapi>=0.41b0->chromadb!=0.5.10,!=0.5.11,!=0.5.12,!=0.5.4,!=0.5.5,!=0.5.7,!=0.5.9,<0.7.0,>=0.4.0->langchain-chroma) (0.52b1)\n",
            "Requirement already satisfied: opentelemetry-util-http==0.52b1 in /usr/local/lib/python3.11/dist-packages (from opentelemetry-instrumentation-fastapi>=0.41b0->chromadb!=0.5.10,!=0.5.11,!=0.5.12,!=0.5.4,!=0.5.5,!=0.5.7,!=0.5.9,<0.7.0,>=0.4.0->langchain-chroma) (0.52b1)\n",
            "Requirement already satisfied: wrapt<2.0.0,>=1.0.0 in /usr/local/lib/python3.11/dist-packages (from opentelemetry-instrumentation==0.52b1->opentelemetry-instrumentation-fastapi>=0.41b0->chromadb!=0.5.10,!=0.5.11,!=0.5.12,!=0.5.4,!=0.5.5,!=0.5.7,!=0.5.9,<0.7.0,>=0.4.0->langchain-chroma) (1.17.2)\n",
            "Requirement already satisfied: asgiref~=3.0 in /usr/local/lib/python3.11/dist-packages (from opentelemetry-instrumentation-asgi==0.52b1->opentelemetry-instrumentation-fastapi>=0.41b0->chromadb!=0.5.10,!=0.5.11,!=0.5.12,!=0.5.4,!=0.5.5,!=0.5.7,!=0.5.9,<0.7.0,>=0.4.0->langchain-chroma) (3.8.1)\n",
            "Requirement already satisfied: monotonic>=1.5 in /usr/local/lib/python3.11/dist-packages (from posthog>=2.4.0->chromadb!=0.5.10,!=0.5.11,!=0.5.12,!=0.5.4,!=0.5.5,!=0.5.7,!=0.5.9,<0.7.0,>=0.4.0->langchain-chroma) (1.6)\n",
            "Requirement already satisfied: backoff>=1.10.0 in /usr/local/lib/python3.11/dist-packages (from posthog>=2.4.0->chromadb!=0.5.10,!=0.5.11,!=0.5.12,!=0.5.4,!=0.5.5,!=0.5.7,!=0.5.9,<0.7.0,>=0.4.0->langchain-chroma) (2.2.1)\n",
            "Requirement already satisfied: distro>=1.5.0 in /usr/local/lib/python3.11/dist-packages (from posthog>=2.4.0->chromadb!=0.5.10,!=0.5.11,!=0.5.12,!=0.5.4,!=0.5.5,!=0.5.7,!=0.5.9,<0.7.0,>=0.4.0->langchain-chroma) (1.9.0)\n",
            "Requirement already satisfied: annotated-types>=0.6.0 in /usr/local/lib/python3.11/dist-packages (from pydantic>=1.9->chromadb!=0.5.10,!=0.5.11,!=0.5.12,!=0.5.4,!=0.5.5,!=0.5.7,!=0.5.9,<0.7.0,>=0.4.0->langchain-chroma) (0.7.0)\n",
            "Requirement already satisfied: pydantic-core==2.33.0 in /usr/local/lib/python3.11/dist-packages (from pydantic>=1.9->chromadb!=0.5.10,!=0.5.11,!=0.5.12,!=0.5.4,!=0.5.5,!=0.5.7,!=0.5.9,<0.7.0,>=0.4.0->langchain-chroma) (2.33.0)\n",
            "Requirement already satisfied: typing-inspection>=0.4.0 in /usr/local/lib/python3.11/dist-packages (from pydantic>=1.9->chromadb!=0.5.10,!=0.5.11,!=0.5.12,!=0.5.4,!=0.5.5,!=0.5.7,!=0.5.9,<0.7.0,>=0.4.0->langchain-chroma) (0.4.0)\n",
            "Requirement already satisfied: markdown-it-py>=2.2.0 in /usr/local/lib/python3.11/dist-packages (from rich>=10.11.0->chromadb!=0.5.10,!=0.5.11,!=0.5.12,!=0.5.4,!=0.5.5,!=0.5.7,!=0.5.9,<0.7.0,>=0.4.0->langchain-chroma) (3.0.0)\n",
            "Requirement already satisfied: pygments<3.0.0,>=2.13.0 in /usr/local/lib/python3.11/dist-packages (from rich>=10.11.0->chromadb!=0.5.10,!=0.5.11,!=0.5.12,!=0.5.4,!=0.5.5,!=0.5.7,!=0.5.9,<0.7.0,>=0.4.0->langchain-chroma) (2.18.0)\n",
            "Requirement already satisfied: huggingface-hub<1.0,>=0.16.4 in /usr/local/lib/python3.11/dist-packages (from tokenizers>=0.13.2->chromadb!=0.5.10,!=0.5.11,!=0.5.12,!=0.5.4,!=0.5.5,!=0.5.7,!=0.5.9,<0.7.0,>=0.4.0->langchain-chroma) (0.29.3)\n",
            "Requirement already satisfied: click>=8.0.0 in /usr/local/lib/python3.11/dist-packages (from typer>=0.9.0->chromadb!=0.5.10,!=0.5.11,!=0.5.12,!=0.5.4,!=0.5.5,!=0.5.7,!=0.5.9,<0.7.0,>=0.4.0->langchain-chroma) (8.1.8)\n",
            "Requirement already satisfied: shellingham>=1.3.0 in /usr/local/lib/python3.11/dist-packages (from typer>=0.9.0->chromadb!=0.5.10,!=0.5.11,!=0.5.12,!=0.5.4,!=0.5.5,!=0.5.7,!=0.5.9,<0.7.0,>=0.4.0->langchain-chroma) (1.5.4)\n",
            "Requirement already satisfied: httptools>=0.6.3 in /usr/local/lib/python3.11/dist-packages (from uvicorn[standard]>=0.18.3->chromadb!=0.5.10,!=0.5.11,!=0.5.12,!=0.5.4,!=0.5.5,!=0.5.7,!=0.5.9,<0.7.0,>=0.4.0->langchain-chroma) (0.6.4)\n",
            "Requirement already satisfied: python-dotenv>=0.13 in /usr/local/lib/python3.11/dist-packages (from uvicorn[standard]>=0.18.3->chromadb!=0.5.10,!=0.5.11,!=0.5.12,!=0.5.4,!=0.5.5,!=0.5.7,!=0.5.9,<0.7.0,>=0.4.0->langchain-chroma) (1.1.0)\n",
            "Requirement already satisfied: uvloop!=0.15.0,!=0.15.1,>=0.14.0 in /usr/local/lib/python3.11/dist-packages (from uvicorn[standard]>=0.18.3->chromadb!=0.5.10,!=0.5.11,!=0.5.12,!=0.5.4,!=0.5.5,!=0.5.7,!=0.5.9,<0.7.0,>=0.4.0->langchain-chroma) (0.21.0)\n",
            "Requirement already satisfied: watchfiles>=0.13 in /usr/local/lib/python3.11/dist-packages (from uvicorn[standard]>=0.18.3->chromadb!=0.5.10,!=0.5.11,!=0.5.12,!=0.5.4,!=0.5.5,!=0.5.7,!=0.5.9,<0.7.0,>=0.4.0->langchain-chroma) (1.0.4)\n",
            "Requirement already satisfied: websockets>=10.4 in /usr/local/lib/python3.11/dist-packages (from uvicorn[standard]>=0.18.3->chromadb!=0.5.10,!=0.5.11,!=0.5.12,!=0.5.4,!=0.5.5,!=0.5.7,!=0.5.9,<0.7.0,>=0.4.0->langchain-chroma) (15.0.1)\n",
            "Requirement already satisfied: cachetools<6.0,>=2.0.0 in /usr/local/lib/python3.11/dist-packages (from google-auth>=1.0.1->kubernetes>=28.1.0->chromadb!=0.5.10,!=0.5.11,!=0.5.12,!=0.5.4,!=0.5.5,!=0.5.7,!=0.5.9,<0.7.0,>=0.4.0->langchain-chroma) (5.5.2)\n",
            "Requirement already satisfied: pyasn1-modules>=0.2.1 in /usr/local/lib/python3.11/dist-packages (from google-auth>=1.0.1->kubernetes>=28.1.0->chromadb!=0.5.10,!=0.5.11,!=0.5.12,!=0.5.4,!=0.5.5,!=0.5.7,!=0.5.9,<0.7.0,>=0.4.0->langchain-chroma) (0.4.2)\n",
            "Requirement already satisfied: rsa<5,>=3.1.4 in /usr/local/lib/python3.11/dist-packages (from google-auth>=1.0.1->kubernetes>=28.1.0->chromadb!=0.5.10,!=0.5.11,!=0.5.12,!=0.5.4,!=0.5.5,!=0.5.7,!=0.5.9,<0.7.0,>=0.4.0->langchain-chroma) (4.9)\n",
            "Requirement already satisfied: filelock in /usr/local/lib/python3.11/dist-packages (from huggingface-hub<1.0,>=0.16.4->tokenizers>=0.13.2->chromadb!=0.5.10,!=0.5.11,!=0.5.12,!=0.5.4,!=0.5.5,!=0.5.7,!=0.5.9,<0.7.0,>=0.4.0->langchain-chroma) (3.18.0)\n",
            "Requirement already satisfied: fsspec>=2023.5.0 in /usr/local/lib/python3.11/dist-packages (from huggingface-hub<1.0,>=0.16.4->tokenizers>=0.13.2->chromadb!=0.5.10,!=0.5.11,!=0.5.12,!=0.5.4,!=0.5.5,!=0.5.7,!=0.5.9,<0.7.0,>=0.4.0->langchain-chroma) (2025.3.0)\n",
            "Requirement already satisfied: zipp>=3.20 in /usr/local/lib/python3.11/dist-packages (from importlib-metadata<8.7.0,>=6.0->opentelemetry-api>=1.2.0->chromadb!=0.5.10,!=0.5.11,!=0.5.12,!=0.5.4,!=0.5.5,!=0.5.7,!=0.5.9,<0.7.0,>=0.4.0->langchain-chroma) (3.21.0)\n",
            "Requirement already satisfied: mdurl~=0.1 in /usr/local/lib/python3.11/dist-packages (from markdown-it-py>=2.2.0->rich>=10.11.0->chromadb!=0.5.10,!=0.5.11,!=0.5.12,!=0.5.4,!=0.5.5,!=0.5.7,!=0.5.9,<0.7.0,>=0.4.0->langchain-chroma) (0.1.2)\n",
            "Requirement already satisfied: charset-normalizer<4,>=2 in /usr/local/lib/python3.11/dist-packages (from requests->kubernetes>=28.1.0->chromadb!=0.5.10,!=0.5.11,!=0.5.12,!=0.5.4,!=0.5.5,!=0.5.7,!=0.5.9,<0.7.0,>=0.4.0->langchain-chroma) (3.4.1)\n",
            "Requirement already satisfied: sniffio>=1.1 in /usr/local/lib/python3.11/dist-packages (from anyio->httpx>=0.27.0->chromadb!=0.5.10,!=0.5.11,!=0.5.12,!=0.5.4,!=0.5.5,!=0.5.7,!=0.5.9,<0.7.0,>=0.4.0->langchain-chroma) (1.3.1)\n",
            "Requirement already satisfied: humanfriendly>=9.1 in /usr/local/lib/python3.11/dist-packages (from coloredlogs->onnxruntime>=1.14.1->chromadb!=0.5.10,!=0.5.11,!=0.5.12,!=0.5.4,!=0.5.5,!=0.5.7,!=0.5.9,<0.7.0,>=0.4.0->langchain-chroma) (10.0)\n",
            "Requirement already satisfied: mpmath<1.4,>=1.1.0 in /usr/local/lib/python3.11/dist-packages (from sympy->onnxruntime>=1.14.1->chromadb!=0.5.10,!=0.5.11,!=0.5.12,!=0.5.4,!=0.5.5,!=0.5.7,!=0.5.9,<0.7.0,>=0.4.0->langchain-chroma) (1.3.0)\n",
            "Requirement already satisfied: pyasn1<0.7.0,>=0.6.1 in /usr/local/lib/python3.11/dist-packages (from pyasn1-modules>=0.2.1->google-auth>=1.0.1->kubernetes>=28.1.0->chromadb!=0.5.10,!=0.5.11,!=0.5.12,!=0.5.4,!=0.5.5,!=0.5.7,!=0.5.9,<0.7.0,>=0.4.0->langchain-chroma) (0.6.1)\n",
            "Requirement already satisfied: faiss-cpu in /usr/local/lib/python3.11/dist-packages (1.10.0)\n",
            "Requirement already satisfied: numpy<3.0,>=1.25.0 in /usr/local/lib/python3.11/dist-packages (from faiss-cpu) (1.26.4)\n",
            "Requirement already satisfied: packaging in /usr/local/lib/python3.11/dist-packages (from faiss-cpu) (24.2)\n",
            "Requirement already satisfied: langgraph in /usr/local/lib/python3.11/dist-packages (0.3.22)\n",
            "Requirement already satisfied: langchain-core<0.4,>=0.1 in /usr/local/lib/python3.11/dist-packages (from langgraph) (0.3.49)\n",
            "Requirement already satisfied: langgraph-checkpoint<3.0.0,>=2.0.10 in /usr/local/lib/python3.11/dist-packages (from langgraph) (2.0.23)\n",
            "Requirement already satisfied: langgraph-prebuilt<0.2,>=0.1.1 in /usr/local/lib/python3.11/dist-packages (from langgraph) (0.1.7)\n",
            "Requirement already satisfied: langgraph-sdk<0.2.0,>=0.1.42 in /usr/local/lib/python3.11/dist-packages (from langgraph) (0.1.60)\n",
            "Requirement already satisfied: xxhash<4.0.0,>=3.5.0 in /usr/local/lib/python3.11/dist-packages (from langgraph) (3.5.0)\n",
            "Requirement already satisfied: langsmith<0.4,>=0.1.125 in /usr/local/lib/python3.11/dist-packages (from langchain-core<0.4,>=0.1->langgraph) (0.3.19)\n",
            "Requirement already satisfied: tenacity!=8.4.0,<10.0.0,>=8.1.0 in /usr/local/lib/python3.11/dist-packages (from langchain-core<0.4,>=0.1->langgraph) (9.0.0)\n",
            "Requirement already satisfied: jsonpatch<2.0,>=1.33 in /usr/local/lib/python3.11/dist-packages (from langchain-core<0.4,>=0.1->langgraph) (1.33)\n",
            "Requirement already satisfied: PyYAML>=5.3 in /usr/local/lib/python3.11/dist-packages (from langchain-core<0.4,>=0.1->langgraph) (6.0.2)\n",
            "Requirement already satisfied: packaging<25,>=23.2 in /usr/local/lib/python3.11/dist-packages (from langchain-core<0.4,>=0.1->langgraph) (24.2)\n",
            "Requirement already satisfied: typing-extensions>=4.7 in /usr/local/lib/python3.11/dist-packages (from langchain-core<0.4,>=0.1->langgraph) (4.13.0)\n",
            "Requirement already satisfied: pydantic<3.0.0,>=2.5.2 in /usr/local/lib/python3.11/dist-packages (from langchain-core<0.4,>=0.1->langgraph) (2.11.0)\n",
            "Requirement already satisfied: ormsgpack<2.0.0,>=1.8.0 in /usr/local/lib/python3.11/dist-packages (from langgraph-checkpoint<3.0.0,>=2.0.10->langgraph) (1.9.1)\n",
            "Requirement already satisfied: httpx>=0.25.2 in /usr/local/lib/python3.11/dist-packages (from langgraph-sdk<0.2.0,>=0.1.42->langgraph) (0.28.1)\n",
            "Requirement already satisfied: orjson>=3.10.1 in /usr/local/lib/python3.11/dist-packages (from langgraph-sdk<0.2.0,>=0.1.42->langgraph) (3.10.16)\n",
            "Requirement already satisfied: anyio in /usr/local/lib/python3.11/dist-packages (from httpx>=0.25.2->langgraph-sdk<0.2.0,>=0.1.42->langgraph) (4.9.0)\n",
            "Requirement already satisfied: certifi in /usr/local/lib/python3.11/dist-packages (from httpx>=0.25.2->langgraph-sdk<0.2.0,>=0.1.42->langgraph) (2025.1.31)\n",
            "Requirement already satisfied: httpcore==1.* in /usr/local/lib/python3.11/dist-packages (from httpx>=0.25.2->langgraph-sdk<0.2.0,>=0.1.42->langgraph) (1.0.7)\n",
            "Requirement already satisfied: idna in /usr/local/lib/python3.11/dist-packages (from httpx>=0.25.2->langgraph-sdk<0.2.0,>=0.1.42->langgraph) (3.10)\n",
            "Requirement already satisfied: h11<0.15,>=0.13 in /usr/local/lib/python3.11/dist-packages (from httpcore==1.*->httpx>=0.25.2->langgraph-sdk<0.2.0,>=0.1.42->langgraph) (0.14.0)\n",
            "Requirement already satisfied: jsonpointer>=1.9 in /usr/local/lib/python3.11/dist-packages (from jsonpatch<2.0,>=1.33->langchain-core<0.4,>=0.1->langgraph) (3.0.0)\n",
            "Requirement already satisfied: requests<3,>=2 in /usr/local/lib/python3.11/dist-packages (from langsmith<0.4,>=0.1.125->langchain-core<0.4,>=0.1->langgraph) (2.32.3)\n",
            "Requirement already satisfied: requests-toolbelt<2.0.0,>=1.0.0 in /usr/local/lib/python3.11/dist-packages (from langsmith<0.4,>=0.1.125->langchain-core<0.4,>=0.1->langgraph) (1.0.0)\n",
            "Requirement already satisfied: zstandard<0.24.0,>=0.23.0 in /usr/local/lib/python3.11/dist-packages (from langsmith<0.4,>=0.1.125->langchain-core<0.4,>=0.1->langgraph) (0.23.0)\n",
            "Requirement already satisfied: annotated-types>=0.6.0 in /usr/local/lib/python3.11/dist-packages (from pydantic<3.0.0,>=2.5.2->langchain-core<0.4,>=0.1->langgraph) (0.7.0)\n",
            "Requirement already satisfied: pydantic-core==2.33.0 in /usr/local/lib/python3.11/dist-packages (from pydantic<3.0.0,>=2.5.2->langchain-core<0.4,>=0.1->langgraph) (2.33.0)\n",
            "Requirement already satisfied: typing-inspection>=0.4.0 in /usr/local/lib/python3.11/dist-packages (from pydantic<3.0.0,>=2.5.2->langchain-core<0.4,>=0.1->langgraph) (0.4.0)\n",
            "Requirement already satisfied: charset-normalizer<4,>=2 in /usr/local/lib/python3.11/dist-packages (from requests<3,>=2->langsmith<0.4,>=0.1.125->langchain-core<0.4,>=0.1->langgraph) (3.4.1)\n",
            "Requirement already satisfied: urllib3<3,>=1.21.1 in /usr/local/lib/python3.11/dist-packages (from requests<3,>=2->langsmith<0.4,>=0.1.125->langchain-core<0.4,>=0.1->langgraph) (2.3.0)\n",
            "Requirement already satisfied: sniffio>=1.1 in /usr/local/lib/python3.11/dist-packages (from anyio->httpx>=0.25.2->langgraph-sdk<0.2.0,>=0.1.42->langgraph) (1.3.1)\n",
            "Collecting html2text\n",
            "  Downloading html2text-2024.2.26.tar.gz (56 kB)\n",
            "\u001b[2K     \u001b[90m━━━━━━━━━━━━━━━━━━━━━━━━━━━━━━━━━━━━━━━━\u001b[0m \u001b[32m56.5/56.5 kB\u001b[0m \u001b[31m2.0 MB/s\u001b[0m eta \u001b[36m0:00:00\u001b[0m\n",
            "\u001b[?25h  Preparing metadata (setup.py) ... \u001b[?25l\u001b[?25hdone\n",
            "Building wheels for collected packages: html2text\n",
            "  Building wheel for html2text (setup.py) ... \u001b[?25l\u001b[?25hdone\n",
            "  Created wheel for html2text: filename=html2text-2024.2.26-py3-none-any.whl size=33111 sha256=248d25f9952f621b0c1cc459847d8dc066f7009408b16ca5aaf32691c0a8ebff\n",
            "  Stored in directory: /root/.cache/pip/wheels/23/58/7c/d9c8c4d924a1ac2b621add1b2c1d30b639629a33cfdfde6a45\n",
            "Successfully built html2text\n",
            "Installing collected packages: html2text\n",
            "Successfully installed html2text-2024.2.26\n"
          ]
        }
      ]
    },
    {
      "cell_type": "code",
      "source": [
        "import os\n",
        "import getpass\n",
        "from langchain_community.document_loaders import TextLoader\n",
        "from langchain_text_splitters import CharacterTextSplitter\n",
        "from langchain_google_genai import GoogleGenerativeAIEmbeddings\n",
        "from langchain_chroma import Chroma\n",
        "from langchain_community.vectorstores import FAISS\n",
        "from langchain.tools.retriever import create_retriever_tool\n",
        "from langchain_google_genai import ChatGoogleGenerativeAI\n",
        "from langgraph.prebuilt import create_react_agent\n",
        "from IPython.display import Image, display, Markdown\n",
        "import textwrap\n",
        "from langchain_core.messages import AnyMessage, SystemMessage, HumanMessage, ToolMessage, AIMessage, trim_messages\n",
        "from langchain_community.tools.tavily_search import TavilySearchResults\n",
        "from langgraph.checkpoint.memory import MemorySaver\n",
        "import random\n",
        "from langchain_community.document_loaders import AsyncHtmlLoader\n",
        "from langchain_community.document_transformers import Html2TextTransformer\n"
      ],
      "metadata": {
        "id": "EIojxxPRxb3i"
      },
      "execution_count": 227,
      "outputs": []
    },
    {
      "cell_type": "code",
      "execution_count": 110,
      "metadata": {
        "id": "6xLKNJfrpAfj"
      },
      "outputs": [],
      "source": [
        "if \"GOOGLE_API_KEY\" not in os.environ:\n",
        "    os.environ['GOOGLE_API_KEY'] = getpass.getpass('Gemini API Key:')\n",
        "\n",
        "if \"TAVILY_API_KEY\" not in os.environ:\n",
        "    os.environ[\"TAVILY_API_KEY\"] = getpass.getpass(\"Enter your Tavily API key: \")"
      ]
    },
    {
      "cell_type": "markdown",
      "source": [
        "## Define the LLM to use"
      ],
      "metadata": {
        "id": "ZNZ4uaws4ty_"
      }
    },
    {
      "cell_type": "code",
      "source": [
        "# Create LLM model\n",
        "model = ChatGoogleGenerativeAI(\n",
        "    model=\"gemini-2.0-flash\",\n",
        "    temperature=0,\n",
        "    max_retries=2\n",
        ")"
      ],
      "metadata": {
        "id": "RJXang452QKY"
      },
      "execution_count": 111,
      "outputs": []
    },
    {
      "cell_type": "markdown",
      "source": [
        "## Create the vector store"
      ],
      "metadata": {
        "id": "1_aEInE42S95"
      }
    },
    {
      "cell_type": "code",
      "source": [
        "def load_vector_store(\n",
        "    documents,\n",
        "    vector_store_path: str = \"BudgetBuddy/vectorstore/ingnl\",\n",
        "    embeddings = GoogleGenerativeAIEmbeddings(model=\"models/text-embedding-004\"),\n",
        "    overwrite: bool = False\n",
        "):\n",
        "    if overwrite:\n",
        "        # Refresh the vector store\n",
        "        db_faiss = store_docs_as_vector_store(documents, vector_store_path, embeddings)\n",
        "        print(\"Saved vector store to file\")\n",
        "    else:\n",
        "        # Try loading it from file\n",
        "        try:\n",
        "            db_faiss = FAISS.load_local(\n",
        "                vector_store_path, embeddings, allow_dangerous_deserialization=True\n",
        "            )\n",
        "            print(\"Loaded vector store from file\")\n",
        "        except Exception:\n",
        "            # Can't find it, so refresh the database\n",
        "            db_faiss = store_docs_as_vector_store(documents, vector_store_path, embeddings)\n",
        "            print(\"Saved vector store to file\")\n",
        "    return db_faiss\n",
        "\n",
        "def store_docs_as_vector_store(\n",
        "    documents,\n",
        "    vector_store_path: str = \"BudgetBuddy/vectorstore/ingnl\",\n",
        "    embeddings = GoogleGenerativeAIEmbeddings(model=\"models/text-embedding-004\")\n",
        "):\n",
        "    db_faiss = FAISS.from_documents(documents, embeddings)\n",
        "    db_faiss.save_local(vector_store_path)\n",
        "    return db_faiss"
      ],
      "metadata": {
        "id": "U8R53jw9fgQU"
      },
      "execution_count": 334,
      "outputs": []
    },
    {
      "cell_type": "markdown",
      "source": [
        "### Add ing.nl data"
      ],
      "metadata": {
        "id": "yEMxiM_ydTS2"
      }
    },
    {
      "cell_type": "code",
      "source": [
        "# Specify the directory\n",
        "directory = 'BudgetBuddy/data/ingnl'\n",
        "\n",
        "# Create an empty list to store file paths\n",
        "file_paths = []\n",
        "\n",
        "# Walk through the directory\n",
        "for root, dirs, files in os.walk(directory):\n",
        "    for file in files:\n",
        "        # Join the root directory with the file name to get the full path\n",
        "        full_path = os.path.join(root, file)\n",
        "        # Append the full path to the list\n",
        "        file_paths.append(full_path)"
      ],
      "metadata": {
        "id": "x1PmcXGExfnU"
      },
      "execution_count": 326,
      "outputs": []
    },
    {
      "cell_type": "code",
      "source": [
        "# Load the document, split it into chunks, embed each chunk and load it into the vector store.\n",
        "documents = []\n",
        "for file_path in file_paths:\n",
        "    documents.extend(TextLoader(file_path).load())"
      ],
      "metadata": {
        "id": "uwARNhrusOzZ"
      },
      "execution_count": 327,
      "outputs": []
    },
    {
      "cell_type": "code",
      "source": [
        "db_ingnl = load_vector_store(\n",
        "    documents,\n",
        "    vector_store_path=\"BudgetBuddy/vectorstore/ingnl\",\n",
        "    embeddings=GoogleGenerativeAIEmbeddings(model=\"models/text-embedding-004\")\n",
        ")"
      ],
      "metadata": {
        "id": "cerzJl8VeEL0",
        "outputId": "fd17f8ec-0b15-44dc-b42b-71920266e617",
        "colab": {
          "base_uri": "https://localhost:8080/"
        }
      },
      "execution_count": 329,
      "outputs": [
        {
          "output_type": "stream",
          "name": "stdout",
          "text": [
            "Loaded vector store from file\n"
          ]
        }
      ]
    },
    {
      "cell_type": "code",
      "source": [
        "query = \"Kan ik mijn creditcard transacties zien in Kijk Vooruit?\"\n",
        "docs = db_ingnl.similarity_search(query)\n",
        "for i, doc in enumerate(docs):\n",
        "    print(f\"\\n\\nDocument {i+1}:\")\n",
        "    print(doc.page_content)"
      ],
      "metadata": {
        "colab": {
          "base_uri": "https://localhost:8080/"
        },
        "id": "eHiWZXTO0mv6",
        "outputId": "d4f549f3-c325-4dbc-9d02-d01cb6002360"
      },
      "execution_count": 330,
      "outputs": [
        {
          "output_type": "stream",
          "name": "stdout",
          "text": [
            "\n",
            "\n",
            "Document 1:\n",
            "# Creditcard rekeningoverzicht in Mijn ING en de Mobiel Bankieren App - ING\n",
            "\n",
            "### Waarom zie ik niet dezelfde transacties als mijn partner?\n",
            "\n",
            "Heb je een extra creditcard? Dan zie je altijd alleen de transacties die met die creditcard gedaan zijn. De transacties van je partner zie je niet terug in je rekeningoverzicht. Hierdoor kan het zijn dat het saldo niet lijkt te kloppen. Wat je ziet is het actuele beschikbare saldo voor beide creditcards. De hoofdkaarthouder ziet op zijn beurt wel alle transacties in het overzicht terug, ook die met de extra creditcard zijn gedaan. Met welke creditcard de transactie is gedaan zie je aan de laatste 4 cijfers die bij de transactie staan.\n",
            "Houd er rekening mee dat je alleen het creditcard rekeningoverzicht ziet van de persoon die is ingelogd in de Mobiel Bankieren App of Mijn ING. Indien je een gezamenlijke rekening hebt, dan is de maandelijkse afschrijving inzichtelijk voor beide rekeninghouders.\n",
            "\n",
            "\n",
            "Document 2:\n",
            "# Creditcard rekeningoverzicht in Mijn ING en de Mobiel Bankieren App - ING\n",
            "\n",
            "Waar vind ik mijn creditcard rekeningoverzicht terug?\n",
            "Je actuele creditcard rekeningoverzicht staat in de Mobiel Bankieren App en in Mijn ING. Op deze pagina lees je waar je precies moet kijken.\n",
            "\n",
            "### Creditcard gekoppeld aan een persoonlijke rekening\n",
            "\n",
            "Heb je een eigen creditcard die is gekoppeld aan je persoonlijke rekening? Dan vind je je creditcard rekeningoverzicht altijd terug in je productoverzicht in de Mobiel Bankieren App en in Mijn ING. Het creditcard rekeningoverzicht staat onder je betaal- en spaarrekeningen. Hier staat je saldo en kan je ook direct alle reserveringen en afschrijvingen van de creditcard terugvinden.\n",
            "Heb je een extra creditcard die niet is gekoppeld aan een gezamenlijke rekening maar aan de persoonlijke rekening van de hoofdkaarthouder? Dan vind je het creditcard rekeningoverzicht terug onder 'Andere rekeningen'. In dit overzicht staan alleen de uitgaven die met deze extra creditcard zijn gedaan inclusief het actuele beschikbare saldo. Houd er rekening mee dat je alleen het creditcard rekeningoverzicht ziet van de persoon die is ingelogd in de Mobiel Bankieren App of Mijn ING\n",
            "\n",
            "### Creditcard bij een gezamenlijke rekening\n",
            "\n",
            "Een creditcard staat altijd op 1 naam. Ook als de creditcard aan een gezamenlijke rekening is gekoppeld. Sinds 28 juli 2020 zie je in de Mobiel Bankieren App en in Mijn ING alleen de creditcard die op jouw naam staat.\n",
            "Heb je een extra creditcard die gekoppeld is aan een gezamenlijke rekening? Dan vind je het creditcard rekeningoverzicht terug onder 'Andere rekeningen'. In dit overzicht staan alleen de uitgaven die met deze extra creditcard zijn gedaan inclusief het actuele beschikbare saldo. Houd er rekening mee dat je alleen het creditcard rekeningoverzicht ziet van de persoon die is ingelogd in de Mobiel Bankieren App of Mijn ING. Bij een gezamenlijke rekening, is de maandelijkse afschrijving inzichtelijk voor beide rekeninghouders. De transacties die met de creditcard zijn gedaan, zijn alleen zichtbaar voor de creditcardhouder en niet zichtbaar voor de andere rekeninghouder.\n",
            "\n",
            "\n",
            "Document 3:\n",
            "# Kijk Vooruit in de Mobiel Bankieren App - ING\n",
            "\n",
            "## Wat zie je precies in Kijk Vooruit?\n",
            "\n",
            "* Afschrijvingen die zeker gaan gebeuren\n",
            "* Afschrijvingen die voorspeld worden op basis van eerdere afschrijvingen, zoals je energierekening\n",
            "* Bijschrijvingen die voorspeld worden op basis van eerdere bijschrijvingen, zoals je salaris\n",
            "* Spaaropdrachten die je hebt ingepland\n",
            "* Het voorspelde saldo op basis van alle bedragen die van je rekening afgaan of erbij komen\n",
            "Zo krijg je een beter beeld van wat je nog kunt besteden en voorkom je vervelende verrassingen.\n",
            "Klant worden via de app\n",
            "* ### Inzicht in je uitgaven\n",
            "Wat geef je uit aan de boodschappen? Krijg inzicht.\n",
            "Inzicht in je uitgaven\n",
            "* ### Tag je transacties\n",
            "Om specifieke uitgaven, zoals cadeautjes, makkelijk terug te vinden.\n",
            "Tag je transacties\n",
            "* ### Grip op je geldzaken\n",
            "Alles over meer inzicht in je geldzaken, sparen en besparen.\n",
            "Grip op je geldzaken\n",
            "* ### Digitaal bankieren\n",
            "Alles over mobiel bankieren en Mijn ING. Digitaal bankieren\n",
            "\n",
            "\n",
            "Document 4:\n",
            "# Nieuw in de app - ING\n",
            "\n",
            "## Update Betaalverzoek: meerdere bedragen splitsen in één verzoek\n",
            "\n",
            "### Nieuw in de app: meerdere bedragen splitsen in één Betaalverzoek (Android en iOS).\n",
            "\n",
            "Met deze update gaat een veelgevraagd klantverzoek live. Zo maken we de app nog makkelijker, slimmer en persoonlijker!\n",
            "Betaalverzoek maken\n",
            "\n",
            "## Rekeningoverzicht (iOS en Android)\n",
            "\n",
            "### Iets wijzigen of bekijken in de instellingen van je Betaalrekening?\n",
            "\n",
            "Nu een handig overzicht op de pagina rekening instellingen.\n",
            "Hoe werkt het? Log in op de app en klik op je betaalrekening. Tik op de drie puntjes rechtsboven voor een overzicht. In dit overzicht vind je onder meer jouw:\n",
            "* IBAN\n",
            "* BIC\n",
            "* Rente overzicht\n",
            "* Afschriften downloaden\n",
            "* Rekening opzeggen\n",
            "* en meer\n",
            "\n",
            "## Nu ook Dark Mode voor Android!\n",
            "\n",
            "Dark Mode is een feature waarbij de interface aangepast kan worden naar een donker kleurschema.\n",
            "Dark Mode van ING is beschikbaar op zowel de telefoon als tablet. Je moet hiervoor versie tien of nieuwer hebben. De app past zich automatisch aan de instellingen van je Android-telefoon. Je kunt de ING-app dus niet altijd op donker instellen.\n",
            "\n",
            "## Creditcards nu ook in Kijk Vooruit\n",
            "\n",
            "De creditcard die is toegevoegd is het type creditcard voor particuliere klanten waar maandelijks het gehele openstaande bedrag door ING wordt geïncasseerd. Meer dan 90% van onze klanten heeft dit type creditcard.\n",
            "Wat zie je precies in Kijk Vooruit?\n",
            "* Afschrijvingen die zeker zullen plaatsvinden\n",
            "* Afschrijvingen die voorspeld worden op basis van eerdere afschrijvingen, zoals bijvoorbeeld je energierekening\n",
            "* Bijschrijvingen die voorspeld worden op basis van eerdere bijschrijvingen zoals bijvoorbeeld je salaris\n",
            "* Spaaropdrachten die je hebt ingepland\n",
            "* Het voorspelde saldo op basis van alle bedragen die volgens Kijk Vooruit van je rekening gaan of er bij komen\n",
            "Alles over Kijk Vooruit\n"
          ]
        }
      ]
    },
    {
      "cell_type": "markdown",
      "source": [
        "### Add nibud.nl data"
      ],
      "metadata": {
        "id": "fxZlWE_0dYX_"
      }
    },
    {
      "cell_type": "code",
      "source": [
        "urls = [\n",
        "    \"https://www.nibud.nl/onderwerpen/kinderen-en-jongeren/\",\n",
        "    \"https://www.nibud.nl/onderwerpen/kinderen-en-jongeren/zakgeld-en-kleedgeld/\",\n",
        "    \"https://www.nibud.nl/onderwerpen/kinderen-en-jongeren/wat-kost-een-kind/\",\n",
        "    \"https://www.nibud.nl/onderwerpen/kinderen-en-jongeren/studeren/\",\n",
        "    \"https://www.nibud.nl/onderwerpen/kinderen-en-jongeren/financiele-opvoeding/\",\n",
        "    \"https://www.nibud.nl/onderwerpen/kinderen-en-jongeren/je-kind-wordt-18-jaar/\",\n",
        "    \"https://www.nibud.nl/onderwerpen/kinderen-en-jongeren/kostgeld/\",\n",
        "    \"https://www.nibud.nl/onderwerpen/uitgaven/\",\n",
        "    \"https://www.nibud.nl/onderwerpen/uitgaven/huishoudelijke-uitgaven/\",\n",
        "    \"https://www.nibud.nl/onderwerpen/uitgaven/autokosten/\",\n",
        "    \"https://www.nibud.nl/onderwerpen/uitgaven/vergelijk-uitgaven/\",\n",
        "    \"https://www.nibud.nl/onderwerpen/uitgaven/kosten-verzekering/\",\n",
        "    \"https://www.nibud.nl/onderwerpen/uitgaven/kosten-energie-water/\",\n",
        "    \"https://www.nibud.nl/onderwerpen/uitgaven/geld-besparen/\",\n",
        "    \"https://www.nibud.nl/onderwerpen/uitgaven/abonnementen/\",\n",
        "    \"https://www.nibud.nl/onderwerpen/scheiden/\",\n",
        "    \"https://www.nibud.nl/onderwerpen/scheiden/geldzaken-bij-een-scheiding/\",\n",
        "    \"https://www.nibud.nl/onderwerpen/scheiden/co-ouderschap/\",\n",
        "    \"https://www.nibud.nl/onderwerpen/scheiden/alimentatie/\",\n",
        "    \"https://www.nibud.nl/onderwerpen/scheiden/scheiden-en-pensioen/\"\n",
        "]\n",
        "loader = AsyncHtmlLoader(urls)\n",
        "docs = loader.load()"
      ],
      "metadata": {
        "id": "vNrB3HC_daqO",
        "outputId": "f7e77c36-3a44-44b8-9b2d-07514c3c1e29",
        "colab": {
          "base_uri": "https://localhost:8080/"
        }
      },
      "execution_count": 331,
      "outputs": [
        {
          "output_type": "stream",
          "name": "stderr",
          "text": [
            "Fetching pages: 100%|##########| 20/20 [00:05<00:00,  3.36it/s]\n"
          ]
        }
      ]
    },
    {
      "cell_type": "code",
      "source": [
        "html2text = Html2TextTransformer()\n",
        "docs_transformed = html2text.transform_documents(docs)\n",
        "text_splitter = CharacterTextSplitter(chunk_size=3000, chunk_overlap=0)\n",
        "documents = text_splitter.split_documents(docs_transformed)"
      ],
      "metadata": {
        "id": "5ezQIFA7eYTn"
      },
      "execution_count": 332,
      "outputs": []
    },
    {
      "cell_type": "code",
      "source": [
        "db_nibudnl = load_vector_store(\n",
        "    documents,\n",
        "    vector_store_path=\"BudgetBuddy/vectorstore/nibudnl\",\n",
        "    embeddings=GoogleGenerativeAIEmbeddings(model=\"models/text-embedding-004\"),\n",
        "    overwrite=True\n",
        ")"
      ],
      "metadata": {
        "id": "rGj9_H18eQa4"
      },
      "execution_count": 333,
      "outputs": []
    },
    {
      "cell_type": "code",
      "source": [
        "query = \"Ik ga scheiden. Hoe zit het dan met de kinderen?\"\n",
        "docs = db_nibudnl.similarity_search(query)\n",
        "for i, doc in enumerate(docs):\n",
        "    print(f\"\\n\\nDocument {i+1}:\")\n",
        "    print(doc.page_content)"
      ],
      "metadata": {
        "id": "0bPj0GDGroPJ",
        "outputId": "8b5f57a5-7e8a-4e82-9054-4ff3f26f5e63",
        "colab": {
          "base_uri": "https://localhost:8080/"
        }
      },
      "execution_count": 337,
      "outputs": [
        {
          "output_type": "stream",
          "name": "stdout",
          "text": [
            "\n",
            "\n",
            "Document 1:\n",
            "Direct naar content\n",
            "\n",
            "  * Nieuws\n",
            "  * Webwinkel\n",
            "\n",
            "Menu\n",
            "\n",
            "  * Onderwerpen\n",
            "    * Rondkomen\n",
            "    * Sparen\n",
            "    * Uitgaven\n",
            "    * Geldproblemen\n",
            "    * Inkomensondersteuning\n",
            "    * Kinderen en jongeren\n",
            "    * Wonen\n",
            "    * Pensioen\n",
            "    * Uit elkaar\n",
            "    * Werken\n",
            "  * Dossiers\n",
            "    * Voldoende inkomen\n",
            "    * Financiële weerbaarheid\n",
            "    * Betaalbaar wonen\n",
            "    * Betaalbare energietransitie\n",
            "  * Samenwerken\n",
            "    * Voorlichting op maat\n",
            "    * Onderzoek en advies\n",
            "    * Deskundigheidsbevordering\n",
            "    * Cijfers en rekentools\n",
            "    * Cursussen, workshops en coaching\n",
            "    * Werkvelden\n",
            "  * Over het Nibud\n",
            "    * Over de organisatie\n",
            "    * Onze missie en impact\n",
            "    * Financiering\n",
            "    * Samenwerken met het Nibud\n",
            "    * Werken bij het Nibud\n",
            "    * Informatie voor pers\n",
            "    * Medewerkers\n",
            "    * Contact met het Nibud\n",
            "\n",
            "  * Nieuws\n",
            "  * Webwinkel\n",
            "\n",
            "  * Onderwerpen\n",
            "    * Rondkomen\n",
            "    * Sparen\n",
            "    * Uitgaven\n",
            "    * Geldproblemen\n",
            "    * Inkomensondersteuning\n",
            "    * Kinderen en jongeren\n",
            "    * Wonen\n",
            "    * Pensioen\n",
            "    * Uit elkaar\n",
            "    * Werken\n",
            "  * Dossiers\n",
            "    * Voldoende inkomen\n",
            "    * Financiële weerbaarheid\n",
            "    * Betaalbaar wonen\n",
            "    * Betaalbare energietransitie\n",
            "  * Samenwerken\n",
            "    * Voorlichting op maat\n",
            "    * Onderzoek en advies\n",
            "    * Deskundigheidsbevordering\n",
            "    * Cijfers en rekentools\n",
            "    * Cursussen, workshops en coaching\n",
            "    * Werkvelden\n",
            "  * Over het Nibud\n",
            "    * Over de organisatie\n",
            "    * Onze missie en impact\n",
            "    * Financiering\n",
            "    * Samenwerken met het Nibud\n",
            "    * Werken bij het Nibud\n",
            "    * Informatie voor pers\n",
            "    * Medewerkers\n",
            "    * Contact met het Nibud\n",
            "\n",
            "Zoeken\n",
            "\n",
            "Zoeken\n",
            "\n",
            "Zoek\n",
            "\n",
            "##  Melding: Altijd op de hoogte met de Nibud nieuwsbrief\n",
            "\n",
            "Elke maand het laatste nieuws en handige tips van onze experts  Aanmelden\n",
            "\n",
            "Sluit melding\n",
            "\n",
            "Home Onderwerpen Uit elkaar Geldzaken tijdens en na een scheiding\n",
            "\n",
            "#  Geldzaken tijdens en na een scheiding\n",
            "\n",
            "Bij een scheiding komen veel praktische dingen kijken zoals een verhuizing en\n",
            "verdeling van de boedel. Welke geldzaken kom je nog meer tegen tijdens en na\n",
            "een scheiding? En hoe krijg je grip op je nieuwe financiële situatie?\n",
            "\n",
            "## Op deze pagina\n",
            "\n",
            "  * Geldzaken regelen \n",
            "  * De (in)boedel verdelen \n",
            "  * Verhuiskosten \n",
            "  * Begroting nieuwe situatie \n",
            "\n",
            "## **Geldzaken regelen**  \n",
            "\n",
            "Bij een scheiding komen veel praktische dingen kijken waar een financiële kant\n",
            "aan zit. Zo moet je misschien verhuizen en de boedel verdelen.\n",
            "\n",
            "Een scheiding heeft ook gevolgen voor de hypotheek en het pensioen. Deze zaken\n",
            "moeten onderling worden verdeeld. Er kunnen gezamenlijke leningen of\n",
            "verzekeringen zijn.\n",
            "\n",
            "Als je kinderen hebt, moet je beslissen waar de kinderen gaan wonen. Gaan ze\n",
            "bij één van de ouders wonen? Of spreek je af dat je voor co-ouderschap gaat?\n",
            "En wat zou de kinderalimentatie zijn? Dat heeft allemaal invloed op de nieuwe\n",
            "financiële situatie. Meer over co-ouderschap.\n",
            "\n",
            "\n",
            "Document 2:\n",
            "Direct naar content\n",
            "\n",
            "  * Nieuws\n",
            "  * Webwinkel\n",
            "\n",
            "Menu\n",
            "\n",
            "  * Onderwerpen\n",
            "    * Rondkomen\n",
            "    * Sparen\n",
            "    * Uitgaven\n",
            "    * Geldproblemen\n",
            "    * Inkomensondersteuning\n",
            "    * Kinderen en jongeren\n",
            "    * Wonen\n",
            "    * Pensioen\n",
            "    * Uit elkaar\n",
            "    * Werken\n",
            "  * Dossiers\n",
            "    * Voldoende inkomen\n",
            "    * Financiële weerbaarheid\n",
            "    * Betaalbaar wonen\n",
            "    * Betaalbare energietransitie\n",
            "  * Samenwerken\n",
            "    * Voorlichting op maat\n",
            "    * Onderzoek en advies\n",
            "    * Deskundigheidsbevordering\n",
            "    * Cijfers en rekentools\n",
            "    * Cursussen, workshops en coaching\n",
            "    * Werkvelden\n",
            "  * Over het Nibud\n",
            "    * Over de organisatie\n",
            "    * Onze missie en impact\n",
            "    * Financiering\n",
            "    * Samenwerken met het Nibud\n",
            "    * Werken bij het Nibud\n",
            "    * Informatie voor pers\n",
            "    * Medewerkers\n",
            "    * Contact met het Nibud\n",
            "\n",
            "  * Nieuws\n",
            "  * Webwinkel\n",
            "\n",
            "  * Onderwerpen\n",
            "    * Rondkomen\n",
            "    * Sparen\n",
            "    * Uitgaven\n",
            "    * Geldproblemen\n",
            "    * Inkomensondersteuning\n",
            "    * Kinderen en jongeren\n",
            "    * Wonen\n",
            "    * Pensioen\n",
            "    * Uit elkaar\n",
            "    * Werken\n",
            "  * Dossiers\n",
            "    * Voldoende inkomen\n",
            "    * Financiële weerbaarheid\n",
            "    * Betaalbaar wonen\n",
            "    * Betaalbare energietransitie\n",
            "  * Samenwerken\n",
            "    * Voorlichting op maat\n",
            "    * Onderzoek en advies\n",
            "    * Deskundigheidsbevordering\n",
            "    * Cijfers en rekentools\n",
            "    * Cursussen, workshops en coaching\n",
            "    * Werkvelden\n",
            "  * Over het Nibud\n",
            "    * Over de organisatie\n",
            "    * Onze missie en impact\n",
            "    * Financiering\n",
            "    * Samenwerken met het Nibud\n",
            "    * Werken bij het Nibud\n",
            "    * Informatie voor pers\n",
            "    * Medewerkers\n",
            "    * Contact met het Nibud\n",
            "\n",
            "Zoeken\n",
            "\n",
            "Zoeken\n",
            "\n",
            "Zoek\n",
            "\n",
            "##  Melding: Altijd op de hoogte met de Nibud nieuwsbrief\n",
            "\n",
            "Elke maand het laatste nieuws en handige tips van onze experts  Aanmelden\n",
            "\n",
            "Sluit melding\n",
            "\n",
            "Home Onderwerpen Uit elkaar Co-ouderschap\n",
            "\n",
            "#  Co-ouderschap\n",
            "\n",
            "Welke afspraken moet je maken als je als ouders kiest voor een co-ouderschap\n",
            "na een scheiding? Naast praktische zaken zijn er ook geldzaken te regelen. Op\n",
            "deze pagina vind je informatie en handvatten.\n",
            "\n",
            "## Op deze pagina\n",
            "\n",
            "  * Welke afspraken moet je maken? \n",
            "  * De kosten verdelen \n",
            "  * Regelingen en toeslagen \n",
            "  * Het ouderschapsplan \n",
            "  * Kom je er samen niet uit? \n",
            "\n",
            "## **Welke afspraken moet je maken?  **\n",
            "\n",
            "Na een scheiding zijn jullie als ouders verplicht de kosten te betalen voor de\n",
            "verzorging en opvoeding van de kinderen. Bij een co-ouderschap verdelen de\n",
            "ouders de zorg voor de kinderen, praktisch en financieel. De kinderen zijn\n",
            "afwisselend bij de ene en de andere ouder en de kosten worden door beide\n",
            "ouders betaald.  \n",
            "\n",
            "Bij co-ouderschap is het belangrijk dat je goede afspraken maakt en zaken\n",
            "zwart op wit vastlegt. Spreek in ieder geval de volgende dingen met elkaar af:\n",
            "\n",
            "\n",
            "Document 3:\n",
            "* De roosterafspraken en verdeling van tijd over de twee huizen \n",
            "  * De (maximale) onderlinge woonafstand \n",
            "  * De taakverdeling tussen de ouders en de communicatie \n",
            "  * Afspraken over verjaardagen, vakanties en regels \n",
            "  * De financiën: wie betaalt wat en hoe regelen jullie dit. Je kunt afspraken hierover door de rechter laten vastleggen, maar dat is niet verplicht. \n",
            "\n",
            "## **De kosten verdelen**  \n",
            "\n",
            "Bij co-ouderschap worden de kosten voor een kind niet in één huishouden\n",
            "gemaakt, maar in twee. Een aantal kosten wordt dubbel gemaakt, zoals de huur\n",
            "of hypotheek en de kosten van de inboedel. De totale kosten zijn daardoor\n",
            "hoger.\n",
            "\n",
            "Het is bij co-ouderschap belangrijk dat je van tevoren afspreekt welke kosten\n",
            "je verdeelt en welke niet. Voorkom bijvoorbeeld dat de ene ouder meebetaalt\n",
            "aan de dure smaak van de ander. Kosten zoals vakanties en uitstapjes kun je\n",
            "beter buiten de verdeling houden. Maak bij het verdelen onderscheid tussen\n",
            "eigen kosten en te verdelen kosten.\n",
            "\n",
            "### **Eigen kosten**  \n",
            "\n",
            "Eigen kosten zijn de kosten die elk huishouden voor zichzelf maakt. Denk aan\n",
            "de huur, telefoon en boodschappen. Deze kosten kunnen voor jullie als ex-\n",
            "partners flink verschillen, bijvoorbeeld door verschillen in inkomen en een\n",
            "ander uitgavepatroon. Eigen kosten zijn ook de uitgaven voor de kinderen die\n",
            "beide ouders doen. Bijvoorbeeld dubbel schoolmateriaal, speelgoed of een\n",
            "fiets.\n",
            "\n",
            "### **Te verdelen kosten**  \n",
            "\n",
            "Te verdelen kosten zijn uitgaven voor het kind die één ouder doet. Denk aan\n",
            "verzekeringen, abonnementen, contributies en schoolkosten. Je kunt deze kosten\n",
            "op drie manieren verdelen.\n",
            "\n",
            "  * Naar draagkracht. Hiervoor is het nodig om regelmatig te overleggen. Verandering jouw inkomen of dat van je ex-partner heeft gevolgen voor de verdeling. Ook moet je ieder jaar je inkomensgegevens delen met je ex-partner. \n",
            "  * Naar het aantal dagen dat het kind in elk van de huishoudens verblijft. Of je verrekent de kosten op basis van een vast bedrag per periode. \n",
            "  * Beide ouders betalen de helft van de kosten. Deze regeling is overzichtelijk. Ook blijf je financieel onafhankelijk van je ex-partner. Het nadeel is dat de ouders die het minst verdient, dit in de praktijk mogelijk als oneerlijk zal ervaren. \n",
            "\n",
            "## Hulpmiddelen bij geldzaken rond scheiden\n",
            "\n",
            "  * ###  Geldplan Scheiden \n",
            "\n",
            "Tool\n",
            "\n",
            "Het Geldplan Scheiden geeft inzicht in je geldzaken nu en de veranderingen\n",
            "daarin na scheiding. Zo voorkom je geldproblemen.\n",
            "\n",
            "## **Regelingen en toeslagen**  \n",
            "\n",
            "Bij co-ouderschap horen de kinderen bij twee huishoudens. Ze hebben ook twee\n",
            "woonadressen. Welke ouder heeft dan recht op financiële tegemoetkomingen?\n",
            "\n",
            "### **Kinderbijslag**  \n",
            "\n",
            "De Sociale Verzekeringsbank (SVB) voert de kinderbijslag uit. Volgens de SVB\n",
            "hoort het kind bij co-ouderschap bij de huishoudens van beide ouders. Zowel\n",
            "jij als je ex-partner heeft dus recht op de helft van de kinderbijslag. De SVB\n",
            "betaalt de kinderbijslag het liefst uit aan één ouder. Je verdeelt dan zelf\n",
            "onderling het geld.\n",
            "\n",
            "### **Kindgebonden budget**\n",
            "\n",
            "\n",
            "Document 4:\n",
            "De Belastingdienst keert het kindgebonden budget uit. Het geld kan worden\n",
            "verdeeld over beide ouders. Dit kan alleen als er twee of meer kinderen zijn\n",
            "én als er sprake is van co-ouderschap. Je krijgt dan dus allebei een deel van\n",
            "het kindgebonden budget uitbetaald van de Belastingdienst.\n",
            "\n",
            "### **Heffingskorting**  \n",
            "\n",
            "Bij de Belastingdienst geldt een heffingskorting als je kinderen hebt en\n",
            "werkt. Het gaat om de inkomensafhankelijke combinatiekorting. Deze\n",
            "heffingskorting wordt betaald aan het huishouden waar de kinderen meer dan zes\n",
            "maanden staan ingeschreven in het bevolkingsregister. Bij co-ouderschap kunnen\n",
            "beide ouders als ze allebei een baan hebben de inkomensafhankelijke\n",
            "combinatiekorting aanvragen.\n",
            "\n",
            "### **Huurtoeslag**  \n",
            "\n",
            "Zowel jij als je ex-partner kan huurtoeslag aanvragen. Voor de huurtoeslag kan\n",
            "een kind maar bij één ouder zijn inschreven. De andere ouder mag het kind wel\n",
            "meetellen bij het huishouden als hij of zij een aanvraag indient voor\n",
            "huurtoeslag. De Belastingdienst vraagt dan om een verklaring co-ouderschap.\n",
            "Deze verklaring moet door beide ouders ondertekend zijn.\n",
            "\n",
            "Tips voor slim omgaan met regelingen\n",
            "\n",
            "  * Heb je meerdere kinderen? Verdeel de kinderen ‘op papier’ dan over beide huishoudens. Zo hebben beide ouders meer kans om in aanmerking te komen voor sommige regelingen. \n",
            "  * Heb je één kind? Schrijf het kind dan in op het adres van de ouder met het laagste inkomen. Zo heb je meer kans om aanspraak te maken op regelingen of een hoger bedrag. Je kunt deze bedragen vervolgens zelf onderling verrekenen en verdelen. \n",
            "\n",
            "## **Het ouderschapsplan**  \n",
            "\n",
            "Ouders die scheiden zijn verplicht om samen een ouderschapsplan op te stellen.\n",
            "Dit geldt ook bij een geregistreerd partnerschap of als je gaat ‘scheiden van\n",
            "tafel en bed’. Als je duidelijke afspraken maakt in het ouderschapsplan, kan\n",
            "dat veel ruzie voorkomen.\n",
            "\n",
            "Jullie bepalen in principe zelf wat jullie belangrijk vinden en welke\n",
            "afspraken jullie vastleggen in het ouderschapsplan. De wet stelt wel een\n",
            "aantal minimumeisen. De volgende afspraken moeten er in ieder geval in staan:\n",
            "\n",
            "  * Hoe jullie de zorg en opvoeding en de omgang met de kinderen regelen. \n",
            "  * Hoe jullie communiceren over belangrijke onderwerpen, bijvoorbeeld de schoolkeuze.  \n",
            "  * Hoe jullie de kosten regelen van de verzorging en opvoeding van minderjarige kinderen (kinderalimentatie). \n",
            "\n",
            "Het is belangrijk om de kinderen te betrekken bij het opstellen van het\n",
            "ouderschapsplan. Ouders zijn verplicht om in het plan op te nemen hoe ze dit\n",
            "gaan doen.\n",
            "\n",
            "  * ###  Tip voor ouders \n",
            "\n",
            "Hier kun je met begeleiding zelf een ouderschapsplan opstellen, dat je beiden\n",
            "moet ondertekenen.  \n",
            "\n",
            "Naar de site Opent in een nieuw venster\n",
            "\n",
            "  * ###  Tip voor kinderen \n",
            "\n",
            "Kinderen vinden hier informatie over wat er op hen afkomt als hun ouders gaan\n",
            "scheiden.\n",
            "\n",
            "Naar de site Opent in een nieuw venster\n",
            "\n",
            "Meer informatie over het ouderschapsplan vind je op de website van de\n",
            "Rijksoverheid.\n",
            "\n",
            "## **Kom je er samen niet uit?**\n"
          ]
        }
      ]
    },
    {
      "cell_type": "markdown",
      "source": [
        "### Create the Vector Database Retriever tool"
      ],
      "metadata": {
        "id": "YC8lE77Y4ech"
      }
    },
    {
      "cell_type": "code",
      "source": [
        "ingnl_retriever = db_ingnl.as_retriever(\n",
        "    # search_type=\"mmr\",\n",
        "    search_kwargs={\"k\": 5},\n",
        ")\n",
        "nibudnl_retriever = db_nibudnl.as_retriever(\n",
        "    # search_type=\"mmr\",\n",
        "    search_kwargs={\"k\": 5},\n",
        ")"
      ],
      "metadata": {
        "id": "SyZNyLYCyixz"
      },
      "execution_count": 338,
      "outputs": []
    },
    {
      "cell_type": "code",
      "source": [
        "ingnl_retriever_tool = create_retriever_tool(\n",
        "    ingnl_retriever,\n",
        "    \"retrieve_ingnl_information\",\n",
        "    \"Search and return information about (banking) products of ING, and features in the ING app that customers have available.\",\n",
        ")\n",
        "nibudnl_retriever_tool = create_retriever_tool(\n",
        "    nibudnl_retriever,\n",
        "    \"retrieve_nibudnl_information\",\n",
        "    \"Nibud.nl is the website of the National Institute for Family Finance Information (Nibud) in the Netherlands. This independent foundation provides information and advice on managing personal finances. The site offers tools, tips, and research to help individuals and households make informed financial decisions. You might want to visit Nibud.nl if you need guidance on budgeting, saving, or managing debt. It's also useful for understanding household expenses, planning for retirement, or seeking advice on financial health\"\n",
        ")"
      ],
      "metadata": {
        "id": "dQm9ZOFf1Ub5"
      },
      "execution_count": 339,
      "outputs": []
    },
    {
      "cell_type": "markdown",
      "source": [
        "### Create a Tavily Search tool"
      ],
      "metadata": {
        "id": "Y9eyTUmR4jcS"
      }
    },
    {
      "cell_type": "code",
      "source": [
        "search_tool = TavilySearchResults(max_results=2)\n",
        "search_tool.description"
      ],
      "metadata": {
        "colab": {
          "base_uri": "https://localhost:8080/",
          "height": 53
        },
        "id": "_zAlJjpo4mhX",
        "outputId": "2e5b2e66-bfa0-44df-a861-b60c0e40c18d"
      },
      "execution_count": 340,
      "outputs": [
        {
          "output_type": "execute_result",
          "data": {
            "text/plain": [
              "'A search engine optimized for comprehensive, accurate, and trusted results. Useful for when you need to answer questions about current events. Input should be a search query.'"
            ],
            "application/vnd.google.colaboratory.intrinsic+json": {
              "type": "string"
            }
          },
          "metadata": {},
          "execution_count": 340
        }
      ]
    },
    {
      "cell_type": "markdown",
      "source": [
        "## Combine all the tools"
      ],
      "metadata": {
        "id": "uYwL9mOG45d9"
      }
    },
    {
      "cell_type": "code",
      "source": [
        "tools = [ingnl_retriever_tool, nibudnl_retriever_tool, search_tool]\n",
        "tools_names = {t.name: t for t in tools}\n",
        "model = model.bind_tools(tools)"
      ],
      "metadata": {
        "id": "wsUzAfl34-L-"
      },
      "execution_count": 341,
      "outputs": []
    },
    {
      "cell_type": "markdown",
      "source": [
        "### Some helper functions"
      ],
      "metadata": {
        "id": "6TSRRA915EYh"
      }
    },
    {
      "cell_type": "code",
      "source": [
        "def wrap_text(text, width=100):\n",
        "    text_split = text.split(\"\\n\")\n",
        "    wrapped_text = textwrap.fill(text_split[0], width)\n",
        "    if len(text_split) > 1:\n",
        "        for line in text_split[1:]:\n",
        "            wrapped_text += \"\\n\" + textwrap.fill(line, width)\n",
        "    return wrapped_text\n",
        "\n",
        "def print_stream(stream):\n",
        "    for s in stream:\n",
        "        message = s[\"messages\"][-1]\n",
        "        if isinstance(message, tuple):\n",
        "            print(message)\n",
        "        else:\n",
        "            print(wrap_text(message.pretty_repr()))\n",
        "\n",
        "class FinHealthAgentSession:\n",
        "    def __init__(self, agent):\n",
        "        self.agent = agent\n",
        "        self.start_session()\n",
        "\n",
        "    def ask(self, question, verbose=False):\n",
        "        messages = [HumanMessage(content=question)]\n",
        "        tools_used = []\n",
        "        if verbose:\n",
        "            print_stream(self.agent.stream({\"messages\": messages}, config=self.session, stream_mode= \"values\"))\n",
        "        else:\n",
        "            result = self.agent.invoke({\"messages\": messages}, config=self.session)\n",
        "            for i, message in enumerate(reversed(result['messages'])):\n",
        "                if message.content == question:\n",
        "                    break\n",
        "            for message in result['messages'][len(result['messages']) - i:]:\n",
        "                if message.name != None:\n",
        "                    tools_used.append(message.name)\n",
        "            print(f\"Tools used: {tools_used}\\n\")\n",
        "            display(Markdown(wrap_text(result['messages'][-1].content)))\n",
        "\n",
        "    def start_session(self):\n",
        "        session_id = ''.join(random.choices('0123456789', k=6))\n",
        "        print(f\"Started session {session_id}...\")\n",
        "        self.session = {\"configurable\": {\"thread_id\": session_id}}"
      ],
      "metadata": {
        "id": "sMtB9N172v2P"
      },
      "execution_count": 342,
      "outputs": []
    },
    {
      "cell_type": "markdown",
      "source": [
        "## Create the agent"
      ],
      "metadata": {
        "id": "wozNTkr65GeA"
      }
    },
    {
      "cell_type": "code",
      "source": [
        "prompt = \"\"\"\n",
        "    You are a helpful assistant representing both ING Bank and Nibud\n",
        "    (Dutch institute for budgeting education).\n",
        "    Your goal is to find a satisfying answer to each question of a customer.\n",
        "    You can assume that any human asking you a question, is an ING customer.\n",
        "    If necessary, decompose the question into multiple tasks, and try\n",
        "    to use the tools at your disposal to answer the subtasks before coming\n",
        "    up with the final answer.\n",
        "    Don't ask the user for confirmation.\n",
        "    Just do stuff.\n",
        "    Try to pitch features or products of ING inside your answers when that would\n",
        "    be potentially benefitial for the customer. Only do that when that pitch is\n",
        "    relevant to the question asked by the customer. So don't pitch stuff not really\n",
        "    related to the question.\n",
        "    For this you could use the ingnl_retriever_tool to find relevant features and\n",
        "    products of ING.\n",
        "    Also make sure to add any relevant suggestions or recommendations from Nibud\n",
        "    if this would be helpful for the customer. For this you can use the\n",
        "    nibudnl_retriever_tool.\n",
        "    Make sure to use both tools whenever it may even be slightly useful! If you\n",
        "    don't find something relevant from these tools, you don't need to incorporate\n",
        "    what you found in the answer. Just ignore it then.\n",
        "    Make sure to always answer in the same language you were asked the question in.\n",
        "\"\"\"\n",
        "\n",
        "memory = MemorySaver()\n",
        "agent = create_react_agent(model, tools, prompt=prompt, checkpointer=memory)\n",
        "session = FinHealthAgentSession(agent)\n",
        "display(Image(session.agent.get_graph().draw_mermaid_png()))"
      ],
      "metadata": {
        "colab": {
          "base_uri": "https://localhost:8080/",
          "height": 284
        },
        "id": "tuHsq7IJ20sZ",
        "outputId": "31e28ef0-e230-4cb9-9b16-b7c8a3816c10"
      },
      "execution_count": 347,
      "outputs": [
        {
          "output_type": "stream",
          "name": "stdout",
          "text": [
            "Started session 539328...\n"
          ]
        },
        {
          "output_type": "display_data",
          "data": {
            "image/png": "[encoded data removed]",
            "text/plain": [
              "<IPython.core.display.Image object>"
            ]
          },
          "metadata": {}
        }
      ]
    },
    {
      "cell_type": "code",
      "source": [
        "session.ask(\"Welke transacties zie ik allemaal in Kijk Vooruit?\")"
      ],
      "metadata": {
        "colab": {
          "base_uri": "https://localhost:8080/",
          "height": 280
        },
        "id": "Itd9j3323J9M",
        "outputId": "40a34af1-30c6-4c82-a573-b3d543162fd7"
      },
      "execution_count": 348,
      "outputs": [
        {
          "output_type": "stream",
          "name": "stdout",
          "text": [
            "Tools used: ['retrieve_ingnl_information', 'retrieve_nibudnl_information']\n",
            "\n"
          ]
        },
        {
          "output_type": "display_data",
          "data": {
            "text/plain": [
              "<IPython.core.display.Markdown object>"
            ],
            "text/markdown": "In Kijk Vooruit in de Mobiel Bankieren App van ING zie je de volgende transacties:\n\n*   **Afschrijvingen die zeker gaan gebeuren:** Dit zijn bijvoorbeeld vaste lasten zoals huur of\nhypotheek.\n*   **Afschrijvingen die voorspeld worden:** Op basis van eerdere afschrijvingen, zoals je\nenergierekening, wordt een voorspelling gedaan.\n*   **Bijschrijvingen die voorspeld worden:** Op basis van eerdere bijschrijvingen, zoals je\nsalaris, wordt een voorspelling gedaan.\n*   **Spaaropdrachten die je hebt ingepland:** Geplande overboekingen naar je spaarrekening.\n*   **Het voorspelde saldo:** Een schatting van je saldo op basis van alle verwachte af- en\nbijschrijvingen.\n\nKijk Vooruit helpt je om een beter beeld te krijgen van wat je nog kunt besteden en om verrassingen\nte voorkomen.\n\nOm nog meer inzicht te krijgen in je uitgaven, kun je in de ING app ook je transacties taggen. Zo\nkun je makkelijk specifieke uitgaven terugvinden, bijvoorbeeld hoeveel je uitgeeft aan kleding,\ncadeautjes of je hobby.\n\nHet Nibud biedt ook handige tools en tips om inzicht te krijgen in je uitgaven. Met het Persoonlijk\nBudgetadvies van het Nibud kun je bijvoorbeeld je uitgaven vergelijken met die van andere\nhuishoudens en ontdekken waar je kunt besparen."
          },
          "metadata": {}
        }
      ]
    },
    {
      "cell_type": "code",
      "source": [
        "session.ask(\"Wie is Elon Musk?\")"
      ],
      "metadata": {
        "colab": {
          "base_uri": "https://localhost:8080/",
          "height": 99
        },
        "id": "mmQnadb94TnR",
        "outputId": "fbbb74fa-42f6-4c47-d304-f58ee44ea3c5"
      },
      "execution_count": 349,
      "outputs": [
        {
          "output_type": "stream",
          "name": "stdout",
          "text": [
            "Tools used: ['tavily_search_results_json']\n",
            "\n"
          ]
        },
        {
          "output_type": "display_data",
          "data": {
            "text/plain": [
              "<IPython.core.display.Markdown object>"
            ],
            "text/markdown": "Elon Reeve Musk, geboren op 28 juni 1971 in Pretoria, Zuid-Afrika, is een in de VS gevestigde\ninternet- en ruimtelanceringsondernemer. Hij heeft de Zuid-Afrikaanse, Canadese en Amerikaanse\nnationaliteit. Hij wil de mensheid naar Mars brengen en kan met een enkele tweet (X) koersen laten\nstijgen of dalen."
          },
          "metadata": {}
        }
      ]
    },
    {
      "cell_type": "code",
      "source": [
        "session = FinHealthAgentSession(agent)\n",
        "session.ask(\"Hoe kan ik mijn maandelijkse kosten verlagen zonder mijn levensstijl te veel te veranderen?\")"
      ],
      "metadata": {
        "colab": {
          "base_uri": "https://localhost:8080/",
          "height": 833
        },
        "id": "Aw5qzjx-5UyA",
        "outputId": "e7fc5fc4-a9d7-4371-ddd9-db8a3deddb08"
      },
      "execution_count": 350,
      "outputs": [
        {
          "output_type": "stream",
          "name": "stdout",
          "text": [
            "Started session 768238...\n",
            "Tools used: []\n",
            "\n"
          ]
        },
        {
          "output_type": "display_data",
          "data": {
            "text/plain": [
              "<IPython.core.display.Markdown object>"
            ],
            "text/markdown": "Om je maandelijkse kosten te verlagen zonder je levensstijl drastisch te veranderen, zijn er\nverschillende stappen die je kunt overwegen. Hier zijn enkele suggesties, inclusief tips van Nibud\nen mogelijke relevante ING-producten:\n\n1.  **Budgetanalyse:** Begin met een overzicht van je inkomsten en uitgaven. Identificeer waar je\ngeld naartoe gaat. Dit kan met een kasboekje, spreadsheet, of een budget-app.\n\n*   **Nibud-tip:** Nibud adviseert om een duidelijk overzicht te maken van je vaste lasten en\nvariabele uitgaven. Kijk waar je kunt besparen zonder dat het direct invloed heeft op je\nlevensstijl.\n*   **ING-tip:** In de ING app kun je gebruik maken van de functie \"Inzicht in je uitgaven\" om\nautomatisch je uitgaven te categoriseren en te analyseren. Zo zie je snel waar je geld naartoe gaat.\n\n2.  **Vaste lasten herzien:** Kijk kritisch naar je vaste lasten zoals verzekeringen, abonnementen\nen energiecontracten.\n\n*   **Verzekeringen:** Vergelijk premies van verschillende aanbieders. Soms kun je dezelfde dekking\nkrijgen voor een lagere prijs.\n*   **Abonnementen:** Zeg abonnementen op die je niet of nauwelijks gebruikt. Denk aan\nstreamingdiensten, tijdschriften of sportschoolabonnementen.\n*   **Energie:** Vergelijk energietarieven en overweeg energiebesparende maatregelen in huis.\n*   **Nibud-tip:** Nibud heeft tools en checklists om je te helpen bij het vergelijken van\nverzekeringen en energiecontracten.\n\n3.  **Boodschappen:** Plan je boodschappen en maak een boodschappenlijstje. Vermijd impulsaankopen.\n\n*   **Nibud-tip:** Koop seizoensgebonden producten, die zijn vaak goedkoper. Let op aanbiedingen en\nhuismerken.\n*   **ING-tip:** Met de ING Betaalpas kun je contactloos betalen, wat handig is voor kleine\naankopen. Houd je uitgaven in de gaten via de app.\n\n4.  **Vervoer:** Overweeg alternatieven voor de auto, zoals fietsen of het openbaar vervoer, vooral\nvoor korte afstanden.\n\n*   **Nibud-tip:** Kijk of je in aanmerking komt voor reiskostenvergoeding van je werkgever.\n\n5.  **Sparen:** Stel een realistisch spaardoel en automatiseer je spaaroverboekingen.\n\n*   **ING-tip:** ING biedt verschillende spaarrekeningen aan, zoals de Oranje Spaarrekening, waarmee\nje flexibel kunt sparen. Overweeg periodiek beleggen met ING Beleggen om vermogen op te bouwen.\n*   **Nibud-tip:** Zelfs kleine bedragen sparen kan op de lange termijn een groot verschil maken.\n\n6.  **Eten en drinken:** Minder vaak uit eten en vaker zelf koken. Neem je eigen lunch mee naar het\nwerk.\n\n*   **Nibud-tip:** Kook in grotere hoeveelheden en vries porties in voor later gebruik.\n\n7.  **Bankkosten:** Controleer of je de meest geschikte bankrekening hebt.\n\n*   **ING-tip:** ING biedt verschillende betaalpakketten aan. Kijk of een ander pakket beter\naansluit bij je gebruik en mogelijk goedkoper is.\n\n8.  **Schulden:** Als je schulden hebt, probeer deze zo snel mogelijk af te lossen om rentekosten te\nbesparen.\n\n*   **ING-tip:** ING biedt persoonlijke leningen en doorlopende kredieten aan. Overweeg om dure\nleningen over te sluiten naar een lening met een lagere rente.\n*   **Nibud-tip:** Neem contact op met een schuldhulpverlener als je moeite hebt om je schulden af\nte lossen.\n\nDoor deze stappen te volgen, kun je waarschijnlijk je maandelijkse kosten verlagen zonder dat je je\nlevensstijl ingrijpend hoeft aan te passen. Succes!"
          },
          "metadata": {}
        }
      ]
    },
    {
      "cell_type": "code",
      "source": [
        "session.ask(\"Welke functionaliteit bedoel je voor het budgetteren?\")"
      ],
      "metadata": {
        "colab": {
          "base_uri": "https://localhost:8080/",
          "height": 117
        },
        "id": "I-9cMIjWMYdJ",
        "outputId": "2e665fee-b1ce-489d-c90a-4f112cfa5c91"
      },
      "execution_count": 351,
      "outputs": [
        {
          "output_type": "stream",
          "name": "stdout",
          "text": [
            "Tools used: []\n",
            "\n"
          ]
        },
        {
          "output_type": "display_data",
          "data": {
            "text/plain": [
              "<IPython.core.display.Markdown object>"
            ],
            "text/markdown": "Ik bedoelde de functionaliteit \"Inzicht in je uitgaven\" in de ING app. Deze functie categoriseert\nautomatisch je uitgaven, waardoor je een duidelijk overzicht krijgt van waar je geld naartoe gaat.\nJe kunt zelf ook categorieën aanpassen en budgetten instellen om je uitgaven beter te beheren. Dit\nhelpt je om inzicht te krijgen in je financiën en te zien waar je eventueel kunt besparen."
          },
          "metadata": {}
        }
      ]
    },
    {
      "cell_type": "code",
      "source": [
        "session.ask(\"Hoe kom ik er achter welke abonnementen ik heb?\")"
      ],
      "metadata": {
        "colab": {
          "base_uri": "https://localhost:8080/",
          "height": 541
        },
        "id": "4eauc5T6Nwpz",
        "outputId": "a5a9444d-b381-43b3-ca3f-1c9471f533c0"
      },
      "execution_count": 352,
      "outputs": [
        {
          "output_type": "stream",
          "name": "stdout",
          "text": [
            "Tools used: []\n",
            "\n"
          ]
        },
        {
          "output_type": "display_data",
          "data": {
            "text/plain": [
              "<IPython.core.display.Markdown object>"
            ],
            "text/markdown": "Om erachter te komen welke abonnementen je hebt, kun je verschillende methoden gebruiken:\n\n1.  **Bankafschriften en transactieoverzichten:**\n    *   **ING App/Mijn ING:** Bekijk je bankafschriften en transactieoverzichten in de ING app of op\nde ING website. Zoek naar regelmatige afschrijvingen met dezelfde omschrijving en bedrag. Dit zijn\nvaak abonnementen.\n    *   **Creditcardafschriften:** Controleer je creditcardafschriften op dezelfde manier.\n\n2.  **E-mailarchief:**\n    *   Zoek in je e-mail naar bevestigingsmails van abonnementen. Gebruik zoektermen zoals\n\"abonnement\", \"welkom\", \"bevestiging\", \"factuur\" en de namen van bekende abonnementsdiensten (bijv.\nNetflix, Spotify, etc.).\n\n3.  **Overzicht van automatische incasso's:**\n    *   **ING App/Mijn ING:** Kijk in je bankomgeving naar een overzicht van actieve automatische\nincasso's. Dit geeft een goed beeld van welke bedrijven regelmatig geld van je rekening afschrijven.\n\n4.  **Budgetteringsapps en -tools:**\n    *   Gebruik budgetteringsapps (zoals de \"Inzicht in je uitgaven\" functie in de ING app) die\nautomatisch je uitgaven categoriseren. Deze apps kunnen abonnementen herkennen en in een overzicht\nweergeven.\n\n5.  **Handmatige inventarisatie:**\n    *   Maak een lijst van alle diensten en producten waarvan je denkt dat je een abonnement hebt.\nDenk aan streamingdiensten, sportschool, tijdschriften, software, etc. Controleer vervolgens je\nbankafschriften en e-mails om te bevestigen of je daadwerkelijk een abonnement hebt en wat de kosten\nzijn.\n\n6.  **Check specifieke accounts:**\n    *   Log in op de websites van de diensten waarvan je vermoedt dat je een abonnement hebt. Vaak\nkun je in je accountinstellingen een overzicht van je abonnementen vinden.\n\nDoor deze stappen te volgen, zou je een goed beeld moeten krijgen van al je actieve abonnementen.\nVervolgens kun je beslissen welke abonnementen je wilt behouden en welke je kunt opzeggen om kosten\nte besparen."
          },
          "metadata": {}
        }
      ]
    },
    {
      "cell_type": "code",
      "source": [
        "session = FinHealthAgentSession(agent)\n",
        "session.ask(\"Hoe kan ik geld besparen volgens Nibud?\")"
      ],
      "metadata": {
        "id": "YqKoxAuyb5Hd",
        "outputId": "78c419c1-6169-4b68-84a1-33cee0fde99d",
        "colab": {
          "base_uri": "https://localhost:8080/",
          "height": 414
        }
      },
      "execution_count": 353,
      "outputs": [
        {
          "output_type": "stream",
          "name": "stdout",
          "text": [
            "Started session 875494...\n",
            "Tools used: ['retrieve_nibudnl_information']\n",
            "\n"
          ]
        },
        {
          "output_type": "display_data",
          "data": {
            "text/plain": [
              "<IPython.core.display.Markdown object>"
            ],
            "text/markdown": "Volgens het Nibud zijn er verschillende manieren om geld te besparen. Hier zijn enkele tips:\n\n*   **Maak een bespaarplan:** Gebruik een stappenplan om inzicht te krijgen in waar je op kunt\nbesparen, keuzes te maken en een persoonlijk bespaarplan op te stellen.\n*   **Houd je uitgaven bij:** Noteer waar je geld naartoe gaat om inzicht te krijgen in je\nuitgavenpatroon. Dit kan met een kasboek of een app.\n*   **Bespaar op boodschappen:**\n    *   Maak een weekplanning en koop gericht in.\n    *   Bekijk folders voor aanbiedingen.\n    *   Doe geen boodschappen op een lege maag.\n    *   Kies huismerken.\n    *   Vermijd verspilling.\n*   **Wees creatief met aankopen:**\n    *   Denk bewust na over aankopen en slaap er een nachtje over.\n    *   Overweeg tweedehands of goedkopere alternatieven.\n    *   Maak gebruik van de bibliotheek.\n*   **Bespaar op energie:** Wees bewust van je water- en elektriciteitsverbruik.\n\nING heeft verschillende tools en functies in de app die je kunnen helpen bij het besparen van geld.\nZo kun je bijvoorbeeld budgetten instellen en je uitgaven categoriseren om inzicht te krijgen in\nwaar je geld naartoe gaat. Kijk eens in de ING app of op de ING website voor meer informatie over\ndeze mogelijkheden."
          },
          "metadata": {}
        }
      ]
    },
    {
      "cell_type": "code",
      "source": [],
      "metadata": {
        "id": "NYprjixZsFof"
      },
      "execution_count": null,
      "outputs": []
    }
  ]
}