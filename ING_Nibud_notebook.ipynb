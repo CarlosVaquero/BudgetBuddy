{
  "nbformat": 4,
  "nbformat_minor": 0,
  "metadata": {
    "colab": {
      "provenance": [],
      "include_colab_link": true
    },
    "kernelspec": {
      "name": "python3",
      "display_name": "Python 3"
    },
    "language_info": {
      "name": "python"
    }
  },
  "cells": [
    {
      "cell_type": "markdown",
      "metadata": {
        "id": "view-in-github",
        "colab_type": "text"
      },
      "source": [
        "<a href=\"https://colab.research.google.com/github/CarlosVaquero/BudgetBuddy/blob/main/ING_Nibud_notebook.ipynb\" target=\"_parent\"><img src=\"https://colab.research.google.com/assets/colab-badge.svg\" alt=\"Open In Colab\"/></a>"
      ]
    },
    {
      "cell_type": "code",
      "source": [
        "!git clone https://github.com/CarlosVaquero/BudgetBuddy/"
      ],
      "metadata": {
        "colab": {
          "base_uri": "https://localhost:8080/"
        },
        "id": "UQXHf5Z0tMQQ",
        "outputId": "da98f837-79b8-4d19-c36e-e32bb5a1ff48"
      },
      "execution_count": 1,
      "outputs": [
        {
          "output_type": "stream",
          "name": "stdout",
          "text": [
            "Cloning into 'BudgetBuddy'...\n",
            "remote: Enumerating objects: 939, done.\u001b[K\n",
            "remote: Counting objects: 100% (939/939), done.\u001b[K\n",
            "remote: Compressing objects: 100% (871/871), done.\u001b[K\n",
            "remote: Total 939 (delta 76), reused 919 (delta 65), pack-reused 0 (from 0)\u001b[K\n",
            "Receiving objects: 100% (939/939), 3.43 MiB | 10.23 MiB/s, done.\n",
            "Resolving deltas: 100% (76/76), done.\n"
          ]
        }
      ]
    },
    {
      "cell_type": "code",
      "source": [
        "!pip install langchain_community\n",
        "!pip install langchain-google-genai\n",
        "!pip install langchain-chroma\n",
        "!pip install faiss-cpu\n",
        "!pip install -U langgraph\n",
        "!pip install html2text"
      ],
      "metadata": {
        "colab": {
          "base_uri": "https://localhost:8080/"
        },
        "id": "g93rtQXft0er",
        "outputId": "fe5ea5e6-3c92-4b5d-ab20-d57e0556d98b",
        "collapsed": true
      },
      "execution_count": 1,
      "outputs": [
        {
          "output_type": "stream",
          "name": "stdout",
          "text": [
            "Requirement already satisfied: langchain_community in /usr/local/lib/python3.11/dist-packages (0.3.20)\n",
            "Requirement already satisfied: langchain-core<1.0.0,>=0.3.45 in /usr/local/lib/python3.11/dist-packages (from langchain_community) (0.3.49)\n",
            "Requirement already satisfied: langchain<1.0.0,>=0.3.21 in /usr/local/lib/python3.11/dist-packages (from langchain_community) (0.3.21)\n",
            "Requirement already satisfied: SQLAlchemy<3,>=1.4 in /usr/local/lib/python3.11/dist-packages (from langchain_community) (2.0.40)\n",
            "Requirement already satisfied: requests<3,>=2 in /usr/local/lib/python3.11/dist-packages (from langchain_community) (2.32.3)\n",
            "Requirement already satisfied: PyYAML>=5.3 in /usr/local/lib/python3.11/dist-packages (from langchain_community) (6.0.2)\n",
            "Requirement already satisfied: aiohttp<4.0.0,>=3.8.3 in /usr/local/lib/python3.11/dist-packages (from langchain_community) (3.11.14)\n",
            "Requirement already satisfied: tenacity!=8.4.0,<10,>=8.1.0 in /usr/local/lib/python3.11/dist-packages (from langchain_community) (9.0.0)\n",
            "Requirement already satisfied: dataclasses-json<0.7,>=0.5.7 in /usr/local/lib/python3.11/dist-packages (from langchain_community) (0.6.7)\n",
            "Requirement already satisfied: pydantic-settings<3.0.0,>=2.4.0 in /usr/local/lib/python3.11/dist-packages (from langchain_community) (2.8.1)\n",
            "Requirement already satisfied: langsmith<0.4,>=0.1.125 in /usr/local/lib/python3.11/dist-packages (from langchain_community) (0.3.19)\n",
            "Requirement already satisfied: httpx-sse<1.0.0,>=0.4.0 in /usr/local/lib/python3.11/dist-packages (from langchain_community) (0.4.0)\n",
            "Requirement already satisfied: numpy<3,>=1.26.2 in /usr/local/lib/python3.11/dist-packages (from langchain_community) (1.26.4)\n",
            "Requirement already satisfied: aiohappyeyeballs>=2.3.0 in /usr/local/lib/python3.11/dist-packages (from aiohttp<4.0.0,>=3.8.3->langchain_community) (2.6.1)\n",
            "Requirement already satisfied: aiosignal>=1.1.2 in /usr/local/lib/python3.11/dist-packages (from aiohttp<4.0.0,>=3.8.3->langchain_community) (1.3.2)\n",
            "Requirement already satisfied: attrs>=17.3.0 in /usr/local/lib/python3.11/dist-packages (from aiohttp<4.0.0,>=3.8.3->langchain_community) (25.3.0)\n",
            "Requirement already satisfied: frozenlist>=1.1.1 in /usr/local/lib/python3.11/dist-packages (from aiohttp<4.0.0,>=3.8.3->langchain_community) (1.5.0)\n",
            "Requirement already satisfied: multidict<7.0,>=4.5 in /usr/local/lib/python3.11/dist-packages (from aiohttp<4.0.0,>=3.8.3->langchain_community) (6.2.0)\n",
            "Requirement already satisfied: propcache>=0.2.0 in /usr/local/lib/python3.11/dist-packages (from aiohttp<4.0.0,>=3.8.3->langchain_community) (0.3.1)\n",
            "Requirement already satisfied: yarl<2.0,>=1.17.0 in /usr/local/lib/python3.11/dist-packages (from aiohttp<4.0.0,>=3.8.3->langchain_community) (1.18.3)\n",
            "Requirement already satisfied: marshmallow<4.0.0,>=3.18.0 in /usr/local/lib/python3.11/dist-packages (from dataclasses-json<0.7,>=0.5.7->langchain_community) (3.26.1)\n",
            "Requirement already satisfied: typing-inspect<1,>=0.4.0 in /usr/local/lib/python3.11/dist-packages (from dataclasses-json<0.7,>=0.5.7->langchain_community) (0.9.0)\n",
            "Requirement already satisfied: langchain-text-splitters<1.0.0,>=0.3.7 in /usr/local/lib/python3.11/dist-packages (from langchain<1.0.0,>=0.3.21->langchain_community) (0.3.7)\n",
            "Requirement already satisfied: pydantic<3.0.0,>=2.7.4 in /usr/local/lib/python3.11/dist-packages (from langchain<1.0.0,>=0.3.21->langchain_community) (2.11.0)\n",
            "Requirement already satisfied: jsonpatch<2.0,>=1.33 in /usr/local/lib/python3.11/dist-packages (from langchain-core<1.0.0,>=0.3.45->langchain_community) (1.33)\n",
            "Requirement already satisfied: packaging<25,>=23.2 in /usr/local/lib/python3.11/dist-packages (from langchain-core<1.0.0,>=0.3.45->langchain_community) (24.2)\n",
            "Requirement already satisfied: typing-extensions>=4.7 in /usr/local/lib/python3.11/dist-packages (from langchain-core<1.0.0,>=0.3.45->langchain_community) (4.13.0)\n",
            "Requirement already satisfied: httpx<1,>=0.23.0 in /usr/local/lib/python3.11/dist-packages (from langsmith<0.4,>=0.1.125->langchain_community) (0.28.1)\n",
            "Requirement already satisfied: orjson<4.0.0,>=3.9.14 in /usr/local/lib/python3.11/dist-packages (from langsmith<0.4,>=0.1.125->langchain_community) (3.10.16)\n",
            "Requirement already satisfied: requests-toolbelt<2.0.0,>=1.0.0 in /usr/local/lib/python3.11/dist-packages (from langsmith<0.4,>=0.1.125->langchain_community) (1.0.0)\n",
            "Requirement already satisfied: zstandard<0.24.0,>=0.23.0 in /usr/local/lib/python3.11/dist-packages (from langsmith<0.4,>=0.1.125->langchain_community) (0.23.0)\n",
            "Requirement already satisfied: python-dotenv>=0.21.0 in /usr/local/lib/python3.11/dist-packages (from pydantic-settings<3.0.0,>=2.4.0->langchain_community) (1.1.0)\n",
            "Requirement already satisfied: charset-normalizer<4,>=2 in /usr/local/lib/python3.11/dist-packages (from requests<3,>=2->langchain_community) (3.4.1)\n",
            "Requirement already satisfied: idna<4,>=2.5 in /usr/local/lib/python3.11/dist-packages (from requests<3,>=2->langchain_community) (3.10)\n",
            "Requirement already satisfied: urllib3<3,>=1.21.1 in /usr/local/lib/python3.11/dist-packages (from requests<3,>=2->langchain_community) (2.3.0)\n",
            "Requirement already satisfied: certifi>=2017.4.17 in /usr/local/lib/python3.11/dist-packages (from requests<3,>=2->langchain_community) (2025.1.31)\n",
            "Requirement already satisfied: greenlet>=1 in /usr/local/lib/python3.11/dist-packages (from SQLAlchemy<3,>=1.4->langchain_community) (3.1.1)\n",
            "Requirement already satisfied: anyio in /usr/local/lib/python3.11/dist-packages (from httpx<1,>=0.23.0->langsmith<0.4,>=0.1.125->langchain_community) (4.9.0)\n",
            "Requirement already satisfied: httpcore==1.* in /usr/local/lib/python3.11/dist-packages (from httpx<1,>=0.23.0->langsmith<0.4,>=0.1.125->langchain_community) (1.0.7)\n",
            "Requirement already satisfied: h11<0.15,>=0.13 in /usr/local/lib/python3.11/dist-packages (from httpcore==1.*->httpx<1,>=0.23.0->langsmith<0.4,>=0.1.125->langchain_community) (0.14.0)\n",
            "Requirement already satisfied: jsonpointer>=1.9 in /usr/local/lib/python3.11/dist-packages (from jsonpatch<2.0,>=1.33->langchain-core<1.0.0,>=0.3.45->langchain_community) (3.0.0)\n",
            "Requirement already satisfied: annotated-types>=0.6.0 in /usr/local/lib/python3.11/dist-packages (from pydantic<3.0.0,>=2.7.4->langchain<1.0.0,>=0.3.21->langchain_community) (0.7.0)\n",
            "Requirement already satisfied: pydantic-core==2.33.0 in /usr/local/lib/python3.11/dist-packages (from pydantic<3.0.0,>=2.7.4->langchain<1.0.0,>=0.3.21->langchain_community) (2.33.0)\n",
            "Requirement already satisfied: typing-inspection>=0.4.0 in /usr/local/lib/python3.11/dist-packages (from pydantic<3.0.0,>=2.7.4->langchain<1.0.0,>=0.3.21->langchain_community) (0.4.0)\n",
            "Requirement already satisfied: mypy-extensions>=0.3.0 in /usr/local/lib/python3.11/dist-packages (from typing-inspect<1,>=0.4.0->dataclasses-json<0.7,>=0.5.7->langchain_community) (1.0.0)\n",
            "Requirement already satisfied: sniffio>=1.1 in /usr/local/lib/python3.11/dist-packages (from anyio->httpx<1,>=0.23.0->langsmith<0.4,>=0.1.125->langchain_community) (1.3.1)\n",
            "Requirement already satisfied: langchain-google-genai in /usr/local/lib/python3.11/dist-packages (2.1.2)\n",
            "Requirement already satisfied: filetype<2.0.0,>=1.2.0 in /usr/local/lib/python3.11/dist-packages (from langchain-google-genai) (1.2.0)\n",
            "Requirement already satisfied: google-ai-generativelanguage<0.7.0,>=0.6.16 in /usr/local/lib/python3.11/dist-packages (from langchain-google-genai) (0.6.17)\n",
            "Requirement already satisfied: langchain-core<0.4.0,>=0.3.49 in /usr/local/lib/python3.11/dist-packages (from langchain-google-genai) (0.3.49)\n",
            "Requirement already satisfied: pydantic<3,>=2 in /usr/local/lib/python3.11/dist-packages (from langchain-google-genai) (2.11.0)\n",
            "Requirement already satisfied: google-api-core!=2.0.*,!=2.1.*,!=2.10.*,!=2.2.*,!=2.3.*,!=2.4.*,!=2.5.*,!=2.6.*,!=2.7.*,!=2.8.*,!=2.9.*,<3.0.0,>=1.34.1 in /usr/local/lib/python3.11/dist-packages (from google-api-core[grpc]!=2.0.*,!=2.1.*,!=2.10.*,!=2.2.*,!=2.3.*,!=2.4.*,!=2.5.*,!=2.6.*,!=2.7.*,!=2.8.*,!=2.9.*,<3.0.0,>=1.34.1->google-ai-generativelanguage<0.7.0,>=0.6.16->langchain-google-genai) (2.24.2)\n",
            "Requirement already satisfied: google-auth!=2.24.0,!=2.25.0,<3.0.0,>=2.14.1 in /usr/local/lib/python3.11/dist-packages (from google-ai-generativelanguage<0.7.0,>=0.6.16->langchain-google-genai) (2.38.0)\n",
            "Requirement already satisfied: proto-plus<2.0.0,>=1.22.3 in /usr/local/lib/python3.11/dist-packages (from google-ai-generativelanguage<0.7.0,>=0.6.16->langchain-google-genai) (1.26.1)\n",
            "Requirement already satisfied: protobuf!=4.21.0,!=4.21.1,!=4.21.2,!=4.21.3,!=4.21.4,!=4.21.5,<7.0.0,>=3.20.2 in /usr/local/lib/python3.11/dist-packages (from google-ai-generativelanguage<0.7.0,>=0.6.16->langchain-google-genai) (5.29.4)\n",
            "Requirement already satisfied: langsmith<0.4,>=0.1.125 in /usr/local/lib/python3.11/dist-packages (from langchain-core<0.4.0,>=0.3.49->langchain-google-genai) (0.3.19)\n",
            "Requirement already satisfied: tenacity!=8.4.0,<10.0.0,>=8.1.0 in /usr/local/lib/python3.11/dist-packages (from langchain-core<0.4.0,>=0.3.49->langchain-google-genai) (9.0.0)\n",
            "Requirement already satisfied: jsonpatch<2.0,>=1.33 in /usr/local/lib/python3.11/dist-packages (from langchain-core<0.4.0,>=0.3.49->langchain-google-genai) (1.33)\n",
            "Requirement already satisfied: PyYAML>=5.3 in /usr/local/lib/python3.11/dist-packages (from langchain-core<0.4.0,>=0.3.49->langchain-google-genai) (6.0.2)\n",
            "Requirement already satisfied: packaging<25,>=23.2 in /usr/local/lib/python3.11/dist-packages (from langchain-core<0.4.0,>=0.3.49->langchain-google-genai) (24.2)\n",
            "Requirement already satisfied: typing-extensions>=4.7 in /usr/local/lib/python3.11/dist-packages (from langchain-core<0.4.0,>=0.3.49->langchain-google-genai) (4.13.0)\n",
            "Requirement already satisfied: annotated-types>=0.6.0 in /usr/local/lib/python3.11/dist-packages (from pydantic<3,>=2->langchain-google-genai) (0.7.0)\n",
            "Requirement already satisfied: pydantic-core==2.33.0 in /usr/local/lib/python3.11/dist-packages (from pydantic<3,>=2->langchain-google-genai) (2.33.0)\n",
            "Requirement already satisfied: typing-inspection>=0.4.0 in /usr/local/lib/python3.11/dist-packages (from pydantic<3,>=2->langchain-google-genai) (0.4.0)\n",
            "Requirement already satisfied: googleapis-common-protos<2.0.0,>=1.56.2 in /usr/local/lib/python3.11/dist-packages (from google-api-core!=2.0.*,!=2.1.*,!=2.10.*,!=2.2.*,!=2.3.*,!=2.4.*,!=2.5.*,!=2.6.*,!=2.7.*,!=2.8.*,!=2.9.*,<3.0.0,>=1.34.1->google-api-core[grpc]!=2.0.*,!=2.1.*,!=2.10.*,!=2.2.*,!=2.3.*,!=2.4.*,!=2.5.*,!=2.6.*,!=2.7.*,!=2.8.*,!=2.9.*,<3.0.0,>=1.34.1->google-ai-generativelanguage<0.7.0,>=0.6.16->langchain-google-genai) (1.69.2)\n",
            "Requirement already satisfied: requests<3.0.0,>=2.18.0 in /usr/local/lib/python3.11/dist-packages (from google-api-core!=2.0.*,!=2.1.*,!=2.10.*,!=2.2.*,!=2.3.*,!=2.4.*,!=2.5.*,!=2.6.*,!=2.7.*,!=2.8.*,!=2.9.*,<3.0.0,>=1.34.1->google-api-core[grpc]!=2.0.*,!=2.1.*,!=2.10.*,!=2.2.*,!=2.3.*,!=2.4.*,!=2.5.*,!=2.6.*,!=2.7.*,!=2.8.*,!=2.9.*,<3.0.0,>=1.34.1->google-ai-generativelanguage<0.7.0,>=0.6.16->langchain-google-genai) (2.32.3)\n",
            "Requirement already satisfied: grpcio<2.0dev,>=1.33.2 in /usr/local/lib/python3.11/dist-packages (from google-api-core[grpc]!=2.0.*,!=2.1.*,!=2.10.*,!=2.2.*,!=2.3.*,!=2.4.*,!=2.5.*,!=2.6.*,!=2.7.*,!=2.8.*,!=2.9.*,<3.0.0,>=1.34.1->google-ai-generativelanguage<0.7.0,>=0.6.16->langchain-google-genai) (1.71.0)\n",
            "Requirement already satisfied: grpcio-status<2.0.dev0,>=1.33.2 in /usr/local/lib/python3.11/dist-packages (from google-api-core[grpc]!=2.0.*,!=2.1.*,!=2.10.*,!=2.2.*,!=2.3.*,!=2.4.*,!=2.5.*,!=2.6.*,!=2.7.*,!=2.8.*,!=2.9.*,<3.0.0,>=1.34.1->google-ai-generativelanguage<0.7.0,>=0.6.16->langchain-google-genai) (1.71.0)\n",
            "Requirement already satisfied: cachetools<6.0,>=2.0.0 in /usr/local/lib/python3.11/dist-packages (from google-auth!=2.24.0,!=2.25.0,<3.0.0,>=2.14.1->google-ai-generativelanguage<0.7.0,>=0.6.16->langchain-google-genai) (5.5.2)\n",
            "Requirement already satisfied: pyasn1-modules>=0.2.1 in /usr/local/lib/python3.11/dist-packages (from google-auth!=2.24.0,!=2.25.0,<3.0.0,>=2.14.1->google-ai-generativelanguage<0.7.0,>=0.6.16->langchain-google-genai) (0.4.2)\n",
            "Requirement already satisfied: rsa<5,>=3.1.4 in /usr/local/lib/python3.11/dist-packages (from google-auth!=2.24.0,!=2.25.0,<3.0.0,>=2.14.1->google-ai-generativelanguage<0.7.0,>=0.6.16->langchain-google-genai) (4.9)\n",
            "Requirement already satisfied: jsonpointer>=1.9 in /usr/local/lib/python3.11/dist-packages (from jsonpatch<2.0,>=1.33->langchain-core<0.4.0,>=0.3.49->langchain-google-genai) (3.0.0)\n",
            "Requirement already satisfied: httpx<1,>=0.23.0 in /usr/local/lib/python3.11/dist-packages (from langsmith<0.4,>=0.1.125->langchain-core<0.4.0,>=0.3.49->langchain-google-genai) (0.28.1)\n",
            "Requirement already satisfied: orjson<4.0.0,>=3.9.14 in /usr/local/lib/python3.11/dist-packages (from langsmith<0.4,>=0.1.125->langchain-core<0.4.0,>=0.3.49->langchain-google-genai) (3.10.16)\n",
            "Requirement already satisfied: requests-toolbelt<2.0.0,>=1.0.0 in /usr/local/lib/python3.11/dist-packages (from langsmith<0.4,>=0.1.125->langchain-core<0.4.0,>=0.3.49->langchain-google-genai) (1.0.0)\n",
            "Requirement already satisfied: zstandard<0.24.0,>=0.23.0 in /usr/local/lib/python3.11/dist-packages (from langsmith<0.4,>=0.1.125->langchain-core<0.4.0,>=0.3.49->langchain-google-genai) (0.23.0)\n",
            "Requirement already satisfied: anyio in /usr/local/lib/python3.11/dist-packages (from httpx<1,>=0.23.0->langsmith<0.4,>=0.1.125->langchain-core<0.4.0,>=0.3.49->langchain-google-genai) (4.9.0)\n",
            "Requirement already satisfied: certifi in /usr/local/lib/python3.11/dist-packages (from httpx<1,>=0.23.0->langsmith<0.4,>=0.1.125->langchain-core<0.4.0,>=0.3.49->langchain-google-genai) (2025.1.31)\n",
            "Requirement already satisfied: httpcore==1.* in /usr/local/lib/python3.11/dist-packages (from httpx<1,>=0.23.0->langsmith<0.4,>=0.1.125->langchain-core<0.4.0,>=0.3.49->langchain-google-genai) (1.0.7)\n",
            "Requirement already satisfied: idna in /usr/local/lib/python3.11/dist-packages (from httpx<1,>=0.23.0->langsmith<0.4,>=0.1.125->langchain-core<0.4.0,>=0.3.49->langchain-google-genai) (3.10)\n",
            "Requirement already satisfied: h11<0.15,>=0.13 in /usr/local/lib/python3.11/dist-packages (from httpcore==1.*->httpx<1,>=0.23.0->langsmith<0.4,>=0.1.125->langchain-core<0.4.0,>=0.3.49->langchain-google-genai) (0.14.0)\n",
            "Requirement already satisfied: pyasn1<0.7.0,>=0.6.1 in /usr/local/lib/python3.11/dist-packages (from pyasn1-modules>=0.2.1->google-auth!=2.24.0,!=2.25.0,<3.0.0,>=2.14.1->google-ai-generativelanguage<0.7.0,>=0.6.16->langchain-google-genai) (0.6.1)\n",
            "Requirement already satisfied: charset-normalizer<4,>=2 in /usr/local/lib/python3.11/dist-packages (from requests<3.0.0,>=2.18.0->google-api-core!=2.0.*,!=2.1.*,!=2.10.*,!=2.2.*,!=2.3.*,!=2.4.*,!=2.5.*,!=2.6.*,!=2.7.*,!=2.8.*,!=2.9.*,<3.0.0,>=1.34.1->google-api-core[grpc]!=2.0.*,!=2.1.*,!=2.10.*,!=2.2.*,!=2.3.*,!=2.4.*,!=2.5.*,!=2.6.*,!=2.7.*,!=2.8.*,!=2.9.*,<3.0.0,>=1.34.1->google-ai-generativelanguage<0.7.0,>=0.6.16->langchain-google-genai) (3.4.1)\n",
            "Requirement already satisfied: urllib3<3,>=1.21.1 in /usr/local/lib/python3.11/dist-packages (from requests<3.0.0,>=2.18.0->google-api-core!=2.0.*,!=2.1.*,!=2.10.*,!=2.2.*,!=2.3.*,!=2.4.*,!=2.5.*,!=2.6.*,!=2.7.*,!=2.8.*,!=2.9.*,<3.0.0,>=1.34.1->google-api-core[grpc]!=2.0.*,!=2.1.*,!=2.10.*,!=2.2.*,!=2.3.*,!=2.4.*,!=2.5.*,!=2.6.*,!=2.7.*,!=2.8.*,!=2.9.*,<3.0.0,>=1.34.1->google-ai-generativelanguage<0.7.0,>=0.6.16->langchain-google-genai) (2.3.0)\n",
            "Requirement already satisfied: sniffio>=1.1 in /usr/local/lib/python3.11/dist-packages (from anyio->httpx<1,>=0.23.0->langsmith<0.4,>=0.1.125->langchain-core<0.4.0,>=0.3.49->langchain-google-genai) (1.3.1)\n",
            "Requirement already satisfied: langchain-chroma in /usr/local/lib/python3.11/dist-packages (0.2.2)\n",
            "Requirement already satisfied: langchain-core!=0.3.0,!=0.3.1,!=0.3.10,!=0.3.11,!=0.3.12,!=0.3.13,!=0.3.14,!=0.3.2,!=0.3.3,!=0.3.4,!=0.3.5,!=0.3.6,!=0.3.7,!=0.3.8,!=0.3.9,<0.4.0,>=0.2.43 in /usr/local/lib/python3.11/dist-packages (from langchain-chroma) (0.3.49)\n",
            "Requirement already satisfied: numpy<2.0.0,>=1.22.4 in /usr/local/lib/python3.11/dist-packages (from langchain-chroma) (1.26.4)\n",
            "Requirement already satisfied: chromadb!=0.5.10,!=0.5.11,!=0.5.12,!=0.5.4,!=0.5.5,!=0.5.7,!=0.5.9,<0.7.0,>=0.4.0 in /usr/local/lib/python3.11/dist-packages (from langchain-chroma) (0.6.3)\n",
            "Requirement already satisfied: build>=1.0.3 in /usr/local/lib/python3.11/dist-packages (from chromadb!=0.5.10,!=0.5.11,!=0.5.12,!=0.5.4,!=0.5.5,!=0.5.7,!=0.5.9,<0.7.0,>=0.4.0->langchain-chroma) (1.2.2.post1)\n",
            "Requirement already satisfied: pydantic>=1.9 in /usr/local/lib/python3.11/dist-packages (from chromadb!=0.5.10,!=0.5.11,!=0.5.12,!=0.5.4,!=0.5.5,!=0.5.7,!=0.5.9,<0.7.0,>=0.4.0->langchain-chroma) (2.11.0)\n",
            "Requirement already satisfied: chroma-hnswlib==0.7.6 in /usr/local/lib/python3.11/dist-packages (from chromadb!=0.5.10,!=0.5.11,!=0.5.12,!=0.5.4,!=0.5.5,!=0.5.7,!=0.5.9,<0.7.0,>=0.4.0->langchain-chroma) (0.7.6)\n",
            "Requirement already satisfied: fastapi>=0.95.2 in /usr/local/lib/python3.11/dist-packages (from chromadb!=0.5.10,!=0.5.11,!=0.5.12,!=0.5.4,!=0.5.5,!=0.5.7,!=0.5.9,<0.7.0,>=0.4.0->langchain-chroma) (0.115.12)\n",
            "Requirement already satisfied: uvicorn>=0.18.3 in /usr/local/lib/python3.11/dist-packages (from uvicorn[standard]>=0.18.3->chromadb!=0.5.10,!=0.5.11,!=0.5.12,!=0.5.4,!=0.5.5,!=0.5.7,!=0.5.9,<0.7.0,>=0.4.0->langchain-chroma) (0.34.0)\n",
            "Requirement already satisfied: posthog>=2.4.0 in /usr/local/lib/python3.11/dist-packages (from chromadb!=0.5.10,!=0.5.11,!=0.5.12,!=0.5.4,!=0.5.5,!=0.5.7,!=0.5.9,<0.7.0,>=0.4.0->langchain-chroma) (3.23.0)\n",
            "Requirement already satisfied: typing_extensions>=4.5.0 in /usr/local/lib/python3.11/dist-packages (from chromadb!=0.5.10,!=0.5.11,!=0.5.12,!=0.5.4,!=0.5.5,!=0.5.7,!=0.5.9,<0.7.0,>=0.4.0->langchain-chroma) (4.13.0)\n",
            "Requirement already satisfied: onnxruntime>=1.14.1 in /usr/local/lib/python3.11/dist-packages (from chromadb!=0.5.10,!=0.5.11,!=0.5.12,!=0.5.4,!=0.5.5,!=0.5.7,!=0.5.9,<0.7.0,>=0.4.0->langchain-chroma) (1.21.0)\n",
            "Requirement already satisfied: opentelemetry-api>=1.2.0 in /usr/local/lib/python3.11/dist-packages (from chromadb!=0.5.10,!=0.5.11,!=0.5.12,!=0.5.4,!=0.5.5,!=0.5.7,!=0.5.9,<0.7.0,>=0.4.0->langchain-chroma) (1.31.1)\n",
            "Requirement already satisfied: opentelemetry-exporter-otlp-proto-grpc>=1.2.0 in /usr/local/lib/python3.11/dist-packages (from chromadb!=0.5.10,!=0.5.11,!=0.5.12,!=0.5.4,!=0.5.5,!=0.5.7,!=0.5.9,<0.7.0,>=0.4.0->langchain-chroma) (1.31.1)\n",
            "Requirement already satisfied: opentelemetry-instrumentation-fastapi>=0.41b0 in /usr/local/lib/python3.11/dist-packages (from chromadb!=0.5.10,!=0.5.11,!=0.5.12,!=0.5.4,!=0.5.5,!=0.5.7,!=0.5.9,<0.7.0,>=0.4.0->langchain-chroma) (0.52b1)\n",
            "Requirement already satisfied: opentelemetry-sdk>=1.2.0 in /usr/local/lib/python3.11/dist-packages (from chromadb!=0.5.10,!=0.5.11,!=0.5.12,!=0.5.4,!=0.5.5,!=0.5.7,!=0.5.9,<0.7.0,>=0.4.0->langchain-chroma) (1.31.1)\n",
            "Requirement already satisfied: tokenizers>=0.13.2 in /usr/local/lib/python3.11/dist-packages (from chromadb!=0.5.10,!=0.5.11,!=0.5.12,!=0.5.4,!=0.5.5,!=0.5.7,!=0.5.9,<0.7.0,>=0.4.0->langchain-chroma) (0.21.1)\n",
            "Requirement already satisfied: pypika>=0.48.9 in /usr/local/lib/python3.11/dist-packages (from chromadb!=0.5.10,!=0.5.11,!=0.5.12,!=0.5.4,!=0.5.5,!=0.5.7,!=0.5.9,<0.7.0,>=0.4.0->langchain-chroma) (0.48.9)\n",
            "Requirement already satisfied: tqdm>=4.65.0 in /usr/local/lib/python3.11/dist-packages (from chromadb!=0.5.10,!=0.5.11,!=0.5.12,!=0.5.4,!=0.5.5,!=0.5.7,!=0.5.9,<0.7.0,>=0.4.0->langchain-chroma) (4.67.1)\n",
            "Requirement already satisfied: overrides>=7.3.1 in /usr/local/lib/python3.11/dist-packages (from chromadb!=0.5.10,!=0.5.11,!=0.5.12,!=0.5.4,!=0.5.5,!=0.5.7,!=0.5.9,<0.7.0,>=0.4.0->langchain-chroma) (7.7.0)\n",
            "Requirement already satisfied: importlib-resources in /usr/local/lib/python3.11/dist-packages (from chromadb!=0.5.10,!=0.5.11,!=0.5.12,!=0.5.4,!=0.5.5,!=0.5.7,!=0.5.9,<0.7.0,>=0.4.0->langchain-chroma) (6.5.2)\n",
            "Requirement already satisfied: grpcio>=1.58.0 in /usr/local/lib/python3.11/dist-packages (from chromadb!=0.5.10,!=0.5.11,!=0.5.12,!=0.5.4,!=0.5.5,!=0.5.7,!=0.5.9,<0.7.0,>=0.4.0->langchain-chroma) (1.71.0)\n",
            "Requirement already satisfied: bcrypt>=4.0.1 in /usr/local/lib/python3.11/dist-packages (from chromadb!=0.5.10,!=0.5.11,!=0.5.12,!=0.5.4,!=0.5.5,!=0.5.7,!=0.5.9,<0.7.0,>=0.4.0->langchain-chroma) (4.3.0)\n",
            "Requirement already satisfied: typer>=0.9.0 in /usr/local/lib/python3.11/dist-packages (from chromadb!=0.5.10,!=0.5.11,!=0.5.12,!=0.5.4,!=0.5.5,!=0.5.7,!=0.5.9,<0.7.0,>=0.4.0->langchain-chroma) (0.15.2)\n",
            "Requirement already satisfied: kubernetes>=28.1.0 in /usr/local/lib/python3.11/dist-packages (from chromadb!=0.5.10,!=0.5.11,!=0.5.12,!=0.5.4,!=0.5.5,!=0.5.7,!=0.5.9,<0.7.0,>=0.4.0->langchain-chroma) (32.0.1)\n",
            "Requirement already satisfied: tenacity>=8.2.3 in /usr/local/lib/python3.11/dist-packages (from chromadb!=0.5.10,!=0.5.11,!=0.5.12,!=0.5.4,!=0.5.5,!=0.5.7,!=0.5.9,<0.7.0,>=0.4.0->langchain-chroma) (9.0.0)\n",
            "Requirement already satisfied: PyYAML>=6.0.0 in /usr/local/lib/python3.11/dist-packages (from chromadb!=0.5.10,!=0.5.11,!=0.5.12,!=0.5.4,!=0.5.5,!=0.5.7,!=0.5.9,<0.7.0,>=0.4.0->langchain-chroma) (6.0.2)\n",
            "Requirement already satisfied: mmh3>=4.0.1 in /usr/local/lib/python3.11/dist-packages (from chromadb!=0.5.10,!=0.5.11,!=0.5.12,!=0.5.4,!=0.5.5,!=0.5.7,!=0.5.9,<0.7.0,>=0.4.0->langchain-chroma) (5.1.0)\n",
            "Requirement already satisfied: orjson>=3.9.12 in /usr/local/lib/python3.11/dist-packages (from chromadb!=0.5.10,!=0.5.11,!=0.5.12,!=0.5.4,!=0.5.5,!=0.5.7,!=0.5.9,<0.7.0,>=0.4.0->langchain-chroma) (3.10.16)\n",
            "Requirement already satisfied: httpx>=0.27.0 in /usr/local/lib/python3.11/dist-packages (from chromadb!=0.5.10,!=0.5.11,!=0.5.12,!=0.5.4,!=0.5.5,!=0.5.7,!=0.5.9,<0.7.0,>=0.4.0->langchain-chroma) (0.28.1)\n",
            "Requirement already satisfied: rich>=10.11.0 in /usr/local/lib/python3.11/dist-packages (from chromadb!=0.5.10,!=0.5.11,!=0.5.12,!=0.5.4,!=0.5.5,!=0.5.7,!=0.5.9,<0.7.0,>=0.4.0->langchain-chroma) (13.9.4)\n",
            "Requirement already satisfied: langsmith<0.4,>=0.1.125 in /usr/local/lib/python3.11/dist-packages (from langchain-core!=0.3.0,!=0.3.1,!=0.3.10,!=0.3.11,!=0.3.12,!=0.3.13,!=0.3.14,!=0.3.2,!=0.3.3,!=0.3.4,!=0.3.5,!=0.3.6,!=0.3.7,!=0.3.8,!=0.3.9,<0.4.0,>=0.2.43->langchain-chroma) (0.3.19)\n",
            "Requirement already satisfied: jsonpatch<2.0,>=1.33 in /usr/local/lib/python3.11/dist-packages (from langchain-core!=0.3.0,!=0.3.1,!=0.3.10,!=0.3.11,!=0.3.12,!=0.3.13,!=0.3.14,!=0.3.2,!=0.3.3,!=0.3.4,!=0.3.5,!=0.3.6,!=0.3.7,!=0.3.8,!=0.3.9,<0.4.0,>=0.2.43->langchain-chroma) (1.33)\n",
            "Requirement already satisfied: packaging<25,>=23.2 in /usr/local/lib/python3.11/dist-packages (from langchain-core!=0.3.0,!=0.3.1,!=0.3.10,!=0.3.11,!=0.3.12,!=0.3.13,!=0.3.14,!=0.3.2,!=0.3.3,!=0.3.4,!=0.3.5,!=0.3.6,!=0.3.7,!=0.3.8,!=0.3.9,<0.4.0,>=0.2.43->langchain-chroma) (24.2)\n",
            "Requirement already satisfied: pyproject_hooks in /usr/local/lib/python3.11/dist-packages (from build>=1.0.3->chromadb!=0.5.10,!=0.5.11,!=0.5.12,!=0.5.4,!=0.5.5,!=0.5.7,!=0.5.9,<0.7.0,>=0.4.0->langchain-chroma) (1.2.0)\n",
            "Requirement already satisfied: starlette<0.47.0,>=0.40.0 in /usr/local/lib/python3.11/dist-packages (from fastapi>=0.95.2->chromadb!=0.5.10,!=0.5.11,!=0.5.12,!=0.5.4,!=0.5.5,!=0.5.7,!=0.5.9,<0.7.0,>=0.4.0->langchain-chroma) (0.46.1)\n",
            "Requirement already satisfied: anyio in /usr/local/lib/python3.11/dist-packages (from httpx>=0.27.0->chromadb!=0.5.10,!=0.5.11,!=0.5.12,!=0.5.4,!=0.5.5,!=0.5.7,!=0.5.9,<0.7.0,>=0.4.0->langchain-chroma) (4.9.0)\n",
            "Requirement already satisfied: certifi in /usr/local/lib/python3.11/dist-packages (from httpx>=0.27.0->chromadb!=0.5.10,!=0.5.11,!=0.5.12,!=0.5.4,!=0.5.5,!=0.5.7,!=0.5.9,<0.7.0,>=0.4.0->langchain-chroma) (2025.1.31)\n",
            "Requirement already satisfied: httpcore==1.* in /usr/local/lib/python3.11/dist-packages (from httpx>=0.27.0->chromadb!=0.5.10,!=0.5.11,!=0.5.12,!=0.5.4,!=0.5.5,!=0.5.7,!=0.5.9,<0.7.0,>=0.4.0->langchain-chroma) (1.0.7)\n",
            "Requirement already satisfied: idna in /usr/local/lib/python3.11/dist-packages (from httpx>=0.27.0->chromadb!=0.5.10,!=0.5.11,!=0.5.12,!=0.5.4,!=0.5.5,!=0.5.7,!=0.5.9,<0.7.0,>=0.4.0->langchain-chroma) (3.10)\n",
            "Requirement already satisfied: h11<0.15,>=0.13 in /usr/local/lib/python3.11/dist-packages (from httpcore==1.*->httpx>=0.27.0->chromadb!=0.5.10,!=0.5.11,!=0.5.12,!=0.5.4,!=0.5.5,!=0.5.7,!=0.5.9,<0.7.0,>=0.4.0->langchain-chroma) (0.14.0)\n",
            "Requirement already satisfied: jsonpointer>=1.9 in /usr/local/lib/python3.11/dist-packages (from jsonpatch<2.0,>=1.33->langchain-core!=0.3.0,!=0.3.1,!=0.3.10,!=0.3.11,!=0.3.12,!=0.3.13,!=0.3.14,!=0.3.2,!=0.3.3,!=0.3.4,!=0.3.5,!=0.3.6,!=0.3.7,!=0.3.8,!=0.3.9,<0.4.0,>=0.2.43->langchain-chroma) (3.0.0)\n",
            "Requirement already satisfied: six>=1.9.0 in /usr/local/lib/python3.11/dist-packages (from kubernetes>=28.1.0->chromadb!=0.5.10,!=0.5.11,!=0.5.12,!=0.5.4,!=0.5.5,!=0.5.7,!=0.5.9,<0.7.0,>=0.4.0->langchain-chroma) (1.17.0)\n",
            "Requirement already satisfied: python-dateutil>=2.5.3 in /usr/local/lib/python3.11/dist-packages (from kubernetes>=28.1.0->chromadb!=0.5.10,!=0.5.11,!=0.5.12,!=0.5.4,!=0.5.5,!=0.5.7,!=0.5.9,<0.7.0,>=0.4.0->langchain-chroma) (2.8.2)\n",
            "Requirement already satisfied: google-auth>=1.0.1 in /usr/local/lib/python3.11/dist-packages (from kubernetes>=28.1.0->chromadb!=0.5.10,!=0.5.11,!=0.5.12,!=0.5.4,!=0.5.5,!=0.5.7,!=0.5.9,<0.7.0,>=0.4.0->langchain-chroma) (2.38.0)\n",
            "Requirement already satisfied: websocket-client!=0.40.0,!=0.41.*,!=0.42.*,>=0.32.0 in /usr/local/lib/python3.11/dist-packages (from kubernetes>=28.1.0->chromadb!=0.5.10,!=0.5.11,!=0.5.12,!=0.5.4,!=0.5.5,!=0.5.7,!=0.5.9,<0.7.0,>=0.4.0->langchain-chroma) (1.8.0)\n",
            "Requirement already satisfied: requests in /usr/local/lib/python3.11/dist-packages (from kubernetes>=28.1.0->chromadb!=0.5.10,!=0.5.11,!=0.5.12,!=0.5.4,!=0.5.5,!=0.5.7,!=0.5.9,<0.7.0,>=0.4.0->langchain-chroma) (2.32.3)\n",
            "Requirement already satisfied: requests-oauthlib in /usr/local/lib/python3.11/dist-packages (from kubernetes>=28.1.0->chromadb!=0.5.10,!=0.5.11,!=0.5.12,!=0.5.4,!=0.5.5,!=0.5.7,!=0.5.9,<0.7.0,>=0.4.0->langchain-chroma) (2.0.0)\n",
            "Requirement already satisfied: oauthlib>=3.2.2 in /usr/local/lib/python3.11/dist-packages (from kubernetes>=28.1.0->chromadb!=0.5.10,!=0.5.11,!=0.5.12,!=0.5.4,!=0.5.5,!=0.5.7,!=0.5.9,<0.7.0,>=0.4.0->langchain-chroma) (3.2.2)\n",
            "Requirement already satisfied: urllib3>=1.24.2 in /usr/local/lib/python3.11/dist-packages (from kubernetes>=28.1.0->chromadb!=0.5.10,!=0.5.11,!=0.5.12,!=0.5.4,!=0.5.5,!=0.5.7,!=0.5.9,<0.7.0,>=0.4.0->langchain-chroma) (2.3.0)\n",
            "Requirement already satisfied: durationpy>=0.7 in /usr/local/lib/python3.11/dist-packages (from kubernetes>=28.1.0->chromadb!=0.5.10,!=0.5.11,!=0.5.12,!=0.5.4,!=0.5.5,!=0.5.7,!=0.5.9,<0.7.0,>=0.4.0->langchain-chroma) (0.9)\n",
            "Requirement already satisfied: requests-toolbelt<2.0.0,>=1.0.0 in /usr/local/lib/python3.11/dist-packages (from langsmith<0.4,>=0.1.125->langchain-core!=0.3.0,!=0.3.1,!=0.3.10,!=0.3.11,!=0.3.12,!=0.3.13,!=0.3.14,!=0.3.2,!=0.3.3,!=0.3.4,!=0.3.5,!=0.3.6,!=0.3.7,!=0.3.8,!=0.3.9,<0.4.0,>=0.2.43->langchain-chroma) (1.0.0)\n",
            "Requirement already satisfied: zstandard<0.24.0,>=0.23.0 in /usr/local/lib/python3.11/dist-packages (from langsmith<0.4,>=0.1.125->langchain-core!=0.3.0,!=0.3.1,!=0.3.10,!=0.3.11,!=0.3.12,!=0.3.13,!=0.3.14,!=0.3.2,!=0.3.3,!=0.3.4,!=0.3.5,!=0.3.6,!=0.3.7,!=0.3.8,!=0.3.9,<0.4.0,>=0.2.43->langchain-chroma) (0.23.0)\n",
            "Requirement already satisfied: coloredlogs in /usr/local/lib/python3.11/dist-packages (from onnxruntime>=1.14.1->chromadb!=0.5.10,!=0.5.11,!=0.5.12,!=0.5.4,!=0.5.5,!=0.5.7,!=0.5.9,<0.7.0,>=0.4.0->langchain-chroma) (15.0.1)\n",
            "Requirement already satisfied: flatbuffers in /usr/local/lib/python3.11/dist-packages (from onnxruntime>=1.14.1->chromadb!=0.5.10,!=0.5.11,!=0.5.12,!=0.5.4,!=0.5.5,!=0.5.7,!=0.5.9,<0.7.0,>=0.4.0->langchain-chroma) (25.2.10)\n",
            "Requirement already satisfied: protobuf in /usr/local/lib/python3.11/dist-packages (from onnxruntime>=1.14.1->chromadb!=0.5.10,!=0.5.11,!=0.5.12,!=0.5.4,!=0.5.5,!=0.5.7,!=0.5.9,<0.7.0,>=0.4.0->langchain-chroma) (5.29.4)\n",
            "Requirement already satisfied: sympy in /usr/local/lib/python3.11/dist-packages (from onnxruntime>=1.14.1->chromadb!=0.5.10,!=0.5.11,!=0.5.12,!=0.5.4,!=0.5.5,!=0.5.7,!=0.5.9,<0.7.0,>=0.4.0->langchain-chroma) (1.13.1)\n",
            "Requirement already satisfied: deprecated>=1.2.6 in /usr/local/lib/python3.11/dist-packages (from opentelemetry-api>=1.2.0->chromadb!=0.5.10,!=0.5.11,!=0.5.12,!=0.5.4,!=0.5.5,!=0.5.7,!=0.5.9,<0.7.0,>=0.4.0->langchain-chroma) (1.2.18)\n",
            "Requirement already satisfied: importlib-metadata<8.7.0,>=6.0 in /usr/local/lib/python3.11/dist-packages (from opentelemetry-api>=1.2.0->chromadb!=0.5.10,!=0.5.11,!=0.5.12,!=0.5.4,!=0.5.5,!=0.5.7,!=0.5.9,<0.7.0,>=0.4.0->langchain-chroma) (8.6.1)\n",
            "Requirement already satisfied: googleapis-common-protos~=1.52 in /usr/local/lib/python3.11/dist-packages (from opentelemetry-exporter-otlp-proto-grpc>=1.2.0->chromadb!=0.5.10,!=0.5.11,!=0.5.12,!=0.5.4,!=0.5.5,!=0.5.7,!=0.5.9,<0.7.0,>=0.4.0->langchain-chroma) (1.69.2)\n",
            "Requirement already satisfied: opentelemetry-exporter-otlp-proto-common==1.31.1 in /usr/local/lib/python3.11/dist-packages (from opentelemetry-exporter-otlp-proto-grpc>=1.2.0->chromadb!=0.5.10,!=0.5.11,!=0.5.12,!=0.5.4,!=0.5.5,!=0.5.7,!=0.5.9,<0.7.0,>=0.4.0->langchain-chroma) (1.31.1)\n",
            "Requirement already satisfied: opentelemetry-proto==1.31.1 in /usr/local/lib/python3.11/dist-packages (from opentelemetry-exporter-otlp-proto-grpc>=1.2.0->chromadb!=0.5.10,!=0.5.11,!=0.5.12,!=0.5.4,!=0.5.5,!=0.5.7,!=0.5.9,<0.7.0,>=0.4.0->langchain-chroma) (1.31.1)\n",
            "Requirement already satisfied: opentelemetry-instrumentation-asgi==0.52b1 in /usr/local/lib/python3.11/dist-packages (from opentelemetry-instrumentation-fastapi>=0.41b0->chromadb!=0.5.10,!=0.5.11,!=0.5.12,!=0.5.4,!=0.5.5,!=0.5.7,!=0.5.9,<0.7.0,>=0.4.0->langchain-chroma) (0.52b1)\n",
            "Requirement already satisfied: opentelemetry-instrumentation==0.52b1 in /usr/local/lib/python3.11/dist-packages (from opentelemetry-instrumentation-fastapi>=0.41b0->chromadb!=0.5.10,!=0.5.11,!=0.5.12,!=0.5.4,!=0.5.5,!=0.5.7,!=0.5.9,<0.7.0,>=0.4.0->langchain-chroma) (0.52b1)\n",
            "Requirement already satisfied: opentelemetry-semantic-conventions==0.52b1 in /usr/local/lib/python3.11/dist-packages (from opentelemetry-instrumentation-fastapi>=0.41b0->chromadb!=0.5.10,!=0.5.11,!=0.5.12,!=0.5.4,!=0.5.5,!=0.5.7,!=0.5.9,<0.7.0,>=0.4.0->langchain-chroma) (0.52b1)\n",
            "Requirement already satisfied: opentelemetry-util-http==0.52b1 in /usr/local/lib/python3.11/dist-packages (from opentelemetry-instrumentation-fastapi>=0.41b0->chromadb!=0.5.10,!=0.5.11,!=0.5.12,!=0.5.4,!=0.5.5,!=0.5.7,!=0.5.9,<0.7.0,>=0.4.0->langchain-chroma) (0.52b1)\n",
            "Requirement already satisfied: wrapt<2.0.0,>=1.0.0 in /usr/local/lib/python3.11/dist-packages (from opentelemetry-instrumentation==0.52b1->opentelemetry-instrumentation-fastapi>=0.41b0->chromadb!=0.5.10,!=0.5.11,!=0.5.12,!=0.5.4,!=0.5.5,!=0.5.7,!=0.5.9,<0.7.0,>=0.4.0->langchain-chroma) (1.17.2)\n",
            "Requirement already satisfied: asgiref~=3.0 in /usr/local/lib/python3.11/dist-packages (from opentelemetry-instrumentation-asgi==0.52b1->opentelemetry-instrumentation-fastapi>=0.41b0->chromadb!=0.5.10,!=0.5.11,!=0.5.12,!=0.5.4,!=0.5.5,!=0.5.7,!=0.5.9,<0.7.0,>=0.4.0->langchain-chroma) (3.8.1)\n",
            "Requirement already satisfied: monotonic>=1.5 in /usr/local/lib/python3.11/dist-packages (from posthog>=2.4.0->chromadb!=0.5.10,!=0.5.11,!=0.5.12,!=0.5.4,!=0.5.5,!=0.5.7,!=0.5.9,<0.7.0,>=0.4.0->langchain-chroma) (1.6)\n",
            "Requirement already satisfied: backoff>=1.10.0 in /usr/local/lib/python3.11/dist-packages (from posthog>=2.4.0->chromadb!=0.5.10,!=0.5.11,!=0.5.12,!=0.5.4,!=0.5.5,!=0.5.7,!=0.5.9,<0.7.0,>=0.4.0->langchain-chroma) (2.2.1)\n",
            "Requirement already satisfied: distro>=1.5.0 in /usr/local/lib/python3.11/dist-packages (from posthog>=2.4.0->chromadb!=0.5.10,!=0.5.11,!=0.5.12,!=0.5.4,!=0.5.5,!=0.5.7,!=0.5.9,<0.7.0,>=0.4.0->langchain-chroma) (1.9.0)\n",
            "Requirement already satisfied: annotated-types>=0.6.0 in /usr/local/lib/python3.11/dist-packages (from pydantic>=1.9->chromadb!=0.5.10,!=0.5.11,!=0.5.12,!=0.5.4,!=0.5.5,!=0.5.7,!=0.5.9,<0.7.0,>=0.4.0->langchain-chroma) (0.7.0)\n",
            "Requirement already satisfied: pydantic-core==2.33.0 in /usr/local/lib/python3.11/dist-packages (from pydantic>=1.9->chromadb!=0.5.10,!=0.5.11,!=0.5.12,!=0.5.4,!=0.5.5,!=0.5.7,!=0.5.9,<0.7.0,>=0.4.0->langchain-chroma) (2.33.0)\n",
            "Requirement already satisfied: typing-inspection>=0.4.0 in /usr/local/lib/python3.11/dist-packages (from pydantic>=1.9->chromadb!=0.5.10,!=0.5.11,!=0.5.12,!=0.5.4,!=0.5.5,!=0.5.7,!=0.5.9,<0.7.0,>=0.4.0->langchain-chroma) (0.4.0)\n",
            "Requirement already satisfied: markdown-it-py>=2.2.0 in /usr/local/lib/python3.11/dist-packages (from rich>=10.11.0->chromadb!=0.5.10,!=0.5.11,!=0.5.12,!=0.5.4,!=0.5.5,!=0.5.7,!=0.5.9,<0.7.0,>=0.4.0->langchain-chroma) (3.0.0)\n",
            "Requirement already satisfied: pygments<3.0.0,>=2.13.0 in /usr/local/lib/python3.11/dist-packages (from rich>=10.11.0->chromadb!=0.5.10,!=0.5.11,!=0.5.12,!=0.5.4,!=0.5.5,!=0.5.7,!=0.5.9,<0.7.0,>=0.4.0->langchain-chroma) (2.18.0)\n",
            "Requirement already satisfied: huggingface-hub<1.0,>=0.16.4 in /usr/local/lib/python3.11/dist-packages (from tokenizers>=0.13.2->chromadb!=0.5.10,!=0.5.11,!=0.5.12,!=0.5.4,!=0.5.5,!=0.5.7,!=0.5.9,<0.7.0,>=0.4.0->langchain-chroma) (0.29.3)\n",
            "Requirement already satisfied: click>=8.0.0 in /usr/local/lib/python3.11/dist-packages (from typer>=0.9.0->chromadb!=0.5.10,!=0.5.11,!=0.5.12,!=0.5.4,!=0.5.5,!=0.5.7,!=0.5.9,<0.7.0,>=0.4.0->langchain-chroma) (8.1.8)\n",
            "Requirement already satisfied: shellingham>=1.3.0 in /usr/local/lib/python3.11/dist-packages (from typer>=0.9.0->chromadb!=0.5.10,!=0.5.11,!=0.5.12,!=0.5.4,!=0.5.5,!=0.5.7,!=0.5.9,<0.7.0,>=0.4.0->langchain-chroma) (1.5.4)\n",
            "Requirement already satisfied: httptools>=0.6.3 in /usr/local/lib/python3.11/dist-packages (from uvicorn[standard]>=0.18.3->chromadb!=0.5.10,!=0.5.11,!=0.5.12,!=0.5.4,!=0.5.5,!=0.5.7,!=0.5.9,<0.7.0,>=0.4.0->langchain-chroma) (0.6.4)\n",
            "Requirement already satisfied: python-dotenv>=0.13 in /usr/local/lib/python3.11/dist-packages (from uvicorn[standard]>=0.18.3->chromadb!=0.5.10,!=0.5.11,!=0.5.12,!=0.5.4,!=0.5.5,!=0.5.7,!=0.5.9,<0.7.0,>=0.4.0->langchain-chroma) (1.1.0)\n",
            "Requirement already satisfied: uvloop!=0.15.0,!=0.15.1,>=0.14.0 in /usr/local/lib/python3.11/dist-packages (from uvicorn[standard]>=0.18.3->chromadb!=0.5.10,!=0.5.11,!=0.5.12,!=0.5.4,!=0.5.5,!=0.5.7,!=0.5.9,<0.7.0,>=0.4.0->langchain-chroma) (0.21.0)\n",
            "Requirement already satisfied: watchfiles>=0.13 in /usr/local/lib/python3.11/dist-packages (from uvicorn[standard]>=0.18.3->chromadb!=0.5.10,!=0.5.11,!=0.5.12,!=0.5.4,!=0.5.5,!=0.5.7,!=0.5.9,<0.7.0,>=0.4.0->langchain-chroma) (1.0.4)\n",
            "Requirement already satisfied: websockets>=10.4 in /usr/local/lib/python3.11/dist-packages (from uvicorn[standard]>=0.18.3->chromadb!=0.5.10,!=0.5.11,!=0.5.12,!=0.5.4,!=0.5.5,!=0.5.7,!=0.5.9,<0.7.0,>=0.4.0->langchain-chroma) (15.0.1)\n",
            "Requirement already satisfied: cachetools<6.0,>=2.0.0 in /usr/local/lib/python3.11/dist-packages (from google-auth>=1.0.1->kubernetes>=28.1.0->chromadb!=0.5.10,!=0.5.11,!=0.5.12,!=0.5.4,!=0.5.5,!=0.5.7,!=0.5.9,<0.7.0,>=0.4.0->langchain-chroma) (5.5.2)\n",
            "Requirement already satisfied: pyasn1-modules>=0.2.1 in /usr/local/lib/python3.11/dist-packages (from google-auth>=1.0.1->kubernetes>=28.1.0->chromadb!=0.5.10,!=0.5.11,!=0.5.12,!=0.5.4,!=0.5.5,!=0.5.7,!=0.5.9,<0.7.0,>=0.4.0->langchain-chroma) (0.4.2)\n",
            "Requirement already satisfied: rsa<5,>=3.1.4 in /usr/local/lib/python3.11/dist-packages (from google-auth>=1.0.1->kubernetes>=28.1.0->chromadb!=0.5.10,!=0.5.11,!=0.5.12,!=0.5.4,!=0.5.5,!=0.5.7,!=0.5.9,<0.7.0,>=0.4.0->langchain-chroma) (4.9)\n",
            "Requirement already satisfied: filelock in /usr/local/lib/python3.11/dist-packages (from huggingface-hub<1.0,>=0.16.4->tokenizers>=0.13.2->chromadb!=0.5.10,!=0.5.11,!=0.5.12,!=0.5.4,!=0.5.5,!=0.5.7,!=0.5.9,<0.7.0,>=0.4.0->langchain-chroma) (3.18.0)\n",
            "Requirement already satisfied: fsspec>=2023.5.0 in /usr/local/lib/python3.11/dist-packages (from huggingface-hub<1.0,>=0.16.4->tokenizers>=0.13.2->chromadb!=0.5.10,!=0.5.11,!=0.5.12,!=0.5.4,!=0.5.5,!=0.5.7,!=0.5.9,<0.7.0,>=0.4.0->langchain-chroma) (2025.3.0)\n",
            "Requirement already satisfied: zipp>=3.20 in /usr/local/lib/python3.11/dist-packages (from importlib-metadata<8.7.0,>=6.0->opentelemetry-api>=1.2.0->chromadb!=0.5.10,!=0.5.11,!=0.5.12,!=0.5.4,!=0.5.5,!=0.5.7,!=0.5.9,<0.7.0,>=0.4.0->langchain-chroma) (3.21.0)\n",
            "Requirement already satisfied: mdurl~=0.1 in /usr/local/lib/python3.11/dist-packages (from markdown-it-py>=2.2.0->rich>=10.11.0->chromadb!=0.5.10,!=0.5.11,!=0.5.12,!=0.5.4,!=0.5.5,!=0.5.7,!=0.5.9,<0.7.0,>=0.4.0->langchain-chroma) (0.1.2)\n",
            "Requirement already satisfied: charset-normalizer<4,>=2 in /usr/local/lib/python3.11/dist-packages (from requests->kubernetes>=28.1.0->chromadb!=0.5.10,!=0.5.11,!=0.5.12,!=0.5.4,!=0.5.5,!=0.5.7,!=0.5.9,<0.7.0,>=0.4.0->langchain-chroma) (3.4.1)\n",
            "Requirement already satisfied: sniffio>=1.1 in /usr/local/lib/python3.11/dist-packages (from anyio->httpx>=0.27.0->chromadb!=0.5.10,!=0.5.11,!=0.5.12,!=0.5.4,!=0.5.5,!=0.5.7,!=0.5.9,<0.7.0,>=0.4.0->langchain-chroma) (1.3.1)\n",
            "Requirement already satisfied: humanfriendly>=9.1 in /usr/local/lib/python3.11/dist-packages (from coloredlogs->onnxruntime>=1.14.1->chromadb!=0.5.10,!=0.5.11,!=0.5.12,!=0.5.4,!=0.5.5,!=0.5.7,!=0.5.9,<0.7.0,>=0.4.0->langchain-chroma) (10.0)\n",
            "Requirement already satisfied: mpmath<1.4,>=1.1.0 in /usr/local/lib/python3.11/dist-packages (from sympy->onnxruntime>=1.14.1->chromadb!=0.5.10,!=0.5.11,!=0.5.12,!=0.5.4,!=0.5.5,!=0.5.7,!=0.5.9,<0.7.0,>=0.4.0->langchain-chroma) (1.3.0)\n",
            "Requirement already satisfied: pyasn1<0.7.0,>=0.6.1 in /usr/local/lib/python3.11/dist-packages (from pyasn1-modules>=0.2.1->google-auth>=1.0.1->kubernetes>=28.1.0->chromadb!=0.5.10,!=0.5.11,!=0.5.12,!=0.5.4,!=0.5.5,!=0.5.7,!=0.5.9,<0.7.0,>=0.4.0->langchain-chroma) (0.6.1)\n",
            "Requirement already satisfied: faiss-cpu in /usr/local/lib/python3.11/dist-packages (1.10.0)\n",
            "Requirement already satisfied: numpy<3.0,>=1.25.0 in /usr/local/lib/python3.11/dist-packages (from faiss-cpu) (1.26.4)\n",
            "Requirement already satisfied: packaging in /usr/local/lib/python3.11/dist-packages (from faiss-cpu) (24.2)\n",
            "Requirement already satisfied: langgraph in /usr/local/lib/python3.11/dist-packages (0.3.22)\n",
            "Collecting langgraph\n",
            "  Downloading langgraph-0.3.23-py3-none-any.whl.metadata (7.7 kB)\n",
            "Requirement already satisfied: langchain-core<0.4,>=0.1 in /usr/local/lib/python3.11/dist-packages (from langgraph) (0.3.49)\n",
            "Requirement already satisfied: langgraph-checkpoint<3.0.0,>=2.0.10 in /usr/local/lib/python3.11/dist-packages (from langgraph) (2.0.23)\n",
            "Requirement already satisfied: langgraph-prebuilt<0.2,>=0.1.1 in /usr/local/lib/python3.11/dist-packages (from langgraph) (0.1.7)\n",
            "Requirement already satisfied: langgraph-sdk<0.2.0,>=0.1.42 in /usr/local/lib/python3.11/dist-packages (from langgraph) (0.1.60)\n",
            "Requirement already satisfied: xxhash<4.0.0,>=3.5.0 in /usr/local/lib/python3.11/dist-packages (from langgraph) (3.5.0)\n",
            "Requirement already satisfied: langsmith<0.4,>=0.1.125 in /usr/local/lib/python3.11/dist-packages (from langchain-core<0.4,>=0.1->langgraph) (0.3.19)\n",
            "Requirement already satisfied: tenacity!=8.4.0,<10.0.0,>=8.1.0 in /usr/local/lib/python3.11/dist-packages (from langchain-core<0.4,>=0.1->langgraph) (9.0.0)\n",
            "Requirement already satisfied: jsonpatch<2.0,>=1.33 in /usr/local/lib/python3.11/dist-packages (from langchain-core<0.4,>=0.1->langgraph) (1.33)\n",
            "Requirement already satisfied: PyYAML>=5.3 in /usr/local/lib/python3.11/dist-packages (from langchain-core<0.4,>=0.1->langgraph) (6.0.2)\n",
            "Requirement already satisfied: packaging<25,>=23.2 in /usr/local/lib/python3.11/dist-packages (from langchain-core<0.4,>=0.1->langgraph) (24.2)\n",
            "Requirement already satisfied: typing-extensions>=4.7 in /usr/local/lib/python3.11/dist-packages (from langchain-core<0.4,>=0.1->langgraph) (4.13.0)\n",
            "Requirement already satisfied: pydantic<3.0.0,>=2.5.2 in /usr/local/lib/python3.11/dist-packages (from langchain-core<0.4,>=0.1->langgraph) (2.11.0)\n",
            "Requirement already satisfied: ormsgpack<2.0.0,>=1.8.0 in /usr/local/lib/python3.11/dist-packages (from langgraph-checkpoint<3.0.0,>=2.0.10->langgraph) (1.9.1)\n",
            "Requirement already satisfied: httpx>=0.25.2 in /usr/local/lib/python3.11/dist-packages (from langgraph-sdk<0.2.0,>=0.1.42->langgraph) (0.28.1)\n",
            "Requirement already satisfied: orjson>=3.10.1 in /usr/local/lib/python3.11/dist-packages (from langgraph-sdk<0.2.0,>=0.1.42->langgraph) (3.10.16)\n",
            "Requirement already satisfied: anyio in /usr/local/lib/python3.11/dist-packages (from httpx>=0.25.2->langgraph-sdk<0.2.0,>=0.1.42->langgraph) (4.9.0)\n",
            "Requirement already satisfied: certifi in /usr/local/lib/python3.11/dist-packages (from httpx>=0.25.2->langgraph-sdk<0.2.0,>=0.1.42->langgraph) (2025.1.31)\n",
            "Requirement already satisfied: httpcore==1.* in /usr/local/lib/python3.11/dist-packages (from httpx>=0.25.2->langgraph-sdk<0.2.0,>=0.1.42->langgraph) (1.0.7)\n",
            "Requirement already satisfied: idna in /usr/local/lib/python3.11/dist-packages (from httpx>=0.25.2->langgraph-sdk<0.2.0,>=0.1.42->langgraph) (3.10)\n",
            "Requirement already satisfied: h11<0.15,>=0.13 in /usr/local/lib/python3.11/dist-packages (from httpcore==1.*->httpx>=0.25.2->langgraph-sdk<0.2.0,>=0.1.42->langgraph) (0.14.0)\n",
            "Requirement already satisfied: jsonpointer>=1.9 in /usr/local/lib/python3.11/dist-packages (from jsonpatch<2.0,>=1.33->langchain-core<0.4,>=0.1->langgraph) (3.0.0)\n",
            "Requirement already satisfied: requests<3,>=2 in /usr/local/lib/python3.11/dist-packages (from langsmith<0.4,>=0.1.125->langchain-core<0.4,>=0.1->langgraph) (2.32.3)\n",
            "Requirement already satisfied: requests-toolbelt<2.0.0,>=1.0.0 in /usr/local/lib/python3.11/dist-packages (from langsmith<0.4,>=0.1.125->langchain-core<0.4,>=0.1->langgraph) (1.0.0)\n",
            "Requirement already satisfied: zstandard<0.24.0,>=0.23.0 in /usr/local/lib/python3.11/dist-packages (from langsmith<0.4,>=0.1.125->langchain-core<0.4,>=0.1->langgraph) (0.23.0)\n",
            "Requirement already satisfied: annotated-types>=0.6.0 in /usr/local/lib/python3.11/dist-packages (from pydantic<3.0.0,>=2.5.2->langchain-core<0.4,>=0.1->langgraph) (0.7.0)\n",
            "Requirement already satisfied: pydantic-core==2.33.0 in /usr/local/lib/python3.11/dist-packages (from pydantic<3.0.0,>=2.5.2->langchain-core<0.4,>=0.1->langgraph) (2.33.0)\n",
            "Requirement already satisfied: typing-inspection>=0.4.0 in /usr/local/lib/python3.11/dist-packages (from pydantic<3.0.0,>=2.5.2->langchain-core<0.4,>=0.1->langgraph) (0.4.0)\n",
            "Requirement already satisfied: charset-normalizer<4,>=2 in /usr/local/lib/python3.11/dist-packages (from requests<3,>=2->langsmith<0.4,>=0.1.125->langchain-core<0.4,>=0.1->langgraph) (3.4.1)\n",
            "Requirement already satisfied: urllib3<3,>=1.21.1 in /usr/local/lib/python3.11/dist-packages (from requests<3,>=2->langsmith<0.4,>=0.1.125->langchain-core<0.4,>=0.1->langgraph) (2.3.0)\n",
            "Requirement already satisfied: sniffio>=1.1 in /usr/local/lib/python3.11/dist-packages (from anyio->httpx>=0.25.2->langgraph-sdk<0.2.0,>=0.1.42->langgraph) (1.3.1)\n",
            "Downloading langgraph-0.3.23-py3-none-any.whl (139 kB)\n",
            "\u001b[2K   \u001b[90m━━━━━━━━━━━━━━━━━━━━━━━━━━━━━━━━━━━━━━━━\u001b[0m \u001b[32m139.7/139.7 kB\u001b[0m \u001b[31m2.7 MB/s\u001b[0m eta \u001b[36m0:00:00\u001b[0m\n",
            "\u001b[?25hInstalling collected packages: langgraph\n",
            "  Attempting uninstall: langgraph\n",
            "    Found existing installation: langgraph 0.3.22\n",
            "    Uninstalling langgraph-0.3.22:\n",
            "      Successfully uninstalled langgraph-0.3.22\n",
            "Successfully installed langgraph-0.3.23\n",
            "Requirement already satisfied: html2text in /usr/local/lib/python3.11/dist-packages (2024.2.26)\n"
          ]
        }
      ]
    },
    {
      "cell_type": "code",
      "source": [
        "from langchain_community.document_loaders import TextLoader\n",
        "from langchain_text_splitters import CharacterTextSplitter\n",
        "from langchain_google_genai import GoogleGenerativeAIEmbeddings\n",
        "from langchain_chroma import Chroma\n",
        "from langchain_community.vectorstores import FAISS\n",
        "from langchain.tools.retriever import create_retriever_tool\n",
        "from langchain_google_genai import ChatGoogleGenerativeAI\n",
        "from langgraph.prebuilt import create_react_agent\n",
        "from langchain_core.messages import AnyMessage, SystemMessage, HumanMessage, ToolMessage, AIMessage, trim_messages\n",
        "from langchain_community.tools.tavily_search import TavilySearchResults\n",
        "from langgraph.checkpoint.memory import MemorySaver\n",
        "from langchain_community.document_loaders import AsyncHtmlLoader\n",
        "from langchain_community.document_transformers import Html2TextTransformer\n",
        "from langchain.tools import BaseTool\n",
        "\n",
        "from pydantic import Field\n",
        "from bs4 import BeautifulSoup\n",
        "import re\n",
        "import time\n",
        "import getpass\n",
        "import textwrap\n",
        "import requests\n",
        "import random\n",
        "import os\n",
        "import getpass\n",
        "from IPython.display import Image, display, Markdown\n",
        "\n"
      ],
      "metadata": {
        "id": "EIojxxPRxb3i",
        "colab": {
          "base_uri": "https://localhost:8080/"
        },
        "outputId": "7c514387-e67f-4a25-a474-877ccae08794"
      },
      "execution_count": 2,
      "outputs": [
        {
          "output_type": "stream",
          "name": "stderr",
          "text": [
            "WARNING:langchain_community.utils.user_agent:USER_AGENT environment variable not set, consider setting it to identify your requests.\n"
          ]
        }
      ]
    },
    {
      "cell_type": "code",
      "execution_count": 3,
      "metadata": {
        "id": "6xLKNJfrpAfj",
        "colab": {
          "base_uri": "https://localhost:8080/"
        },
        "outputId": "2c044bad-bbb6-4036-be17-d8adb9058172"
      },
      "outputs": [
        {
          "name": "stdout",
          "output_type": "stream",
          "text": [
            "Gemini API Key:··········\n",
            "Enter your Tavily API key: ··········\n"
          ]
        }
      ],
      "source": [
        "if \"GOOGLE_API_KEY\" not in os.environ:\n",
        "    os.environ['GOOGLE_API_KEY'] = getpass.getpass('Gemini API Key:')\n",
        "\n",
        "if \"TAVILY_API_KEY\" not in os.environ:\n",
        "    os.environ[\"TAVILY_API_KEY\"] = getpass.getpass(\"Enter your Tavily API key: \")"
      ]
    },
    {
      "cell_type": "markdown",
      "source": [
        "## Define the LLM to use"
      ],
      "metadata": {
        "id": "ZNZ4uaws4ty_"
      }
    },
    {
      "cell_type": "code",
      "source": [
        "# Create LLM model\n",
        "model = ChatGoogleGenerativeAI(\n",
        "    model=\"gemini-2.0-flash\",\n",
        "    temperature=0,\n",
        "    max_retries=2\n",
        ")"
      ],
      "metadata": {
        "id": "RJXang452QKY"
      },
      "execution_count": 4,
      "outputs": []
    },
    {
      "cell_type": "markdown",
      "source": [
        "## Create the vector store"
      ],
      "metadata": {
        "id": "1_aEInE42S95"
      }
    },
    {
      "cell_type": "code",
      "source": [
        "def load_vector_store(\n",
        "    documents,\n",
        "    vector_store_path: str = \"BudgetBuddy/vectorstore/ingnl\",\n",
        "    embeddings = GoogleGenerativeAIEmbeddings(model=\"models/text-embedding-004\"),\n",
        "    overwrite: bool = False\n",
        "):\n",
        "    if overwrite:\n",
        "        # Refresh the vector store\n",
        "        db_faiss = store_docs_as_vector_store(documents, vector_store_path, embeddings)\n",
        "        print(\"Saved vector store to file\")\n",
        "    else:\n",
        "        # Try loading it from file\n",
        "        try:\n",
        "            db_faiss = FAISS.load_local(\n",
        "                vector_store_path, embeddings, allow_dangerous_deserialization=True\n",
        "            )\n",
        "            print(\"Loaded vector store from file\")\n",
        "        except Exception:\n",
        "            # Can't find it, so refresh the database\n",
        "            db_faiss = store_docs_as_vector_store(documents, vector_store_path, embeddings)\n",
        "            print(\"Saved vector store to file\")\n",
        "    return db_faiss\n",
        "\n",
        "def store_docs_as_vector_store(\n",
        "    documents,\n",
        "    vector_store_path: str = \"BudgetBuddy/vectorstore/ingnl\",\n",
        "    embeddings = GoogleGenerativeAIEmbeddings(model=\"models/text-embedding-004\")\n",
        "):\n",
        "    db_faiss = FAISS.from_documents(documents, embeddings)\n",
        "    db_faiss.save_local(vector_store_path)\n",
        "    return db_faiss"
      ],
      "metadata": {
        "id": "U8R53jw9fgQU"
      },
      "execution_count": 5,
      "outputs": []
    },
    {
      "cell_type": "code",
      "source": [
        "class WebsiteContentTool(BaseTool):\n",
        "    name: str = Field(default=\"website_content_tool\", description=\"The name of the tool\") # Define name as a Pydantic Field with type annotation\n",
        "    description: str = Field(default=\"Useful for retrieving the content of a given website URL. Input should be a valid URL.\", description=\"The description of the tool\")  # Define description as a Pydantic Field with type annotation\n",
        "\n",
        "    def _run(self, urls):\n",
        "        try:\n",
        "            loader = AsyncHtmlLoader(urls)\n",
        "            docs = loader.load()\n",
        "            html2text = Html2TextTransformer()\n",
        "            docs_transformed = html2text.transform_documents(docs)\n",
        "\n",
        "            return docs_transformed\n",
        "\n",
        "        except requests.exceptions.RequestException as e:\n",
        "            return f\"Error fetching URL: {e}\"\n",
        "        except Exception as e:\n",
        "            return f\"An unexpected error occurred: {e}\"\n",
        "\n",
        "    async def _arun(self, url: str) -> str:\n",
        "        \"\"\"Use the tool asynchronously.\"\"\"\n",
        "        raise NotImplementedError(\"WebsiteContentTool does not support async\")\n",
        "\n",
        "\n",
        "\n",
        "def remove_duplicates(l): # remove duplicates and unURL string\n",
        "    for item in l:\n",
        "        match = re.search(r\"(?P<url>https?://[^\\s]+)\", item)\n",
        "        if match is not None:\n",
        "            links.append((match.group(\"url\")))\n",
        "\n",
        "def get_all_urls_in_website(url):\n",
        "    # Set up headers to mimic a browser request\n",
        "    headers = {\n",
        "        'User-Agent': 'Mozilla/5.0 (Windows NT 10.0; Win64; x64) AppleWebKit/537.36 (KHTML, like Gecko) Chrome/70.0.3538.110 Safari/537.36'\n",
        "    }\n",
        "\n",
        "    # Make the request with headers\n",
        "    response = requests.get(url, headers=headers)\n",
        "\n",
        "    # Check if the request was successful\n",
        "    if response.status_code == 200:\n",
        "        # Parse the HTML content\n",
        "        soup = BeautifulSoup(response.content, 'html.parser')\n",
        "\n",
        "        # Find all links\n",
        "        links = [a.get('href') for a in soup.find_all('a', href=True)]\n",
        "\n",
        "        # Print the list of links\n",
        "        print(\"Links found:\", links)\n",
        "    else:\n",
        "        print(f\"Failed to retrieve the page. Status code: {response.status_code}\")\n",
        "\n",
        "    #remove duplicates\n",
        "    links = list(set(links))\n",
        "\n",
        "    return links\n",
        "\n",
        "def remove_special_strings(lst):\n",
        "    return [item for item in lst if not (item.startswith('/') or item.startswith('#'))]\n",
        "\n",
        "def filter_non_nibud_links(lst):\n",
        "    return [item for item in lst if item.startswith('https://www.nibud.nl/')]\n"
      ],
      "metadata": {
        "id": "biHC3iT4vGH9"
      },
      "execution_count": 6,
      "outputs": []
    },
    {
      "cell_type": "markdown",
      "source": [
        "### Add ing.nl data"
      ],
      "metadata": {
        "id": "yEMxiM_ydTS2"
      }
    },
    {
      "cell_type": "code",
      "source": [
        "# Specify the directory\n",
        "directory = 'BudgetBuddy/data/ingnl'\n",
        "\n",
        "# Create an empty list to store file paths\n",
        "file_paths = []\n",
        "\n",
        "# Walk through the directory\n",
        "for root, dirs, files in os.walk(directory):\n",
        "    for file in files:\n",
        "        # Join the root directory with the file name to get the full path\n",
        "        full_path = os.path.join(root, file)\n",
        "        # Append the full path to the list\n",
        "        file_paths.append(full_path)"
      ],
      "metadata": {
        "id": "x1PmcXGExfnU"
      },
      "execution_count": 7,
      "outputs": []
    },
    {
      "cell_type": "code",
      "source": [
        "# Load the document, split it into chunks, embed each chunk and load it into the vector store.\n",
        "documents = []\n",
        "for file_path in file_paths:\n",
        "    documents.extend(TextLoader(file_path).load())"
      ],
      "metadata": {
        "id": "uwARNhrusOzZ"
      },
      "execution_count": 8,
      "outputs": []
    },
    {
      "cell_type": "code",
      "source": [
        "db_ingnl = load_vector_store(\n",
        "    documents,\n",
        "    vector_store_path=\"BudgetBuddy/vectorstore/ingnl\",\n",
        "    embeddings=GoogleGenerativeAIEmbeddings(model=\"models/text-embedding-004\")\n",
        ")"
      ],
      "metadata": {
        "id": "cerzJl8VeEL0",
        "outputId": "8f39a3be-f4fd-45d9-bab4-41262e8a8377",
        "colab": {
          "base_uri": "https://localhost:8080/"
        }
      },
      "execution_count": 9,
      "outputs": [
        {
          "output_type": "stream",
          "name": "stdout",
          "text": [
            "Loaded vector store from file\n"
          ]
        }
      ]
    },
    {
      "cell_type": "code",
      "source": [
        "query = \"Kan ik mijn creditcard transacties zien in Kijk Vooruit?\"\n",
        "docs = db_ingnl.similarity_search(query)\n",
        "for i, doc in enumerate(docs):\n",
        "    print(f\"\\n\\nDocument {i+1}:\")\n",
        "    print(doc.page_content)"
      ],
      "metadata": {
        "colab": {
          "base_uri": "https://localhost:8080/"
        },
        "id": "eHiWZXTO0mv6",
        "outputId": "6b0e21cc-b0c2-4cae-ffc3-06ced24e9315",
        "collapsed": true
      },
      "execution_count": 10,
      "outputs": [
        {
          "output_type": "stream",
          "name": "stdout",
          "text": [
            "\n",
            "\n",
            "Document 1:\n",
            "# Creditcard rekeningoverzicht in Mijn ING en de Mobiel Bankieren App - ING\n",
            "\n",
            "### Waarom zie ik niet dezelfde transacties als mijn partner?\n",
            "\n",
            "Heb je een extra creditcard? Dan zie je altijd alleen de transacties die met die creditcard gedaan zijn. De transacties van je partner zie je niet terug in je rekeningoverzicht. Hierdoor kan het zijn dat het saldo niet lijkt te kloppen. Wat je ziet is het actuele beschikbare saldo voor beide creditcards. De hoofdkaarthouder ziet op zijn beurt wel alle transacties in het overzicht terug, ook die met de extra creditcard zijn gedaan. Met welke creditcard de transactie is gedaan zie je aan de laatste 4 cijfers die bij de transactie staan.\n",
            "Houd er rekening mee dat je alleen het creditcard rekeningoverzicht ziet van de persoon die is ingelogd in de Mobiel Bankieren App of Mijn ING. Indien je een gezamenlijke rekening hebt, dan is de maandelijkse afschrijving inzichtelijk voor beide rekeninghouders.\n",
            "\n",
            "\n",
            "Document 2:\n",
            "# Creditcard rekeningoverzicht in Mijn ING en de Mobiel Bankieren App - ING\n",
            "\n",
            "Waar vind ik mijn creditcard rekeningoverzicht terug?\n",
            "Je actuele creditcard rekeningoverzicht staat in de Mobiel Bankieren App en in Mijn ING. Op deze pagina lees je waar je precies moet kijken.\n",
            "\n",
            "### Creditcard gekoppeld aan een persoonlijke rekening\n",
            "\n",
            "Heb je een eigen creditcard die is gekoppeld aan je persoonlijke rekening? Dan vind je je creditcard rekeningoverzicht altijd terug in je productoverzicht in de Mobiel Bankieren App en in Mijn ING. Het creditcard rekeningoverzicht staat onder je betaal- en spaarrekeningen. Hier staat je saldo en kan je ook direct alle reserveringen en afschrijvingen van de creditcard terugvinden.\n",
            "Heb je een extra creditcard die niet is gekoppeld aan een gezamenlijke rekening maar aan de persoonlijke rekening van de hoofdkaarthouder? Dan vind je het creditcard rekeningoverzicht terug onder 'Andere rekeningen'. In dit overzicht staan alleen de uitgaven die met deze extra creditcard zijn gedaan inclusief het actuele beschikbare saldo. Houd er rekening mee dat je alleen het creditcard rekeningoverzicht ziet van de persoon die is ingelogd in de Mobiel Bankieren App of Mijn ING\n",
            "\n",
            "### Creditcard bij een gezamenlijke rekening\n",
            "\n",
            "Een creditcard staat altijd op 1 naam. Ook als de creditcard aan een gezamenlijke rekening is gekoppeld. Sinds 28 juli 2020 zie je in de Mobiel Bankieren App en in Mijn ING alleen de creditcard die op jouw naam staat.\n",
            "Heb je een extra creditcard die gekoppeld is aan een gezamenlijke rekening? Dan vind je het creditcard rekeningoverzicht terug onder 'Andere rekeningen'. In dit overzicht staan alleen de uitgaven die met deze extra creditcard zijn gedaan inclusief het actuele beschikbare saldo. Houd er rekening mee dat je alleen het creditcard rekeningoverzicht ziet van de persoon die is ingelogd in de Mobiel Bankieren App of Mijn ING. Bij een gezamenlijke rekening, is de maandelijkse afschrijving inzichtelijk voor beide rekeninghouders. De transacties die met de creditcard zijn gedaan, zijn alleen zichtbaar voor de creditcardhouder en niet zichtbaar voor de andere rekeninghouder.\n",
            "\n",
            "\n",
            "Document 3:\n",
            "# Kijk Vooruit in de Mobiel Bankieren App - ING\n",
            "\n",
            "## Wat zie je precies in Kijk Vooruit?\n",
            "\n",
            "* Afschrijvingen die zeker gaan gebeuren\n",
            "* Afschrijvingen die voorspeld worden op basis van eerdere afschrijvingen, zoals je energierekening\n",
            "* Bijschrijvingen die voorspeld worden op basis van eerdere bijschrijvingen, zoals je salaris\n",
            "* Spaaropdrachten die je hebt ingepland\n",
            "* Het voorspelde saldo op basis van alle bedragen die van je rekening afgaan of erbij komen\n",
            "Zo krijg je een beter beeld van wat je nog kunt besteden en voorkom je vervelende verrassingen.\n",
            "Klant worden via de app\n",
            "* ### Inzicht in je uitgaven\n",
            "Wat geef je uit aan de boodschappen? Krijg inzicht.\n",
            "Inzicht in je uitgaven\n",
            "* ### Tag je transacties\n",
            "Om specifieke uitgaven, zoals cadeautjes, makkelijk terug te vinden.\n",
            "Tag je transacties\n",
            "* ### Grip op je geldzaken\n",
            "Alles over meer inzicht in je geldzaken, sparen en besparen.\n",
            "Grip op je geldzaken\n",
            "* ### Digitaal bankieren\n",
            "Alles over mobiel bankieren en Mijn ING. Digitaal bankieren\n",
            "\n",
            "\n",
            "Document 4:\n",
            "# Nieuw in de app - ING\n",
            "\n",
            "## Update Betaalverzoek: meerdere bedragen splitsen in één verzoek\n",
            "\n",
            "### Nieuw in de app: meerdere bedragen splitsen in één Betaalverzoek (Android en iOS).\n",
            "\n",
            "Met deze update gaat een veelgevraagd klantverzoek live. Zo maken we de app nog makkelijker, slimmer en persoonlijker!\n",
            "Betaalverzoek maken\n",
            "\n",
            "## Rekeningoverzicht (iOS en Android)\n",
            "\n",
            "### Iets wijzigen of bekijken in de instellingen van je Betaalrekening?\n",
            "\n",
            "Nu een handig overzicht op de pagina rekening instellingen.\n",
            "Hoe werkt het? Log in op de app en klik op je betaalrekening. Tik op de drie puntjes rechtsboven voor een overzicht. In dit overzicht vind je onder meer jouw:\n",
            "* IBAN\n",
            "* BIC\n",
            "* Rente overzicht\n",
            "* Afschriften downloaden\n",
            "* Rekening opzeggen\n",
            "* en meer\n",
            "\n",
            "## Nu ook Dark Mode voor Android!\n",
            "\n",
            "Dark Mode is een feature waarbij de interface aangepast kan worden naar een donker kleurschema.\n",
            "Dark Mode van ING is beschikbaar op zowel de telefoon als tablet. Je moet hiervoor versie tien of nieuwer hebben. De app past zich automatisch aan de instellingen van je Android-telefoon. Je kunt de ING-app dus niet altijd op donker instellen.\n",
            "\n",
            "## Creditcards nu ook in Kijk Vooruit\n",
            "\n",
            "De creditcard die is toegevoegd is het type creditcard voor particuliere klanten waar maandelijks het gehele openstaande bedrag door ING wordt geïncasseerd. Meer dan 90% van onze klanten heeft dit type creditcard.\n",
            "Wat zie je precies in Kijk Vooruit?\n",
            "* Afschrijvingen die zeker zullen plaatsvinden\n",
            "* Afschrijvingen die voorspeld worden op basis van eerdere afschrijvingen, zoals bijvoorbeeld je energierekening\n",
            "* Bijschrijvingen die voorspeld worden op basis van eerdere bijschrijvingen zoals bijvoorbeeld je salaris\n",
            "* Spaaropdrachten die je hebt ingepland\n",
            "* Het voorspelde saldo op basis van alle bedragen die volgens Kijk Vooruit van je rekening gaan of er bij komen\n",
            "Alles over Kijk Vooruit\n"
          ]
        }
      ]
    },
    {
      "cell_type": "markdown",
      "source": [
        "### Add nibud.nl data"
      ],
      "metadata": {
        "id": "fxZlWE_0dYX_"
      }
    },
    {
      "cell_type": "code",
      "source": [
        "\n",
        "links = get_all_urls_in_website(url='https://www.nibud.nl/')\n",
        "\n",
        "links = filter_non_nibud_links(links)\n",
        "\n",
        "WCT = WebsiteContentTool()\n",
        "\n",
        "docs_transformed = WCT._run(links)\n",
        "\n",
        "# Load the document, split it into chunks, embed each chunk and load it into the vector store.\n",
        "text_splitter_nibud = CharacterTextSplitter(chunk_size=1000, chunk_overlap=0)\n",
        "documents_nibud = text_splitter_nibud.split_documents(docs_transformed)"
      ],
      "metadata": {
        "id": "vNrB3HC_daqO",
        "outputId": "d7bf1b92-743d-4ff5-aa25-ba01d05a9138",
        "colab": {
          "base_uri": "https://localhost:8080/"
        }
      },
      "execution_count": 14,
      "outputs": [
        {
          "output_type": "stream",
          "name": "stdout",
          "text": [
            "Links found: ['#main-content', 'https://www.nibud.nl/', '/pers-nieuws/', 'https://winkel.nibud.nl/', 'https://www.nibud.nl/onderwerpen/', 'https://www.nibud.nl/onderwerpen/rondkomen/', 'https://www.nibud.nl/onderwerpen/sparen/', 'https://www.nibud.nl/onderwerpen/uitgaven/', 'https://www.nibud.nl/onderwerpen/geldproblemen/', 'https://www.nibud.nl/onderwerpen/inkomensondersteuning/', 'https://www.nibud.nl/onderwerpen/kinderen-en-jongeren/', 'https://www.nibud.nl/onderwerpen/wonen/', 'https://www.nibud.nl/onderwerpen/pensioen/', 'https://www.nibud.nl/onderwerpen/scheiden/', 'https://www.nibud.nl/onderwerpen/werken/', 'https://www.nibud.nl/dossiers/', 'https://www.nibud.nl/dossiers/voldoende-inkomen/', 'https://www.nibud.nl/dossiers/financiele-weerbaarheid/', 'https://www.nibud.nl/dossiers/betaalbaar-wonen/', 'https://www.nibud.nl/dossiers/betaalbare-energietransitie/', 'https://www.nibud.nl/samenwerken/', 'https://www.nibud.nl/samenwerken/voorlichting-op-maat/', 'https://www.nibud.nl/samenwerken/onderzoek-en-advies/', 'https://www.nibud.nl/samenwerken/deskundigheidsbevordering/', 'https://www.nibud.nl/samenwerken/cijfers-en-rekentools/', 'https://www.nibud.nl/samenwerken/cursussen-workshops-coaching/', 'https://www.nibud.nl/samenwerken/werkvelden/', 'https://www.nibud.nl/over-het-nibud/', 'https://www.nibud.nl/over-het-nibud/over-de-organisatie/', 'https://www.nibud.nl/over-het-nibud/missie-en-impact/', 'https://www.nibud.nl/over-het-nibud/financiering/', 'https://www.nibud.nl/over-het-nibud/samenwerken-met-nibud/', 'https://www.nibud.nl/over-het-nibud/werken-bij/', 'https://www.nibud.nl/pers/', '/medewerkers', 'https://www.nibud.nl/over-het-nibud/contact-met-nibud/', '/pers-nieuws/', 'https://winkel.nibud.nl/', 'https://www.nibud.nl/onderwerpen/', 'https://www.nibud.nl/onderwerpen/rondkomen/', 'https://www.nibud.nl/onderwerpen/sparen/', 'https://www.nibud.nl/onderwerpen/uitgaven/', 'https://www.nibud.nl/onderwerpen/geldproblemen/', 'https://www.nibud.nl/onderwerpen/inkomensondersteuning/', 'https://www.nibud.nl/onderwerpen/kinderen-en-jongeren/', 'https://www.nibud.nl/onderwerpen/wonen/', 'https://www.nibud.nl/onderwerpen/pensioen/', 'https://www.nibud.nl/onderwerpen/scheiden/', 'https://www.nibud.nl/onderwerpen/werken/', 'https://www.nibud.nl/dossiers/', 'https://www.nibud.nl/dossiers/voldoende-inkomen/', 'https://www.nibud.nl/dossiers/financiele-weerbaarheid/', 'https://www.nibud.nl/dossiers/betaalbaar-wonen/', 'https://www.nibud.nl/dossiers/betaalbare-energietransitie/', 'https://www.nibud.nl/samenwerken/', 'https://www.nibud.nl/samenwerken/voorlichting-op-maat/', 'https://www.nibud.nl/samenwerken/onderzoek-en-advies/', 'https://www.nibud.nl/samenwerken/deskundigheidsbevordering/', 'https://www.nibud.nl/samenwerken/cijfers-en-rekentools/', 'https://www.nibud.nl/samenwerken/cursussen-workshops-coaching/', 'https://www.nibud.nl/samenwerken/werkvelden/', 'https://www.nibud.nl/over-het-nibud/', 'https://www.nibud.nl/over-het-nibud/over-de-organisatie/', 'https://www.nibud.nl/over-het-nibud/missie-en-impact/', 'https://www.nibud.nl/over-het-nibud/financiering/', 'https://www.nibud.nl/over-het-nibud/samenwerken-met-nibud/', 'https://www.nibud.nl/over-het-nibud/werken-bij/', 'https://www.nibud.nl/pers/', '/medewerkers', 'https://www.nibud.nl/over-het-nibud/contact-met-nibud/', 'https://www.nibud.nl/nieuws/financieel-overzicht-lastig-voor-scholieren/', 'https://www.nibud.nl/nieuws/nibud-bij-de-eerste-kamer-over-wet-herziening-bedrag-ineens/', 'https://www.nibud.nl/nieuws/nibud-en-wijzer-in-geldzaken-breiden-programma-financiele-educatie-uit-voor-docenten-voortgezet-onderwijs/', 'https://www.nibud.nl/nieuws/financieel-overzicht-lastig-voor-scholieren/', 'https://www.nibud.nl/pers-nieuws/', 'https://www.nibud.nl/samenwerken/', 'https://www.nibud.nl/dossiers/', 'https://www.nibud.nl/onderwerpen/rondkomen/moeite-met-rondkomen/', 'https://financielegezondheidscheck.nibud.nl/', 'https://www.nibud.nl/onderwerpen/uitgaven/', 'https://www.nibud.nl/onderwerpen/wonen/', 'https://www.nibud.nl/onderwerpen/rondkomen/', 'https://www.nibud.nl/onderwerpen/pensioen/', 'https://www.nibud.nl/onderzoeksrapporten/rapport-geldzaken-in-de-praktijk-2024/', 'https://www.nibud.nl/onderzoeksrapporten/rapport-geldzaken-in-de-praktijk-2024/', 'https://dashboards.cbs.nl/v5/SchuldenproblematiekInBeeld/', 'https://www.nibud.nl/kennis-in-de-praktijk/werkvelden/werkgevers/', 'https://www.nibud.nl/tools/werkurenberekenaar/', 'https://www.nibud.nl/tools/persoonlijk-budgetadvies/', 'https://www.nibud.nl/tools/e-mailcoaching-jaarplanner/', 'https://www.nibud.nl/tools/financielegezondheidscheck/', 'https://www.nibud.nl/tools/een-financiele-buffer/', 'https://winkel.nibud.nl/kasboek-en-tabbladenset', 'https://www.nibud.nl/onderwerpen/uitgaven/kosten-energie-water/', 'https://www.nibud.nl/onderwerpen/wonen/betaalbaar-huren/', 'https://www.nibud.nl/tools/een-financiele-buffer/', 'https://www.nibud.nl/tools/persoonlijk-budgetadvies/', 'https://www.nibud.nl/onderwerpen/kinderen-en-jongeren/zakgeld-en-kleedgeld/', '/winkel', 'https://www.nibud.nl/nieuwsbrief/', 'https://www.nibud.nl/onderwerpen/rondkomen/', 'https://www.nibud.nl/onderwerpen/geldproblemen/', 'https://www.nibud.nl/onderwerpen/kinderen-en-jongeren/', 'https://www.nibud.nl/onderwerpen/sparen/', 'https://www.nibud.nl/onderwerpen/uitgaven/', 'https://www.nibud.nl/onderwerpen/pensioen/', 'https://www.nibud.nl/onderwerpen/werken/', 'https://www.nibud.nl/onderwerpen/inkomensondersteuning/', 'https://www.nibud.nl/onderwerpen/wonen/', 'https://www.nibud.nl/onderwerpen/scheiden/', 'https://www.nibud.nl/dossiers/', '/tools', 'https://www.nibud.nl/pers/', '/praktijkverhalen', '/onderzoeksrapporten/', 'https://www.nibud.nl/over-het-nibud/contact-met-nibud/', 'https://www.nibud.nl/over-het-nibud/over-de-organisatie/', 'https://www.nibud.nl/over-het-nibud/samenwerken-met-nibud/', 'https://www.nibud.nl/over-het-nibud/werken-bij/', 'https://www.nibud.nl/about-nibud/', 'https://www.nibud.nl/onderwerpen/rondkomen/', 'https://www.nibud.nl/onderwerpen/geldproblemen/', 'https://www.nibud.nl/onderwerpen/kinderen-en-jongeren/', 'https://www.nibud.nl/onderwerpen/sparen/', 'https://www.nibud.nl/onderwerpen/uitgaven/', 'https://www.nibud.nl/onderwerpen/pensioen/', 'https://www.nibud.nl/onderwerpen/werken/', 'https://www.nibud.nl/onderwerpen/inkomensondersteuning/', 'https://www.nibud.nl/onderwerpen/wonen/', 'https://www.nibud.nl/onderwerpen/scheiden/', 'https://www.nibud.nl/dossiers/', '/tools', 'https://www.nibud.nl/pers/', '/praktijkverhalen', '/onderzoeksrapporten/', 'https://www.nibud.nl/over-het-nibud/contact-met-nibud/', 'https://www.nibud.nl/over-het-nibud/over-de-organisatie/', 'https://www.nibud.nl/over-het-nibud/samenwerken-met-nibud/', 'https://www.nibud.nl/over-het-nibud/werken-bij/', 'https://www.nibud.nl/about-nibud/', 'https://www.nibud.nl/', 'https://www.facebook.com/Nibud', 'https://www.linkedin.com/company/nibud/', 'https://www.nibud.nl/over-het-nibud/contact-met-nibud/', 'https://www.nibud.nl/privacyverklaring/', 'https://www.nibud.nl/cookiebeleid/', 'https://www.nibud.nl/copyrights-nibud/', 'https://www.nibud.nl/proclaimer/', 'https://www.nibud.nl/responsible-disclosure/', 'https://www.nibud.nl/toegankelijkheid/']\n"
          ]
        },
        {
          "output_type": "stream",
          "name": "stderr",
          "text": [
            "Fetching pages: 100%|##########| 55/55 [00:16<00:00,  3.38it/s]\n",
            "WARNING:langchain_text_splitters.base:Created a chunk of size 1343, which is longer than the specified 1000\n",
            "WARNING:langchain_text_splitters.base:Created a chunk of size 1339, which is longer than the specified 1000\n",
            "WARNING:langchain_text_splitters.base:Created a chunk of size 1276, which is longer than the specified 1000\n",
            "WARNING:langchain_text_splitters.base:Created a chunk of size 1183, which is longer than the specified 1000\n",
            "WARNING:langchain_text_splitters.base:Created a chunk of size 1411, which is longer than the specified 1000\n",
            "WARNING:langchain_text_splitters.base:Created a chunk of size 1033, which is longer than the specified 1000\n",
            "WARNING:langchain_text_splitters.base:Created a chunk of size 2084, which is longer than the specified 1000\n",
            "WARNING:langchain_text_splitters.base:Created a chunk of size 1033, which is longer than the specified 1000\n"
          ]
        }
      ]
    },
    {
      "cell_type": "code",
      "source": [
        "db_nibudnl = load_vector_store(\n",
        "    documents_nibud,\n",
        "    vector_store_path=\"BudgetBuddy/vectorstore/nibudnl\",\n",
        "    embeddings=GoogleGenerativeAIEmbeddings(model=\"models/text-embedding-004\"),\n",
        "    overwrite=True\n",
        ")"
      ],
      "metadata": {
        "id": "rGj9_H18eQa4",
        "colab": {
          "base_uri": "https://localhost:8080/"
        },
        "outputId": "f93c8fc7-f387-4a13-d8ff-da8065179bc5"
      },
      "execution_count": 15,
      "outputs": [
        {
          "output_type": "stream",
          "name": "stdout",
          "text": [
            "Saved vector store to file\n"
          ]
        }
      ]
    },
    {
      "cell_type": "code",
      "source": [
        "query = \"Ik ga scheiden. Hoe zit het dan met de kinderen?\"\n",
        "docs = db_nibudnl.similarity_search(query)\n",
        "for i, doc in enumerate(docs):\n",
        "    print(f\"\\n\\nDocument {i+1}:\")\n",
        "    print(doc.page_content)"
      ],
      "metadata": {
        "id": "0bPj0GDGroPJ",
        "outputId": "3118a82a-23dd-4c77-b1fd-edc42e68a9c9",
        "colab": {
          "base_uri": "https://localhost:8080/"
        },
        "collapsed": true
      },
      "execution_count": 16,
      "outputs": [
        {
          "output_type": "stream",
          "name": "stdout",
          "text": [
            "\n",
            "\n",
            "Document 1:\n",
            "Als jij en je partner uit elkaar gaan, moeten jullie veel financiële zaken\n",
            "regelen. Zeker als er kinderen zijn. Wat worden je nieuwe inkomsten en\n",
            "uitgaven? Hoe werkt het met alimentatie en co-ouderschap? Hier vind je veel\n",
            "informatie op een rij.\n",
            "\n",
            "## Meer over uit elkaar\n",
            "\n",
            "  * Geldzaken tijdens en na een scheiding\n",
            "\n",
            "  * Alimentatie\n",
            "\n",
            "  * Co-ouderschap\n",
            "\n",
            "  * Scheiden en pensioen\n",
            "\n",
            "## Geldplan Scheiden\n",
            "\n",
            "Breng met deze tool stap voor stap je inkomsten en uitgaven na scheiding in\n",
            "kaart. Zo kun je je voorbereiden op je nieuwe situatie en zorgen dat alles\n",
            "geregeld is.\n",
            "\n",
            "Geldplan Scheiden\n",
            "\n",
            "## Meer hulpmiddelen\n",
            "\n",
            "  * ###  Geldplan Scheiden \n",
            "\n",
            "Tool\n",
            "\n",
            "Het Geldplan Scheiden geeft inzicht in je geldzaken nu en de veranderingen\n",
            "daarin na scheiding. Zo voorkom je geldproblemen.\n",
            "\n",
            "  * ###  Geldplan Rondkomen met kinderen \n",
            "\n",
            "Tool\n",
            "\n",
            "Vind stap voor stap je weg in de subsidies en regelingen die voor gezinnen met\n",
            "weinig geld beschikbaar zijn, en vraag ze aan.\n",
            "\n",
            "  * ###  BerekenUwRecht \n",
            "\n",
            "Tool\n",
            "\n",
            "\n",
            "Document 2:\n",
            "Op berekenuwrecht.nl ga je gemakkelijk na voor welke lokale en landelijke\n",
            "toeslagen en subsidies jij in aanmerking komt.\n",
            "\n",
            "## Nuttige sites\n",
            "\n",
            "  * ###  Het Juridisch Loket \n",
            "\n",
            "Met vragen over recht en regelgeving kun je gratis terecht bij het Juridisch\n",
            "Loket.\n",
            "\n",
            "Naar de site van het Juridisch Loket Opent in een nieuw venster\n",
            "\n",
            "  * ###  Checklist over scheiden \n",
            "\n",
            "Rijksoverheid.nl biedt handige checklists met alle acties die je moet\n",
            "ondernemen bij een scheiding.\n",
            "\n",
            "Naar de Checklist scheiden van Rijksoverheid.nl Opent in een nieuw venster\n",
            "\n",
            "## Vraag en antwoord over uit elkaar gaan\n",
            "\n",
            "  * ###  Wat is een redelijk bedrag voor kinderalimentatie? \n",
            "\n",
            "Een redelijk bedrag voor kinderalimentatie is niet in het algemeen te noemen.\n",
            "Het alimentatiebedrag is afhankelijk van de draagkracht van de\n",
            "alimentatieplichtige en het gezamenlijke inkomen voordat jullie uit elkaar\n",
            "gingen.\n",
            "\n",
            "  * ###  Wanneer stopt de kinderalimentatie?\n",
            "\n",
            "\n",
            "Document 3:\n",
            "* Onderwerpen\n",
            "    * Rondkomen\n",
            "    * Sparen\n",
            "    * Uitgaven\n",
            "    * Geldproblemen\n",
            "    * Inkomensondersteuning\n",
            "    * Kinderen en jongeren\n",
            "    * Wonen\n",
            "    * Pensioen\n",
            "    * Uit elkaar\n",
            "    * Werken\n",
            "  * Dossiers\n",
            "    * Voldoende inkomen\n",
            "    * Financiële weerbaarheid\n",
            "    * Betaalbaar wonen\n",
            "    * Betaalbare energietransitie\n",
            "  * Samenwerken\n",
            "    * Voorlichting op maat\n",
            "    * Onderzoek en advies\n",
            "    * Deskundigheidsbevordering\n",
            "    * Cijfers en rekentools\n",
            "    * Cursussen, workshops en coaching\n",
            "    * Werkvelden\n",
            "  * Over het Nibud\n",
            "    * Over de organisatie\n",
            "    * Onze missie en impact\n",
            "    * Financiering\n",
            "    * Samenwerken met het Nibud\n",
            "    * Werken bij het Nibud\n",
            "    * Informatie voor pers\n",
            "    * Medewerkers\n",
            "    * Contact met het Nibud\n",
            "\n",
            "Zoeken\n",
            "\n",
            "Zoeken\n",
            "\n",
            "Zoek\n",
            "\n",
            "##  Melding: Altijd op de hoogte met de Nibud nieuwsbrief\n",
            "\n",
            "Elke maand het laatste nieuws en handige tips van onze experts  Aanmelden\n",
            "\n",
            "Sluit melding\n",
            "\n",
            "Home Onderwerpen Kinderen en jongeren\n",
            "\n",
            "# Kinderen en jongeren\n",
            "\n",
            "Kinderen en jongeren\n",
            "\n",
            "\n",
            "Document 4:\n",
            "De kinderalimentatie stopt als de kinderen financieel zelfstandig zijn. Dat is\n",
            "als ze het minimum jeugdloon per maand verdienen, of als ze 21 jaar worden.\n",
            "Lees meer over _kinderalimentatie tot 21 jaar_ (Rijksoverheid).\n",
            "\n",
            "  * ###  Hoe verdelen we de kosten bij co-ouderschap? \n",
            "\n",
            "Bij het verdelen van de kosten bij co-ouderschap is het belangrijk dat je van\n",
            "tevoren afspreekt welke kosten je verdeelt en welke niet. Maak bij het\n",
            "verdelen onderscheid tussen eigen kosten en te verdelen kosten. Lees meer over\n",
            "kosten bij co-ouderschap.\n",
            "\n",
            "  * ###  Wat kan ik doen als mijn ex-partner de alimentatie niet betaalt? \n",
            "\n",
            "Wanneer je ex-partner de alimentatie niet betaalt, kun je hulp vragen bij het\n",
            "LBIO. Zij kunnen de alimentatie voor je innen. Daarvoor gelden een aantal\n",
            "voorwaarden, meer daarover lees je op de _site van LBIO_.\n",
            "\n",
            "  * ###  Hoe werkt de indexering van de alimentatie?\n"
          ]
        }
      ]
    },
    {
      "cell_type": "markdown",
      "source": [
        "### Create the Vector Database Retriever tool"
      ],
      "metadata": {
        "id": "YC8lE77Y4ech"
      }
    },
    {
      "cell_type": "code",
      "source": [
        "ingnl_retriever = db_ingnl.as_retriever(\n",
        "    # search_type=\"mmr\",\n",
        "    search_kwargs={\"k\": 5},\n",
        ")\n",
        "nibudnl_retriever = db_nibudnl.as_retriever(\n",
        "    # search_type=\"mmr\",\n",
        "    search_kwargs={\"k\": 5},\n",
        ")"
      ],
      "metadata": {
        "id": "SyZNyLYCyixz"
      },
      "execution_count": 17,
      "outputs": []
    },
    {
      "cell_type": "code",
      "source": [
        "ingnl_retriever_tool = create_retriever_tool(\n",
        "    ingnl_retriever,\n",
        "    \"retrieve_ingnl_information\",\n",
        "    \"Search and return information about (banking) products of ING, and features in the ING app that customers have available.\",\n",
        ")\n",
        "nibudnl_retriever_tool = create_retriever_tool(\n",
        "    nibudnl_retriever,\n",
        "    \"retrieve_nibudnl_information\",\n",
        "    \"Nibud.nl is the website of the National Institute for Family Finance Information (Nibud) in the Netherlands. This independent foundation provides information and advice on managing personal finances. The site offers tools, tips, and research to help individuals and households make informed financial decisions. You might want to visit Nibud.nl if you need guidance on budgeting, saving, or managing debt. It's also useful for understanding household expenses, planning for retirement, or seeking advice on financial health\"\n",
        ")"
      ],
      "metadata": {
        "id": "dQm9ZOFf1Ub5"
      },
      "execution_count": 18,
      "outputs": []
    },
    {
      "cell_type": "markdown",
      "source": [
        "### Create a Tavily Search tool"
      ],
      "metadata": {
        "id": "Y9eyTUmR4jcS"
      }
    },
    {
      "cell_type": "code",
      "source": [
        "search_tool = TavilySearchResults(max_results=2)\n",
        "search_tool.description"
      ],
      "metadata": {
        "colab": {
          "base_uri": "https://localhost:8080/",
          "height": 36
        },
        "id": "_zAlJjpo4mhX",
        "outputId": "c38ddd93-bb1f-4497-febf-b2ea4532d7ac"
      },
      "execution_count": 19,
      "outputs": [
        {
          "output_type": "execute_result",
          "data": {
            "text/plain": [
              "'A search engine optimized for comprehensive, accurate, and trusted results. Useful for when you need to answer questions about current events. Input should be a search query.'"
            ],
            "application/vnd.google.colaboratory.intrinsic+json": {
              "type": "string"
            }
          },
          "metadata": {},
          "execution_count": 19
        }
      ]
    },
    {
      "cell_type": "markdown",
      "source": [
        "## Combine all the tools"
      ],
      "metadata": {
        "id": "uYwL9mOG45d9"
      }
    },
    {
      "cell_type": "code",
      "source": [
        "tools = [ingnl_retriever_tool, nibudnl_retriever_tool, search_tool]\n",
        "tools_names = {t.name: t for t in tools}\n",
        "model = model.bind_tools(tools)"
      ],
      "metadata": {
        "id": "wsUzAfl34-L-"
      },
      "execution_count": 20,
      "outputs": []
    },
    {
      "cell_type": "markdown",
      "source": [
        "### Some helper functions"
      ],
      "metadata": {
        "id": "6TSRRA915EYh"
      }
    },
    {
      "cell_type": "code",
      "source": [
        "def wrap_text(text, width=100):\n",
        "    text_split = text.split(\"\\n\")\n",
        "    wrapped_text = textwrap.fill(text_split[0], width)\n",
        "    if len(text_split) > 1:\n",
        "        for line in text_split[1:]:\n",
        "            wrapped_text += \"\\n\" + textwrap.fill(line, width)\n",
        "    return wrapped_text\n",
        "\n",
        "def print_stream(stream):\n",
        "    for s in stream:\n",
        "        message = s[\"messages\"][-1]\n",
        "        if isinstance(message, tuple):\n",
        "            print(message)\n",
        "        else:\n",
        "            print(wrap_text(message.pretty_repr()))\n",
        "\n",
        "class FinHealthAgentSession:\n",
        "    def __init__(self, agent):\n",
        "        self.agent = agent\n",
        "        self.start_session()\n",
        "\n",
        "    def ask(self, question, verbose=False):\n",
        "        messages = [HumanMessage(content=question)]\n",
        "        tools_used = []\n",
        "        if verbose:\n",
        "            print_stream(self.agent.stream({\"messages\": messages}, config=self.session, stream_mode= \"values\"))\n",
        "        else:\n",
        "            result = self.agent.invoke({\"messages\": messages}, config=self.session)\n",
        "            for i, message in enumerate(reversed(result['messages'])):\n",
        "                if message.content == question:\n",
        "                    break\n",
        "            for message in result['messages'][len(result['messages']) - i:]:\n",
        "                if message.name != None:\n",
        "                    tools_used.append(message.name)\n",
        "            print(f\"Tools used: {tools_used}\\n\")\n",
        "            display(Markdown(wrap_text(result['messages'][-1].content)))\n",
        "\n",
        "    def start_session(self):\n",
        "        session_id = ''.join(random.choices('0123456789', k=6))\n",
        "        print(f\"Started session {session_id}...\")\n",
        "        self.session = {\"configurable\": {\"thread_id\": session_id}}"
      ],
      "metadata": {
        "id": "sMtB9N172v2P"
      },
      "execution_count": 21,
      "outputs": []
    },
    {
      "cell_type": "markdown",
      "source": [
        "## Create the agent"
      ],
      "metadata": {
        "id": "wozNTkr65GeA"
      }
    },
    {
      "cell_type": "code",
      "source": [
        "old_prompts  = \"\"\"Don't ask the user for confirmation.\"\"\"\n",
        "\n",
        "prompt = \"\"\"\n",
        "    You are a conversational AI representing both ING Bank and Nibud\n",
        "    (Dutch institute for budgeting education). You are designed to engage in natural, human-like conversations. Your responses should be fluid, engaging, and free of bullet points or lists.\n",
        "    Instead, focus on creating a dialogue that feels organic and personal. Use varied sentence structures, ask follow-up questions, and provide detailed, thoughtful answers.\n",
        "    Your goal is to make the user feel like they are chatting with a friend.\n",
        "    Your character is: compassionate, friendly, precise, curious, laconic, human-like.\n",
        "    The conversation should be engaging, informative and flow naturally. your answers can be more exploratory and invlove more than just bullet points.\n",
        "    if you are missing information ask for it before giving elaborate answers. dont give more than 3 options.\n",
        "    Give the advise that is less risky, or if it has a high risk, mention it.\n",
        "    Reply in english language when you are asked in english.\n",
        "    Don't ask the user for confirmation.\n",
        "    Make it an interactive conversation to give financial advise and ask questions back.\n",
        "    Your goal is to find a satisfying answer to each question of a customer.\n",
        "    You can assume that any human asking you a question, is an ING customer.\n",
        "    If necessary, decompose the question into multiple tasks, and try\n",
        "    to use the tools at your disposal to answer the subtasks before coming\n",
        "    up with the final answer.\n",
        "    Just do stuff.Search for information about ING savings accounts or Nibud recommendations\n",
        "    Try to pitch features or products of ING inside your answers when that would\n",
        "    be potentially benefitial for the customer. Only do that when that pitch is\n",
        "    relevant to the question asked by the customer. So don't pitch stuff not really\n",
        "    related to the question.\n",
        "    For this you could use the ingnl_retriever_tool to find relevant features and\n",
        "    products of ING.\n",
        "    Also make sure to add any relevant suggestions or recommendations from Nibud\n",
        "    if this would be helpful for the customer. For this you can use the\n",
        "    nibudnl_retriever_tool.\n",
        "    Make sure to use both tools whenever it may even be slightly useful! If you\n",
        "    don't find something relevant from these tools, you don't need to incorporate\n",
        "    what you found in the answer. Just ignore it then.\n",
        "    Make sure to always answer in the same language you were asked the question in.\n",
        "\"\"\"\n",
        "\n",
        "prompt = \"\"\"\n",
        "    You are a conversational AI representing both ING Bank and Nibud (Dutch Institute for Budgeting Education). Your role is to engage in natural, human-like conversations.\n",
        "    Your responses should be fluid, engaging, and free of bullet points or lists. Focus on creating a dialogue that feels organic and personal.\n",
        "    Use varied sentence structures, ask follow-up questions, and provide detailed, thoughtful answers. Your goal is to make the user feel like they are chatting with a friend.\n",
        "\n",
        "    Your character traits are: compassionate, friendly, precise, curious, laconic, and human-like. The conversation should be engaging, informative, and flow naturally.\n",
        "    Your answers can be exploratory and should involve more than just bullet points.\n",
        "    If you are missing information, ask for it before giving elaborate answers. Do not give more than three options.\n",
        "\n",
        "    Provide advice that is less risky, or if it has a high risk, mention it. Reply in English when asked in English. Do not ask the user for confirmation.\n",
        "    Make the conversation interactive by giving financial advice and asking questions back.\n",
        "    Your goal is to find a satisfying answer to each customer's question.\n",
        "    Assume that any human asking you a question is an ING customer.\n",
        "\n",
        "    If necessary, decompose the question into multiple tasks and use the tools at your disposal to answer the subtasks before coming up with the final answer.\n",
        "    Search for information about ING savings accounts or Nibud recommendations. Pitch features or products of ING within your answers when it would be potentially beneficial for the customer.\n",
        "    Only do this when the pitch is relevant to the customer's question. Use the ingnl_retriever_tool to find relevant features and products of ING.\n",
        "\n",
        "    Additionally, include any relevant suggestions or recommendations from Nibud if they would be helpful for the customer. Use the nibudnl_retriever_tool for this purpose.\n",
        "    Make sure to use both tools whenever they may be even slightly useful. If you don't find something relevant from these tools, you don't need to incorporate it into your answer.\n",
        "    Just ignore it in that case.\n",
        "\n",
        "    Always answer in the same language you were asked the question in.\n",
        "\"\"\"\n",
        "\n",
        "memory = MemorySaver()\n",
        "agent = create_react_agent(model, tools, prompt=prompt, checkpointer=memory)\n",
        "session = FinHealthAgentSession(agent)\n",
        "display(Image(session.agent.get_graph().draw_mermaid_png()))"
      ],
      "metadata": {
        "colab": {
          "base_uri": "https://localhost:8080/",
          "height": 283
        },
        "id": "tuHsq7IJ20sZ",
        "outputId": "cebc0aee-e8e9-48d4-bdb9-c78c5657ad74"
      },
      "execution_count": 51,
      "outputs": [
        {
          "output_type": "stream",
          "name": "stdout",
          "text": [
            "Started session 520017...\n"
          ]
        },
        {
          "output_type": "display_data",
          "data": {
            "image/png": "[encoded data removed]",
            "text/plain": [
              "<IPython.core.display.Image object>"
            ]
          },
          "metadata": {}
        }
      ]
    },
    {
      "cell_type": "code",
      "source": [
        "session.ask(\"I earn 2000 euros per month, I pay 1200 euros per month of mortgage at my bank ING, and I hardly make it to the end of the month. What can I do to be more financially comfortable?\")"
      ],
      "metadata": {
        "colab": {
          "base_uri": "https://localhost:8080/",
          "height": 180
        },
        "id": "fkIq2rh12uHG",
        "outputId": "532c4750-6a28-47e9-df58-fe3db7ab7efb"
      },
      "execution_count": 52,
      "outputs": [
        {
          "output_type": "stream",
          "name": "stdout",
          "text": [
            "Tools used: ['retrieve_ingnl_information']\n",
            "\n"
          ]
        },
        {
          "output_type": "display_data",
          "data": {
            "text/plain": [
              "<IPython.core.display.Markdown object>"
            ],
            "text/markdown": "It sounds like you're in a tight spot, but don't worry, we can explore some options to help you feel\nmore financially secure. It's great that you're taking the initiative to address this!\n\nFirst off, since a large portion of your income goes towards your mortgage at ING, have you explored\nthe possibility of adjusting your mortgage terms? Sometimes, banks can offer solutions like\ntemporarily reducing payments if you're facing financial difficulties. I can search for information\nabout options to reduce mortgage payments due to financial difficulties at ING. Would you like me to\ndo that?\n\nIn the meantime, it might also be useful to get an overview of your spending. Do you have a budget\nthat you stick to each month?"
          },
          "metadata": {}
        }
      ]
    },
    {
      "cell_type": "code",
      "source": [
        "session.ask(\"Mortgage review and Budgeting\")"
      ],
      "metadata": {
        "colab": {
          "base_uri": "https://localhost:8080/",
          "height": 354
        },
        "id": "Itd9j3323J9M",
        "outputId": "6956894d-d6e0-44f0-89ea-8cb35872daf8"
      },
      "execution_count": 36,
      "outputs": [
        {
          "output_type": "stream",
          "name": "stdout",
          "text": [
            "Tools used: ['retrieve_ingnl_information', 'retrieve_nibudnl_information']\n",
            "\n"
          ]
        },
        {
          "output_type": "display_data",
          "data": {
            "text/plain": [
              "<IPython.core.display.Markdown object>"
            ],
            "text/markdown": "Okay, let's tackle the mortgage review and budgeting.\n\n**Mortgage Review:**\n\n*   **Contact ING:** The best first step is to contact ING directly to discuss your mortgage\noptions. You can inquire about the possibility of refinancing to a lower interest rate, especially\nif interest rates have dropped since you took out your mortgage. Also ask about any potential fees\nassociated with refinancing.\n*   **Check ING website:** I found some information on the ING website about payment arrangements\nfor mortgage arrears. While this isn't exactly what you're looking for, it indicates ING is willing\nto work with customers facing financial difficulties.\n*   **Consider extra payments:** The ING website mentions that extra payments on your loan can be a\nsmart choice. You'll pay interest on a lower debt. This way you will be cheaper every month and\nfinish paying off earlier.\n\n**Budgeting:**\n\n*   **Nibud Personal Budget Advice:** I recommend using the \"Persoonlijk Budgetadvies\" tool on the\nNibud website. This tool helps you gain insights into your income and expenses, compare your\nsituation with other households, and identify potential savings.\n*   **Track expenses:** Keep track of all your income and expenses.\n*   **Create overview:** create a monthly overview of your income and expenses.\n*   **Find savings:** Discover ways to save money and have more money left over.\n\nBy the way, do you have any savings at the moment?"
          },
          "metadata": {}
        }
      ]
    },
    {
      "cell_type": "code",
      "source": [
        "session.ask(\"I spend about 200 euros on boat and leisure activities, and I have about 10000 euros on investments and 2000 in svingas\")"
      ],
      "metadata": {
        "colab": {
          "base_uri": "https://localhost:8080/",
          "height": 353
        },
        "id": "mmQnadb94TnR",
        "outputId": "1a887262-fc69-40bb-e117-b3830b243657"
      },
      "execution_count": 29,
      "outputs": [
        {
          "output_type": "stream",
          "name": "stdout",
          "text": [
            "Tools used: []\n",
            "\n"
          ]
        },
        {
          "output_type": "display_data",
          "data": {
            "text/plain": [
              "<IPython.core.display.Markdown object>"
            ],
            "text/markdown": "That's helpful to know! Given your income, mortgage, leisure spending, and savings, here's a\npossible plan:\n\n1.  **Budgeting:** It seems like you have 600 euros left each month. It's important to know where\nthis money is going. I suggest tracking your spending for a month to see where your money is going.\nThis will help you identify areas where you can cut back.\n\n2.  **Mortgage:** Since your mortgage is a large part of your income, it may be worth exploring\noptions to reduce this cost.\n    *   Consider contacting ING to discuss your mortgage options. Perhaps there are possibilities to\nrefinance at a lower interest rate, or adjust the terms of your mortgage.\n    *   Be aware that refinancing can have risks.\n\n3.  **Savings:** It's great that you have some savings!\n    *   Consider opening a savings account at ING with a higher interest rate to make the most of\nyour savings.\n    *   Make sure you have enough emergency savings to cover unexpected expenses.\n\n4.  **Nibud Recommendations:**\n    *   I can search Nibud for general advise. Do you want me to do that?\n\nWould you like me to elaborate on any of these points, or would you like me to search for\ninformation about ING savings accounts or Nibud recommendations?"
          },
          "metadata": {}
        }
      ]
    },
    {
      "cell_type": "code",
      "source": [
        "session = FinHealthAgentSession(agent)\n",
        "session.ask(\"Hoe kan ik mijn maandelijkse kosten verlagen zonder mijn levensstijl te veel te veranderen?\")"
      ],
      "metadata": {
        "colab": {
          "base_uri": "https://localhost:8080/",
          "height": 644
        },
        "id": "Aw5qzjx-5UyA",
        "outputId": "96e2ea6d-4575-4326-881d-09ff90bbf69e"
      },
      "execution_count": 36,
      "outputs": [
        {
          "output_type": "stream",
          "name": "stdout",
          "text": [
            "Started session 715110...\n",
            "Tools used: []\n",
            "\n"
          ]
        },
        {
          "output_type": "display_data",
          "data": {
            "text/plain": [
              "<IPython.core.display.Markdown object>"
            ],
            "text/markdown": "Om je maandelijkse kosten te verlagen zonder je levensstijl drastisch te veranderen, zijn er\nverschillende stappen die je kunt ondernemen. Hier zijn enkele suggesties, gecombineerd met\nmogelijke relevante informatie van ING en Nibud:\n\n1.  **Budgetanalyse:** Begin met een overzicht van je inkomsten en uitgaven. Identificeer waar je\ngeld naartoe gaat. Dit kan met een kasboekje, spreadsheet, of de ING app.\n    *   **ING Suggestie:** Bekijk de functionaliteiten in de ING app die je helpen je uitgaven te\ncategoriseren en inzichtelijk te maken. Zoek in de ING app naar 'inzicht in je uitgaven'.\n    *   **Nibud Suggestie:** Nibud adviseert om een maandbudget op te stellen. Dit geeft inzicht in\nwaar je geld naartoe gaat en waar je kunt besparen.\n\n2.  **Vaste Lasten Onder de Loep:** Kijk kritisch naar je vaste lasten zoals energie, verzekeringen,\nen abonnementen.\n    *   **Energie:** Vergelijk energieleveranciers. Kleine aanpassingen in je energieverbruik (zoals\nminder lang douchen of de verwarming een graadje lager) kunnen al helpen.\n    *   **Verzekeringen:** Vergelijk premies van je verzekeringen (zoals auto-, inboedel-, en\naansprakelijkheidsverzekering). Vaak kun je dezelfde dekking goedkoper vinden.\n    *   **Abonnementen:** Zeg abonnementen op die je niet of nauwelijks gebruikt (bijvoorbeeld\nstreamingdiensten, tijdschriften, sportschool).\n    *   **Nibud Suggestie:** Nibud heeft tools en checklists om je te helpen bij het vergelijken van\nverzekeringen en het identificeren van onnodige abonnementen.\n\n3.  **Boodschappen:** Plan je maaltijden en maak een boodschappenlijstje. Koop aanbiedingen en\nvermijd impulsaankopen.\n    *   **Nibud Suggestie:** Nibud adviseert om te kijken naar huismerken, seizoensproducten en\nrestjes te verwerken in nieuwe maaltijden.\n\n4.  **Vervoer:** Overweeg alternatieven voor de auto, zoals fietsen of het openbaar vervoer, zeker\nvoor korte afstanden.\n    *   **ING Suggestie:** Kijk of je in aanmerking komt voor een groene lening van ING als je\noverweegt een energiezuinige auto of fiets aan te schaffen.\n    *   **Nibud Suggestie:** Nibud heeft informatie over de kosten van verschillende\nvervoersmiddelen, zodat je een bewuste keuze kunt maken.\n\n5.  **Bankkosten:** Controleer of je de meest voordelige bankrekening hebt.\n    *   **ING Suggestie:** Vergelijk de verschillende betaalpakketten van ING om te zien of er een\ngoedkopere optie is die beter bij je past.\n\n6.  **Sparen:** Stel een realistisch spaardoel vast en automatiseer je spaaroverboekingen. Ook\nkleine bedragen kunnen op termijn een verschil maken.\n    *   **ING Suggestie:** ING biedt verschillende spaarrekeningen aan, waaronder mogelijkheden voor\nautomatisch sparen.\n    *   **Nibud Suggestie:** Nibud benadrukt het belang van een buffer voor onvoorziene uitgaven.\n\nOm je verder te helpen, kan ik specifieke informatie opzoeken over ING producten of Nibud adviezen\ndie relevant zijn voor jouw situatie. Heb je bijvoorbeeld interesse in informatie over\nenergiebesparing, verzekeringen vergelijken, of spaarproducten van ING?"
          },
          "metadata": {}
        }
      ]
    },
    {
      "cell_type": "code",
      "source": [
        "session.ask(\"I earn 2000 euros per month, I pay 1200 euros per month of mortgage at my bank ING, and I hardly make it to the end of the month. What can I do to be more financially comfortable?\")"
      ],
      "metadata": {
        "colab": {
          "base_uri": "https://localhost:8080/",
          "height": 657
        },
        "id": "I-9cMIjWMYdJ",
        "outputId": "1047b18f-e3dc-4349-f2a9-40d2f9d55297"
      },
      "execution_count": 43,
      "outputs": [
        {
          "output_type": "stream",
          "name": "stdout",
          "text": [
            "Tools used: ['retrieve_nibudnl_information', 'retrieve_ingnl_information']\n",
            "\n"
          ]
        },
        {
          "output_type": "display_data",
          "data": {
            "text/plain": [
              "<IPython.core.display.Markdown object>"
            ],
            "text/markdown": "It sounds like you're in a tough spot, but there are definitely things you can do to improve your\nfinancial situation. Here's a breakdown of steps you can take:\n\n**1. Create a Detailed Budget:**\n\n*   **Track Your Spending:** Use a budgeting app or a simple spreadsheet to record every expense for\na month. ING has a tool called \"**Inzicht**\" in their app that categorizes your spending to show\nwhere your money goes.\n*   **Identify Areas to Cut Back:** Once you see where your money is going, look for areas where you\ncan reduce spending. Even small changes can add up.\n*   **Nibud's Advice:** Nibud recommends creating a budget to understand where you can save. They\nalso suggest involving your children in saving, for example, by making a game out of taking shorter\nshowers.\n\n**2. Increase Your Income (If Possible):**\n\n*   **Consider a Side Hustle:** Explore options for earning extra income in your spare time.\n*   **Evaluate Your Skills:** Are there skills you can leverage to offer services online or in your\ncommunity?\n\n**3. Review Your Mortgage:**\n\n*   **Contact ING:** Talk to ING about your mortgage options. See if you can refinance to a lower\ninterest rate or explore options for temporarily reducing your payments.\n*   **Get Advice:** Consider getting advice from a financial advisor about your mortgage.\n\n**4. Build an Emergency Fund:**\n\n*   **Start Small:** Even saving a small amount each month can create a buffer for unexpected\nexpenses.\n*   **Automate Savings:** Set up automatic transfers from your checking account to a savings\naccount. ING offers the \"**Rond af & Spaar**\" feature, which rounds up your purchases and saves the\ndifference.\n*   **Nibud's Advice:** Nibud emphasizes the importance of having a financial buffer for unexpected\nexpenses.\n\n**5. Check for Entitlements:**\n\n*   **Income Support:** Check if you are eligible for any income support programs from the\ngovernment.\n*   **Nibud's Advice:** Nibud advises checking for any national or local regulations that could\nprovide financial support.\n\n**6. Use ING's App Features:**\n\n*   **Kijk Vooruit (Look Ahead):** Use this feature to see upcoming income and expenses to avoid\nsurprises.\n*   **Spaardoelen (Savings Goals):** Create separate savings goals within your ING account to help\nyou save for specific things.\n\n**7. Seek Help if Needed:**\n\n*   **Debt Assistance:** If you're struggling to pay your bills, contact your municipality or call\nthe national helpline for debt assistance at 0800-8115.\n*   **Nibud's Advice:** Nibud recommends seeking help if you're having trouble making ends meet.\n\nRemember, even small steps can make a big difference over time. Good luck!"
          },
          "metadata": {}
        }
      ]
    },
    {
      "cell_type": "code",
      "source": [
        "session.ask(\"Hoe kom ik er achter welke abonnementen ik heb?\")"
      ],
      "metadata": {
        "colab": {
          "base_uri": "https://localhost:8080/",
          "height": 541
        },
        "id": "4eauc5T6Nwpz",
        "outputId": "a5a9444d-b381-43b3-ca3f-1c9471f533c0"
      },
      "execution_count": null,
      "outputs": [
        {
          "output_type": "stream",
          "name": "stdout",
          "text": [
            "Tools used: []\n",
            "\n"
          ]
        },
        {
          "output_type": "display_data",
          "data": {
            "text/plain": [
              "<IPython.core.display.Markdown object>"
            ],
            "text/markdown": "Om erachter te komen welke abonnementen je hebt, kun je verschillende methoden gebruiken:\n\n1.  **Bankafschriften en transactieoverzichten:**\n    *   **ING App/Mijn ING:** Bekijk je bankafschriften en transactieoverzichten in de ING app of op\nde ING website. Zoek naar regelmatige afschrijvingen met dezelfde omschrijving en bedrag. Dit zijn\nvaak abonnementen.\n    *   **Creditcardafschriften:** Controleer je creditcardafschriften op dezelfde manier.\n\n2.  **E-mailarchief:**\n    *   Zoek in je e-mail naar bevestigingsmails van abonnementen. Gebruik zoektermen zoals\n\"abonnement\", \"welkom\", \"bevestiging\", \"factuur\" en de namen van bekende abonnementsdiensten (bijv.\nNetflix, Spotify, etc.).\n\n3.  **Overzicht van automatische incasso's:**\n    *   **ING App/Mijn ING:** Kijk in je bankomgeving naar een overzicht van actieve automatische\nincasso's. Dit geeft een goed beeld van welke bedrijven regelmatig geld van je rekening afschrijven.\n\n4.  **Budgetteringsapps en -tools:**\n    *   Gebruik budgetteringsapps (zoals de \"Inzicht in je uitgaven\" functie in de ING app) die\nautomatisch je uitgaven categoriseren. Deze apps kunnen abonnementen herkennen en in een overzicht\nweergeven.\n\n5.  **Handmatige inventarisatie:**\n    *   Maak een lijst van alle diensten en producten waarvan je denkt dat je een abonnement hebt.\nDenk aan streamingdiensten, sportschool, tijdschriften, software, etc. Controleer vervolgens je\nbankafschriften en e-mails om te bevestigen of je daadwerkelijk een abonnement hebt en wat de kosten\nzijn.\n\n6.  **Check specifieke accounts:**\n    *   Log in op de websites van de diensten waarvan je vermoedt dat je een abonnement hebt. Vaak\nkun je in je accountinstellingen een overzicht van je abonnementen vinden.\n\nDoor deze stappen te volgen, zou je een goed beeld moeten krijgen van al je actieve abonnementen.\nVervolgens kun je beslissen welke abonnementen je wilt behouden en welke je kunt opzeggen om kosten\nte besparen."
          },
          "metadata": {}
        }
      ]
    },
    {
      "cell_type": "code",
      "source": [
        "session = FinHealthAgentSession(agent)\n",
        "session.ask(\"Hoe kan ik geld besparen volgens Nibud?\")"
      ],
      "metadata": {
        "id": "YqKoxAuyb5Hd",
        "outputId": "78c419c1-6169-4b68-84a1-33cee0fde99d",
        "colab": {
          "base_uri": "https://localhost:8080/",
          "height": 414
        }
      },
      "execution_count": null,
      "outputs": [
        {
          "output_type": "stream",
          "name": "stdout",
          "text": [
            "Started session 875494...\n",
            "Tools used: ['retrieve_nibudnl_information']\n",
            "\n"
          ]
        },
        {
          "output_type": "display_data",
          "data": {
            "text/plain": [
              "<IPython.core.display.Markdown object>"
            ],
            "text/markdown": "Volgens het Nibud zijn er verschillende manieren om geld te besparen. Hier zijn enkele tips:\n\n*   **Maak een bespaarplan:** Gebruik een stappenplan om inzicht te krijgen in waar je op kunt\nbesparen, keuzes te maken en een persoonlijk bespaarplan op te stellen.\n*   **Houd je uitgaven bij:** Noteer waar je geld naartoe gaat om inzicht te krijgen in je\nuitgavenpatroon. Dit kan met een kasboek of een app.\n*   **Bespaar op boodschappen:**\n    *   Maak een weekplanning en koop gericht in.\n    *   Bekijk folders voor aanbiedingen.\n    *   Doe geen boodschappen op een lege maag.\n    *   Kies huismerken.\n    *   Vermijd verspilling.\n*   **Wees creatief met aankopen:**\n    *   Denk bewust na over aankopen en slaap er een nachtje over.\n    *   Overweeg tweedehands of goedkopere alternatieven.\n    *   Maak gebruik van de bibliotheek.\n*   **Bespaar op energie:** Wees bewust van je water- en elektriciteitsverbruik.\n\nING heeft verschillende tools en functies in de app die je kunnen helpen bij het besparen van geld.\nZo kun je bijvoorbeeld budgetten instellen en je uitgaven categoriseren om inzicht te krijgen in\nwaar je geld naartoe gaat. Kijk eens in de ING app of op de ING website voor meer informatie over\ndeze mogelijkheden."
          },
          "metadata": {}
        }
      ]
    },
    {
      "cell_type": "code",
      "source": [],
      "metadata": {
        "id": "NYprjixZsFof"
      },
      "execution_count": null,
      "outputs": []
    }
  ]
}