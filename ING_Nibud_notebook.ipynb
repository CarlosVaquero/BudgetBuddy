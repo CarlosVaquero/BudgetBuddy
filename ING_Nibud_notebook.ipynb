{
  "nbformat": 4,
  "nbformat_minor": 0,
  "metadata": {
    "colab": {
      "provenance": [],
      "include_colab_link": true
    },
    "kernelspec": {
      "name": "python3",
      "display_name": "Python 3"
    },
    "language_info": {
      "name": "python"
    }
  },
  "cells": [
    {
      "cell_type": "markdown",
      "metadata": {
        "id": "view-in-github",
        "colab_type": "text"
      },
      "source": [
        "<a href=\"https://colab.research.google.com/github/CarlosVaquero/BudgetBuddy/blob/main/ING_Nibud_notebook.ipynb\" target=\"_parent\"><img src=\"https://colab.research.google.com/assets/colab-badge.svg\" alt=\"Open In Colab\"/></a>"
      ]
    },
    {
      "cell_type": "code",
      "source": [
        "!git clone https://github.com/CarlosVaquero/BudgetBuddy/"
      ],
      "metadata": {
        "colab": {
          "base_uri": "https://localhost:8080/"
        },
        "id": "UQXHf5Z0tMQQ",
        "outputId": "fd7d3205-218c-4bc6-8e40-3cd475fca671"
      },
      "execution_count": 1,
      "outputs": [
        {
          "output_type": "stream",
          "name": "stdout",
          "text": [
            "Cloning into 'BudgetBuddy'...\n",
            "remote: Enumerating objects: 951, done.\u001b[K\n",
            "remote: Counting objects: 100% (951/951), done.\u001b[K\n",
            "remote: Compressing objects: 100% (883/883), done.\u001b[K\n",
            "remote: Total 951 (delta 84), reused 919 (delta 65), pack-reused 0 (from 0)\u001b[K\n",
            "Receiving objects: 100% (951/951), 3.45 MiB | 15.34 MiB/s, done.\n",
            "Resolving deltas: 100% (84/84), done.\n"
          ]
        }
      ]
    },
    {
      "cell_type": "code",
      "source": [
        "!pip install langchain_community\n",
        "!pip install langchain-google-genai\n",
        "!pip install langchain-chroma\n",
        "!pip install faiss-cpu\n",
        "!pip install -U langgraph\n",
        "!pip install html2text"
      ],
      "metadata": {
        "colab": {
          "base_uri": "https://localhost:8080/"
        },
        "id": "g93rtQXft0er",
        "outputId": "469a33c5-57de-4dd5-e46c-b069f4638796",
        "collapsed": true
      },
      "execution_count": 1,
      "outputs": [
        {
          "output_type": "stream",
          "name": "stdout",
          "text": [
            "Requirement already satisfied: langchain_community in /usr/local/lib/python3.11/dist-packages (0.3.20)\n",
            "Requirement already satisfied: langchain-core<1.0.0,>=0.3.45 in /usr/local/lib/python3.11/dist-packages (from langchain_community) (0.3.49)\n",
            "Requirement already satisfied: langchain<1.0.0,>=0.3.21 in /usr/local/lib/python3.11/dist-packages (from langchain_community) (0.3.21)\n",
            "Requirement already satisfied: SQLAlchemy<3,>=1.4 in /usr/local/lib/python3.11/dist-packages (from langchain_community) (2.0.40)\n",
            "Requirement already satisfied: requests<3,>=2 in /usr/local/lib/python3.11/dist-packages (from langchain_community) (2.32.3)\n",
            "Requirement already satisfied: PyYAML>=5.3 in /usr/local/lib/python3.11/dist-packages (from langchain_community) (6.0.2)\n",
            "Requirement already satisfied: aiohttp<4.0.0,>=3.8.3 in /usr/local/lib/python3.11/dist-packages (from langchain_community) (3.11.14)\n",
            "Requirement already satisfied: tenacity!=8.4.0,<10,>=8.1.0 in /usr/local/lib/python3.11/dist-packages (from langchain_community) (9.0.0)\n",
            "Requirement already satisfied: dataclasses-json<0.7,>=0.5.7 in /usr/local/lib/python3.11/dist-packages (from langchain_community) (0.6.7)\n",
            "Requirement already satisfied: pydantic-settings<3.0.0,>=2.4.0 in /usr/local/lib/python3.11/dist-packages (from langchain_community) (2.8.1)\n",
            "Requirement already satisfied: langsmith<0.4,>=0.1.125 in /usr/local/lib/python3.11/dist-packages (from langchain_community) (0.3.19)\n",
            "Requirement already satisfied: httpx-sse<1.0.0,>=0.4.0 in /usr/local/lib/python3.11/dist-packages (from langchain_community) (0.4.0)\n",
            "Requirement already satisfied: numpy<3,>=1.26.2 in /usr/local/lib/python3.11/dist-packages (from langchain_community) (1.26.4)\n",
            "Requirement already satisfied: aiohappyeyeballs>=2.3.0 in /usr/local/lib/python3.11/dist-packages (from aiohttp<4.0.0,>=3.8.3->langchain_community) (2.6.1)\n",
            "Requirement already satisfied: aiosignal>=1.1.2 in /usr/local/lib/python3.11/dist-packages (from aiohttp<4.0.0,>=3.8.3->langchain_community) (1.3.2)\n",
            "Requirement already satisfied: attrs>=17.3.0 in /usr/local/lib/python3.11/dist-packages (from aiohttp<4.0.0,>=3.8.3->langchain_community) (25.3.0)\n",
            "Requirement already satisfied: frozenlist>=1.1.1 in /usr/local/lib/python3.11/dist-packages (from aiohttp<4.0.0,>=3.8.3->langchain_community) (1.5.0)\n",
            "Requirement already satisfied: multidict<7.0,>=4.5 in /usr/local/lib/python3.11/dist-packages (from aiohttp<4.0.0,>=3.8.3->langchain_community) (6.2.0)\n",
            "Requirement already satisfied: propcache>=0.2.0 in /usr/local/lib/python3.11/dist-packages (from aiohttp<4.0.0,>=3.8.3->langchain_community) (0.3.1)\n",
            "Requirement already satisfied: yarl<2.0,>=1.17.0 in /usr/local/lib/python3.11/dist-packages (from aiohttp<4.0.0,>=3.8.3->langchain_community) (1.18.3)\n",
            "Requirement already satisfied: marshmallow<4.0.0,>=3.18.0 in /usr/local/lib/python3.11/dist-packages (from dataclasses-json<0.7,>=0.5.7->langchain_community) (3.26.1)\n",
            "Requirement already satisfied: typing-inspect<1,>=0.4.0 in /usr/local/lib/python3.11/dist-packages (from dataclasses-json<0.7,>=0.5.7->langchain_community) (0.9.0)\n",
            "Requirement already satisfied: langchain-text-splitters<1.0.0,>=0.3.7 in /usr/local/lib/python3.11/dist-packages (from langchain<1.0.0,>=0.3.21->langchain_community) (0.3.7)\n",
            "Requirement already satisfied: pydantic<3.0.0,>=2.7.4 in /usr/local/lib/python3.11/dist-packages (from langchain<1.0.0,>=0.3.21->langchain_community) (2.11.0)\n",
            "Requirement already satisfied: jsonpatch<2.0,>=1.33 in /usr/local/lib/python3.11/dist-packages (from langchain-core<1.0.0,>=0.3.45->langchain_community) (1.33)\n",
            "Requirement already satisfied: packaging<25,>=23.2 in /usr/local/lib/python3.11/dist-packages (from langchain-core<1.0.0,>=0.3.45->langchain_community) (24.2)\n",
            "Requirement already satisfied: typing-extensions>=4.7 in /usr/local/lib/python3.11/dist-packages (from langchain-core<1.0.0,>=0.3.45->langchain_community) (4.13.0)\n",
            "Requirement already satisfied: httpx<1,>=0.23.0 in /usr/local/lib/python3.11/dist-packages (from langsmith<0.4,>=0.1.125->langchain_community) (0.28.1)\n",
            "Requirement already satisfied: orjson<4.0.0,>=3.9.14 in /usr/local/lib/python3.11/dist-packages (from langsmith<0.4,>=0.1.125->langchain_community) (3.10.16)\n",
            "Requirement already satisfied: requests-toolbelt<2.0.0,>=1.0.0 in /usr/local/lib/python3.11/dist-packages (from langsmith<0.4,>=0.1.125->langchain_community) (1.0.0)\n",
            "Requirement already satisfied: zstandard<0.24.0,>=0.23.0 in /usr/local/lib/python3.11/dist-packages (from langsmith<0.4,>=0.1.125->langchain_community) (0.23.0)\n",
            "Requirement already satisfied: python-dotenv>=0.21.0 in /usr/local/lib/python3.11/dist-packages (from pydantic-settings<3.0.0,>=2.4.0->langchain_community) (1.1.0)\n",
            "Requirement already satisfied: charset-normalizer<4,>=2 in /usr/local/lib/python3.11/dist-packages (from requests<3,>=2->langchain_community) (3.4.1)\n",
            "Requirement already satisfied: idna<4,>=2.5 in /usr/local/lib/python3.11/dist-packages (from requests<3,>=2->langchain_community) (3.10)\n",
            "Requirement already satisfied: urllib3<3,>=1.21.1 in /usr/local/lib/python3.11/dist-packages (from requests<3,>=2->langchain_community) (2.3.0)\n",
            "Requirement already satisfied: certifi>=2017.4.17 in /usr/local/lib/python3.11/dist-packages (from requests<3,>=2->langchain_community) (2025.1.31)\n",
            "Requirement already satisfied: greenlet>=1 in /usr/local/lib/python3.11/dist-packages (from SQLAlchemy<3,>=1.4->langchain_community) (3.1.1)\n",
            "Requirement already satisfied: anyio in /usr/local/lib/python3.11/dist-packages (from httpx<1,>=0.23.0->langsmith<0.4,>=0.1.125->langchain_community) (4.9.0)\n",
            "Requirement already satisfied: httpcore==1.* in /usr/local/lib/python3.11/dist-packages (from httpx<1,>=0.23.0->langsmith<0.4,>=0.1.125->langchain_community) (1.0.7)\n",
            "Requirement already satisfied: h11<0.15,>=0.13 in /usr/local/lib/python3.11/dist-packages (from httpcore==1.*->httpx<1,>=0.23.0->langsmith<0.4,>=0.1.125->langchain_community) (0.14.0)\n",
            "Requirement already satisfied: jsonpointer>=1.9 in /usr/local/lib/python3.11/dist-packages (from jsonpatch<2.0,>=1.33->langchain-core<1.0.0,>=0.3.45->langchain_community) (3.0.0)\n",
            "Requirement already satisfied: annotated-types>=0.6.0 in /usr/local/lib/python3.11/dist-packages (from pydantic<3.0.0,>=2.7.4->langchain<1.0.0,>=0.3.21->langchain_community) (0.7.0)\n",
            "Requirement already satisfied: pydantic-core==2.33.0 in /usr/local/lib/python3.11/dist-packages (from pydantic<3.0.0,>=2.7.4->langchain<1.0.0,>=0.3.21->langchain_community) (2.33.0)\n",
            "Requirement already satisfied: typing-inspection>=0.4.0 in /usr/local/lib/python3.11/dist-packages (from pydantic<3.0.0,>=2.7.4->langchain<1.0.0,>=0.3.21->langchain_community) (0.4.0)\n",
            "Requirement already satisfied: mypy-extensions>=0.3.0 in /usr/local/lib/python3.11/dist-packages (from typing-inspect<1,>=0.4.0->dataclasses-json<0.7,>=0.5.7->langchain_community) (1.0.0)\n",
            "Requirement already satisfied: sniffio>=1.1 in /usr/local/lib/python3.11/dist-packages (from anyio->httpx<1,>=0.23.0->langsmith<0.4,>=0.1.125->langchain_community) (1.3.1)\n",
            "Requirement already satisfied: langchain-google-genai in /usr/local/lib/python3.11/dist-packages (2.1.2)\n",
            "Requirement already satisfied: filetype<2.0.0,>=1.2.0 in /usr/local/lib/python3.11/dist-packages (from langchain-google-genai) (1.2.0)\n",
            "Requirement already satisfied: google-ai-generativelanguage<0.7.0,>=0.6.16 in /usr/local/lib/python3.11/dist-packages (from langchain-google-genai) (0.6.17)\n",
            "Requirement already satisfied: langchain-core<0.4.0,>=0.3.49 in /usr/local/lib/python3.11/dist-packages (from langchain-google-genai) (0.3.49)\n",
            "Requirement already satisfied: pydantic<3,>=2 in /usr/local/lib/python3.11/dist-packages (from langchain-google-genai) (2.11.0)\n",
            "Requirement already satisfied: google-api-core!=2.0.*,!=2.1.*,!=2.10.*,!=2.2.*,!=2.3.*,!=2.4.*,!=2.5.*,!=2.6.*,!=2.7.*,!=2.8.*,!=2.9.*,<3.0.0,>=1.34.1 in /usr/local/lib/python3.11/dist-packages (from google-api-core[grpc]!=2.0.*,!=2.1.*,!=2.10.*,!=2.2.*,!=2.3.*,!=2.4.*,!=2.5.*,!=2.6.*,!=2.7.*,!=2.8.*,!=2.9.*,<3.0.0,>=1.34.1->google-ai-generativelanguage<0.7.0,>=0.6.16->langchain-google-genai) (2.24.2)\n",
            "Requirement already satisfied: google-auth!=2.24.0,!=2.25.0,<3.0.0,>=2.14.1 in /usr/local/lib/python3.11/dist-packages (from google-ai-generativelanguage<0.7.0,>=0.6.16->langchain-google-genai) (2.38.0)\n",
            "Requirement already satisfied: proto-plus<2.0.0,>=1.22.3 in /usr/local/lib/python3.11/dist-packages (from google-ai-generativelanguage<0.7.0,>=0.6.16->langchain-google-genai) (1.26.1)\n",
            "Requirement already satisfied: protobuf!=4.21.0,!=4.21.1,!=4.21.2,!=4.21.3,!=4.21.4,!=4.21.5,<7.0.0,>=3.20.2 in /usr/local/lib/python3.11/dist-packages (from google-ai-generativelanguage<0.7.0,>=0.6.16->langchain-google-genai) (5.29.4)\n",
            "Requirement already satisfied: langsmith<0.4,>=0.1.125 in /usr/local/lib/python3.11/dist-packages (from langchain-core<0.4.0,>=0.3.49->langchain-google-genai) (0.3.19)\n",
            "Requirement already satisfied: tenacity!=8.4.0,<10.0.0,>=8.1.0 in /usr/local/lib/python3.11/dist-packages (from langchain-core<0.4.0,>=0.3.49->langchain-google-genai) (9.0.0)\n",
            "Requirement already satisfied: jsonpatch<2.0,>=1.33 in /usr/local/lib/python3.11/dist-packages (from langchain-core<0.4.0,>=0.3.49->langchain-google-genai) (1.33)\n",
            "Requirement already satisfied: PyYAML>=5.3 in /usr/local/lib/python3.11/dist-packages (from langchain-core<0.4.0,>=0.3.49->langchain-google-genai) (6.0.2)\n",
            "Requirement already satisfied: packaging<25,>=23.2 in /usr/local/lib/python3.11/dist-packages (from langchain-core<0.4.0,>=0.3.49->langchain-google-genai) (24.2)\n",
            "Requirement already satisfied: typing-extensions>=4.7 in /usr/local/lib/python3.11/dist-packages (from langchain-core<0.4.0,>=0.3.49->langchain-google-genai) (4.13.0)\n",
            "Requirement already satisfied: annotated-types>=0.6.0 in /usr/local/lib/python3.11/dist-packages (from pydantic<3,>=2->langchain-google-genai) (0.7.0)\n",
            "Requirement already satisfied: pydantic-core==2.33.0 in /usr/local/lib/python3.11/dist-packages (from pydantic<3,>=2->langchain-google-genai) (2.33.0)\n",
            "Requirement already satisfied: typing-inspection>=0.4.0 in /usr/local/lib/python3.11/dist-packages (from pydantic<3,>=2->langchain-google-genai) (0.4.0)\n",
            "Requirement already satisfied: googleapis-common-protos<2.0.0,>=1.56.2 in /usr/local/lib/python3.11/dist-packages (from google-api-core!=2.0.*,!=2.1.*,!=2.10.*,!=2.2.*,!=2.3.*,!=2.4.*,!=2.5.*,!=2.6.*,!=2.7.*,!=2.8.*,!=2.9.*,<3.0.0,>=1.34.1->google-api-core[grpc]!=2.0.*,!=2.1.*,!=2.10.*,!=2.2.*,!=2.3.*,!=2.4.*,!=2.5.*,!=2.6.*,!=2.7.*,!=2.8.*,!=2.9.*,<3.0.0,>=1.34.1->google-ai-generativelanguage<0.7.0,>=0.6.16->langchain-google-genai) (1.69.2)\n",
            "Requirement already satisfied: requests<3.0.0,>=2.18.0 in /usr/local/lib/python3.11/dist-packages (from google-api-core!=2.0.*,!=2.1.*,!=2.10.*,!=2.2.*,!=2.3.*,!=2.4.*,!=2.5.*,!=2.6.*,!=2.7.*,!=2.8.*,!=2.9.*,<3.0.0,>=1.34.1->google-api-core[grpc]!=2.0.*,!=2.1.*,!=2.10.*,!=2.2.*,!=2.3.*,!=2.4.*,!=2.5.*,!=2.6.*,!=2.7.*,!=2.8.*,!=2.9.*,<3.0.0,>=1.34.1->google-ai-generativelanguage<0.7.0,>=0.6.16->langchain-google-genai) (2.32.3)\n",
            "Requirement already satisfied: grpcio<2.0dev,>=1.33.2 in /usr/local/lib/python3.11/dist-packages (from google-api-core[grpc]!=2.0.*,!=2.1.*,!=2.10.*,!=2.2.*,!=2.3.*,!=2.4.*,!=2.5.*,!=2.6.*,!=2.7.*,!=2.8.*,!=2.9.*,<3.0.0,>=1.34.1->google-ai-generativelanguage<0.7.0,>=0.6.16->langchain-google-genai) (1.71.0)\n",
            "Requirement already satisfied: grpcio-status<2.0.dev0,>=1.33.2 in /usr/local/lib/python3.11/dist-packages (from google-api-core[grpc]!=2.0.*,!=2.1.*,!=2.10.*,!=2.2.*,!=2.3.*,!=2.4.*,!=2.5.*,!=2.6.*,!=2.7.*,!=2.8.*,!=2.9.*,<3.0.0,>=1.34.1->google-ai-generativelanguage<0.7.0,>=0.6.16->langchain-google-genai) (1.71.0)\n",
            "Requirement already satisfied: cachetools<6.0,>=2.0.0 in /usr/local/lib/python3.11/dist-packages (from google-auth!=2.24.0,!=2.25.0,<3.0.0,>=2.14.1->google-ai-generativelanguage<0.7.0,>=0.6.16->langchain-google-genai) (5.5.2)\n",
            "Requirement already satisfied: pyasn1-modules>=0.2.1 in /usr/local/lib/python3.11/dist-packages (from google-auth!=2.24.0,!=2.25.0,<3.0.0,>=2.14.1->google-ai-generativelanguage<0.7.0,>=0.6.16->langchain-google-genai) (0.4.2)\n",
            "Requirement already satisfied: rsa<5,>=3.1.4 in /usr/local/lib/python3.11/dist-packages (from google-auth!=2.24.0,!=2.25.0,<3.0.0,>=2.14.1->google-ai-generativelanguage<0.7.0,>=0.6.16->langchain-google-genai) (4.9)\n",
            "Requirement already satisfied: jsonpointer>=1.9 in /usr/local/lib/python3.11/dist-packages (from jsonpatch<2.0,>=1.33->langchain-core<0.4.0,>=0.3.49->langchain-google-genai) (3.0.0)\n",
            "Requirement already satisfied: httpx<1,>=0.23.0 in /usr/local/lib/python3.11/dist-packages (from langsmith<0.4,>=0.1.125->langchain-core<0.4.0,>=0.3.49->langchain-google-genai) (0.28.1)\n",
            "Requirement already satisfied: orjson<4.0.0,>=3.9.14 in /usr/local/lib/python3.11/dist-packages (from langsmith<0.4,>=0.1.125->langchain-core<0.4.0,>=0.3.49->langchain-google-genai) (3.10.16)\n",
            "Requirement already satisfied: requests-toolbelt<2.0.0,>=1.0.0 in /usr/local/lib/python3.11/dist-packages (from langsmith<0.4,>=0.1.125->langchain-core<0.4.0,>=0.3.49->langchain-google-genai) (1.0.0)\n",
            "Requirement already satisfied: zstandard<0.24.0,>=0.23.0 in /usr/local/lib/python3.11/dist-packages (from langsmith<0.4,>=0.1.125->langchain-core<0.4.0,>=0.3.49->langchain-google-genai) (0.23.0)\n",
            "Requirement already satisfied: anyio in /usr/local/lib/python3.11/dist-packages (from httpx<1,>=0.23.0->langsmith<0.4,>=0.1.125->langchain-core<0.4.0,>=0.3.49->langchain-google-genai) (4.9.0)\n",
            "Requirement already satisfied: certifi in /usr/local/lib/python3.11/dist-packages (from httpx<1,>=0.23.0->langsmith<0.4,>=0.1.125->langchain-core<0.4.0,>=0.3.49->langchain-google-genai) (2025.1.31)\n",
            "Requirement already satisfied: httpcore==1.* in /usr/local/lib/python3.11/dist-packages (from httpx<1,>=0.23.0->langsmith<0.4,>=0.1.125->langchain-core<0.4.0,>=0.3.49->langchain-google-genai) (1.0.7)\n",
            "Requirement already satisfied: idna in /usr/local/lib/python3.11/dist-packages (from httpx<1,>=0.23.0->langsmith<0.4,>=0.1.125->langchain-core<0.4.0,>=0.3.49->langchain-google-genai) (3.10)\n",
            "Requirement already satisfied: h11<0.15,>=0.13 in /usr/local/lib/python3.11/dist-packages (from httpcore==1.*->httpx<1,>=0.23.0->langsmith<0.4,>=0.1.125->langchain-core<0.4.0,>=0.3.49->langchain-google-genai) (0.14.0)\n",
            "Requirement already satisfied: pyasn1<0.7.0,>=0.6.1 in /usr/local/lib/python3.11/dist-packages (from pyasn1-modules>=0.2.1->google-auth!=2.24.0,!=2.25.0,<3.0.0,>=2.14.1->google-ai-generativelanguage<0.7.0,>=0.6.16->langchain-google-genai) (0.6.1)\n",
            "Requirement already satisfied: charset-normalizer<4,>=2 in /usr/local/lib/python3.11/dist-packages (from requests<3.0.0,>=2.18.0->google-api-core!=2.0.*,!=2.1.*,!=2.10.*,!=2.2.*,!=2.3.*,!=2.4.*,!=2.5.*,!=2.6.*,!=2.7.*,!=2.8.*,!=2.9.*,<3.0.0,>=1.34.1->google-api-core[grpc]!=2.0.*,!=2.1.*,!=2.10.*,!=2.2.*,!=2.3.*,!=2.4.*,!=2.5.*,!=2.6.*,!=2.7.*,!=2.8.*,!=2.9.*,<3.0.0,>=1.34.1->google-ai-generativelanguage<0.7.0,>=0.6.16->langchain-google-genai) (3.4.1)\n",
            "Requirement already satisfied: urllib3<3,>=1.21.1 in /usr/local/lib/python3.11/dist-packages (from requests<3.0.0,>=2.18.0->google-api-core!=2.0.*,!=2.1.*,!=2.10.*,!=2.2.*,!=2.3.*,!=2.4.*,!=2.5.*,!=2.6.*,!=2.7.*,!=2.8.*,!=2.9.*,<3.0.0,>=1.34.1->google-api-core[grpc]!=2.0.*,!=2.1.*,!=2.10.*,!=2.2.*,!=2.3.*,!=2.4.*,!=2.5.*,!=2.6.*,!=2.7.*,!=2.8.*,!=2.9.*,<3.0.0,>=1.34.1->google-ai-generativelanguage<0.7.0,>=0.6.16->langchain-google-genai) (2.3.0)\n",
            "Requirement already satisfied: sniffio>=1.1 in /usr/local/lib/python3.11/dist-packages (from anyio->httpx<1,>=0.23.0->langsmith<0.4,>=0.1.125->langchain-core<0.4.0,>=0.3.49->langchain-google-genai) (1.3.1)\n",
            "Requirement already satisfied: langchain-chroma in /usr/local/lib/python3.11/dist-packages (0.2.2)\n",
            "Requirement already satisfied: langchain-core!=0.3.0,!=0.3.1,!=0.3.10,!=0.3.11,!=0.3.12,!=0.3.13,!=0.3.14,!=0.3.2,!=0.3.3,!=0.3.4,!=0.3.5,!=0.3.6,!=0.3.7,!=0.3.8,!=0.3.9,<0.4.0,>=0.2.43 in /usr/local/lib/python3.11/dist-packages (from langchain-chroma) (0.3.49)\n",
            "Requirement already satisfied: numpy<2.0.0,>=1.22.4 in /usr/local/lib/python3.11/dist-packages (from langchain-chroma) (1.26.4)\n",
            "Requirement already satisfied: chromadb!=0.5.10,!=0.5.11,!=0.5.12,!=0.5.4,!=0.5.5,!=0.5.7,!=0.5.9,<0.7.0,>=0.4.0 in /usr/local/lib/python3.11/dist-packages (from langchain-chroma) (0.6.3)\n",
            "Requirement already satisfied: build>=1.0.3 in /usr/local/lib/python3.11/dist-packages (from chromadb!=0.5.10,!=0.5.11,!=0.5.12,!=0.5.4,!=0.5.5,!=0.5.7,!=0.5.9,<0.7.0,>=0.4.0->langchain-chroma) (1.2.2.post1)\n",
            "Requirement already satisfied: pydantic>=1.9 in /usr/local/lib/python3.11/dist-packages (from chromadb!=0.5.10,!=0.5.11,!=0.5.12,!=0.5.4,!=0.5.5,!=0.5.7,!=0.5.9,<0.7.0,>=0.4.0->langchain-chroma) (2.11.0)\n",
            "Requirement already satisfied: chroma-hnswlib==0.7.6 in /usr/local/lib/python3.11/dist-packages (from chromadb!=0.5.10,!=0.5.11,!=0.5.12,!=0.5.4,!=0.5.5,!=0.5.7,!=0.5.9,<0.7.0,>=0.4.0->langchain-chroma) (0.7.6)\n",
            "Requirement already satisfied: fastapi>=0.95.2 in /usr/local/lib/python3.11/dist-packages (from chromadb!=0.5.10,!=0.5.11,!=0.5.12,!=0.5.4,!=0.5.5,!=0.5.7,!=0.5.9,<0.7.0,>=0.4.0->langchain-chroma) (0.115.12)\n",
            "Requirement already satisfied: uvicorn>=0.18.3 in /usr/local/lib/python3.11/dist-packages (from uvicorn[standard]>=0.18.3->chromadb!=0.5.10,!=0.5.11,!=0.5.12,!=0.5.4,!=0.5.5,!=0.5.7,!=0.5.9,<0.7.0,>=0.4.0->langchain-chroma) (0.34.0)\n",
            "Requirement already satisfied: posthog>=2.4.0 in /usr/local/lib/python3.11/dist-packages (from chromadb!=0.5.10,!=0.5.11,!=0.5.12,!=0.5.4,!=0.5.5,!=0.5.7,!=0.5.9,<0.7.0,>=0.4.0->langchain-chroma) (3.23.0)\n",
            "Requirement already satisfied: typing_extensions>=4.5.0 in /usr/local/lib/python3.11/dist-packages (from chromadb!=0.5.10,!=0.5.11,!=0.5.12,!=0.5.4,!=0.5.5,!=0.5.7,!=0.5.9,<0.7.0,>=0.4.0->langchain-chroma) (4.13.0)\n",
            "Requirement already satisfied: onnxruntime>=1.14.1 in /usr/local/lib/python3.11/dist-packages (from chromadb!=0.5.10,!=0.5.11,!=0.5.12,!=0.5.4,!=0.5.5,!=0.5.7,!=0.5.9,<0.7.0,>=0.4.0->langchain-chroma) (1.21.0)\n",
            "Requirement already satisfied: opentelemetry-api>=1.2.0 in /usr/local/lib/python3.11/dist-packages (from chromadb!=0.5.10,!=0.5.11,!=0.5.12,!=0.5.4,!=0.5.5,!=0.5.7,!=0.5.9,<0.7.0,>=0.4.0->langchain-chroma) (1.31.1)\n",
            "Requirement already satisfied: opentelemetry-exporter-otlp-proto-grpc>=1.2.0 in /usr/local/lib/python3.11/dist-packages (from chromadb!=0.5.10,!=0.5.11,!=0.5.12,!=0.5.4,!=0.5.5,!=0.5.7,!=0.5.9,<0.7.0,>=0.4.0->langchain-chroma) (1.31.1)\n",
            "Requirement already satisfied: opentelemetry-instrumentation-fastapi>=0.41b0 in /usr/local/lib/python3.11/dist-packages (from chromadb!=0.5.10,!=0.5.11,!=0.5.12,!=0.5.4,!=0.5.5,!=0.5.7,!=0.5.9,<0.7.0,>=0.4.0->langchain-chroma) (0.52b1)\n",
            "Requirement already satisfied: opentelemetry-sdk>=1.2.0 in /usr/local/lib/python3.11/dist-packages (from chromadb!=0.5.10,!=0.5.11,!=0.5.12,!=0.5.4,!=0.5.5,!=0.5.7,!=0.5.9,<0.7.0,>=0.4.0->langchain-chroma) (1.31.1)\n",
            "Requirement already satisfied: tokenizers>=0.13.2 in /usr/local/lib/python3.11/dist-packages (from chromadb!=0.5.10,!=0.5.11,!=0.5.12,!=0.5.4,!=0.5.5,!=0.5.7,!=0.5.9,<0.7.0,>=0.4.0->langchain-chroma) (0.21.1)\n",
            "Requirement already satisfied: pypika>=0.48.9 in /usr/local/lib/python3.11/dist-packages (from chromadb!=0.5.10,!=0.5.11,!=0.5.12,!=0.5.4,!=0.5.5,!=0.5.7,!=0.5.9,<0.7.0,>=0.4.0->langchain-chroma) (0.48.9)\n",
            "Requirement already satisfied: tqdm>=4.65.0 in /usr/local/lib/python3.11/dist-packages (from chromadb!=0.5.10,!=0.5.11,!=0.5.12,!=0.5.4,!=0.5.5,!=0.5.7,!=0.5.9,<0.7.0,>=0.4.0->langchain-chroma) (4.67.1)\n",
            "Requirement already satisfied: overrides>=7.3.1 in /usr/local/lib/python3.11/dist-packages (from chromadb!=0.5.10,!=0.5.11,!=0.5.12,!=0.5.4,!=0.5.5,!=0.5.7,!=0.5.9,<0.7.0,>=0.4.0->langchain-chroma) (7.7.0)\n",
            "Requirement already satisfied: importlib-resources in /usr/local/lib/python3.11/dist-packages (from chromadb!=0.5.10,!=0.5.11,!=0.5.12,!=0.5.4,!=0.5.5,!=0.5.7,!=0.5.9,<0.7.0,>=0.4.0->langchain-chroma) (6.5.2)\n",
            "Requirement already satisfied: grpcio>=1.58.0 in /usr/local/lib/python3.11/dist-packages (from chromadb!=0.5.10,!=0.5.11,!=0.5.12,!=0.5.4,!=0.5.5,!=0.5.7,!=0.5.9,<0.7.0,>=0.4.0->langchain-chroma) (1.71.0)\n",
            "Requirement already satisfied: bcrypt>=4.0.1 in /usr/local/lib/python3.11/dist-packages (from chromadb!=0.5.10,!=0.5.11,!=0.5.12,!=0.5.4,!=0.5.5,!=0.5.7,!=0.5.9,<0.7.0,>=0.4.0->langchain-chroma) (4.3.0)\n",
            "Requirement already satisfied: typer>=0.9.0 in /usr/local/lib/python3.11/dist-packages (from chromadb!=0.5.10,!=0.5.11,!=0.5.12,!=0.5.4,!=0.5.5,!=0.5.7,!=0.5.9,<0.7.0,>=0.4.0->langchain-chroma) (0.15.2)\n",
            "Requirement already satisfied: kubernetes>=28.1.0 in /usr/local/lib/python3.11/dist-packages (from chromadb!=0.5.10,!=0.5.11,!=0.5.12,!=0.5.4,!=0.5.5,!=0.5.7,!=0.5.9,<0.7.0,>=0.4.0->langchain-chroma) (32.0.1)\n",
            "Requirement already satisfied: tenacity>=8.2.3 in /usr/local/lib/python3.11/dist-packages (from chromadb!=0.5.10,!=0.5.11,!=0.5.12,!=0.5.4,!=0.5.5,!=0.5.7,!=0.5.9,<0.7.0,>=0.4.0->langchain-chroma) (9.0.0)\n",
            "Requirement already satisfied: PyYAML>=6.0.0 in /usr/local/lib/python3.11/dist-packages (from chromadb!=0.5.10,!=0.5.11,!=0.5.12,!=0.5.4,!=0.5.5,!=0.5.7,!=0.5.9,<0.7.0,>=0.4.0->langchain-chroma) (6.0.2)\n",
            "Requirement already satisfied: mmh3>=4.0.1 in /usr/local/lib/python3.11/dist-packages (from chromadb!=0.5.10,!=0.5.11,!=0.5.12,!=0.5.4,!=0.5.5,!=0.5.7,!=0.5.9,<0.7.0,>=0.4.0->langchain-chroma) (5.1.0)\n",
            "Requirement already satisfied: orjson>=3.9.12 in /usr/local/lib/python3.11/dist-packages (from chromadb!=0.5.10,!=0.5.11,!=0.5.12,!=0.5.4,!=0.5.5,!=0.5.7,!=0.5.9,<0.7.0,>=0.4.0->langchain-chroma) (3.10.16)\n",
            "Requirement already satisfied: httpx>=0.27.0 in /usr/local/lib/python3.11/dist-packages (from chromadb!=0.5.10,!=0.5.11,!=0.5.12,!=0.5.4,!=0.5.5,!=0.5.7,!=0.5.9,<0.7.0,>=0.4.0->langchain-chroma) (0.28.1)\n",
            "Requirement already satisfied: rich>=10.11.0 in /usr/local/lib/python3.11/dist-packages (from chromadb!=0.5.10,!=0.5.11,!=0.5.12,!=0.5.4,!=0.5.5,!=0.5.7,!=0.5.9,<0.7.0,>=0.4.0->langchain-chroma) (13.9.4)\n",
            "Requirement already satisfied: langsmith<0.4,>=0.1.125 in /usr/local/lib/python3.11/dist-packages (from langchain-core!=0.3.0,!=0.3.1,!=0.3.10,!=0.3.11,!=0.3.12,!=0.3.13,!=0.3.14,!=0.3.2,!=0.3.3,!=0.3.4,!=0.3.5,!=0.3.6,!=0.3.7,!=0.3.8,!=0.3.9,<0.4.0,>=0.2.43->langchain-chroma) (0.3.19)\n",
            "Requirement already satisfied: jsonpatch<2.0,>=1.33 in /usr/local/lib/python3.11/dist-packages (from langchain-core!=0.3.0,!=0.3.1,!=0.3.10,!=0.3.11,!=0.3.12,!=0.3.13,!=0.3.14,!=0.3.2,!=0.3.3,!=0.3.4,!=0.3.5,!=0.3.6,!=0.3.7,!=0.3.8,!=0.3.9,<0.4.0,>=0.2.43->langchain-chroma) (1.33)\n",
            "Requirement already satisfied: packaging<25,>=23.2 in /usr/local/lib/python3.11/dist-packages (from langchain-core!=0.3.0,!=0.3.1,!=0.3.10,!=0.3.11,!=0.3.12,!=0.3.13,!=0.3.14,!=0.3.2,!=0.3.3,!=0.3.4,!=0.3.5,!=0.3.6,!=0.3.7,!=0.3.8,!=0.3.9,<0.4.0,>=0.2.43->langchain-chroma) (24.2)\n",
            "Requirement already satisfied: pyproject_hooks in /usr/local/lib/python3.11/dist-packages (from build>=1.0.3->chromadb!=0.5.10,!=0.5.11,!=0.5.12,!=0.5.4,!=0.5.5,!=0.5.7,!=0.5.9,<0.7.0,>=0.4.0->langchain-chroma) (1.2.0)\n",
            "Requirement already satisfied: starlette<0.47.0,>=0.40.0 in /usr/local/lib/python3.11/dist-packages (from fastapi>=0.95.2->chromadb!=0.5.10,!=0.5.11,!=0.5.12,!=0.5.4,!=0.5.5,!=0.5.7,!=0.5.9,<0.7.0,>=0.4.0->langchain-chroma) (0.46.1)\n",
            "Requirement already satisfied: anyio in /usr/local/lib/python3.11/dist-packages (from httpx>=0.27.0->chromadb!=0.5.10,!=0.5.11,!=0.5.12,!=0.5.4,!=0.5.5,!=0.5.7,!=0.5.9,<0.7.0,>=0.4.0->langchain-chroma) (4.9.0)\n",
            "Requirement already satisfied: certifi in /usr/local/lib/python3.11/dist-packages (from httpx>=0.27.0->chromadb!=0.5.10,!=0.5.11,!=0.5.12,!=0.5.4,!=0.5.5,!=0.5.7,!=0.5.9,<0.7.0,>=0.4.0->langchain-chroma) (2025.1.31)\n",
            "Requirement already satisfied: httpcore==1.* in /usr/local/lib/python3.11/dist-packages (from httpx>=0.27.0->chromadb!=0.5.10,!=0.5.11,!=0.5.12,!=0.5.4,!=0.5.5,!=0.5.7,!=0.5.9,<0.7.0,>=0.4.0->langchain-chroma) (1.0.7)\n",
            "Requirement already satisfied: idna in /usr/local/lib/python3.11/dist-packages (from httpx>=0.27.0->chromadb!=0.5.10,!=0.5.11,!=0.5.12,!=0.5.4,!=0.5.5,!=0.5.7,!=0.5.9,<0.7.0,>=0.4.0->langchain-chroma) (3.10)\n",
            "Requirement already satisfied: h11<0.15,>=0.13 in /usr/local/lib/python3.11/dist-packages (from httpcore==1.*->httpx>=0.27.0->chromadb!=0.5.10,!=0.5.11,!=0.5.12,!=0.5.4,!=0.5.5,!=0.5.7,!=0.5.9,<0.7.0,>=0.4.0->langchain-chroma) (0.14.0)\n",
            "Requirement already satisfied: jsonpointer>=1.9 in /usr/local/lib/python3.11/dist-packages (from jsonpatch<2.0,>=1.33->langchain-core!=0.3.0,!=0.3.1,!=0.3.10,!=0.3.11,!=0.3.12,!=0.3.13,!=0.3.14,!=0.3.2,!=0.3.3,!=0.3.4,!=0.3.5,!=0.3.6,!=0.3.7,!=0.3.8,!=0.3.9,<0.4.0,>=0.2.43->langchain-chroma) (3.0.0)\n",
            "Requirement already satisfied: six>=1.9.0 in /usr/local/lib/python3.11/dist-packages (from kubernetes>=28.1.0->chromadb!=0.5.10,!=0.5.11,!=0.5.12,!=0.5.4,!=0.5.5,!=0.5.7,!=0.5.9,<0.7.0,>=0.4.0->langchain-chroma) (1.17.0)\n",
            "Requirement already satisfied: python-dateutil>=2.5.3 in /usr/local/lib/python3.11/dist-packages (from kubernetes>=28.1.0->chromadb!=0.5.10,!=0.5.11,!=0.5.12,!=0.5.4,!=0.5.5,!=0.5.7,!=0.5.9,<0.7.0,>=0.4.0->langchain-chroma) (2.8.2)\n",
            "Requirement already satisfied: google-auth>=1.0.1 in /usr/local/lib/python3.11/dist-packages (from kubernetes>=28.1.0->chromadb!=0.5.10,!=0.5.11,!=0.5.12,!=0.5.4,!=0.5.5,!=0.5.7,!=0.5.9,<0.7.0,>=0.4.0->langchain-chroma) (2.38.0)\n",
            "Requirement already satisfied: websocket-client!=0.40.0,!=0.41.*,!=0.42.*,>=0.32.0 in /usr/local/lib/python3.11/dist-packages (from kubernetes>=28.1.0->chromadb!=0.5.10,!=0.5.11,!=0.5.12,!=0.5.4,!=0.5.5,!=0.5.7,!=0.5.9,<0.7.0,>=0.4.0->langchain-chroma) (1.8.0)\n",
            "Requirement already satisfied: requests in /usr/local/lib/python3.11/dist-packages (from kubernetes>=28.1.0->chromadb!=0.5.10,!=0.5.11,!=0.5.12,!=0.5.4,!=0.5.5,!=0.5.7,!=0.5.9,<0.7.0,>=0.4.0->langchain-chroma) (2.32.3)\n",
            "Requirement already satisfied: requests-oauthlib in /usr/local/lib/python3.11/dist-packages (from kubernetes>=28.1.0->chromadb!=0.5.10,!=0.5.11,!=0.5.12,!=0.5.4,!=0.5.5,!=0.5.7,!=0.5.9,<0.7.0,>=0.4.0->langchain-chroma) (2.0.0)\n",
            "Requirement already satisfied: oauthlib>=3.2.2 in /usr/local/lib/python3.11/dist-packages (from kubernetes>=28.1.0->chromadb!=0.5.10,!=0.5.11,!=0.5.12,!=0.5.4,!=0.5.5,!=0.5.7,!=0.5.9,<0.7.0,>=0.4.0->langchain-chroma) (3.2.2)\n",
            "Requirement already satisfied: urllib3>=1.24.2 in /usr/local/lib/python3.11/dist-packages (from kubernetes>=28.1.0->chromadb!=0.5.10,!=0.5.11,!=0.5.12,!=0.5.4,!=0.5.5,!=0.5.7,!=0.5.9,<0.7.0,>=0.4.0->langchain-chroma) (2.3.0)\n",
            "Requirement already satisfied: durationpy>=0.7 in /usr/local/lib/python3.11/dist-packages (from kubernetes>=28.1.0->chromadb!=0.5.10,!=0.5.11,!=0.5.12,!=0.5.4,!=0.5.5,!=0.5.7,!=0.5.9,<0.7.0,>=0.4.0->langchain-chroma) (0.9)\n",
            "Requirement already satisfied: requests-toolbelt<2.0.0,>=1.0.0 in /usr/local/lib/python3.11/dist-packages (from langsmith<0.4,>=0.1.125->langchain-core!=0.3.0,!=0.3.1,!=0.3.10,!=0.3.11,!=0.3.12,!=0.3.13,!=0.3.14,!=0.3.2,!=0.3.3,!=0.3.4,!=0.3.5,!=0.3.6,!=0.3.7,!=0.3.8,!=0.3.9,<0.4.0,>=0.2.43->langchain-chroma) (1.0.0)\n",
            "Requirement already satisfied: zstandard<0.24.0,>=0.23.0 in /usr/local/lib/python3.11/dist-packages (from langsmith<0.4,>=0.1.125->langchain-core!=0.3.0,!=0.3.1,!=0.3.10,!=0.3.11,!=0.3.12,!=0.3.13,!=0.3.14,!=0.3.2,!=0.3.3,!=0.3.4,!=0.3.5,!=0.3.6,!=0.3.7,!=0.3.8,!=0.3.9,<0.4.0,>=0.2.43->langchain-chroma) (0.23.0)\n",
            "Requirement already satisfied: coloredlogs in /usr/local/lib/python3.11/dist-packages (from onnxruntime>=1.14.1->chromadb!=0.5.10,!=0.5.11,!=0.5.12,!=0.5.4,!=0.5.5,!=0.5.7,!=0.5.9,<0.7.0,>=0.4.0->langchain-chroma) (15.0.1)\n",
            "Requirement already satisfied: flatbuffers in /usr/local/lib/python3.11/dist-packages (from onnxruntime>=1.14.1->chromadb!=0.5.10,!=0.5.11,!=0.5.12,!=0.5.4,!=0.5.5,!=0.5.7,!=0.5.9,<0.7.0,>=0.4.0->langchain-chroma) (25.2.10)\n",
            "Requirement already satisfied: protobuf in /usr/local/lib/python3.11/dist-packages (from onnxruntime>=1.14.1->chromadb!=0.5.10,!=0.5.11,!=0.5.12,!=0.5.4,!=0.5.5,!=0.5.7,!=0.5.9,<0.7.0,>=0.4.0->langchain-chroma) (5.29.4)\n",
            "Requirement already satisfied: sympy in /usr/local/lib/python3.11/dist-packages (from onnxruntime>=1.14.1->chromadb!=0.5.10,!=0.5.11,!=0.5.12,!=0.5.4,!=0.5.5,!=0.5.7,!=0.5.9,<0.7.0,>=0.4.0->langchain-chroma) (1.13.1)\n",
            "Requirement already satisfied: deprecated>=1.2.6 in /usr/local/lib/python3.11/dist-packages (from opentelemetry-api>=1.2.0->chromadb!=0.5.10,!=0.5.11,!=0.5.12,!=0.5.4,!=0.5.5,!=0.5.7,!=0.5.9,<0.7.0,>=0.4.0->langchain-chroma) (1.2.18)\n",
            "Requirement already satisfied: importlib-metadata<8.7.0,>=6.0 in /usr/local/lib/python3.11/dist-packages (from opentelemetry-api>=1.2.0->chromadb!=0.5.10,!=0.5.11,!=0.5.12,!=0.5.4,!=0.5.5,!=0.5.7,!=0.5.9,<0.7.0,>=0.4.0->langchain-chroma) (8.6.1)\n",
            "Requirement already satisfied: googleapis-common-protos~=1.52 in /usr/local/lib/python3.11/dist-packages (from opentelemetry-exporter-otlp-proto-grpc>=1.2.0->chromadb!=0.5.10,!=0.5.11,!=0.5.12,!=0.5.4,!=0.5.5,!=0.5.7,!=0.5.9,<0.7.0,>=0.4.0->langchain-chroma) (1.69.2)\n",
            "Requirement already satisfied: opentelemetry-exporter-otlp-proto-common==1.31.1 in /usr/local/lib/python3.11/dist-packages (from opentelemetry-exporter-otlp-proto-grpc>=1.2.0->chromadb!=0.5.10,!=0.5.11,!=0.5.12,!=0.5.4,!=0.5.5,!=0.5.7,!=0.5.9,<0.7.0,>=0.4.0->langchain-chroma) (1.31.1)\n",
            "Requirement already satisfied: opentelemetry-proto==1.31.1 in /usr/local/lib/python3.11/dist-packages (from opentelemetry-exporter-otlp-proto-grpc>=1.2.0->chromadb!=0.5.10,!=0.5.11,!=0.5.12,!=0.5.4,!=0.5.5,!=0.5.7,!=0.5.9,<0.7.0,>=0.4.0->langchain-chroma) (1.31.1)\n",
            "Requirement already satisfied: opentelemetry-instrumentation-asgi==0.52b1 in /usr/local/lib/python3.11/dist-packages (from opentelemetry-instrumentation-fastapi>=0.41b0->chromadb!=0.5.10,!=0.5.11,!=0.5.12,!=0.5.4,!=0.5.5,!=0.5.7,!=0.5.9,<0.7.0,>=0.4.0->langchain-chroma) (0.52b1)\n",
            "Requirement already satisfied: opentelemetry-instrumentation==0.52b1 in /usr/local/lib/python3.11/dist-packages (from opentelemetry-instrumentation-fastapi>=0.41b0->chromadb!=0.5.10,!=0.5.11,!=0.5.12,!=0.5.4,!=0.5.5,!=0.5.7,!=0.5.9,<0.7.0,>=0.4.0->langchain-chroma) (0.52b1)\n",
            "Requirement already satisfied: opentelemetry-semantic-conventions==0.52b1 in /usr/local/lib/python3.11/dist-packages (from opentelemetry-instrumentation-fastapi>=0.41b0->chromadb!=0.5.10,!=0.5.11,!=0.5.12,!=0.5.4,!=0.5.5,!=0.5.7,!=0.5.9,<0.7.0,>=0.4.0->langchain-chroma) (0.52b1)\n",
            "Requirement already satisfied: opentelemetry-util-http==0.52b1 in /usr/local/lib/python3.11/dist-packages (from opentelemetry-instrumentation-fastapi>=0.41b0->chromadb!=0.5.10,!=0.5.11,!=0.5.12,!=0.5.4,!=0.5.5,!=0.5.7,!=0.5.9,<0.7.0,>=0.4.0->langchain-chroma) (0.52b1)\n",
            "Requirement already satisfied: wrapt<2.0.0,>=1.0.0 in /usr/local/lib/python3.11/dist-packages (from opentelemetry-instrumentation==0.52b1->opentelemetry-instrumentation-fastapi>=0.41b0->chromadb!=0.5.10,!=0.5.11,!=0.5.12,!=0.5.4,!=0.5.5,!=0.5.7,!=0.5.9,<0.7.0,>=0.4.0->langchain-chroma) (1.17.2)\n",
            "Requirement already satisfied: asgiref~=3.0 in /usr/local/lib/python3.11/dist-packages (from opentelemetry-instrumentation-asgi==0.52b1->opentelemetry-instrumentation-fastapi>=0.41b0->chromadb!=0.5.10,!=0.5.11,!=0.5.12,!=0.5.4,!=0.5.5,!=0.5.7,!=0.5.9,<0.7.0,>=0.4.0->langchain-chroma) (3.8.1)\n",
            "Requirement already satisfied: monotonic>=1.5 in /usr/local/lib/python3.11/dist-packages (from posthog>=2.4.0->chromadb!=0.5.10,!=0.5.11,!=0.5.12,!=0.5.4,!=0.5.5,!=0.5.7,!=0.5.9,<0.7.0,>=0.4.0->langchain-chroma) (1.6)\n",
            "Requirement already satisfied: backoff>=1.10.0 in /usr/local/lib/python3.11/dist-packages (from posthog>=2.4.0->chromadb!=0.5.10,!=0.5.11,!=0.5.12,!=0.5.4,!=0.5.5,!=0.5.7,!=0.5.9,<0.7.0,>=0.4.0->langchain-chroma) (2.2.1)\n",
            "Requirement already satisfied: distro>=1.5.0 in /usr/local/lib/python3.11/dist-packages (from posthog>=2.4.0->chromadb!=0.5.10,!=0.5.11,!=0.5.12,!=0.5.4,!=0.5.5,!=0.5.7,!=0.5.9,<0.7.0,>=0.4.0->langchain-chroma) (1.9.0)\n",
            "Requirement already satisfied: annotated-types>=0.6.0 in /usr/local/lib/python3.11/dist-packages (from pydantic>=1.9->chromadb!=0.5.10,!=0.5.11,!=0.5.12,!=0.5.4,!=0.5.5,!=0.5.7,!=0.5.9,<0.7.0,>=0.4.0->langchain-chroma) (0.7.0)\n",
            "Requirement already satisfied: pydantic-core==2.33.0 in /usr/local/lib/python3.11/dist-packages (from pydantic>=1.9->chromadb!=0.5.10,!=0.5.11,!=0.5.12,!=0.5.4,!=0.5.5,!=0.5.7,!=0.5.9,<0.7.0,>=0.4.0->langchain-chroma) (2.33.0)\n",
            "Requirement already satisfied: typing-inspection>=0.4.0 in /usr/local/lib/python3.11/dist-packages (from pydantic>=1.9->chromadb!=0.5.10,!=0.5.11,!=0.5.12,!=0.5.4,!=0.5.5,!=0.5.7,!=0.5.9,<0.7.0,>=0.4.0->langchain-chroma) (0.4.0)\n",
            "Requirement already satisfied: markdown-it-py>=2.2.0 in /usr/local/lib/python3.11/dist-packages (from rich>=10.11.0->chromadb!=0.5.10,!=0.5.11,!=0.5.12,!=0.5.4,!=0.5.5,!=0.5.7,!=0.5.9,<0.7.0,>=0.4.0->langchain-chroma) (3.0.0)\n",
            "Requirement already satisfied: pygments<3.0.0,>=2.13.0 in /usr/local/lib/python3.11/dist-packages (from rich>=10.11.0->chromadb!=0.5.10,!=0.5.11,!=0.5.12,!=0.5.4,!=0.5.5,!=0.5.7,!=0.5.9,<0.7.0,>=0.4.0->langchain-chroma) (2.18.0)\n",
            "Requirement already satisfied: huggingface-hub<1.0,>=0.16.4 in /usr/local/lib/python3.11/dist-packages (from tokenizers>=0.13.2->chromadb!=0.5.10,!=0.5.11,!=0.5.12,!=0.5.4,!=0.5.5,!=0.5.7,!=0.5.9,<0.7.0,>=0.4.0->langchain-chroma) (0.29.3)\n",
            "Requirement already satisfied: click>=8.0.0 in /usr/local/lib/python3.11/dist-packages (from typer>=0.9.0->chromadb!=0.5.10,!=0.5.11,!=0.5.12,!=0.5.4,!=0.5.5,!=0.5.7,!=0.5.9,<0.7.0,>=0.4.0->langchain-chroma) (8.1.8)\n",
            "Requirement already satisfied: shellingham>=1.3.0 in /usr/local/lib/python3.11/dist-packages (from typer>=0.9.0->chromadb!=0.5.10,!=0.5.11,!=0.5.12,!=0.5.4,!=0.5.5,!=0.5.7,!=0.5.9,<0.7.0,>=0.4.0->langchain-chroma) (1.5.4)\n",
            "Requirement already satisfied: httptools>=0.6.3 in /usr/local/lib/python3.11/dist-packages (from uvicorn[standard]>=0.18.3->chromadb!=0.5.10,!=0.5.11,!=0.5.12,!=0.5.4,!=0.5.5,!=0.5.7,!=0.5.9,<0.7.0,>=0.4.0->langchain-chroma) (0.6.4)\n",
            "Requirement already satisfied: python-dotenv>=0.13 in /usr/local/lib/python3.11/dist-packages (from uvicorn[standard]>=0.18.3->chromadb!=0.5.10,!=0.5.11,!=0.5.12,!=0.5.4,!=0.5.5,!=0.5.7,!=0.5.9,<0.7.0,>=0.4.0->langchain-chroma) (1.1.0)\n",
            "Requirement already satisfied: uvloop!=0.15.0,!=0.15.1,>=0.14.0 in /usr/local/lib/python3.11/dist-packages (from uvicorn[standard]>=0.18.3->chromadb!=0.5.10,!=0.5.11,!=0.5.12,!=0.5.4,!=0.5.5,!=0.5.7,!=0.5.9,<0.7.0,>=0.4.0->langchain-chroma) (0.21.0)\n",
            "Requirement already satisfied: watchfiles>=0.13 in /usr/local/lib/python3.11/dist-packages (from uvicorn[standard]>=0.18.3->chromadb!=0.5.10,!=0.5.11,!=0.5.12,!=0.5.4,!=0.5.5,!=0.5.7,!=0.5.9,<0.7.0,>=0.4.0->langchain-chroma) (1.0.4)\n",
            "Requirement already satisfied: websockets>=10.4 in /usr/local/lib/python3.11/dist-packages (from uvicorn[standard]>=0.18.3->chromadb!=0.5.10,!=0.5.11,!=0.5.12,!=0.5.4,!=0.5.5,!=0.5.7,!=0.5.9,<0.7.0,>=0.4.0->langchain-chroma) (15.0.1)\n",
            "Requirement already satisfied: cachetools<6.0,>=2.0.0 in /usr/local/lib/python3.11/dist-packages (from google-auth>=1.0.1->kubernetes>=28.1.0->chromadb!=0.5.10,!=0.5.11,!=0.5.12,!=0.5.4,!=0.5.5,!=0.5.7,!=0.5.9,<0.7.0,>=0.4.0->langchain-chroma) (5.5.2)\n",
            "Requirement already satisfied: pyasn1-modules>=0.2.1 in /usr/local/lib/python3.11/dist-packages (from google-auth>=1.0.1->kubernetes>=28.1.0->chromadb!=0.5.10,!=0.5.11,!=0.5.12,!=0.5.4,!=0.5.5,!=0.5.7,!=0.5.9,<0.7.0,>=0.4.0->langchain-chroma) (0.4.2)\n",
            "Requirement already satisfied: rsa<5,>=3.1.4 in /usr/local/lib/python3.11/dist-packages (from google-auth>=1.0.1->kubernetes>=28.1.0->chromadb!=0.5.10,!=0.5.11,!=0.5.12,!=0.5.4,!=0.5.5,!=0.5.7,!=0.5.9,<0.7.0,>=0.4.0->langchain-chroma) (4.9)\n",
            "Requirement already satisfied: filelock in /usr/local/lib/python3.11/dist-packages (from huggingface-hub<1.0,>=0.16.4->tokenizers>=0.13.2->chromadb!=0.5.10,!=0.5.11,!=0.5.12,!=0.5.4,!=0.5.5,!=0.5.7,!=0.5.9,<0.7.0,>=0.4.0->langchain-chroma) (3.18.0)\n",
            "Requirement already satisfied: fsspec>=2023.5.0 in /usr/local/lib/python3.11/dist-packages (from huggingface-hub<1.0,>=0.16.4->tokenizers>=0.13.2->chromadb!=0.5.10,!=0.5.11,!=0.5.12,!=0.5.4,!=0.5.5,!=0.5.7,!=0.5.9,<0.7.0,>=0.4.0->langchain-chroma) (2025.3.0)\n",
            "Requirement already satisfied: zipp>=3.20 in /usr/local/lib/python3.11/dist-packages (from importlib-metadata<8.7.0,>=6.0->opentelemetry-api>=1.2.0->chromadb!=0.5.10,!=0.5.11,!=0.5.12,!=0.5.4,!=0.5.5,!=0.5.7,!=0.5.9,<0.7.0,>=0.4.0->langchain-chroma) (3.21.0)\n",
            "Requirement already satisfied: mdurl~=0.1 in /usr/local/lib/python3.11/dist-packages (from markdown-it-py>=2.2.0->rich>=10.11.0->chromadb!=0.5.10,!=0.5.11,!=0.5.12,!=0.5.4,!=0.5.5,!=0.5.7,!=0.5.9,<0.7.0,>=0.4.0->langchain-chroma) (0.1.2)\n",
            "Requirement already satisfied: charset-normalizer<4,>=2 in /usr/local/lib/python3.11/dist-packages (from requests->kubernetes>=28.1.0->chromadb!=0.5.10,!=0.5.11,!=0.5.12,!=0.5.4,!=0.5.5,!=0.5.7,!=0.5.9,<0.7.0,>=0.4.0->langchain-chroma) (3.4.1)\n",
            "Requirement already satisfied: sniffio>=1.1 in /usr/local/lib/python3.11/dist-packages (from anyio->httpx>=0.27.0->chromadb!=0.5.10,!=0.5.11,!=0.5.12,!=0.5.4,!=0.5.5,!=0.5.7,!=0.5.9,<0.7.0,>=0.4.0->langchain-chroma) (1.3.1)\n",
            "Requirement already satisfied: humanfriendly>=9.1 in /usr/local/lib/python3.11/dist-packages (from coloredlogs->onnxruntime>=1.14.1->chromadb!=0.5.10,!=0.5.11,!=0.5.12,!=0.5.4,!=0.5.5,!=0.5.7,!=0.5.9,<0.7.0,>=0.4.0->langchain-chroma) (10.0)\n",
            "Requirement already satisfied: mpmath<1.4,>=1.1.0 in /usr/local/lib/python3.11/dist-packages (from sympy->onnxruntime>=1.14.1->chromadb!=0.5.10,!=0.5.11,!=0.5.12,!=0.5.4,!=0.5.5,!=0.5.7,!=0.5.9,<0.7.0,>=0.4.0->langchain-chroma) (1.3.0)\n",
            "Requirement already satisfied: pyasn1<0.7.0,>=0.6.1 in /usr/local/lib/python3.11/dist-packages (from pyasn1-modules>=0.2.1->google-auth>=1.0.1->kubernetes>=28.1.0->chromadb!=0.5.10,!=0.5.11,!=0.5.12,!=0.5.4,!=0.5.5,!=0.5.7,!=0.5.9,<0.7.0,>=0.4.0->langchain-chroma) (0.6.1)\n",
            "Requirement already satisfied: faiss-cpu in /usr/local/lib/python3.11/dist-packages (1.10.0)\n",
            "Requirement already satisfied: numpy<3.0,>=1.25.0 in /usr/local/lib/python3.11/dist-packages (from faiss-cpu) (1.26.4)\n",
            "Requirement already satisfied: packaging in /usr/local/lib/python3.11/dist-packages (from faiss-cpu) (24.2)\n",
            "Requirement already satisfied: langgraph in /usr/local/lib/python3.11/dist-packages (0.3.24)\n",
            "Requirement already satisfied: langchain-core<0.4,>=0.1 in /usr/local/lib/python3.11/dist-packages (from langgraph) (0.3.49)\n",
            "Requirement already satisfied: langgraph-checkpoint<3.0.0,>=2.0.10 in /usr/local/lib/python3.11/dist-packages (from langgraph) (2.0.24)\n",
            "Requirement already satisfied: langgraph-prebuilt<0.2,>=0.1.1 in /usr/local/lib/python3.11/dist-packages (from langgraph) (0.1.7)\n",
            "Requirement already satisfied: langgraph-sdk<0.2.0,>=0.1.42 in /usr/local/lib/python3.11/dist-packages (from langgraph) (0.1.61)\n",
            "Requirement already satisfied: xxhash<4.0.0,>=3.5.0 in /usr/local/lib/python3.11/dist-packages (from langgraph) (3.5.0)\n",
            "Requirement already satisfied: langsmith<0.4,>=0.1.125 in /usr/local/lib/python3.11/dist-packages (from langchain-core<0.4,>=0.1->langgraph) (0.3.19)\n",
            "Requirement already satisfied: tenacity!=8.4.0,<10.0.0,>=8.1.0 in /usr/local/lib/python3.11/dist-packages (from langchain-core<0.4,>=0.1->langgraph) (9.0.0)\n",
            "Requirement already satisfied: jsonpatch<2.0,>=1.33 in /usr/local/lib/python3.11/dist-packages (from langchain-core<0.4,>=0.1->langgraph) (1.33)\n",
            "Requirement already satisfied: PyYAML>=5.3 in /usr/local/lib/python3.11/dist-packages (from langchain-core<0.4,>=0.1->langgraph) (6.0.2)\n",
            "Requirement already satisfied: packaging<25,>=23.2 in /usr/local/lib/python3.11/dist-packages (from langchain-core<0.4,>=0.1->langgraph) (24.2)\n",
            "Requirement already satisfied: typing-extensions>=4.7 in /usr/local/lib/python3.11/dist-packages (from langchain-core<0.4,>=0.1->langgraph) (4.13.0)\n",
            "Requirement already satisfied: pydantic<3.0.0,>=2.5.2 in /usr/local/lib/python3.11/dist-packages (from langchain-core<0.4,>=0.1->langgraph) (2.11.0)\n",
            "Requirement already satisfied: ormsgpack<2.0.0,>=1.8.0 in /usr/local/lib/python3.11/dist-packages (from langgraph-checkpoint<3.0.0,>=2.0.10->langgraph) (1.9.1)\n",
            "Requirement already satisfied: httpx>=0.25.2 in /usr/local/lib/python3.11/dist-packages (from langgraph-sdk<0.2.0,>=0.1.42->langgraph) (0.28.1)\n",
            "Requirement already satisfied: orjson>=3.10.1 in /usr/local/lib/python3.11/dist-packages (from langgraph-sdk<0.2.0,>=0.1.42->langgraph) (3.10.16)\n",
            "Requirement already satisfied: anyio in /usr/local/lib/python3.11/dist-packages (from httpx>=0.25.2->langgraph-sdk<0.2.0,>=0.1.42->langgraph) (4.9.0)\n",
            "Requirement already satisfied: certifi in /usr/local/lib/python3.11/dist-packages (from httpx>=0.25.2->langgraph-sdk<0.2.0,>=0.1.42->langgraph) (2025.1.31)\n",
            "Requirement already satisfied: httpcore==1.* in /usr/local/lib/python3.11/dist-packages (from httpx>=0.25.2->langgraph-sdk<0.2.0,>=0.1.42->langgraph) (1.0.7)\n",
            "Requirement already satisfied: idna in /usr/local/lib/python3.11/dist-packages (from httpx>=0.25.2->langgraph-sdk<0.2.0,>=0.1.42->langgraph) (3.10)\n",
            "Requirement already satisfied: h11<0.15,>=0.13 in /usr/local/lib/python3.11/dist-packages (from httpcore==1.*->httpx>=0.25.2->langgraph-sdk<0.2.0,>=0.1.42->langgraph) (0.14.0)\n",
            "Requirement already satisfied: jsonpointer>=1.9 in /usr/local/lib/python3.11/dist-packages (from jsonpatch<2.0,>=1.33->langchain-core<0.4,>=0.1->langgraph) (3.0.0)\n",
            "Requirement already satisfied: requests<3,>=2 in /usr/local/lib/python3.11/dist-packages (from langsmith<0.4,>=0.1.125->langchain-core<0.4,>=0.1->langgraph) (2.32.3)\n",
            "Requirement already satisfied: requests-toolbelt<2.0.0,>=1.0.0 in /usr/local/lib/python3.11/dist-packages (from langsmith<0.4,>=0.1.125->langchain-core<0.4,>=0.1->langgraph) (1.0.0)\n",
            "Requirement already satisfied: zstandard<0.24.0,>=0.23.0 in /usr/local/lib/python3.11/dist-packages (from langsmith<0.4,>=0.1.125->langchain-core<0.4,>=0.1->langgraph) (0.23.0)\n",
            "Requirement already satisfied: annotated-types>=0.6.0 in /usr/local/lib/python3.11/dist-packages (from pydantic<3.0.0,>=2.5.2->langchain-core<0.4,>=0.1->langgraph) (0.7.0)\n",
            "Requirement already satisfied: pydantic-core==2.33.0 in /usr/local/lib/python3.11/dist-packages (from pydantic<3.0.0,>=2.5.2->langchain-core<0.4,>=0.1->langgraph) (2.33.0)\n",
            "Requirement already satisfied: typing-inspection>=0.4.0 in /usr/local/lib/python3.11/dist-packages (from pydantic<3.0.0,>=2.5.2->langchain-core<0.4,>=0.1->langgraph) (0.4.0)\n",
            "Requirement already satisfied: charset-normalizer<4,>=2 in /usr/local/lib/python3.11/dist-packages (from requests<3,>=2->langsmith<0.4,>=0.1.125->langchain-core<0.4,>=0.1->langgraph) (3.4.1)\n",
            "Requirement already satisfied: urllib3<3,>=1.21.1 in /usr/local/lib/python3.11/dist-packages (from requests<3,>=2->langsmith<0.4,>=0.1.125->langchain-core<0.4,>=0.1->langgraph) (2.3.0)\n",
            "Requirement already satisfied: sniffio>=1.1 in /usr/local/lib/python3.11/dist-packages (from anyio->httpx>=0.25.2->langgraph-sdk<0.2.0,>=0.1.42->langgraph) (1.3.1)\n",
            "Requirement already satisfied: html2text in /usr/local/lib/python3.11/dist-packages (2024.2.26)\n"
          ]
        }
      ]
    },
    {
      "cell_type": "code",
      "source": [
        "from langgraph.checkpoint.memory import MemorySaver\n",
        "from langgraph.prebuilt import create_react_agent\n",
        "from langchain.tools import BaseTool\n",
        "from langchain.tools.retriever import create_retriever_tool\n",
        "from langchain_chroma import Chroma\n",
        "from langchain_community.document_loaders import TextLoader, AsyncHtmlLoader\n",
        "from langchain_community.vectorstores import FAISS\n",
        "from langchain_community.tools.tavily_search import TavilySearchResults\n",
        "from langchain_community.document_transformers import Html2TextTransformer\n",
        "from langchain_core.messages import AnyMessage, SystemMessage, HumanMessage, ToolMessage, AIMessage, trim_messages\n",
        "from langchain_google_genai import GoogleGenerativeAIEmbeddings, ChatGoogleGenerativeAI\n",
        "from langchain_text_splitters import CharacterTextSplitter\n",
        "\n",
        "from pydantic import Field\n",
        "from bs4 import BeautifulSoup\n",
        "import re\n",
        "import time\n",
        "import getpass\n",
        "import textwrap\n",
        "import requests\n",
        "import random\n",
        "import os\n",
        "import getpass\n",
        "from IPython.display import Image, display, Markdown\n",
        "\n"
      ],
      "metadata": {
        "id": "EIojxxPRxb3i",
        "colab": {
          "base_uri": "https://localhost:8080/"
        },
        "outputId": "e0b593f8-df29-4ddc-84dc-c502b07e6fa0"
      },
      "execution_count": 2,
      "outputs": [
        {
          "output_type": "stream",
          "name": "stderr",
          "text": [
            "WARNING:langchain_community.utils.user_agent:USER_AGENT environment variable not set, consider setting it to identify your requests.\n"
          ]
        }
      ]
    },
    {
      "cell_type": "code",
      "execution_count": 3,
      "metadata": {
        "id": "6xLKNJfrpAfj",
        "colab": {
          "base_uri": "https://localhost:8080/"
        },
        "outputId": "ec9f5ee9-ae05-4f8e-dd62-38b7cb2cffb4"
      },
      "outputs": [
        {
          "name": "stdout",
          "output_type": "stream",
          "text": [
            "Gemini API Key:··········\n",
            "Enter your Tavily API key: ··········\n"
          ]
        }
      ],
      "source": [
        "if \"GOOGLE_API_KEY\" not in os.environ:\n",
        "    os.environ['GOOGLE_API_KEY'] = getpass.getpass('Gemini API Key:')\n",
        "\n",
        "if \"TAVILY_API_KEY\" not in os.environ:\n",
        "    os.environ[\"TAVILY_API_KEY\"] = getpass.getpass(\"Enter your Tavily API key: \")"
      ]
    },
    {
      "cell_type": "markdown",
      "source": [
        "## Define the LLM to use"
      ],
      "metadata": {
        "id": "ZNZ4uaws4ty_"
      }
    },
    {
      "cell_type": "code",
      "source": [
        "# Create LLM model\n",
        "model = ChatGoogleGenerativeAI(\n",
        "    model=\"gemini-2.0-flash\",\n",
        "    temperature=0,\n",
        "    max_retries=2\n",
        ")"
      ],
      "metadata": {
        "id": "RJXang452QKY"
      },
      "execution_count": 4,
      "outputs": []
    },
    {
      "cell_type": "markdown",
      "source": [
        "## Create the vector store"
      ],
      "metadata": {
        "id": "1_aEInE42S95"
      }
    },
    {
      "cell_type": "code",
      "source": [
        "def load_vector_store(\n",
        "    documents,\n",
        "    vector_store_path: str = \"BudgetBuddy/vectorstore/ingnl\",\n",
        "    embeddings = GoogleGenerativeAIEmbeddings(model=\"models/text-embedding-004\"),\n",
        "    overwrite: bool = False\n",
        "):\n",
        "    if overwrite:\n",
        "        # Refresh the vector store\n",
        "        db_faiss = store_docs_as_vector_store(documents, vector_store_path, embeddings)\n",
        "        print(\"Saved vector store to file\")\n",
        "    else:\n",
        "        # Try loading it from file\n",
        "        try:\n",
        "            db_faiss = FAISS.load_local(\n",
        "                vector_store_path, embeddings, allow_dangerous_deserialization=True\n",
        "            )\n",
        "            print(\"Loaded vector store from file\")\n",
        "        except Exception:\n",
        "            # Can't find it, so refresh the database\n",
        "            db_faiss = store_docs_as_vector_store(documents, vector_store_path, embeddings)\n",
        "            print(\"Saved vector store to file\")\n",
        "    return db_faiss\n",
        "\n",
        "def store_docs_as_vector_store(\n",
        "    documents,\n",
        "    vector_store_path: str = \"BudgetBuddy/vectorstore/ingnl\",\n",
        "    embeddings = GoogleGenerativeAIEmbeddings(model=\"models/text-embedding-004\")\n",
        "):\n",
        "    db_faiss = FAISS.from_documents(documents, embeddings)\n",
        "    db_faiss.save_local(vector_store_path)\n",
        "    return db_faiss"
      ],
      "metadata": {
        "id": "U8R53jw9fgQU"
      },
      "execution_count": 5,
      "outputs": []
    },
    {
      "cell_type": "code",
      "source": [
        "class WebsiteContentTool(BaseTool):\n",
        "    name: str = Field(default=\"website_content_tool\", description=\"The name of the tool\") # Define name as a Pydantic Field with type annotation\n",
        "    description: str = Field(default=\"Useful for retrieving the content of a given website URL. Input should be a valid URL.\", description=\"The description of the tool\")  # Define description as a Pydantic Field with type annotation\n",
        "\n",
        "    def _run(self, urls):\n",
        "        try:\n",
        "            loader = AsyncHtmlLoader(urls)\n",
        "            docs = loader.load()\n",
        "            html2text = Html2TextTransformer()\n",
        "            docs_transformed = html2text.transform_documents(docs)\n",
        "\n",
        "            return docs_transformed\n",
        "\n",
        "        except requests.exceptions.RequestException as e:\n",
        "            return f\"Error fetching URL: {e}\"\n",
        "        except Exception as e:\n",
        "            return f\"An unexpected error occurred: {e}\"\n",
        "\n",
        "    async def _arun(self, url: str) -> str:\n",
        "        \"\"\"Use the tool asynchronously.\"\"\"\n",
        "        raise NotImplementedError(\"WebsiteContentTool does not support async\")\n",
        "\n",
        "\n",
        "\n",
        "# def remove_duplicates(l): # remove duplicates and unURL string\n",
        "#     for item in l:\n",
        "#         match = re.search(r\"(?P<url>https?://[^\\s]+)\", item)\n",
        "#         if match is not None:\n",
        "#             links.append((match.group(\"url\")))\n",
        "\n",
        "def get_all_urls_in_website(url, level: int = 1):\n",
        "    print(f\"finding links within {url}...\")\n",
        "    # Set up headers to mimic a browser request\n",
        "    headers = {\n",
        "        'User-Agent': 'Mozilla/5.0 (Windows NT 10.0; Win64; x64) AppleWebKit/537.36 (KHTML, like Gecko) Chrome/70.0.3538.110 Safari/537.36'\n",
        "    }\n",
        "\n",
        "    # Make the request with headers\n",
        "    response = requests.get(url, headers=headers)\n",
        "\n",
        "    # Check if the request was successful\n",
        "    if response.status_code == 200:\n",
        "        # Parse the HTML content\n",
        "        soup = BeautifulSoup(response.content, 'html.parser')\n",
        "\n",
        "        # Find all links\n",
        "        links = [a.get('href') for a in soup.find_all('a', href=True)]\n",
        "\n",
        "        # Print the list of links\n",
        "        print(\"Links found:\", links)\n",
        "    else:\n",
        "        print(f\"Failed to retrieve the page. Status code: {response.status_code}\")\n",
        "\n",
        "    # Remove links that don't point to Nibud\n",
        "    links = filter_non_nibud_links(links)\n",
        "\n",
        "    #remove duplicates\n",
        "    links = list(set(links))\n",
        "\n",
        "    # start recursion\n",
        "    new_parent_links = links.copy()\n",
        "    if level > 1:\n",
        "        for link in new_parent_links:\n",
        "            links.extend(get_all_urls_in_website(link, level - 1))\n",
        "\n",
        "    #remove duplicates\n",
        "    links = list(set(links))\n",
        "\n",
        "    return links\n",
        "\n",
        "def filter_non_nibud_links(lst):\n",
        "    return [item for item in lst if item.startswith('https://www.nibud.nl/')]\n"
      ],
      "metadata": {
        "id": "biHC3iT4vGH9"
      },
      "execution_count": 15,
      "outputs": []
    },
    {
      "cell_type": "markdown",
      "source": [
        "### Add ing.nl data"
      ],
      "metadata": {
        "id": "yEMxiM_ydTS2"
      }
    },
    {
      "cell_type": "code",
      "source": [
        "# Specify the directory\n",
        "directory = 'BudgetBuddy/data/ingnl'\n",
        "\n",
        "# Create an empty list to store file paths\n",
        "file_paths = []\n",
        "\n",
        "# Walk through the directory\n",
        "for root, dirs, files in os.walk(directory):\n",
        "    for file in files:\n",
        "        # Join the root directory with the file name to get the full path\n",
        "        full_path = os.path.join(root, file)\n",
        "        # Append the full path to the list\n",
        "        file_paths.append(full_path)"
      ],
      "metadata": {
        "id": "x1PmcXGExfnU"
      },
      "execution_count": 17,
      "outputs": []
    },
    {
      "cell_type": "code",
      "source": [
        "# Load the document, split it into chunks, embed each chunk and load it into the vector store.\n",
        "documents = []\n",
        "for file_path in file_paths:\n",
        "    documents.extend(TextLoader(file_path).load())"
      ],
      "metadata": {
        "id": "uwARNhrusOzZ"
      },
      "execution_count": 18,
      "outputs": []
    },
    {
      "cell_type": "code",
      "source": [
        "db_ingnl = load_vector_store(\n",
        "    documents,\n",
        "    vector_store_path=\"BudgetBuddy/vectorstore/ingnl\",\n",
        "    embeddings=GoogleGenerativeAIEmbeddings(model=\"models/text-embedding-004\")\n",
        ")"
      ],
      "metadata": {
        "id": "cerzJl8VeEL0",
        "outputId": "17462d63-eda0-46c1-e950-c460c295868b",
        "colab": {
          "base_uri": "https://localhost:8080/"
        }
      },
      "execution_count": 19,
      "outputs": [
        {
          "output_type": "stream",
          "name": "stdout",
          "text": [
            "Loaded vector store from file\n"
          ]
        }
      ]
    },
    {
      "cell_type": "code",
      "source": [
        "query = \"Kan ik mijn creditcard transacties zien in Kijk Vooruit?\"\n",
        "docs = db_ingnl.similarity_search(query)\n",
        "for i, doc in enumerate(docs):\n",
        "    print(f\"\\n\\nDocument {i+1}:\")\n",
        "    print(doc.page_content)"
      ],
      "metadata": {
        "colab": {
          "base_uri": "https://localhost:8080/"
        },
        "id": "eHiWZXTO0mv6",
        "outputId": "137d0209-1072-4edf-e180-ca86a7ca03ff",
        "collapsed": true
      },
      "execution_count": 20,
      "outputs": [
        {
          "output_type": "stream",
          "name": "stdout",
          "text": [
            "\n",
            "\n",
            "Document 1:\n",
            "# Creditcard rekeningoverzicht in Mijn ING en de Mobiel Bankieren App - ING\n",
            "\n",
            "### Waarom zie ik niet dezelfde transacties als mijn partner?\n",
            "\n",
            "Heb je een extra creditcard? Dan zie je altijd alleen de transacties die met die creditcard gedaan zijn. De transacties van je partner zie je niet terug in je rekeningoverzicht. Hierdoor kan het zijn dat het saldo niet lijkt te kloppen. Wat je ziet is het actuele beschikbare saldo voor beide creditcards. De hoofdkaarthouder ziet op zijn beurt wel alle transacties in het overzicht terug, ook die met de extra creditcard zijn gedaan. Met welke creditcard de transactie is gedaan zie je aan de laatste 4 cijfers die bij de transactie staan.\n",
            "Houd er rekening mee dat je alleen het creditcard rekeningoverzicht ziet van de persoon die is ingelogd in de Mobiel Bankieren App of Mijn ING. Indien je een gezamenlijke rekening hebt, dan is de maandelijkse afschrijving inzichtelijk voor beide rekeninghouders.\n",
            "\n",
            "\n",
            "Document 2:\n",
            "# Creditcard rekeningoverzicht in Mijn ING en de Mobiel Bankieren App - ING\n",
            "\n",
            "Waar vind ik mijn creditcard rekeningoverzicht terug?\n",
            "Je actuele creditcard rekeningoverzicht staat in de Mobiel Bankieren App en in Mijn ING. Op deze pagina lees je waar je precies moet kijken.\n",
            "\n",
            "### Creditcard gekoppeld aan een persoonlijke rekening\n",
            "\n",
            "Heb je een eigen creditcard die is gekoppeld aan je persoonlijke rekening? Dan vind je je creditcard rekeningoverzicht altijd terug in je productoverzicht in de Mobiel Bankieren App en in Mijn ING. Het creditcard rekeningoverzicht staat onder je betaal- en spaarrekeningen. Hier staat je saldo en kan je ook direct alle reserveringen en afschrijvingen van de creditcard terugvinden.\n",
            "Heb je een extra creditcard die niet is gekoppeld aan een gezamenlijke rekening maar aan de persoonlijke rekening van de hoofdkaarthouder? Dan vind je het creditcard rekeningoverzicht terug onder 'Andere rekeningen'. In dit overzicht staan alleen de uitgaven die met deze extra creditcard zijn gedaan inclusief het actuele beschikbare saldo. Houd er rekening mee dat je alleen het creditcard rekeningoverzicht ziet van de persoon die is ingelogd in de Mobiel Bankieren App of Mijn ING\n",
            "\n",
            "### Creditcard bij een gezamenlijke rekening\n",
            "\n",
            "Een creditcard staat altijd op 1 naam. Ook als de creditcard aan een gezamenlijke rekening is gekoppeld. Sinds 28 juli 2020 zie je in de Mobiel Bankieren App en in Mijn ING alleen de creditcard die op jouw naam staat.\n",
            "Heb je een extra creditcard die gekoppeld is aan een gezamenlijke rekening? Dan vind je het creditcard rekeningoverzicht terug onder 'Andere rekeningen'. In dit overzicht staan alleen de uitgaven die met deze extra creditcard zijn gedaan inclusief het actuele beschikbare saldo. Houd er rekening mee dat je alleen het creditcard rekeningoverzicht ziet van de persoon die is ingelogd in de Mobiel Bankieren App of Mijn ING. Bij een gezamenlijke rekening, is de maandelijkse afschrijving inzichtelijk voor beide rekeninghouders. De transacties die met de creditcard zijn gedaan, zijn alleen zichtbaar voor de creditcardhouder en niet zichtbaar voor de andere rekeninghouder.\n",
            "\n",
            "\n",
            "Document 3:\n",
            "# Kijk Vooruit in de Mobiel Bankieren App - ING\n",
            "\n",
            "## Wat zie je precies in Kijk Vooruit?\n",
            "\n",
            "* Afschrijvingen die zeker gaan gebeuren\n",
            "* Afschrijvingen die voorspeld worden op basis van eerdere afschrijvingen, zoals je energierekening\n",
            "* Bijschrijvingen die voorspeld worden op basis van eerdere bijschrijvingen, zoals je salaris\n",
            "* Spaaropdrachten die je hebt ingepland\n",
            "* Het voorspelde saldo op basis van alle bedragen die van je rekening afgaan of erbij komen\n",
            "Zo krijg je een beter beeld van wat je nog kunt besteden en voorkom je vervelende verrassingen.\n",
            "Klant worden via de app\n",
            "* ### Inzicht in je uitgaven\n",
            "Wat geef je uit aan de boodschappen? Krijg inzicht.\n",
            "Inzicht in je uitgaven\n",
            "* ### Tag je transacties\n",
            "Om specifieke uitgaven, zoals cadeautjes, makkelijk terug te vinden.\n",
            "Tag je transacties\n",
            "* ### Grip op je geldzaken\n",
            "Alles over meer inzicht in je geldzaken, sparen en besparen.\n",
            "Grip op je geldzaken\n",
            "* ### Digitaal bankieren\n",
            "Alles over mobiel bankieren en Mijn ING. Digitaal bankieren\n",
            "\n",
            "\n",
            "Document 4:\n",
            "# Nieuw in de app - ING\n",
            "\n",
            "## Update Betaalverzoek: meerdere bedragen splitsen in één verzoek\n",
            "\n",
            "### Nieuw in de app: meerdere bedragen splitsen in één Betaalverzoek (Android en iOS).\n",
            "\n",
            "Met deze update gaat een veelgevraagd klantverzoek live. Zo maken we de app nog makkelijker, slimmer en persoonlijker!\n",
            "Betaalverzoek maken\n",
            "\n",
            "## Rekeningoverzicht (iOS en Android)\n",
            "\n",
            "### Iets wijzigen of bekijken in de instellingen van je Betaalrekening?\n",
            "\n",
            "Nu een handig overzicht op de pagina rekening instellingen.\n",
            "Hoe werkt het? Log in op de app en klik op je betaalrekening. Tik op de drie puntjes rechtsboven voor een overzicht. In dit overzicht vind je onder meer jouw:\n",
            "* IBAN\n",
            "* BIC\n",
            "* Rente overzicht\n",
            "* Afschriften downloaden\n",
            "* Rekening opzeggen\n",
            "* en meer\n",
            "\n",
            "## Nu ook Dark Mode voor Android!\n",
            "\n",
            "Dark Mode is een feature waarbij de interface aangepast kan worden naar een donker kleurschema.\n",
            "Dark Mode van ING is beschikbaar op zowel de telefoon als tablet. Je moet hiervoor versie tien of nieuwer hebben. De app past zich automatisch aan de instellingen van je Android-telefoon. Je kunt de ING-app dus niet altijd op donker instellen.\n",
            "\n",
            "## Creditcards nu ook in Kijk Vooruit\n",
            "\n",
            "De creditcard die is toegevoegd is het type creditcard voor particuliere klanten waar maandelijks het gehele openstaande bedrag door ING wordt geïncasseerd. Meer dan 90% van onze klanten heeft dit type creditcard.\n",
            "Wat zie je precies in Kijk Vooruit?\n",
            "* Afschrijvingen die zeker zullen plaatsvinden\n",
            "* Afschrijvingen die voorspeld worden op basis van eerdere afschrijvingen, zoals bijvoorbeeld je energierekening\n",
            "* Bijschrijvingen die voorspeld worden op basis van eerdere bijschrijvingen zoals bijvoorbeeld je salaris\n",
            "* Spaaropdrachten die je hebt ingepland\n",
            "* Het voorspelde saldo op basis van alle bedragen die volgens Kijk Vooruit van je rekening gaan of er bij komen\n",
            "Alles over Kijk Vooruit\n"
          ]
        }
      ]
    },
    {
      "cell_type": "markdown",
      "source": [
        "### Add nibud.nl data"
      ],
      "metadata": {
        "id": "fxZlWE_0dYX_"
      }
    },
    {
      "cell_type": "code",
      "source": [
        "#links = get_all_urls_in_website(url='https://www.nibud.nl/')\n",
        "links = get_all_urls_in_website(url='https://www.nibud.nl/', level=2)\n",
        "\n",
        "# TODO: somehow incorporate the PDF information (the links starting with nibud.nl/download)\n",
        "WCT = WebsiteContentTool()\n",
        "\n",
        "docs_transformed = WCT._run(links)"
      ],
      "metadata": {
        "id": "VF5MmhYGshM9"
      },
      "execution_count": null,
      "outputs": []
    },
    {
      "cell_type": "code",
      "source": [
        "# Load the document, split it into chunks, embed each chunk and load it into the vector store.\n",
        "# TODO: what is the ideal chunk size?\n",
        "text_splitter_nibud = CharacterTextSplitter(chunk_size=3000, chunk_overlap=0)\n",
        "documents_nibud = text_splitter_nibud.split_documents(docs_transformed)"
      ],
      "metadata": {
        "id": "vNrB3HC_daqO"
      },
      "execution_count": 28,
      "outputs": []
    },
    {
      "cell_type": "code",
      "source": [
        "db_nibudnl = load_vector_store(\n",
        "    documents_nibud,\n",
        "    vector_store_path=\"BudgetBuddy/vectorstore/nibudnl\",\n",
        "    embeddings=GoogleGenerativeAIEmbeddings(model=\"models/text-embedding-004\"),\n",
        "    #overwrite=True\n",
        ")"
      ],
      "metadata": {
        "id": "rGj9_H18eQa4",
        "colab": {
          "base_uri": "https://localhost:8080/"
        },
        "outputId": "7548c711-b837-4075-c912-388751e13520"
      },
      "execution_count": 29,
      "outputs": [
        {
          "output_type": "stream",
          "name": "stdout",
          "text": [
            "Saved vector store to file\n"
          ]
        }
      ]
    },
    {
      "cell_type": "code",
      "source": [
        "query = \"Ik ga scheiden. Hoe zit het dan met de kinderen?\"\n",
        "docs = db_nibudnl.similarity_search(query)\n",
        "for i, doc in enumerate(docs):\n",
        "    print(f\"\\n\\nDocument {i+1}:\")\n",
        "    print(doc.page_content)"
      ],
      "metadata": {
        "id": "0bPj0GDGroPJ",
        "outputId": "82e41277-ab29-46dc-e212-c615dabfc6c9",
        "colab": {
          "base_uri": "https://localhost:8080/"
        },
        "collapsed": true
      },
      "execution_count": 31,
      "outputs": [
        {
          "output_type": "stream",
          "name": "stdout",
          "text": [
            "\n",
            "\n",
            "Document 1:\n",
            "Direct naar content\n",
            "\n",
            "  * Nieuws\n",
            "  * Webwinkel\n",
            "\n",
            "Menu\n",
            "\n",
            "  * Onderwerpen\n",
            "    * Rondkomen\n",
            "    * Sparen\n",
            "    * Uitgaven\n",
            "    * Geldproblemen\n",
            "    * Inkomensondersteuning\n",
            "    * Kinderen en jongeren\n",
            "    * Wonen\n",
            "    * Pensioen\n",
            "    * Uit elkaar\n",
            "    * Werken\n",
            "  * Dossiers\n",
            "    * Voldoende inkomen\n",
            "    * Financiële weerbaarheid\n",
            "    * Betaalbaar wonen\n",
            "    * Betaalbare energietransitie\n",
            "  * Samenwerken\n",
            "    * Voorlichting op maat\n",
            "    * Onderzoek en advies\n",
            "    * Deskundigheidsbevordering\n",
            "    * Cijfers en rekentools\n",
            "    * Cursussen, workshops en coaching\n",
            "    * Werkvelden\n",
            "  * Over het Nibud\n",
            "    * Over de organisatie\n",
            "    * Onze missie en impact\n",
            "    * Financiering\n",
            "    * Samenwerken met het Nibud\n",
            "    * Werken bij het Nibud\n",
            "    * Informatie voor pers\n",
            "    * Medewerkers\n",
            "    * Contact met het Nibud\n",
            "\n",
            "  * Nieuws\n",
            "  * Webwinkel\n",
            "\n",
            "  * Onderwerpen\n",
            "    * Rondkomen\n",
            "    * Sparen\n",
            "    * Uitgaven\n",
            "    * Geldproblemen\n",
            "    * Inkomensondersteuning\n",
            "    * Kinderen en jongeren\n",
            "    * Wonen\n",
            "    * Pensioen\n",
            "    * Uit elkaar\n",
            "    * Werken\n",
            "  * Dossiers\n",
            "    * Voldoende inkomen\n",
            "    * Financiële weerbaarheid\n",
            "    * Betaalbaar wonen\n",
            "    * Betaalbare energietransitie\n",
            "  * Samenwerken\n",
            "    * Voorlichting op maat\n",
            "    * Onderzoek en advies\n",
            "    * Deskundigheidsbevordering\n",
            "    * Cijfers en rekentools\n",
            "    * Cursussen, workshops en coaching\n",
            "    * Werkvelden\n",
            "  * Over het Nibud\n",
            "    * Over de organisatie\n",
            "    * Onze missie en impact\n",
            "    * Financiering\n",
            "    * Samenwerken met het Nibud\n",
            "    * Werken bij het Nibud\n",
            "    * Informatie voor pers\n",
            "    * Medewerkers\n",
            "    * Contact met het Nibud\n",
            "\n",
            "Zoeken\n",
            "\n",
            "Zoeken\n",
            "\n",
            "Zoek\n",
            "\n",
            "##  Melding: Altijd op de hoogte met de Nibud nieuwsbrief\n",
            "\n",
            "Elke maand het laatste nieuws en handige tips van onze experts  Aanmelden\n",
            "\n",
            "Sluit melding\n",
            "\n",
            "Home Onderwerpen Uit elkaar Geldzaken tijdens en na een scheiding\n",
            "\n",
            "#  Geldzaken tijdens en na een scheiding\n",
            "\n",
            "Bij een scheiding komen veel praktische dingen kijken zoals een verhuizing en\n",
            "verdeling van de boedel. Welke geldzaken kom je nog meer tegen tijdens en na\n",
            "een scheiding? En hoe krijg je grip op je nieuwe financiële situatie?\n",
            "\n",
            "## Op deze pagina\n",
            "\n",
            "  * Geldzaken regelen \n",
            "  * De (in)boedel verdelen \n",
            "  * Verhuiskosten \n",
            "  * Begroting nieuwe situatie \n",
            "\n",
            "## **Geldzaken regelen**  \n",
            "\n",
            "Bij een scheiding komen veel praktische dingen kijken waar een financiële kant\n",
            "aan zit. Zo moet je misschien verhuizen en de boedel verdelen.\n",
            "\n",
            "Een scheiding heeft ook gevolgen voor de hypotheek en het pensioen. Deze zaken\n",
            "moeten onderling worden verdeeld. Er kunnen gezamenlijke leningen of\n",
            "verzekeringen zijn.\n",
            "\n",
            "Als je kinderen hebt, moet je beslissen waar de kinderen gaan wonen. Gaan ze\n",
            "bij één van de ouders wonen? Of spreek je af dat je voor co-ouderschap gaat?\n",
            "En wat zou de kinderalimentatie zijn? Dat heeft allemaal invloed op de nieuwe\n",
            "financiële situatie. Meer over co-ouderschap.\n",
            "\n",
            "\n",
            "Document 2:\n",
            "Direct naar content\n",
            "\n",
            "  * Nieuws\n",
            "  * Webwinkel\n",
            "\n",
            "Menu\n",
            "\n",
            "  * Onderwerpen\n",
            "    * Rondkomen\n",
            "    * Sparen\n",
            "    * Uitgaven\n",
            "    * Geldproblemen\n",
            "    * Inkomensondersteuning\n",
            "    * Kinderen en jongeren\n",
            "    * Wonen\n",
            "    * Pensioen\n",
            "    * Uit elkaar\n",
            "    * Werken\n",
            "  * Dossiers\n",
            "    * Voldoende inkomen\n",
            "    * Financiële weerbaarheid\n",
            "    * Betaalbaar wonen\n",
            "    * Betaalbare energietransitie\n",
            "  * Samenwerken\n",
            "    * Voorlichting op maat\n",
            "    * Onderzoek en advies\n",
            "    * Deskundigheidsbevordering\n",
            "    * Cijfers en rekentools\n",
            "    * Cursussen, workshops en coaching\n",
            "    * Werkvelden\n",
            "  * Over het Nibud\n",
            "    * Over de organisatie\n",
            "    * Onze missie en impact\n",
            "    * Financiering\n",
            "    * Samenwerken met het Nibud\n",
            "    * Werken bij het Nibud\n",
            "    * Informatie voor pers\n",
            "    * Medewerkers\n",
            "    * Contact met het Nibud\n",
            "\n",
            "  * Nieuws\n",
            "  * Webwinkel\n",
            "\n",
            "  * Onderwerpen\n",
            "    * Rondkomen\n",
            "    * Sparen\n",
            "    * Uitgaven\n",
            "    * Geldproblemen\n",
            "    * Inkomensondersteuning\n",
            "    * Kinderen en jongeren\n",
            "    * Wonen\n",
            "    * Pensioen\n",
            "    * Uit elkaar\n",
            "    * Werken\n",
            "  * Dossiers\n",
            "    * Voldoende inkomen\n",
            "    * Financiële weerbaarheid\n",
            "    * Betaalbaar wonen\n",
            "    * Betaalbare energietransitie\n",
            "  * Samenwerken\n",
            "    * Voorlichting op maat\n",
            "    * Onderzoek en advies\n",
            "    * Deskundigheidsbevordering\n",
            "    * Cijfers en rekentools\n",
            "    * Cursussen, workshops en coaching\n",
            "    * Werkvelden\n",
            "  * Over het Nibud\n",
            "    * Over de organisatie\n",
            "    * Onze missie en impact\n",
            "    * Financiering\n",
            "    * Samenwerken met het Nibud\n",
            "    * Werken bij het Nibud\n",
            "    * Informatie voor pers\n",
            "    * Medewerkers\n",
            "    * Contact met het Nibud\n",
            "\n",
            "Zoeken\n",
            "\n",
            "Zoeken\n",
            "\n",
            "Zoek\n",
            "\n",
            "##  Melding: Altijd op de hoogte met de Nibud nieuwsbrief\n",
            "\n",
            "Elke maand het laatste nieuws en handige tips van onze experts  Aanmelden\n",
            "\n",
            "Sluit melding\n",
            "\n",
            "Home Onderwerpen Uit elkaar Co-ouderschap\n",
            "\n",
            "#  Co-ouderschap\n",
            "\n",
            "Welke afspraken moet je maken als je als ouders kiest voor een co-ouderschap\n",
            "na een scheiding? Naast praktische zaken zijn er ook geldzaken te regelen. Op\n",
            "deze pagina vind je informatie en handvatten.\n",
            "\n",
            "## Op deze pagina\n",
            "\n",
            "  * Welke afspraken moet je maken? \n",
            "  * De kosten verdelen \n",
            "  * Regelingen en toeslagen \n",
            "  * Het ouderschapsplan \n",
            "  * Kom je er samen niet uit? \n",
            "\n",
            "## **Welke afspraken moet je maken?  **\n",
            "\n",
            "Na een scheiding zijn jullie als ouders verplicht de kosten te betalen voor de\n",
            "verzorging en opvoeding van de kinderen. Bij een co-ouderschap verdelen de\n",
            "ouders de zorg voor de kinderen, praktisch en financieel. De kinderen zijn\n",
            "afwisselend bij de ene en de andere ouder en de kosten worden door beide\n",
            "ouders betaald.  \n",
            "\n",
            "Bij co-ouderschap is het belangrijk dat je goede afspraken maakt en zaken\n",
            "zwart op wit vastlegt. Spreek in ieder geval de volgende dingen met elkaar af:\n",
            "\n",
            "\n",
            "Document 3:\n",
            "* De roosterafspraken en verdeling van tijd over de twee huizen \n",
            "  * De (maximale) onderlinge woonafstand \n",
            "  * De taakverdeling tussen de ouders en de communicatie \n",
            "  * Afspraken over verjaardagen, vakanties en regels \n",
            "  * De financiën: wie betaalt wat en hoe regelen jullie dit. Je kunt afspraken hierover door de rechter laten vastleggen, maar dat is niet verplicht. \n",
            "\n",
            "## **De kosten verdelen**  \n",
            "\n",
            "Bij co-ouderschap worden de kosten voor een kind niet in één huishouden\n",
            "gemaakt, maar in twee. Een aantal kosten wordt dubbel gemaakt, zoals de huur\n",
            "of hypotheek en de kosten van de inboedel. De totale kosten zijn daardoor\n",
            "hoger.\n",
            "\n",
            "Het is bij co-ouderschap belangrijk dat je van tevoren afspreekt welke kosten\n",
            "je verdeelt en welke niet. Voorkom bijvoorbeeld dat de ene ouder meebetaalt\n",
            "aan de dure smaak van de ander. Kosten zoals vakanties en uitstapjes kun je\n",
            "beter buiten de verdeling houden. Maak bij het verdelen onderscheid tussen\n",
            "eigen kosten en te verdelen kosten.\n",
            "\n",
            "### **Eigen kosten**  \n",
            "\n",
            "Eigen kosten zijn de kosten die elk huishouden voor zichzelf maakt. Denk aan\n",
            "de huur, telefoon en boodschappen. Deze kosten kunnen voor jullie als ex-\n",
            "partners flink verschillen, bijvoorbeeld door verschillen in inkomen en een\n",
            "ander uitgavepatroon. Eigen kosten zijn ook de uitgaven voor de kinderen die\n",
            "beide ouders doen. Bijvoorbeeld dubbel schoolmateriaal, speelgoed of een\n",
            "fiets.\n",
            "\n",
            "### **Te verdelen kosten**  \n",
            "\n",
            "Te verdelen kosten zijn uitgaven voor het kind die één ouder doet. Denk aan\n",
            "verzekeringen, abonnementen, contributies en schoolkosten. Je kunt deze kosten\n",
            "op drie manieren verdelen.\n",
            "\n",
            "  * Naar draagkracht. Hiervoor is het nodig om regelmatig te overleggen. Verandering jouw inkomen of dat van je ex-partner heeft gevolgen voor de verdeling. Ook moet je ieder jaar je inkomensgegevens delen met je ex-partner. \n",
            "  * Naar het aantal dagen dat het kind in elk van de huishoudens verblijft. Of je verrekent de kosten op basis van een vast bedrag per periode. \n",
            "  * Beide ouders betalen de helft van de kosten. Deze regeling is overzichtelijk. Ook blijf je financieel onafhankelijk van je ex-partner. Het nadeel is dat de ouders die het minst verdient, dit in de praktijk mogelijk als oneerlijk zal ervaren. \n",
            "\n",
            "## Hulpmiddelen bij geldzaken rond scheiden\n",
            "\n",
            "  * ###  Geldplan Scheiden \n",
            "\n",
            "Tool\n",
            "\n",
            "Het Geldplan Scheiden geeft inzicht in je geldzaken nu en de veranderingen\n",
            "daarin na scheiding. Zo voorkom je geldproblemen.\n",
            "\n",
            "## **Regelingen en toeslagen**  \n",
            "\n",
            "Bij co-ouderschap horen de kinderen bij twee huishoudens. Ze hebben ook twee\n",
            "woonadressen. Welke ouder heeft dan recht op financiële tegemoetkomingen?\n",
            "\n",
            "### **Kinderbijslag**  \n",
            "\n",
            "De Sociale Verzekeringsbank (SVB) voert de kinderbijslag uit. Volgens de SVB\n",
            "hoort het kind bij co-ouderschap bij de huishoudens van beide ouders. Zowel\n",
            "jij als je ex-partner heeft dus recht op de helft van de kinderbijslag. De SVB\n",
            "betaalt de kinderbijslag het liefst uit aan één ouder. Je verdeelt dan zelf\n",
            "onderling het geld.\n",
            "\n",
            "### **Kindgebonden budget**\n",
            "\n",
            "\n",
            "Document 4:\n",
            "De Belastingdienst keert het kindgebonden budget uit. Het geld kan worden\n",
            "verdeeld over beide ouders. Dit kan alleen als er twee of meer kinderen zijn\n",
            "én als er sprake is van co-ouderschap. Je krijgt dan dus allebei een deel van\n",
            "het kindgebonden budget uitbetaald van de Belastingdienst.\n",
            "\n",
            "### **Heffingskorting**  \n",
            "\n",
            "Bij de Belastingdienst geldt een heffingskorting als je kinderen hebt en\n",
            "werkt. Het gaat om de inkomensafhankelijke combinatiekorting. Deze\n",
            "heffingskorting wordt betaald aan het huishouden waar de kinderen meer dan zes\n",
            "maanden staan ingeschreven in het bevolkingsregister. Bij co-ouderschap kunnen\n",
            "beide ouders als ze allebei een baan hebben de inkomensafhankelijke\n",
            "combinatiekorting aanvragen.\n",
            "\n",
            "### **Huurtoeslag**  \n",
            "\n",
            "Zowel jij als je ex-partner kan huurtoeslag aanvragen. Voor de huurtoeslag kan\n",
            "een kind maar bij één ouder zijn inschreven. De andere ouder mag het kind wel\n",
            "meetellen bij het huishouden als hij of zij een aanvraag indient voor\n",
            "huurtoeslag. De Belastingdienst vraagt dan om een verklaring co-ouderschap.\n",
            "Deze verklaring moet door beide ouders ondertekend zijn.\n",
            "\n",
            "Tips voor slim omgaan met regelingen\n",
            "\n",
            "  * Heb je meerdere kinderen? Verdeel de kinderen ‘op papier’ dan over beide huishoudens. Zo hebben beide ouders meer kans om in aanmerking te komen voor sommige regelingen. \n",
            "  * Heb je één kind? Schrijf het kind dan in op het adres van de ouder met het laagste inkomen. Zo heb je meer kans om aanspraak te maken op regelingen of een hoger bedrag. Je kunt deze bedragen vervolgens zelf onderling verrekenen en verdelen. \n",
            "\n",
            "## **Het ouderschapsplan**  \n",
            "\n",
            "Ouders die scheiden zijn verplicht om samen een ouderschapsplan op te stellen.\n",
            "Dit geldt ook bij een geregistreerd partnerschap of als je gaat ‘scheiden van\n",
            "tafel en bed’. Als je duidelijke afspraken maakt in het ouderschapsplan, kan\n",
            "dat veel ruzie voorkomen.\n",
            "\n",
            "Jullie bepalen in principe zelf wat jullie belangrijk vinden en welke\n",
            "afspraken jullie vastleggen in het ouderschapsplan. De wet stelt wel een\n",
            "aantal minimumeisen. De volgende afspraken moeten er in ieder geval in staan:\n",
            "\n",
            "  * Hoe jullie de zorg en opvoeding en de omgang met de kinderen regelen. \n",
            "  * Hoe jullie communiceren over belangrijke onderwerpen, bijvoorbeeld de schoolkeuze.  \n",
            "  * Hoe jullie de kosten regelen van de verzorging en opvoeding van minderjarige kinderen (kinderalimentatie). \n",
            "\n",
            "Het is belangrijk om de kinderen te betrekken bij het opstellen van het\n",
            "ouderschapsplan. Ouders zijn verplicht om in het plan op te nemen hoe ze dit\n",
            "gaan doen.\n",
            "\n",
            "  * ###  Tip voor ouders \n",
            "\n",
            "Hier kun je met begeleiding zelf een ouderschapsplan opstellen, dat je beiden\n",
            "moet ondertekenen.  \n",
            "\n",
            "Naar de site Opent in een nieuw venster\n",
            "\n",
            "  * ###  Tip voor kinderen \n",
            "\n",
            "Kinderen vinden hier informatie over wat er op hen afkomt als hun ouders gaan\n",
            "scheiden.\n",
            "\n",
            "Naar de site Opent in een nieuw venster\n",
            "\n",
            "Meer informatie over het ouderschapsplan vind je op de website van de\n",
            "Rijksoverheid.\n",
            "\n",
            "## **Kom je er samen niet uit?**\n"
          ]
        }
      ]
    },
    {
      "cell_type": "markdown",
      "source": [
        "### Create the Vector Database Retriever tool"
      ],
      "metadata": {
        "id": "YC8lE77Y4ech"
      }
    },
    {
      "cell_type": "code",
      "source": [
        "ingnl_retriever = db_ingnl.as_retriever(\n",
        "    # search_type=\"mmr\",\n",
        "    search_kwargs={\"k\": 5},\n",
        ")\n",
        "nibudnl_retriever = db_nibudnl.as_retriever(\n",
        "    # search_type=\"mmr\",\n",
        "    search_kwargs={\"k\": 5},\n",
        ")"
      ],
      "metadata": {
        "id": "SyZNyLYCyixz"
      },
      "execution_count": 32,
      "outputs": []
    },
    {
      "cell_type": "code",
      "source": [
        "ingnl_retriever_tool = create_retriever_tool(\n",
        "    ingnl_retriever,\n",
        "    \"retrieve_ingnl_information\",\n",
        "    \"Search and return information about (banking) products of ING, and features in the ING app that customers have available.\",\n",
        ")\n",
        "nibudnl_retriever_tool = create_retriever_tool(\n",
        "    nibudnl_retriever,\n",
        "    \"retrieve_nibudnl_information\",\n",
        "    \"Nibud.nl is the website of the National Institute for Family Finance Information (Nibud) in the Netherlands. This independent foundation provides information and advice on managing personal finances. The site offers tools, tips, and research to help individuals and households make informed financial decisions. You might want to visit Nibud.nl if you need guidance on budgeting, saving, or managing debt. It's also useful for understanding household expenses, planning for retirement, or seeking advice on financial health\"\n",
        ")"
      ],
      "metadata": {
        "id": "dQm9ZOFf1Ub5"
      },
      "execution_count": 33,
      "outputs": []
    },
    {
      "cell_type": "markdown",
      "source": [
        "### Create a Tavily Search tool"
      ],
      "metadata": {
        "id": "Y9eyTUmR4jcS"
      }
    },
    {
      "cell_type": "code",
      "source": [
        "search_tool = TavilySearchResults(max_results=2)\n",
        "search_tool.description"
      ],
      "metadata": {
        "colab": {
          "base_uri": "https://localhost:8080/",
          "height": 53
        },
        "id": "_zAlJjpo4mhX",
        "outputId": "26c51566-5e8b-465c-d7db-a112889cc2b4"
      },
      "execution_count": 34,
      "outputs": [
        {
          "output_type": "execute_result",
          "data": {
            "text/plain": [
              "'A search engine optimized for comprehensive, accurate, and trusted results. Useful for when you need to answer questions about current events. Input should be a search query.'"
            ],
            "application/vnd.google.colaboratory.intrinsic+json": {
              "type": "string"
            }
          },
          "metadata": {},
          "execution_count": 34
        }
      ]
    },
    {
      "cell_type": "code",
      "source": [
        "from langchain.tools import Tool\n",
        "\n",
        "#TODO: Make FinancialHealthCalculator work\n",
        "class FinancialHealthCalculator:\n",
        "    \"\"\"Class to calculate and assess financial health based on user inputs for income, expenses, savings, debt, and investments.\"\"\"\n",
        "\n",
        "    def __init__(self, income, expenses, savings, debt, investments):\n",
        "        self.income = income\n",
        "        self.expenses = expenses\n",
        "        self.savings = savings\n",
        "        self.debt = debt\n",
        "        self.investments = investments\n",
        "\n",
        "    def calculate_savings_rate(self):\n",
        "        \"\"\"Calculate savings rate as a percentage of income\"\"\"\n",
        "        if self.income == 0:\n",
        "            return 0\n",
        "        return (self.savings / self.income) * 100\n",
        "\n",
        "    def calculate_debt_to_income_ratio(self):\n",
        "        \"\"\"Calculate the debt-to-income ratio\"\"\"\n",
        "        if self.income == 0:\n",
        "            return 0\n",
        "        return (self.debt / self.income) * 100\n",
        "\n",
        "    def calculate_expenses_to_income_ratio(self):\n",
        "        \"\"\"Calculate the expenses-to-income ratio\"\"\"\n",
        "        if self.income == 0:\n",
        "            return 0\n",
        "        return (self.expenses / self.income) * 100\n",
        "\n",
        "    def assess_financial_health(self):\n",
        "        \"\"\"Assess financial health based on the ratios\"\"\"\n",
        "        savings_rate = self.calculate_savings_rate()\n",
        "        debt_to_income = self.calculate_debt_to_income_ratio()\n",
        "        expenses_to_income = self.calculate_expenses_to_income_ratio()\n",
        "\n",
        "        # Criteria for assessing financial health\n",
        "        if savings_rate >= 20 and debt_to_income < 40 and expenses_to_income < 60:\n",
        "            health_status = \"Good\"\n",
        "        elif savings_rate >= 10 and debt_to_income < 50 and expenses_to_income < 70:\n",
        "            health_status = \"Average\"\n",
        "        else:\n",
        "            health_status = \"Poor\"\n",
        "\n",
        "        return health_status, savings_rate, debt_to_income, expenses_to_income\n",
        "\n",
        "# Define the tool\n",
        "from typing import Optional\n",
        "from pydantic import BaseModel, Field\n",
        "from langchain.tools import tool\n",
        "\n",
        "class FinancialHealthInput(BaseModel):\n",
        "    \"\"\"Input for Financial Health Calculator.\"\"\"\n",
        "    income: Optional[float] = Field(description=\"User's total monthly income.\")\n",
        "    expenses: Optional[float] = Field(description=\"User's total monthly expenses.\")\n",
        "    savings: Optional[float] = Field(description=\"User's total savings.\")\n",
        "    debt: Optional[float] = Field(description=\"User's total debt.\")\n",
        "    investments: Optional[float] = Field(description=\"User's total investments.\")\n",
        "\n",
        "@tool\n",
        "def financial_health_tool(inputs: FinancialHealthInput): # type hint for the tool's input\n",
        "    \"\"\"\n",
        "    Returns financial health assessment based on user inputs.\n",
        "    \"\"\"\n",
        "    calculator = FinancialHealthCalculator(inputs.income, inputs.expenses, inputs.savings, inputs.debt, inputs.investments)\n",
        "    health_status, savings_rate, debt_to_income, expenses_to_income = calculator.assess_financial_health()\n",
        "\n",
        "    return {\n",
        "        \"Financial Health Status\": health_status,\n",
        "        \"Savings Rate\": f\"{savings_rate:.2f}%\",\n",
        "        \"Debt-to-Income Ratio\": f\"{debt_to_income:.2f}%\",\n",
        "        \"Expenses-to-Income Ratio\": f\"{expenses_to_income:.2f}%\"\n",
        "    }\n",
        "\n",
        "\n",
        "financial_health_tool.description"
      ],
      "metadata": {
        "colab": {
          "base_uri": "https://localhost:8080/",
          "height": 35
        },
        "id": "wEmvwFGi__gw",
        "outputId": "dea6c74c-16f4-46b8-d125-f54a4038b531"
      },
      "execution_count": 35,
      "outputs": [
        {
          "output_type": "execute_result",
          "data": {
            "text/plain": [
              "'Returns financial health assessment based on user inputs.'"
            ],
            "application/vnd.google.colaboratory.intrinsic+json": {
              "type": "string"
            }
          },
          "metadata": {},
          "execution_count": 35
        }
      ]
    },
    {
      "cell_type": "markdown",
      "source": [
        "## Combine all the tools"
      ],
      "metadata": {
        "id": "uYwL9mOG45d9"
      }
    },
    {
      "cell_type": "code",
      "source": [
        "# tools = [financial_health_tool]\n",
        "tools = [ingnl_retriever_tool, nibudnl_retriever_tool, search_tool]\n",
        "tools_names = {t.name: t for t in tools}\n",
        "model = model.bind_tools(tools)"
      ],
      "metadata": {
        "id": "wsUzAfl34-L-"
      },
      "execution_count": 36,
      "outputs": []
    },
    {
      "cell_type": "markdown",
      "source": [
        "### Some helper functions"
      ],
      "metadata": {
        "id": "6TSRRA915EYh"
      }
    },
    {
      "cell_type": "code",
      "source": [
        "def wrap_text(text, width=100):\n",
        "    text_split = text.split(\"\\n\")\n",
        "    wrapped_text = textwrap.fill(text_split[0], width)\n",
        "    if len(text_split) > 1:\n",
        "        for line in text_split[1:]:\n",
        "            wrapped_text += \"\\n\" + textwrap.fill(line, width)\n",
        "    return wrapped_text\n",
        "\n",
        "def print_stream(stream):\n",
        "    for s in stream:\n",
        "        message = s[\"messages\"][-1]\n",
        "        if isinstance(message, tuple):\n",
        "            print(message)\n",
        "        else:\n",
        "            print(wrap_text(message.pretty_repr()))\n",
        "\n",
        "class FinHealthAgentSession:\n",
        "    def __init__(self, agent):\n",
        "        self.agent = agent\n",
        "        self.start_session()\n",
        "\n",
        "    def ask(self, question, verbose=False):\n",
        "        messages = [HumanMessage(content=question)]\n",
        "        tools_used = []\n",
        "        if verbose:\n",
        "            print_stream(self.agent.stream({\"messages\": messages}, config=self.session, stream_mode= \"values\"))\n",
        "        else:\n",
        "            result = self.agent.invoke({\"messages\": messages}, config=self.session)\n",
        "            self.messages = result[\"messages\"]\n",
        "            for i, message in enumerate(reversed(result['messages'])):\n",
        "                if message.content == question:\n",
        "                    break\n",
        "            for message in result['messages'][len(result['messages']) - i:]:\n",
        "                if message.name != None:\n",
        "                    tools_used.append(message.name)\n",
        "            print(f\"Tools used: {tools_used}\\n\")\n",
        "            display(Markdown(wrap_text(result['messages'][-1].content)))\n",
        "\n",
        "    def start_session(self):\n",
        "        session_id = ''.join(random.choices('0123456789', k=6))\n",
        "        print(f\"Started session {session_id}...\")\n",
        "        self.session = {\"configurable\": {\"thread_id\": session_id}}"
      ],
      "metadata": {
        "id": "sMtB9N172v2P"
      },
      "execution_count": 50,
      "outputs": []
    },
    {
      "cell_type": "markdown",
      "source": [
        "## Create the agent"
      ],
      "metadata": {
        "id": "wozNTkr65GeA"
      }
    },
    {
      "cell_type": "code",
      "source": [
        "old_prompts  = \"\"\"Don't ask the user for confirmation.\"\"\"\n",
        "\n",
        "prompt = \"\"\"\n",
        "    You are a conversational AI representing both ING Bank and Nibud\n",
        "    (Dutch institute for budgeting education). You are designed to engage in natural, human-like conversations. Your responses should be fluid, engaging, and free of bullet points or lists.\n",
        "    Instead, focus on creating a dialogue that feels organic and personal. Use varied sentence structures, ask follow-up questions, and provide detailed, thoughtful answers.\n",
        "    Your goal is to make the user feel like they are chatting with a friend.\n",
        "    Your character is: compassionate, friendly, precise, curious, laconic, human-like.\n",
        "    The conversation should be engaging, informative and flow naturally. your answers can be more exploratory and invlove more than just bullet points.\n",
        "    if you are missing information ask for it before giving elaborate answers. dont give more than 3 options.\n",
        "    Give the advise that is less risky, or if it has a high risk, mention it.\n",
        "    Reply in english language when you are asked in english.\n",
        "    Don't ask the user for confirmation.\n",
        "    Make it an interactive conversation to give financial advise and ask questions back.\n",
        "    Your goal is to find a satisfying answer to each question of a customer.\n",
        "    You can assume that any human asking you a question, is an ING customer.\n",
        "    If necessary, decompose the question into multiple tasks, and try\n",
        "    to use the tools at your disposal to answer the subtasks before coming\n",
        "    up with the final answer.\n",
        "    Just do stuff.Search for information about ING savings accounts or Nibud recommendations\n",
        "    Try to pitch features or products of ING inside your answers when that would\n",
        "    be potentially benefitial for the customer. Only do that when that pitch is\n",
        "    relevant to the question asked by the customer. So don't pitch stuff not really\n",
        "    related to the question.\n",
        "    For this you could use the ingnl_retriever_tool to find relevant features and\n",
        "    products of ING.\n",
        "    Also make sure to add any relevant suggestions or recommendations from Nibud\n",
        "    if this would be helpful for the customer. For this you can use the\n",
        "    nibudnl_retriever_tool.\n",
        "    For math caulculations you can use the financial_health_tool tool.\n",
        "    Make sure to use both tools whenever it may even be slightly useful! If you\n",
        "    don't find something relevant from these tools, you don't need to incorporate\n",
        "    what you found in the answer. Just ignore it then.\n",
        "    Make sure to always answer in the same language you were asked the question in.\n",
        "\"\"\"\n",
        "\n",
        "prompt = \"\"\"\n",
        "    You are a conversational AI representing both ING Bank and Nibud (Dutch Institute for Budgeting Education). Your role is to engage in natural, human-like conversations.\n",
        "    Your responses should be fluid, engaging, and free of bullet points or lists. Focus on creating a dialogue that feels organic and personal.\n",
        "    If you identify that the user is in denial, find ways to communicate your advice in a way that the user can accept and follow.\n",
        "    Use varied sentence structures, ask follow-up questions, and provide detailed, thoughtful answers. Your goal is to make the user feel like they are chatting with a friend.\n",
        "\n",
        "    Your character traits are: compassionate, friendly, precise, curious, laconic, and human-like. The conversation should be engaging, informative, and flow naturally.\n",
        "    Your answers can be exploratory and should involve more than just bullet points.\n",
        "    If you are missing information, ask for it before giving elaborate answers. Do not give more than three options.\n",
        "\n",
        "    Provide advice that is less risky, or if it has a high risk, mention it. Reply in English when asked in English. Do not ask the user for confirmation.\n",
        "    Make the conversation interactive by giving financial advice and asking questions back.\n",
        "    Your goal is to find a satisfying answer to each customer's question.\n",
        "    Assume that any human asking you a question is an ING customer.\n",
        "\n",
        "    If necessary, decompose the question into multiple tasks and use the tools at your disposal to answer the subtasks before coming up with the final answer.\n",
        "    Search for information about ING savings accounts or Nibud recommendations. Pitch features or products of ING within your answers when it would be potentially beneficial for the customer.\n",
        "    Only do this when the pitch is relevant to the customer's question. Use the ingnl_retriever_tool to find relevant features and products of ING.\n",
        "\n",
        "    Additionally, include any relevant suggestions or recommendations from Nibud if they would be helpful for the customer. Use the nibudnl_retriever_tool for this purpose.\n",
        "    Make sure to use both tools whenever they may be even slightly useful. If you don't find something relevant from these tools, you don't need to incorporate it into your answer.\n",
        "    Just ignore it in that case.\n",
        "\n",
        "    Always answer in the same language you were asked the question in.\n",
        "\"\"\"\n",
        "\n",
        "prompt = \"\"\"\n",
        "You are a conversational AI representing both ING Bank and Nibud (Dutch Institute\n",
        "for Budgeting Education) with a focus on financial health related issues.\n",
        "Your primary goal is to create a natural, real-time financial advisory\n",
        "conversation that incorporates expert information.\n",
        "Make sure to use the ingnl_retriever_tool and nibudnl_retriever_tool in the first\n",
        "question of a session, even when you don't feel it's necessary to be able to answer the question.\n",
        "\n",
        "Tool integration approach:\n",
        "- Proactively consult relevant tools based on the user's query without asking permission\n",
        "- For financial product questions, consult the ingnl_retriever_tool to find ING information\n",
        "- For financial health questions or any other questions and problems that may\n",
        "   relate to financial problems, consult the nibudnl_retriever_tool for Nibud recommendations\n",
        "- For complex questions, consult both tools to provide comprehensive information\n",
        "- Seamlessly weave tool information into your responses as an expert would reference their knowledge\n",
        "- Never mention that you're using tools - present the information as part of your expertise\n",
        "- When switching topics, discreetly check relevant tools before responding to the new topic\n",
        "\n",
        "Conversation style:\n",
        "- Speak informally and conversationally, as if you're chatting with the person face-to-face\n",
        "- Ask only one follow-up question at a time when you need more information\n",
        "- Wait for the user's response before proceeding to the next topic\n",
        "- Avoid overwhelming the user with multiple questions or too much information at once\n",
        "- Use natural transitions between topics, similar to how a human advisor would speak\n",
        "- Always respond in the same language the user initiates the conversation in\n",
        "- Avoid using bullet points or lists to maintain a natural flow\n",
        "- Make sure to remain gender-neutral to avoid making assumptions about genders of people involved\n",
        "\n",
        "Advisory approach:\n",
        "- Begin responses with relevant information from tools when available\n",
        "- For new topics, first understand the core issue, then incorporate tool information\n",
        "- Provide small, digestible pieces of information followed by checking if they want more details\n",
        "- When a decision point is reached, explicitly ask what direction they'd prefer to explore\n",
        "- Help users discover options they might not have considered by gently introducing alternatives\n",
        "- Suggest practical next steps the user could take based on the conversation\n",
        "- If you identify that the user is in denial, find ways to communicate your advice in a way they can accept\n",
        "- Never provide more than three options to avoid overwhelming the user\n",
        "- Provide advice that is less risky, or if it has a high risk, mention it\n",
        "- Do not ask the user for confirmation after providing information\n",
        "\n",
        "Knowledge integration:\n",
        "- Present information from tools as your own expert knowledge\n",
        "- When suggesting ING products or services, do so naturally as part of your advice\n",
        "- Reference Nibud guidelines conversationally rather than as formal recommendations\n",
        "- If you don't find relevant information from these tools, rely on your general knowledge\n",
        "- Even though the tool information may be in Dutch, always respond in the same language as the user's question\n",
        "\n",
        "Character traits:\n",
        "- Be compassionate, friendly, precise, curious, laconic, and human-like\n",
        "- Make the conversation engaging, informative, and flowing naturally\n",
        "- Adjust your tone to match the user's emotional state, especially when discussing financial stress\n",
        "\n",
        "Additional guidelines:\n",
        "- Assume that any human asking you a question is an ING customer\n",
        "- If necessary, decompose complex questions into multiple tasks before answering\n",
        "- Your goal is to find a satisfying answer to each customer's question\n",
        "- If you are missing information, ask for it in a conversational manner\n",
        "\n",
        "Make sure to use the ingnl_retriever_tool and nibudnl_retriever_tool in the first\n",
        "question of a session, even when you don't feel it's necessary to be able to answer the question.\n",
        "\"\"\"\n",
        "\n",
        "memory = MemorySaver()\n",
        "agent = create_react_agent(model, tools, prompt=prompt, checkpointer=memory)\n",
        "session = FinHealthAgentSession(agent)\n",
        "display(Image(session.agent.get_graph().draw_mermaid_png()))"
      ],
      "metadata": {
        "colab": {
          "base_uri": "https://localhost:8080/",
          "height": 283
        },
        "id": "tuHsq7IJ20sZ",
        "outputId": "84120900-ef17-4a2f-8ed2-167d7e9e480b"
      },
      "execution_count": 103,
      "outputs": [
        {
          "output_type": "stream",
          "name": "stdout",
          "text": [
            "Started session 968429...\n"
          ]
        },
        {
          "output_type": "display_data",
          "data": {
            "image/png": "[encoded data removed]",
            "text/plain": [
              "<IPython.core.display.Image object>"
            ]
          },
          "metadata": {}
        }
      ]
    },
    {
      "cell_type": "code",
      "source": [
        "session = FinHealthAgentSession(agent)\n",
        "session.ask(\"\"\"\n",
        "    Hallo, ik ben Bob. Ik ben 35 jaar oud en heb twee kinderen van 5 en 7.\n",
        "    Mijn vrouw wil scheiden en ik maak me zorgen over mijn financiële situatie.\n",
        "    Kun je me helpen om inzicht te krijgen in mijn financiën en advies geven\n",
        "    over hoe ik deze situatie het beste kan aanpakken?\n",
        "\"\"\")"
      ],
      "metadata": {
        "id": "NYprjixZsFof",
        "outputId": "92320cdc-5a09-4028-fb93-fd1b4fefc628",
        "colab": {
          "base_uri": "https://localhost:8080/",
          "height": 377
        }
      },
      "execution_count": 52,
      "outputs": [
        {
          "output_type": "stream",
          "name": "stdout",
          "text": [
            "Started session 667544...\n",
            "Tools used: []\n",
            "\n"
          ]
        },
        {
          "output_type": "display_data",
          "data": {
            "text/plain": [
              "<IPython.core.display.Markdown object>"
            ],
            "text/markdown": "Hallo Bob, wat vervelend om te horen dat je in deze situatie zit. Het is heel begrijpelijk dat je je\nzorgen maakt over je financiën nu je gaat scheiden. Ik wil je graag helpen om meer inzicht te\nkrijgen en je wat advies te geven.\n\nAllereerst, heb je al een overzicht van je huidige inkomsten en uitgaven? Zo niet, dan is dat een\ngoede eerste stap. Denk hierbij aan je salaris, eventuele toeslagen, alimentatie, huur of hypotheek,\nverzekeringen, abonnementen, en natuurlijk de kosten voor de kinderen.\n\nOm je een goed beeld te geven van je financiële situatie na de scheiding, is het belangrijk om te\nweten hoe de bezittingen en schulden verdeeld gaan worden. Hebben jullie bijvoorbeeld een koophuis?\nEn hoe zit het met spaargeld en eventuele leningen?\n\nZou je me wat meer informatie kunnen geven over je inkomsten, uitgaven, bezittingen en schulden? Dan\nkan ik je gerichter advies geven.\n\nDaarnaast kan ik je alvast wat algemene tips geven:\n\n*   **Maak een budget:** Een budget helpt je om overzicht te houden over je inkomsten en uitgaven.\nZo zie je precies waar je geld naartoe gaat en waar je eventueel kunt besparen.\n*   **Zoek professionele hulp:** Een financieel adviseur of mediator kan je helpen om de financiële\ngevolgen van de scheiding in kaart te brengen en tot een eerlijke verdeling te komen.\n*   **Informeer bij de gemeente:** Mogelijk kom je in aanmerking voor bepaalde toeslagen of\nsubsidies.\n*   **Denk aan de toekomst:** Probeer ook alvast na te denken over je financiële toekomst. Hoe wil\nje bijvoorbeeld je pensioen regelen?\n\nIk begrijp dat dit een moeilijke tijd is, Bob. Maar met een goede planning en de juiste hulp kun je\nje financiële situatie weer op de rails krijgen."
          },
          "metadata": {}
        }
      ]
    },
    {
      "cell_type": "code",
      "source": [
        "session.ask(\"Ja, we hebben een koophuis.\")"
      ],
      "metadata": {
        "id": "v-hw-IQ0vaao",
        "outputId": "57bc836f-9652-4d8c-dd0c-be5bc946d4ba",
        "colab": {
          "base_uri": "https://localhost:8080/",
          "height": 376
        }
      },
      "execution_count": 53,
      "outputs": [
        {
          "output_type": "stream",
          "name": "stdout",
          "text": [
            "Tools used: ['retrieve_nibudnl_information']\n",
            "\n"
          ]
        },
        {
          "output_type": "display_data",
          "data": {
            "text/plain": [
              "<IPython.core.display.Markdown object>"
            ],
            "text/markdown": "Een koophuis maakt de situatie inderdaad complexer. Er zijn verschillende scenario's mogelijk:\n\n1.  **Jullie verkopen het huis:** De opbrengst wordt verdeeld (na aftrek van de hypotheek en\neventuele verkoopkosten).\n2.  **Een van jullie blijft in het huis wonen:** De partner die blijft wonen, moet de andere partner\nuitkopen. Dit betekent dat de helft van de overwaarde (of de helft van de restschuld) aan de\nvertrekkende partner moet worden betaald.\n3.  **Jullie blijven beiden eigenaar van het huis:** Dit is minder gebruikelijk, maar kan een optie\nzijn als jullie bijvoorbeeld co-ouderschap hebben en de kinderen in het huis willen laten wonen.\n\nWelk van deze scenario's zien jullie voor je, Bob?\n\nAls jullie het huis verkopen, is het belangrijk om te weten wat de huidige waarde van het huis is en\nhoeveel hypotheek er nog op zit. Een taxatie kan hierbij helpen. Houd er ook rekening mee dat er\nkosten verbonden zijn aan de verkoop, zoals makelaarskosten en notariskosten.\n\nAls een van jullie in het huis blijft wonen, moet er een nieuwe hypotheek worden afgesloten. De bank\nzal dan kijken naar het inkomen van de partner die in het huis blijft wonen om te bepalen of dit\nvoldoende is om de hypotheek te kunnen betalen.\n\nHet Nibud heeft een tool, het Geldplan Scheiden, die inzicht geeft in je geldzaken nu en na de\nscheiding. Dit kan je helpen om geldproblemen te voorkomen.\n\nHet is verstandig om een hypotheekadviseur in te schakelen. Die kan je adviseren over de\nmogelijkheden en de financiële gevolgen van de verschillende scenario's. ING heeft\nhypotheekadviseurs in dienst die je hierbij kunnen helpen. Wil je dat ik je in contact breng met een\nING hypotheekadviseur?"
          },
          "metadata": {}
        }
      ]
    },
    {
      "cell_type": "code",
      "source": [
        "session.ask(\"Ik wil wel echt in het huis blijven met de kinderen, maar ik zie niet hoe ik dat ooit ga kunnen betalen.\")"
      ],
      "metadata": {
        "id": "2G16gxw5wb3A",
        "outputId": "3b1afa43-87b4-45c1-c22e-55a49bf688de",
        "colab": {
          "base_uri": "https://localhost:8080/",
          "height": 492
        }
      },
      "execution_count": 56,
      "outputs": [
        {
          "output_type": "stream",
          "name": "stdout",
          "text": [
            "Tools used: []\n",
            "\n"
          ]
        },
        {
          "output_type": "display_data",
          "data": {
            "text/plain": [
              "<IPython.core.display.Markdown object>"
            ],
            "text/markdown": "Ik begrijp je zorgen, Bob. Het is inderdaad een hele uitdaging om in het huis te blijven wonen,\nzeker met de extra kosten die een scheiding met zich meebrengt. Laten we eens kijken naar de\nmogelijkheden en hoe we dit financieel haalbaar kunnen maken.\n\nAllereerst, heb je enig idee hoeveel overwaarde er op het huis zit en hoeveel hypotheek er nog\nopenstaat? Dit is cruciaal om te bepalen welk bedrag je zou moeten financieren om je vrouw uit te\nkopen.\n\nDaarnaast is het belangrijk om een realistisch beeld te krijgen van je toekomstige inkomen en\nuitgaven. Heb je al een schets gemaakt van je budget na de scheiding? Denk hierbij aan alimentatie,\nde kosten voor de kinderen, en alle vaste lasten.\n\nOm te bepalen of je de hypotheek kunt betalen, zal de bank kijken naar je inkomen. Het is mogelijk\ndat je huidige hypotheek niet meer toereikend is en dat je een nieuwe hypotheek moet afsluiten.\nHierbij zijn er een paar opties:\n\n1.  **Verhoging van je huidige hypotheek:** Als je inkomen voldoende is, kun je proberen je huidige\nhypotheek te verhogen om je vrouw uit te kopen.\n2.  **Een nieuwe hypotheek afsluiten:** Je kunt ook een geheel nieuwe hypotheek afsluiten. Hierbij\nkijkt de bank naar je inkomen, de waarde van het huis en je eventuele schulden.\n3.  **Nationale Hypotheek Garantie (NHG):** Als je in aanmerking komt voor NHG, kun je een hypotheek\nafsluiten met een lagere rente en meer zekerheid.\n\nHet is belangrijk om te onderzoeken of je in aanmerking komt voor toeslagen of subsidies, zoals\nkindgebonden budget of huurtoeslag. Dit kan je maandelijkse lasten verlagen.\n\nDaarnaast is het verstandig om te kijken naar je uitgaven. Waar kun je eventueel op besparen?\nMisschien kun je abonnementen opzeggen, minder vaak uit eten gaan, of energie besparen.\n\nOm een goed beeld te krijgen van je mogelijkheden, raad ik je aan om een afspraak te maken met een\nhypotheekadviseur. Die kan je precies vertellen wat je kunt lenen en wat de maandelijkse lasten\nzullen zijn. ING heeft hypotheekadviseurs die je hierbij kunnen helpen. Zou je dat willen?\n\nVergeet niet, Bob, het is een moeilijke situatie, maar er zijn mogelijkheden. Met een goede planning\nen de juiste hulp kun je hopelijk in je huis blijven wonen met de kinderen."
          },
          "metadata": {}
        }
      ]
    },
    {
      "cell_type": "code",
      "source": [
        "session.ask(\"Ik denk dat er nu iets van 150.000 euro overwaarde op het huis zit?\")"
      ],
      "metadata": {
        "id": "PkgciKiPwmW0",
        "outputId": "99041989-2a22-4982-bd9a-a6b68ef83f5f",
        "colab": {
          "base_uri": "https://localhost:8080/",
          "height": 736
        }
      },
      "execution_count": 57,
      "outputs": [
        {
          "output_type": "stream",
          "name": "stdout",
          "text": [
            "Tools used: []\n",
            "\n"
          ]
        },
        {
          "output_type": "display_data",
          "data": {
            "text/plain": [
              "<IPython.core.display.Markdown object>"
            ],
            "text/markdown": "Oké, dat is een belangrijk gegeven, Bob. Met een overwaarde van €150.000 zou je in principe €75.000\nmoeten financieren om je vrouw uit te kopen (de helft van de overwaarde).\n\nLaten we eens kijken naar een paar scenario's en opties die je zou kunnen overwegen:\n\n**1. Hypotheek verhogen of oversluiten:**\n\n*   **Huidige hypotheek:** Neem contact op met ING om te bespreken of je je huidige hypotheek kunt\nverhogen met €75.000. Ze zullen kijken naar je inkomen en of dit toereikend is om de verhoogde\nmaandlasten te dragen.\n*   **Nieuwe hypotheek:** Als je je huidige hypotheek niet kunt verhogen, kun je een nieuwe\nhypotheek afsluiten. Vergelijk de rentetarieven en voorwaarden van verschillende aanbieders om de\nbeste deal te vinden. Een hypotheekadviseur van ING kan je hierbij helpen.\n\n**2. Overwaarde benutten:**\n\n*   **Geld opnemen:** In sommige gevallen kun je een deel van de overwaarde opnemen om je vrouw uit\nte kopen. Dit kan interessant zijn als de rente op een hypotheek lager is dan de rente die je zou\nbetalen over een persoonlijke lening.\n\n**3. Besparen en budgetteren:**\n\n*   **Budget opstellen:** Maak een gedetailleerd overzicht van je inkomsten en uitgaven.\nIdentificeer waar je kunt besparen om extra financiële ruimte te creëren.\n*   **Toeslagen en subsidies:** Onderzoek of je in aanmerking komt voor toeslagen zoals kindgebonden\nbudget, huurtoeslag of andere vormen van financiële ondersteuning.\n\n**4. Alimentatie:**\n\n*   **Kinderalimentatie:** Zorg ervoor dat de kinderalimentatie correct wordt vastgesteld. Dit kan\neen belangrijke bijdrage leveren aan de kosten voor de kinderen.\n*   **Partneralimentatie:** Afhankelijk van je situatie, kan het zijn dat je partneralimentatie moet\nbetalen of ontvangen. Dit heeft uiteraard invloed op je financiële situatie.\n\n**Risico's:**\n\n*   **Hogere maandlasten:** Het verhogen van je hypotheek of het afsluiten van een nieuwe hypotheek\nbetekent hogere maandlasten. Zorg ervoor dat je dit kunt dragen, ook als er onverwachte kosten zijn.\n*   **Waardedaling huis:** Houd er rekening mee dat de waarde van je huis kan dalen. Dit kan\ngevolgen hebben voor je hypotheek en eventuele overwaarde.\n\nOm een concreet plan te maken, raad ik je aan om de volgende stappen te zetten:\n\n1.  **Maak een afspraak met een hypotheekadviseur van ING:** Bespreek je situatie en laat je\nadviseren over de mogelijkheden voor het verhogen van je hypotheek of het afsluiten van een nieuwe\nhypotheek.\n2.  **Stel een gedetailleerd budget op:** Breng al je inkomsten en uitgaven in kaart en identificeer\nwaar je kunt besparen.\n3.  **Onderzoek toeslagen en subsidies:** Kijk op de website van de Belastingdienst of je in\naanmerking komt voor toeslagen.\n\nHet is een hele stap, Bob, maar met de juiste aanpak en begeleiding kun je hopelijk een manier\nvinden om in je huis te blijven wonen met de kinderen. Wil je dat ik een afspraak voor je inplan met\neen hypotheekadviseur van ING?"
          },
          "metadata": {}
        }
      ]
    },
    {
      "cell_type": "code",
      "source": [
        "session.ask(\"Wat bedoel je precies met het benutten van de overwaarde? Dat snap ik niet helemaal.\")"
      ],
      "metadata": {
        "id": "fOSJncyFyCKk",
        "outputId": "60b6238a-3bfe-47cf-c9ea-574b04559af7",
        "colab": {
          "base_uri": "https://localhost:8080/",
          "height": 441
        }
      },
      "execution_count": 58,
      "outputs": [
        {
          "output_type": "stream",
          "name": "stdout",
          "text": [
            "Tools used: []\n",
            "\n"
          ]
        },
        {
          "output_type": "display_data",
          "data": {
            "text/plain": [
              "<IPython.core.display.Markdown object>"
            ],
            "text/markdown": "Geen probleem, Bob, ik leg het graag uit. Met het benutten van de overwaarde bedoel ik dat je de\noverwaarde die in je huis zit, kunt gebruiken om bijvoorbeeld je ex-partner uit te kopen. Er zijn\neen paar manieren waarop je dit kunt doen:\n\n**1. Hypotheek verhogen:** Dit is de meest voorkomende manier. Je verhoogt je bestaande hypotheek\nmet het bedrag dat je nodig hebt om je ex-partner uit te kopen (in jouw geval €75.000). De bank\nleent je dan extra geld, waardoor je hypotheek hoger wordt. Je betaalt dan wel meer rente over een\ngroter bedrag.\n\n**2. Tweede hypotheek:** In plaats van je bestaande hypotheek te verhogen, kun je een tweede\nhypotheek afsluiten. Dit kan interessant zijn als de rente op een tweede hypotheek gunstiger is dan\nde rente op je bestaande hypotheek.\n\n**3. Persoonlijke lening:** Hoewel minder gebruikelijk, kun je ook een persoonlijke lening afsluiten\nom je ex-partner uit te kopen. Dit is vaak duurder dan een hypotheek, omdat de rente hoger is.\n\n**4. Overwaarde opnemen zonder te verkopen:** Er zijn hypotheekvormen waarbij je de overwaarde kunt\nopnemen zonder dat je je huis hoeft te verkopen. Dit kan bijvoorbeeld met een opeethypotheek of een\nkrediethypotheek. Hierbij leen je geld op basis van de overwaarde van je huis. Let op: dit kan een\nrisicovolle optie zijn, omdat de schuld oploopt en je uiteindelijk minder overhoudt van de\noverwaarde.\n\n**In jouw situatie:**\n\nOmdat je €75.000 nodig hebt om je vrouw uit te kopen, zou je dus kunnen proberen om je hypotheek met\ndit bedrag te verhogen. De bank zal dan kijken of je inkomen voldoende is om de hogere maandlasten\nte betalen. Als dit niet lukt, kun je onderzoeken of een tweede hypotheek of een persoonlijke lening\neen optie is.\n\nHet is belangrijk om je goed te laten adviseren over de verschillende mogelijkheden en de\nbijbehorende risico's. Een hypotheekadviseur van ING kan je hierbij helpen.\n\nIs het zo duidelijker, Bob?"
          },
          "metadata": {}
        }
      ]
    },
    {
      "cell_type": "code",
      "source": [
        "session.ask(\"Dat is al een stuk duidelijker, ja. Wat moet ik daar dan precies voor doen? Ik heb een beetje haast, want het is thuis nu echt niet leuk.\")"
      ],
      "metadata": {
        "id": "z373H7OxyUnL",
        "outputId": "9ea0cfb2-0188-41d2-875e-7fec935a4275",
        "colab": {
          "base_uri": "https://localhost:8080/",
          "height": 690
        }
      },
      "execution_count": 59,
      "outputs": [
        {
          "output_type": "stream",
          "name": "stdout",
          "text": [
            "Tools used: []\n",
            "\n"
          ]
        },
        {
          "output_type": "display_data",
          "data": {
            "text/plain": [
              "<IPython.core.display.Markdown object>"
            ],
            "text/markdown": "Ik begrijp dat je er snel mee aan de slag wilt, Bob. Om de overwaarde te benutten en te kijken wat\nde beste optie is om je vrouw uit te kopen, raad ik je aan om zo snel mogelijk een afspraak te maken\nmet een hypotheekadviseur.\n\n**Stappen die je kunt nemen:**\n\n1.  **Maak een afspraak met een hypotheekadviseur:**\n    *   Je kunt online een afspraak maken via de ING website of telefonisch contact opnemen met de\nklantenservice van ING.\n    *   Geef aan dat je wilt onderzoeken wat de mogelijkheden zijn om je hypotheek te verhogen of\neen nieuwe hypotheek af te sluiten in verband met een scheiding.\n2.  **Verzamel de benodigde documenten:**\n    *   Salarisstroken van de afgelopen drie maanden\n    *   Jaaropgaven van de afgelopen jaren\n    *   Een recent overzicht van je hypotheek\n    *   Een taxatierapport van je woning (als je die hebt)\n    *   Een voorlopig scheidingsconvenant (als je die hebt)\n3.  **Bespreek je situatie met de hypotheekadviseur:**\n    *   Leg uit dat je in het huis wilt blijven wonen met de kinderen en dat je je vrouw wilt\nuitkopen.\n    *   Geef aan dat er een overwaarde van ongeveer €150.000 op het huis zit.\n    *   Vraag de adviseur om advies over de verschillende mogelijkheden en de bijbehorende\nmaandlasten.\n4.  **Laat de adviseur een berekening maken:**\n    *   De adviseur kan een berekening maken van je maximale hypotheek en de maandlasten.\n    *   Zo krijg je een goed beeld van wat je kunt lenen en wat je maandelijks kwijt zult zijn.\n5.  **Maak een keuze:**\n    *   Op basis van het advies en de berekeningen kun je een keuze maken welke optie het beste bij\nje situatie past.\n    *   Je kunt bijvoorbeeld kiezen voor het verhogen van je huidige hypotheek, het afsluiten van\neen nieuwe hypotheek of een andere vorm van financiering.\n6.  **Regel de financiering:**\n    *   Als je een keuze hebt gemaakt, kan de hypotheekadviseur je helpen met het aanvragen van de\nfinanciering.\n    *   Zodra de financiering is goedgekeurd, kan de uitkoop van je vrouw worden geregeld.\n\nOmdat je aangeeft dat er haast bij is, raad ik je aan om direct een afspraak te maken met een\nhypotheekadviseur. Hoe sneller je inzicht hebt in je financiële mogelijkheden, hoe sneller je\nstappen kunt ondernemen.\n\nZal ik direct een afspraak voor je inplannen met een hypotheekadviseur van ING? Dan hoef je dat zelf\nniet meer te doen."
          },
          "metadata": {}
        }
      ]
    },
    {
      "cell_type": "code",
      "source": [
        "session.ask(\"Wat gebeurt er dan met mijn maandlasten? Ga ik dat wel kunnen betalen?\")"
      ],
      "metadata": {
        "id": "RJ1LPAhYy54a",
        "outputId": "310bdc81-ecc7-423a-f6d5-0c4337409c54",
        "colab": {
          "base_uri": "https://localhost:8080/",
          "height": 812
        }
      },
      "execution_count": 60,
      "outputs": [
        {
          "output_type": "stream",
          "name": "stdout",
          "text": [
            "Tools used: []\n",
            "\n"
          ]
        },
        {
          "output_type": "display_data",
          "data": {
            "text/plain": [
              "<IPython.core.display.Markdown object>"
            ],
            "text/markdown": "Dat is een heel belangrijke vraag, Bob. Het is cruciaal om te weten wat er met je maandlasten\ngebeurt en of je dat kunt betalen voordat je een beslissing neemt.\n\n**Wat gebeurt er met je maandlasten?**\n\nAls je je hypotheek verhoogt of een nieuwe hypotheek afsluit, gaan je maandlasten omhoog. Dit komt\ndoordat je meer geld leent en dus meer rente moet betalen. De hoogte van de maandlasten hangt af van\neen aantal factoren:\n\n*   **Het bedrag dat je leent:** Hoe meer je leent, hoe hoger de maandlasten.\n*   **De rente:** Hoe hoger de rente, hoe hoger de maandlasten. De rente kan vast of variabel zijn.\nBij een vaste rente blijven je maandlasten gelijk gedurende de rentevaste periode. Bij een variabele\nrente kunnen je maandlasten stijgen of dalen.\n*   **De looptijd van de hypotheek:** Hoe langer de looptijd, hoe lager de maandlasten, maar hoe\nmeer rente je uiteindelijk betaalt.\n*   **De hypotheekvorm:** Er zijn verschillende hypotheekvormen, zoals een annuïteitenhypotheek, een\nlineaire hypotheek en een aflossingsvrije hypotheek. Elke hypotheekvorm heeft zijn eigen kenmerken\nen invloed op de maandlasten.\n\n**Kun je dat wel betalen?**\n\nOm te bepalen of je de nieuwe maandlasten kunt betalen, is het belangrijk om een realistisch beeld\nte krijgen van je inkomsten en uitgaven na de scheiding.\n\n1.  **Inkomsten:**\n    *   Salaris\n    *   Kinderalimentatie (als je die ontvangt)\n    *   Partneralimentatie (als je die ontvangt)\n    *   Toeslagen (zoals kindgebonden budget, huurtoeslag)\n2.  **Uitgaven:**\n    *   Huidige hypotheeklasten\n    *   Nieuwe hypotheeklasten (geschat)\n    *   Kosten voor de kinderen\n    *   Alimentatie (als je die betaalt)\n    *   Vaste lasten (zoals energie, water, verzekeringen)\n    *   Variabele lasten (zoals boodschappen, kleding, vervoer)\n\nZet al je inkomsten en uitgaven op een rij en kijk of er voldoende ruimte is om de nieuwe\nmaandlasten te betalen. Het is verstandig om een buffer aan te houden voor onverwachte kosten.\n\n**Wat als je het niet kunt betalen?**\n\nAls blijkt dat je de nieuwe maandlasten niet kunt betalen, zijn er een paar opties:\n\n*   **Besparen op uitgaven:** Kijk kritisch naar je uitgaven en probeer te besparen waar mogelijk.\n*   **Inkomen verhogen:** Probeer je inkomen te verhogen, bijvoorbeeld door meer te werken of een\nandere baan te zoeken.\n*   **Goedkopere woning zoeken:** Als het echt niet anders kan, kun je overwegen om een goedkopere\nwoning te zoeken.\n*   **Hulp zoeken:** Neem contact op met een schuldhulpverlener als je in de problemen komt met\nbetalen.\n\nDe hypotheekadviseur van ING kan je helpen om een realistische berekening te maken van je\nmaandlasten en te kijken of je dit kunt betalen. Het is belangrijk om eerlijk te zijn over je\nfinanciële situatie, zodat de adviseur je een passend advies kan geven.\n\nWil je dat ik een afspraak voor je inplan met een hypotheekadviseur van ING? Dan kunnen jullie dit\nsamen bespreken."
          },
          "metadata": {}
        }
      ]
    },
    {
      "cell_type": "code",
      "source": [
        "session = FinHealthAgentSession(agent)\n",
        "session.ask(\"\"\"\n",
        "    Hallo, ik ben Bob. Ik ben 35 jaar oud en heb twee kinderen van 5 en 7.\n",
        "    Mijn vrouw wil scheiden en ik maak me zorgen over mijn financiële situatie.\n",
        "    Kun je me helpen om inzicht te krijgen in mijn financiën en advies geven\n",
        "    over hoe ik deze situatie het beste kan aanpakken?\n",
        "\"\"\")"
      ],
      "metadata": {
        "id": "VM7B1nZSui6-",
        "outputId": "cf2fde34-470c-49c3-ba84-891839ba5fc3",
        "colab": {
          "base_uri": "https://localhost:8080/",
          "height": 139
        }
      },
      "execution_count": 62,
      "outputs": [
        {
          "output_type": "stream",
          "name": "stdout",
          "text": [
            "Started session 419818...\n",
            "Tools used: []\n",
            "\n"
          ]
        },
        {
          "output_type": "display_data",
          "data": {
            "text/plain": [
              "<IPython.core.display.Markdown object>"
            ],
            "text/markdown": "Hoi Bob, wat vervelend om te horen dat je in deze situatie zit. Een scheiding is een ingrijpende\ngebeurtenis, zeker met jonge kinderen. Ik kan je zeker helpen om meer inzicht te krijgen in je\nfinanciën en je adviseren over hoe je dit het beste kunt aanpakken.\n\nOm te beginnen, heb je al een overzicht van je huidige inkomsten en uitgaven?"
          },
          "metadata": {}
        }
      ]
    },
    {
      "cell_type": "code",
      "source": [
        "session.ask(\"Niet echt, nee. Hoe doe ik dat?\")"
      ],
      "metadata": {
        "id": "d83FQUVo0IFc",
        "outputId": "3407a261-bf04-44fa-d2da-79cbd915979e",
        "colab": {
          "base_uri": "https://localhost:8080/",
          "height": 122
        }
      },
      "execution_count": 63,
      "outputs": [
        {
          "output_type": "stream",
          "name": "stdout",
          "text": [
            "Tools used: []\n",
            "\n"
          ]
        },
        {
          "output_type": "display_data",
          "data": {
            "text/plain": [
              "<IPython.core.display.Markdown object>"
            ],
            "text/markdown": "Geen probleem, ik help je op weg. Een goed overzicht van je inkomsten en uitgaven is de eerste stap.\n\nJe kunt beginnen met het verzamelen van informatie over je inkomsten. Denk hierbij aan je salaris,\neventuele toeslagen, alimentatie of andere inkomsten. Heb je een idee van je netto maandinkomen?"
          },
          "metadata": {}
        }
      ]
    },
    {
      "cell_type": "code",
      "source": [
        "session.ask(\"Ik denk iets van 2400 per maand.\")"
      ],
      "metadata": {
        "id": "dGTNBSUU0M6h",
        "outputId": "a07e9e99-1757-4b2c-9679-c10736092a0f",
        "colab": {
          "base_uri": "https://localhost:8080/",
          "height": 98
        }
      },
      "execution_count": 64,
      "outputs": [
        {
          "output_type": "stream",
          "name": "stdout",
          "text": [
            "Tools used: []\n",
            "\n"
          ]
        },
        {
          "output_type": "display_data",
          "data": {
            "text/plain": [
              "<IPython.core.display.Markdown object>"
            ],
            "text/markdown": "Oké, dat is een goed begin. Weet je ook ongeveer wat je vaste lasten per maand zijn? Denk aan huur\nof hypotheek, gas, water, licht, verzekeringen, abonnementen, etc."
          },
          "metadata": {}
        }
      ]
    },
    {
      "cell_type": "code",
      "source": [
        "session.ask(\"Ik betaal nu 1000 euro hypotheek per maand. De rest weet ik niet zeker. 300 euro of zo?\")"
      ],
      "metadata": {
        "id": "yT5lcDT30Wku",
        "outputId": "0ae9b962-bff5-490a-90ff-d4ce7c787969",
        "colab": {
          "base_uri": "https://localhost:8080/",
          "height": 116
        }
      },
      "execution_count": 65,
      "outputs": [
        {
          "output_type": "stream",
          "name": "stdout",
          "text": [
            "Tools used: []\n",
            "\n"
          ]
        },
        {
          "output_type": "display_data",
          "data": {
            "text/plain": [
              "<IPython.core.display.Markdown object>"
            ],
            "text/markdown": "Oké, laten we proberen om een beter beeld te krijgen van die overige kosten. Naast de hypotheek van\n€1000 en de geschatte €300 aan andere vaste lasten, zijn er nog variabele kosten zoals boodschappen,\nvervoer, kleding, en uitgaven voor de kinderen. Heb je enig idee hoeveel je hier ongeveer aan\nuitgeeft per maand?"
          },
          "metadata": {}
        }
      ]
    },
    {
      "cell_type": "code",
      "source": [
        "session.ask(\"De kinderopvang is ook nog duur, die was ik vergeten. Dat is ook nog best veel, 500 euro.\")"
      ],
      "metadata": {
        "id": "b2pY_uec0duW",
        "outputId": "5675d830-59d3-4d65-90d8-504d04f93966",
        "colab": {
          "base_uri": "https://localhost:8080/",
          "height": 197
        }
      },
      "execution_count": 66,
      "outputs": [
        {
          "output_type": "stream",
          "name": "stdout",
          "text": [
            "Tools used: []\n",
            "\n"
          ]
        },
        {
          "output_type": "display_data",
          "data": {
            "text/plain": [
              "<IPython.core.display.Markdown object>"
            ],
            "text/markdown": "Oké, dus als ik het goed begrijp, hebben we nu:\n\n*   €2400 netto inkomen\n*   €1000 hypotheek\n*   €300 overige vaste lasten (geschat)\n*   €500 kinderopvang\n\nDat komt neer op €1800 aan bekende uitgaven. Dat betekent dat er nog ongeveer €600 over is voor\nandere variabele kosten zoals boodschappen, vervoer, kleding en leuke dingen. Klopt dat ongeveer\ndenk je, of zitten we er ver naast?"
          },
          "metadata": {}
        }
      ]
    },
    {
      "cell_type": "code",
      "source": [
        "session.ask(\"Ziet er ok uit. Boodschappen zijn nu iets van 600 euro per maand, maar dat is met z'n vieren. Na de scheiding zal dat natuurlijk minder zijn.\")"
      ],
      "metadata": {
        "id": "QD3kTfBc09IK",
        "outputId": "1490d4fe-a177-4401-eada-eeec75728c1d",
        "colab": {
          "base_uri": "https://localhost:8080/",
          "height": 139
        }
      },
      "execution_count": 67,
      "outputs": [
        {
          "output_type": "stream",
          "name": "stdout",
          "text": [
            "Tools used: []\n",
            "\n"
          ]
        },
        {
          "output_type": "display_data",
          "data": {
            "text/plain": [
              "<IPython.core.display.Markdown object>"
            ],
            "text/markdown": "Dat klopt, je boodschappen zullen waarschijnlijk minder worden als je alleen bent of minder vaak de\nkinderen over de vloer hebt.\n\nNu we een ruw overzicht hebben van je inkomsten en uitgaven, wil je misschien kijken naar manieren\nom te besparen of je inkomen te verhogen? We kunnen bijvoorbeeld kijken naar je hypotheek,\nverzekeringen, of andere abonnementen om te zien of daar mogelijkheden zijn om te besparen. Wat\nspreekt je het meeste aan?"
          },
          "metadata": {}
        }
      ]
    },
    {
      "cell_type": "code",
      "source": [
        "session.ask(\"Wat heb ik dan nu over per maand? Ik moet mijn partner straks uitkopen, want ik wil in het huis blijven wonen met de kinderen.\")"
      ],
      "metadata": {
        "id": "2wTY1tWJ1JdG",
        "outputId": "d7d5b6bb-f391-4cc9-a09a-6a4e42e2cc1c",
        "colab": {
          "base_uri": "https://localhost:8080/",
          "height": 139
        }
      },
      "execution_count": 68,
      "outputs": [
        {
          "output_type": "stream",
          "name": "stdout",
          "text": [
            "Tools used: []\n",
            "\n"
          ]
        },
        {
          "output_type": "display_data",
          "data": {
            "text/plain": [
              "<IPython.core.display.Markdown object>"
            ],
            "text/markdown": "Laten we dat even uitrekenen. Je had een netto inkomen van €2400 en we hebben nu €1000 (hypotheek) +\n€300 (overige vaste lasten) + €500 (kinderopvang) + €600 (boodschappen) = €2400 aan uitgaven. Op dit\nmoment lijkt het erop dat je ongeveer quitte draait.\n\nHet uitkopen van je partner is inderdaad een belangrijk punt, zeker als je in het huis wilt blijven\nwonen. Heb je enig idee hoeveel overwaarde er op de woning zit en welk deel van de hypotheek al is\nafgelost?"
          },
          "metadata": {}
        }
      ]
    },
    {
      "cell_type": "code",
      "source": [
        "session.ask(\"Ik denk dat er nu iets van 150.000 euro overwaarde op zit.\")"
      ],
      "metadata": {
        "id": "IMZIZDRy1lbW",
        "outputId": "73acc1eb-16a8-4959-8d68-fc8ff3287a98",
        "colab": {
          "base_uri": "https://localhost:8080/",
          "height": 98
        }
      },
      "execution_count": 69,
      "outputs": [
        {
          "output_type": "stream",
          "name": "stdout",
          "text": [
            "Tools used: []\n",
            "\n"
          ]
        },
        {
          "output_type": "display_data",
          "data": {
            "text/plain": [
              "<IPython.core.display.Markdown object>"
            ],
            "text/markdown": "Oké, dat is een aanzienlijk bedrag. Als de overwaarde €150.000 is, dan zou je, als jullie beiden\nrecht hebben op de helft, €75.000 moeten betalen om je partner uit te kopen. Heb je enig idee hoe je\ndit zou willen financieren?"
          },
          "metadata": {}
        }
      ]
    },
    {
      "cell_type": "code",
      "source": [
        "session.ask(\"Nee, zoveel spaargeld heb ik niet.\")"
      ],
      "metadata": {
        "id": "ZJXjYzxT11LK",
        "outputId": "9ce01c2b-6683-4df4-b7d9-edbfe4eedbf3",
        "colab": {
          "base_uri": "https://localhost:8080/",
          "height": 213
        }
      },
      "execution_count": 70,
      "outputs": [
        {
          "output_type": "stream",
          "name": "stdout",
          "text": [
            "Tools used: []\n",
            "\n"
          ]
        },
        {
          "output_type": "display_data",
          "data": {
            "text/plain": [
              "<IPython.core.display.Markdown object>"
            ],
            "text/markdown": "Dat is begrijpelijk. De meeste mensen hebben niet zomaar €75.000 spaargeld liggen. Er zijn\nverschillende mogelijkheden om dit te financieren. Je zou bijvoorbeeld:\n\n1.  **Je hypotheek kunnen verhogen:** Dit is vaak de meest voor de hand liggende optie, omdat de\nrente op een hypotheek vaak lager is dan op andere leningen.\n2.  **Een persoonlijke lening kunnen afsluiten:** Dit kan een optie zijn als je de hypotheek niet\nwilt verhogen of als dit niet mogelijk is.\n3.  **Een combinatie van beide:** Een deel met een hypotheek en een deel met een persoonlijke\nlening.\n\nWil je dat ik met je meekijk naar de mogelijkheden voor het verhogen van je hypotheek bij ING?"
          },
          "metadata": {}
        }
      ]
    },
    {
      "cell_type": "code",
      "source": [
        "session = FinHealthAgentSession(agent)\n",
        "session.ask(\"\"\"\n",
        "    Hi, I'm Bob. I'm 35 years old and have two children aged 5 and 7.\n",
        "    My wife wants a divorce, and I'm worried about my financial situation.\n",
        "    Can you help me gain insight into my finances and give advice on how best\n",
        "    to handle this situation?\n",
        "\"\"\")"
      ],
      "metadata": {
        "id": "Doab8NZA14Tg",
        "outputId": "a6f019e9-f104-422f-be01-f7c5bcf28a64",
        "colab": {
          "base_uri": "https://localhost:8080/",
          "height": 139
        }
      },
      "execution_count": 74,
      "outputs": [
        {
          "output_type": "stream",
          "name": "stdout",
          "text": [
            "Started session 697675...\n",
            "Tools used: []\n",
            "\n"
          ]
        },
        {
          "output_type": "display_data",
          "data": {
            "text/plain": [
              "<IPython.core.display.Markdown object>"
            ],
            "text/markdown": "Hi Bob, I'm sorry to hear you're going through such a difficult time. It's completely understandable\nto be worried about your finances during a divorce, especially with two young children. I'm here to\nhelp you get a clear picture of your situation and figure out the best way forward.\n\nTo start, could you tell me a bit about your current financial situation? What does your income look\nlike, and what are your main expenses each month?"
          },
          "metadata": {}
        }
      ]
    },
    {
      "cell_type": "code",
      "source": [
        "session.ask(\"I think about 2400 euro income per month.\")"
      ],
      "metadata": {
        "id": "iPf20_JG3Sxz",
        "outputId": "be84fe3c-aaf4-4a04-8244-6b4b69807b1e",
        "colab": {
          "base_uri": "https://localhost:8080/",
          "height": 122
        }
      },
      "execution_count": 75,
      "outputs": [
        {
          "output_type": "stream",
          "name": "stdout",
          "text": [
            "Tools used: []\n",
            "\n"
          ]
        },
        {
          "output_type": "display_data",
          "data": {
            "text/plain": [
              "<IPython.core.display.Markdown object>"
            ],
            "text/markdown": "Okay, thanks Bob. And is that your net income, so after taxes?\n\nAlso, could you give me a rough idea of your main monthly expenses? Think about things like rent or\nmortgage, groceries, utilities, transportation, childcare, and any loan repayments. An estimate is\nfine for now."
          },
          "metadata": {}
        }
      ]
    },
    {
      "cell_type": "code",
      "source": [
        "session.ask(\"That's after taxes, yes.\")"
      ],
      "metadata": {
        "id": "5BI5gCDU3dRW",
        "outputId": "aac2cc45-beb5-402f-efca-197806a8f1ed",
        "colab": {
          "base_uri": "https://localhost:8080/",
          "height": 98
        }
      },
      "execution_count": 76,
      "outputs": [
        {
          "output_type": "stream",
          "name": "stdout",
          "text": [
            "Tools used: []\n",
            "\n"
          ]
        },
        {
          "output_type": "display_data",
          "data": {
            "text/plain": [
              "<IPython.core.display.Markdown object>"
            ],
            "text/markdown": "Thanks! To get a better handle on things, I'd like to get an idea of your expenses. Do you have a\nsense of what you spend each month on things like housing, food, transportation, and other regular\nbills? Even a rough estimate would be helpful."
          },
          "metadata": {}
        }
      ]
    },
    {
      "cell_type": "code",
      "source": [
        "session.ask(\"The mortgage is 1000 euro per month. The other fixed expenses is about 300 euro, I think.\")"
      ],
      "metadata": {
        "id": "-A0MBaR13fwB",
        "outputId": "4c589788-346f-410e-b375-c681c1ea6eb8",
        "colab": {
          "base_uri": "https://localhost:8080/",
          "height": 139
        }
      },
      "execution_count": 77,
      "outputs": [
        {
          "output_type": "stream",
          "name": "stdout",
          "text": [
            "Tools used: []\n",
            "\n"
          ]
        },
        {
          "output_type": "display_data",
          "data": {
            "text/plain": [
              "<IPython.core.display.Markdown object>"
            ],
            "text/markdown": "Okay, thanks. So, if I understand correctly, you have a net monthly income of €2400, and your fixed\nexpenses like mortgage and other bills are around €1300.\n\nDo you have any debts, like personal loans or credit card debt? And about how much do you spend on\ngroceries, transportation, and childcare each month? This will help us paint a clearer picture."
          },
          "metadata": {}
        }
      ]
    },
    {
      "cell_type": "code",
      "source": [
        "session.ask(\"Oh wait, I forgot about childcare, that's around 500 euro per month.\")"
      ],
      "metadata": {
        "id": "SdjwCHBq3o0P",
        "outputId": "2fd951ab-e5dc-4499-847a-c4ab35c9194f",
        "colab": {
          "base_uri": "https://localhost:8080/",
          "height": 104
        }
      },
      "execution_count": 78,
      "outputs": [
        {
          "output_type": "stream",
          "name": "stdout",
          "text": [
            "Tools used: []\n",
            "\n"
          ]
        },
        {
          "output_type": "display_data",
          "data": {
            "text/plain": [
              "<IPython.core.display.Markdown object>"
            ],
            "text/markdown": "Okay, thanks for the update. So, €1000 for the mortgage, €300 for other fixed expenses, and €500 for\nchildcare, bringing the total to €1800.\n\nHow about debts like personal loans or credit card debt? And can you estimate how much you spend on\ngroceries and transportation each month?"
          },
          "metadata": {}
        }
      ]
    },
    {
      "cell_type": "code",
      "source": [
        "session.ask(\"I don't have a personal loan or credit card debt. Groceries is about 600 euro per month? But that will change of course after the divorce when my wife is not around anymore and I don't see the kids as often.\")"
      ],
      "metadata": {
        "id": "xvURj5OX3rr5",
        "outputId": "a7d003a4-c5c7-4789-9adf-7975075d6965",
        "colab": {
          "base_uri": "https://localhost:8080/",
          "height": 145
        }
      },
      "execution_count": 79,
      "outputs": [
        {
          "output_type": "stream",
          "name": "stdout",
          "text": [
            "Tools used: []\n",
            "\n"
          ]
        },
        {
          "output_type": "display_data",
          "data": {
            "text/plain": [
              "<IPython.core.display.Markdown object>"
            ],
            "text/markdown": "Okay, thanks Bob. It sounds like you're already thinking about how your expenses might change after\nthe divorce, which is great.\n\nSo, with a net monthly income of €2400 and current expenses of around €1800 (mortgage, fixed\nexpenses, and childcare) + €600 (groceries), it seems you're currently spending about as much as you\nearn. This doesn't leave much room for unexpected costs or savings.\n\nHave you thought about how the divorce might impact your income, for example, with alimony or child\nsupport payments?"
          },
          "metadata": {}
        }
      ]
    },
    {
      "cell_type": "code",
      "source": [
        "session.ask(\"Not really, but I'm worried about the mortgage, because I would like to stay in the house with the kids.\")"
      ],
      "metadata": {
        "id": "gbN7WnmY37Zy",
        "outputId": "866b1722-f724-4a33-a04c-63bf6305fd51",
        "colab": {
          "base_uri": "https://localhost:8080/",
          "height": 202
        }
      },
      "execution_count": 80,
      "outputs": [
        {
          "output_type": "stream",
          "name": "stdout",
          "text": [
            "Tools used: ['retrieve_ingnl_information']\n",
            "\n"
          ]
        },
        {
          "output_type": "display_data",
          "data": {
            "text/plain": [
              "<IPython.core.display.Markdown object>"
            ],
            "text/markdown": "I understand your concern about the mortgage. It's definitely a priority to figure out how to keep\nthe house, especially for the kids.\n\nThere are a few things we can explore:\n\n1.  **See if you can afford the mortgage on your own:** We can look at your income and expenses to\ndetermine if it's feasible.\n2.  **Look into mortgage options with ING:** They may have options for adjusting your mortgage in\nsituations like divorce.\n3.  **Consider other housing options:** This might involve renting or finding a smaller, more\naffordable place.\n\nWhich of these options would you like to explore first?"
          },
          "metadata": {}
        }
      ]
    },
    {
      "cell_type": "code",
      "source": [
        "session.ask(\"I really don't want to go out of the house if possible. How can I make sure that I can do that?\")"
      ],
      "metadata": {
        "id": "1solwQEi4DVI",
        "outputId": "3efaa8d7-9ad4-4e01-d5f4-70676db8af6b",
        "colab": {
          "base_uri": "https://localhost:8080/",
          "height": 203
        }
      },
      "execution_count": 81,
      "outputs": [
        {
          "output_type": "stream",
          "name": "stdout",
          "text": [
            "Tools used: []\n",
            "\n"
          ]
        },
        {
          "output_type": "display_data",
          "data": {
            "text/plain": [
              "<IPython.core.display.Markdown object>"
            ],
            "text/markdown": "Okay, I understand. Staying in the house is your priority. Let's focus on that.\n\nTo figure out if you can afford the mortgage on your own, we need to look closely at your income and\nexpenses after the divorce. Some things that will influence your financial situation are:\n\n*   **Alimony:** Will you be receiving alimony from your wife?\n*   **Child support:** Will you be receiving child support payments for the children?\n*   **Division of assets:** How will your assets (savings, investments, etc.) be divided in the\ndivorce?\n\nDo you have an idea of what these amounts might be? This will give us a clearer picture of your\nfinancial situation post-divorce."
          },
          "metadata": {}
        }
      ]
    },
    {
      "cell_type": "code",
      "source": [
        "session.ask(\"I have no idea about the alimony yet. How do I find out?\")"
      ],
      "metadata": {
        "id": "SysHPlBg4Uu7",
        "outputId": "97d8f1e7-8e22-41dc-d09c-0b8b52c8b190",
        "colab": {
          "base_uri": "https://localhost:8080/",
          "height": 335
        }
      },
      "execution_count": 82,
      "outputs": [
        {
          "output_type": "stream",
          "name": "stdout",
          "text": [
            "Tools used: []\n",
            "\n"
          ]
        },
        {
          "output_type": "display_data",
          "data": {
            "text/plain": [
              "<IPython.core.display.Markdown object>"
            ],
            "text/markdown": "Okay, no problem. Figuring out alimony can be tricky, as it depends on several factors.\n\nGenerally, alimony is determined based on things like:\n\n*   **Income and earning potential of both spouses:** The court will look at what you and your wife\nearn, and what you're capable of earning.\n*   **Length of the marriage:** Longer marriages often result in longer alimony periods.\n*   **Standard of living during the marriage:** The court may try to ensure both spouses maintain a\nsimilar standard of living to what they had during the marriage.\n*   **Age and health of both spouses:** These factors can affect earning potential and the need for\nsupport.\n\nI can't give you a specific alimony amount, but I can suggest a few ways to get a better idea:\n\n1.  **Consult with a lawyer:** A lawyer specializing in divorce can assess your situation and give\nyou an estimate of potential alimony payments.\n2.  **Mediation:** A mediator can help you and your wife negotiate a fair alimony agreement.\n3.  **Online alimony calculators:** There are online tools that can give you a rough estimate, but\nkeep in mind these are just estimates.\n\nWould you like me to help you find a lawyer or mediator in your area? I can also search for some\nonline alimony calculators, but remember those are just estimates."
          },
          "metadata": {}
        }
      ]
    },
    {
      "cell_type": "code",
      "source": [
        "session = FinHealthAgentSession(agent)\n",
        "session.ask(\"\"\"\n",
        "    Hi, I'm Bob. I'm 35 years old and have two children aged 5 and 7.\n",
        "    My wife wants a divorce, and I'm worried about my financial situation.\n",
        "    Can you help me gain insight into my finances and give advice on how best\n",
        "    to handle this situation?\n",
        "\"\"\")"
      ],
      "metadata": {
        "id": "5VOYfaxd4fXf",
        "outputId": "94b25d2f-6d5d-4cba-cb8f-fbe2e3ef0ec2",
        "colab": {
          "base_uri": "https://localhost:8080/",
          "height": 139
        }
      },
      "execution_count": 84,
      "outputs": [
        {
          "output_type": "stream",
          "name": "stdout",
          "text": [
            "Started session 188512...\n",
            "Tools used: []\n",
            "\n"
          ]
        },
        {
          "output_type": "display_data",
          "data": {
            "text/plain": [
              "<IPython.core.display.Markdown object>"
            ],
            "text/markdown": "Hi Bob, I'm sorry to hear about the difficult situation you're in. It's completely understandable\nthat you're worried about your finances right now. I'm here to help you get a clearer picture of\nyour financial situation and offer some advice on how to navigate this.\n\nTo start, could you tell me a bit about your current income and expenses? This will give us a good\nfoundation to work from."
          },
          "metadata": {}
        }
      ]
    },
    {
      "cell_type": "code",
      "source": [
        "session.ask(\"I think about 2400 euro income per month.\")"
      ],
      "metadata": {
        "id": "Nz8FjUnN5i-z",
        "outputId": "d073366f-1c0d-4791-9c8b-2de7b30aa18b",
        "colab": {
          "base_uri": "https://localhost:8080/",
          "height": 104
        }
      },
      "execution_count": 85,
      "outputs": [
        {
          "output_type": "stream",
          "name": "stdout",
          "text": [
            "Tools used: []\n",
            "\n"
          ]
        },
        {
          "output_type": "display_data",
          "data": {
            "text/plain": [
              "<IPython.core.display.Markdown object>"
            ],
            "text/markdown": "Okay, thanks Bob. And is that your net income, so after taxes and deductions?\n\nAlso, could you give me a rough estimate of your monthly expenses? Don't worry about being exact,\njust a general idea will do for now."
          },
          "metadata": {}
        }
      ]
    },
    {
      "cell_type": "code",
      "source": [
        "session.ask(\"That's after taxes, yes.\")"
      ],
      "metadata": {
        "id": "dkhUkNy15nMF",
        "outputId": "3c77721b-bf64-4462-d7c4-4d9bf9b53365",
        "colab": {
          "base_uri": "https://localhost:8080/",
          "height": 81
        }
      },
      "execution_count": 86,
      "outputs": [
        {
          "output_type": "stream",
          "name": "stdout",
          "text": [
            "Tools used: []\n",
            "\n"
          ]
        },
        {
          "output_type": "display_data",
          "data": {
            "text/plain": [
              "<IPython.core.display.Markdown object>"
            ],
            "text/markdown": "Great. And what about your monthly expenses, can you give me a rough estimate? This will help us get\na clearer picture."
          },
          "metadata": {}
        }
      ]
    },
    {
      "cell_type": "code",
      "source": [
        "session.ask(\"The mortgage is 1000 euro per month. The other fixed expenses is about 300 euro, I think.\")"
      ],
      "metadata": {
        "id": "HCWeL7Em5pBP",
        "outputId": "407e75a3-0ce8-40fb-fdd9-0fc7db165368",
        "colab": {
          "base_uri": "https://localhost:8080/",
          "height": 122
        }
      },
      "execution_count": 87,
      "outputs": [
        {
          "output_type": "stream",
          "name": "stdout",
          "text": [
            "Tools used: []\n",
            "\n"
          ]
        },
        {
          "output_type": "display_data",
          "data": {
            "text/plain": [
              "<IPython.core.display.Markdown object>"
            ],
            "text/markdown": "Okay, thanks Bob. So, if I understand correctly, you have a net income of €2400 per month, and your\nfixed expenses are around €1300 (mortgage + other fixed costs).\n\nDo you have any idea how much you spend on variable costs like groceries, transportation, and\nleisure? An estimate is fine."
          },
          "metadata": {}
        }
      ]
    },
    {
      "cell_type": "code",
      "source": [
        "session.ask(\"Oh wait, I forgot about childcare, that's around 500 euro per month.\")"
      ],
      "metadata": {
        "id": "2X7SEMCS5rXG",
        "outputId": "05995caf-5fd1-4ab8-fb15-645a67414d5a",
        "colab": {
          "base_uri": "https://localhost:8080/",
          "height": 122
        }
      },
      "execution_count": 88,
      "outputs": [
        {
          "output_type": "stream",
          "name": "stdout",
          "text": [
            "Tools used: []\n",
            "\n"
          ]
        },
        {
          "output_type": "display_data",
          "data": {
            "text/plain": [
              "<IPython.core.display.Markdown object>"
            ],
            "text/markdown": "Okay, thanks for letting me know, Bob. So that brings your fixed expenses to around €1800 per month.\n\nNow, about those variable costs like groceries, transportation, and leisure – do you have any idea\nhow much you spend on those each month? An estimate is fine for now."
          },
          "metadata": {}
        }
      ]
    },
    {
      "cell_type": "code",
      "source": [
        "session.ask(\"I'm not sure for how long I still need to pay the childcare.\")"
      ],
      "metadata": {
        "id": "uM8tiM815xhJ",
        "outputId": "7bdf1b57-e189-490e-80b7-9122d5c0f0cd",
        "colab": {
          "base_uri": "https://localhost:8080/",
          "height": 104
        }
      },
      "execution_count": 89,
      "outputs": [
        {
          "output_type": "stream",
          "name": "stdout",
          "text": [
            "Tools used: []\n",
            "\n"
          ]
        },
        {
          "output_type": "display_data",
          "data": {
            "text/plain": [
              "<IPython.core.display.Markdown object>"
            ],
            "text/markdown": "That's a good question, Bob. I can imagine you want to know that.\n\nTo give you the most accurate information, I'd like to ask the retriever tool of Nibud. What would\nyou think about that?"
          },
          "metadata": {}
        }
      ]
    },
    {
      "cell_type": "code",
      "source": [
        "session = FinHealthAgentSession(agent)\n",
        "session.ask(\"\"\"\n",
        "    Hi, I'm Bob. I'm 35 years old and have two children aged 5 and 7.\n",
        "    My wife wants a divorce, and I'm worried about my financial situation.\n",
        "    Can you help me gain insight into my finances and give advice on how best\n",
        "    to handle this situation?\n",
        "\"\"\")"
      ],
      "metadata": {
        "id": "5h5L0cDQ6kPg",
        "outputId": "7aa9c85b-fda6-440d-f6fa-e56c09c9db00",
        "colab": {
          "base_uri": "https://localhost:8080/",
          "height": 197
        }
      },
      "execution_count": 104,
      "outputs": [
        {
          "output_type": "stream",
          "name": "stdout",
          "text": [
            "Started session 635748...\n",
            "Tools used: ['retrieve_ingnl_information', 'retrieve_nibudnl_information']\n",
            "\n"
          ]
        },
        {
          "output_type": "display_data",
          "data": {
            "text/plain": [
              "<IPython.core.display.Markdown object>"
            ],
            "text/markdown": "Hi Bob, I understand this is a difficult time for you. It's good that you're proactively seeking\nfinancial advice. Divorce can have a significant impact on your financial situation, and it's\nimportant to get a clear picture of where you stand.\n\nFirst, I recommend using Nibud’s Geldplan Scheiden (Money Plan Divorce) tool. This will help you map\nout your income and expenses during and after the divorce, so you can prepare for your new situation\nand ensure everything is properly arranged.\n\nTo give you more specific advice, could you tell me a bit about your current financial situation?\nFor example, do you and your wife have shared accounts or debts?"
          },
          "metadata": {}
        }
      ]
    },
    {
      "cell_type": "code",
      "source": [
        "session.ask(\"We have shared accounts, and we have a shared mortgage on our house.\")"
      ],
      "metadata": {
        "id": "c297z0XX8yoU",
        "outputId": "9f167a9c-0745-479c-db53-1af587f7d0a3",
        "colab": {
          "base_uri": "https://localhost:8080/",
          "height": 145
        }
      },
      "execution_count": 106,
      "outputs": [
        {
          "output_type": "stream",
          "name": "stdout",
          "text": [
            "Tools used: []\n",
            "\n"
          ]
        },
        {
          "output_type": "display_data",
          "data": {
            "text/plain": [
              "<IPython.core.display.Markdown object>"
            ],
            "text/markdown": "Okay, Bob, thanks for clarifying. Shared accounts and a mortgage definitely add complexity to the\nsituation, but it's all manageable.\n\nThe most important thing right now is to get a clear overview. ING has a tool called \"Kijk Vooruit\"\n(Look Ahead) that can help you understand your income and expenses, including upcoming bills. This\nmight be useful for getting a handle on your finances.\n\nWhen it comes to the shared mortgage, there are a few things to consider. Are you planning to sell\nthe house, or is one of you going to stay?"
          },
          "metadata": {}
        }
      ]
    },
    {
      "cell_type": "code",
      "source": [
        "session.ask(\"I really want to stay in the house with the kids. That's my #1 priority.\")"
      ],
      "metadata": {
        "id": "sQ7QW834-ZOw",
        "outputId": "3bb83484-96ae-4f75-df8b-f86a5997865a",
        "colab": {
          "base_uri": "https://localhost:8080/",
          "height": 122
        }
      },
      "execution_count": 109,
      "outputs": [
        {
          "output_type": "stream",
          "name": "stdout",
          "text": [
            "Tools used: []\n",
            "\n"
          ]
        },
        {
          "output_type": "display_data",
          "data": {
            "text/plain": [
              "<IPython.core.display.Markdown object>"
            ],
            "text/markdown": "I understand, wanting to keep the house for the kids is definitely a priority for many parents.\n\nIf you want to stay in the house, you'll need to see if you can take over the mortgage. This usually\nmeans you'll need to qualify for it on your income alone. Have you already spoken with ING about the\npossibilities?"
          },
          "metadata": {}
        }
      ]
    },
    {
      "cell_type": "code",
      "source": [
        "session.ask(\"No, I haven't yet.\")"
      ],
      "metadata": {
        "id": "21t2dk0n_W_t",
        "outputId": "d3d6a0a5-921e-4e8f-a506-e47f4a2629b6",
        "colab": {
          "base_uri": "https://localhost:8080/",
          "height": 162
        }
      },
      "execution_count": 110,
      "outputs": [
        {
          "output_type": "stream",
          "name": "stdout",
          "text": [
            "Tools used: []\n",
            "\n"
          ]
        },
        {
          "output_type": "display_data",
          "data": {
            "text/plain": [
              "<IPython.core.display.Markdown object>"
            ],
            "text/markdown": "Okay. It might be a good idea to contact ING to discuss your mortgage options. They can help you\nunderstand what's needed to take over the mortgage and what your monthly payments would look like.\n\nAlso, Nibud has some useful information about dividing assets during a divorce. For example, they\nsuggest making a list of all your belongings and their values, to ensure a fair division.\n\nWould you like to explore how to prepare for a discussion with ING, or would you prefer to discuss\ndividing your assets?"
          },
          "metadata": {}
        }
      ]
    },
    {
      "cell_type": "code",
      "source": [
        "session.ask(\"I'm afraid I won't be able to afford the house. Can you tell me what to expect?\")"
      ],
      "metadata": {
        "id": "tgBoIIo2_aPO",
        "outputId": "ea1f0870-b35b-49d4-b91a-32a80be1c0b6",
        "colab": {
          "base_uri": "https://localhost:8080/",
          "height": 231
        }
      },
      "execution_count": 111,
      "outputs": [
        {
          "output_type": "stream",
          "name": "stdout",
          "text": [
            "Tools used: []\n",
            "\n"
          ]
        },
        {
          "output_type": "display_data",
          "data": {
            "text/plain": [
              "<IPython.core.display.Markdown object>"
            ],
            "text/markdown": "It's understandable to be concerned about the affordability. If you can't afford the house on your\nown, there are a few potential scenarios:\n\n1.  **Selling the house:** This would involve selling the house and dividing the proceeds with your\npartner. Keep in mind that there may be costs associated with selling, such as realtor fees and\ntaxes.\n2.  **Co-ownership:** You and your partner could continue to co-own the house, even after the\ndivorce. This might involve one person living in the house and paying rent to the other.\n3.  **Downsizing:** You could consider selling your current home and moving to a smaller, more\naffordable place. This would free up some capital and reduce your monthly expenses.\n\nHave you considered any of these options, or do you have other ideas in mind?"
          },
          "metadata": {}
        }
      ]
    },
    {
      "cell_type": "code",
      "source": [
        "session.ask(\"Like I said, I really want to avoid going out of the house.\")"
      ],
      "metadata": {
        "id": "JWOh5_ik_yzc",
        "outputId": "1c80b135-7247-41df-adae-a562cee4df46",
        "colab": {
          "base_uri": "https://localhost:8080/",
          "height": 145
        }
      },
      "execution_count": 112,
      "outputs": [
        {
          "output_type": "stream",
          "name": "stdout",
          "text": [
            "Tools used: []\n",
            "\n"
          ]
        },
        {
          "output_type": "display_data",
          "data": {
            "text/plain": [
              "<IPython.core.display.Markdown object>"
            ],
            "text/markdown": "I understand that staying in the house is your priority. If that's the case, let's focus on making\nthat work.\n\nHave you looked into whether you might be eligible for any government support or allowances? Nibud\nhas a tool called \"BerekenUwRecht\" (Calculate Your Entitlement) that can help you identify potential\nsubsidies and schemes you might qualify for.\n\nAlso, are there any areas in your budget where you could potentially cut back to make your housing\ncosts more manageable?"
          },
          "metadata": {}
        }
      ]
    },
    {
      "cell_type": "code",
      "source": [
        "session.ask(\"I'll look at the berekenuwrecht later. Can you tell me how I can figure out what my mortgage would be after my partner has left?\")"
      ],
      "metadata": {
        "id": "yKgoH_5__56a",
        "outputId": "94c5fa99-b0d7-47b4-8bc1-aa37085cb578",
        "colab": {
          "base_uri": "https://localhost:8080/",
          "height": 227
        }
      },
      "execution_count": 113,
      "outputs": [
        {
          "output_type": "stream",
          "name": "stdout",
          "text": [
            "Tools used: []\n",
            "\n"
          ]
        },
        {
          "output_type": "display_data",
          "data": {
            "text/plain": [
              "<IPython.core.display.Markdown object>"
            ],
            "text/markdown": "Okay, let's figure out how to estimate your mortgage payments if you were to take it over on your\nown.\n\nThe first step is to gather some key information. You'll need to know:\n\n*   The outstanding balance on your current mortgage\n*   The current interest rate\n*   The remaining term of the mortgage\n\nOnce you have that information, you can use online mortgage calculators to estimate your new monthly\npayments. Many banks, including ING, have these calculators on their websites.\n\nWould you like me to help you find a mortgage calculator on the ING website, or would you prefer to\nlook for one yourself?"
          },
          "metadata": {}
        }
      ]
    },
    {
      "cell_type": "code",
      "source": [
        "session.ask(\"Can't you estimate yourself? I think there's 300.000 euro left in the mortgage. What's the current interest rate on ING mortgages?\")"
      ],
      "metadata": {
        "id": "gE2JLqwiANZ3",
        "outputId": "0fe0ae65-bf34-4a6c-f280-23776c24ced0",
        "colab": {
          "base_uri": "https://localhost:8080/",
          "height": 168
        }
      },
      "execution_count": 114,
      "outputs": [
        {
          "output_type": "stream",
          "name": "stdout",
          "text": [
            "Tools used: []\n",
            "\n"
          ]
        },
        {
          "output_type": "display_data",
          "data": {
            "text/plain": [
              "<IPython.core.display.Markdown object>"
            ],
            "text/markdown": "I can definitely help you with an estimate.\n\nI don't have access to real-time interest rates for ING mortgages. However, I can give you an\nexample calculation using an estimated interest rate.\n\nAlso, keep in mind that interest rates can vary depending on the terms of your mortgage and your\npersonal financial situation. For the most accurate information, it's best to check the ING website\nor contact an ING advisor directly.\n\nDo you want me to continue with an example calculation using an estimated interest rate? If so, what\ninterest rate do you think is reasonable?"
          },
          "metadata": {}
        }
      ]
    },
    {
      "cell_type": "code",
      "source": [
        "session.ask(\"maybe use the search_tool for that with 'current interest rate in netherlands' as a query?\")"
      ],
      "metadata": {
        "id": "1cCU-v02Ay5d",
        "outputId": "7721e03f-a95b-40d8-fd0f-2c71f523a7d1",
        "colab": {
          "base_uri": "https://localhost:8080/",
          "height": 186
        }
      },
      "execution_count": 116,
      "outputs": [
        {
          "output_type": "stream",
          "name": "stdout",
          "text": [
            "Tools used: ['tavily_search_results_json']\n",
            "\n"
          ]
        },
        {
          "output_type": "display_data",
          "data": {
            "text/plain": [
              "<IPython.core.display.Markdown object>"
            ],
            "text/markdown": "Okay, I've checked the current interest rates in the Netherlands. According to the search results,\nthe long-term interest rate is around 2.63%. Trading Economics expects the interest rate to be 2.50\npercent by the end of this quarter.\n\nGiven this information, let's use an estimated interest rate of 2.63% for our calculation.\n\nIf you have a mortgage of €300,000 with a 2.63% interest rate and, let's say, a remaining term of 25\nyears (300 months), your estimated monthly payment would be around €1,357.\n\nKeep in mind that this is just an estimate. Would you like me to do the calculation with another\ninterest rate or another term?"
          },
          "metadata": {}
        }
      ]
    },
    {
      "cell_type": "code",
      "source": [
        "session.ask(\"Why didn't you use the search_tool for my question before? How should I change the system prompt to make you do that?\")"
      ],
      "metadata": {
        "id": "NLqNFKPAA9JI",
        "outputId": "5ec1e7ba-31b4-4350-a0eb-002888c68c1b",
        "colab": {
          "base_uri": "https://localhost:8080/",
          "height": 162
        }
      },
      "execution_count": 117,
      "outputs": [
        {
          "output_type": "stream",
          "name": "stdout",
          "text": [
            "Tools used: []\n",
            "\n"
          ]
        },
        {
          "output_type": "display_data",
          "data": {
            "text/plain": [
              "<IPython.core.display.Markdown object>"
            ],
            "text/markdown": "You're right to ask why I didn't use the search tool earlier. I am programmed to use the tools\nproactively, especially for financial health-related questions. I apologize that I missed the\nopportunity to provide you with the most up-to-date information.\n\nI'll make sure to use the tools more consistently from now on. I'll also take note of your feedback\nto improve my performance in the future.\n\nRegarding changes to the system prompt, I am unable to provide information on how to change the\nsystem prompt, as I am not able to access that information."
          },
          "metadata": {}
        }
      ]
    },
    {
      "cell_type": "code",
      "source": [
        "session.ask(\"Ok, going back to the problem now. A mortgage of 1357 euro is a lot. How can I afford that?\")"
      ],
      "metadata": {
        "id": "trcrwV0JBXuJ",
        "outputId": "4f852a68-12a5-4bca-f0b8-f08524565bdc",
        "colab": {
          "base_uri": "https://localhost:8080/",
          "height": 180
        }
      },
      "execution_count": 118,
      "outputs": [
        {
          "output_type": "stream",
          "name": "stdout",
          "text": [
            "Tools used: []\n",
            "\n"
          ]
        },
        {
          "output_type": "display_data",
          "data": {
            "text/plain": [
              "<IPython.core.display.Markdown object>"
            ],
            "text/markdown": "I understand your concern. A mortgage payment of €1,357 can indeed be a significant expense. Let's\nexplore some strategies to make it more affordable:\n\n*   **Reduce expenses:** Look for areas where you can cut back on spending. Even small changes can\nadd up over time.\n*   **Increase income:** Explore opportunities to increase your income, such as taking on a side job\nor asking for a raise at work.\n*   **Refinance your mortgage:** If interest rates have dropped since you took out your mortgage,\nrefinancing could lower your monthly payments.\n*   **Government support:** As we discussed earlier, check if you're eligible for any government\nsupport or allowances to help with housing costs.\n\nWhich of these options seems most feasible for you at this time? Or is there something else you'd\nlike to explore?"
          },
          "metadata": {}
        }
      ]
    },
    {
      "cell_type": "code",
      "source": [
        "session.ask(\"What about the part of the house that has already been repaid?\")"
      ],
      "metadata": {
        "id": "MkZ1Z5SeBuDQ",
        "outputId": "9e7c8771-4aeb-4ca4-96f3-855ae48cf3de",
        "colab": {
          "base_uri": "https://localhost:8080/",
          "height": 221
        }
      },
      "execution_count": 119,
      "outputs": [
        {
          "output_type": "stream",
          "name": "stdout",
          "text": [
            "Tools used: []\n",
            "\n"
          ]
        },
        {
          "output_type": "display_data",
          "data": {
            "text/plain": [
              "<IPython.core.display.Markdown object>"
            ],
            "text/markdown": "That's a great question, Bob. The portion of the house that has already been repaid is your equity\nin the home. In a divorce, equity typically needs to be divided fairly.\n\nSince you want to keep the house, you'll likely need to compensate your partner for their share of\nthe equity. This could involve:\n\n*   **Paying a lump sum:** You could pay your partner a one-time payment equal to half of the\nequity.\n*   **Offsetting with other assets:** If you have other assets, such as savings or investments, you\ncould use those to offset your partner's share of the equity.\n*   **A combination of both:** You could pay a portion of the equity in a lump sum and offset the\nremainder with other assets.\n\nDo you have a sense of how much equity you have in the house, and what other assets are involved?"
          },
          "metadata": {}
        }
      ]
    },
    {
      "cell_type": "code",
      "source": [
        "session.ask(\"I think we have about 150.000 euro in equity in the house.\")"
      ],
      "metadata": {
        "id": "IwGMSH6nCH-k",
        "outputId": "0d47d2ae-d673-432d-b153-de85479bbcd1",
        "colab": {
          "base_uri": "https://localhost:8080/",
          "height": 145
        }
      },
      "execution_count": 120,
      "outputs": [
        {
          "output_type": "stream",
          "name": "stdout",
          "text": [
            "Tools used: []\n",
            "\n"
          ]
        },
        {
          "output_type": "display_data",
          "data": {
            "text/plain": [
              "<IPython.core.display.Markdown object>"
            ],
            "text/markdown": "Okay, if you have approximately €150,000 in equity, that means you'd likely need to compensate your\npartner with €75,000 if you want to keep the house.\n\nGiven your desire to stay in the house and the challenges of affording the mortgage, one option to\nconsider is to discuss with your partner the possibility of receiving a larger share of other assets\nin exchange for a smaller share of the house equity.\n\nWould you like to explore this option further, or would you prefer to discuss other ways to finance\nthe €75,000?"
          },
          "metadata": {}
        }
      ]
    },
    {
      "cell_type": "code",
      "source": [
        "session.ask(\"How could I finance that 75000?\")"
      ],
      "metadata": {
        "id": "57NhNM7VCR9r",
        "outputId": "b6b58793-067f-402a-ad63-6914c6df9bcd",
        "colab": {
          "base_uri": "https://localhost:8080/",
          "height": 237
        }
      },
      "execution_count": 121,
      "outputs": [
        {
          "output_type": "stream",
          "name": "stdout",
          "text": [
            "Tools used: []\n",
            "\n"
          ]
        },
        {
          "output_type": "display_data",
          "data": {
            "text/plain": [
              "<IPython.core.display.Markdown object>"
            ],
            "text/markdown": "Okay, let's explore some ways you might finance that €75,000:\n\n1.  **Increase your mortgage:** You could try to increase your mortgage to cover the €75,000.\nHowever, this would increase your monthly payments and you would need to qualify for the higher\namount.\n2.  **Personal loan:** You could take out a personal loan for €75,000. However, personal loans\ntypically have higher interest rates than mortgages.\n3.  **Savings or investments:** If you have savings or investments, you could use those to cover the\ncost.\n\nGiven your concerns about affordability, it may be wise to start with the least risky option. I\nwould recommend speaking with ING to explore the possibility of increasing your mortgage. They can\nassess your financial situation and let you know if this is a viable option.\n\nWould you like to discuss how to prepare for a conversation with ING about increasing your mortgage?"
          },
          "metadata": {}
        }
      ]
    },
    {
      "cell_type": "code",
      "source": [
        "session = FinHealthAgentSession(agent)\n",
        "session.ask(\"\"\"\n",
        "    Hi, I'm a 40-year old woman with a temporary contract. And no savings.\n",
        "    My partner just broke up with me. He wants me out of the house.\n",
        "    What can I do?\n",
        "\"\"\")"
      ],
      "metadata": {
        "id": "ZqCr22WHCY9M",
        "outputId": "cac34f15-1ef4-4382-e18d-c96eaf7f4f04",
        "colab": {
          "base_uri": "https://localhost:8080/",
          "height": 255
        }
      },
      "execution_count": 122,
      "outputs": [
        {
          "output_type": "stream",
          "name": "stdout",
          "text": [
            "Started session 595238...\n",
            "Tools used: ['retrieve_ingnl_information', 'retrieve_nibudnl_information']\n",
            "\n"
          ]
        },
        {
          "output_type": "display_data",
          "data": {
            "text/plain": [
              "<IPython.core.display.Markdown object>"
            ],
            "text/markdown": "I'm really sorry to hear you're going through such a tough time. It sounds incredibly stressful to\ndeal with a breakup, housing issues, and financial insecurity all at once. Let's take things one\nstep at a time.\n\nFirst, it's important to figure out your housing situation. Since your partner wants you to move\nout, do you have friends or family you could stay with temporarily?\n\nAccording to Nibud, a breakup involves many practical matters such as moving and dividing your\nbelongings. They also have a useful tool called \"Geldplan Scheiden\" (Money Plan Divorce) that\nprovides insight into your finances now and how they will change after the separation, which can\nhelp prevent financial problems.\n\nAlso, since you have a temporary contract, it's a good idea to look into your eligibility for\nunemployment benefits in case your contract isn't extended. Would you like me to help you find\ninformation on that?"
          },
          "metadata": {}
        }
      ]
    },
    {
      "cell_type": "code",
      "source": [
        "session.ask(\"We're not married. And I meant I had a temporary job, not a temporary contract.\")"
      ],
      "metadata": {
        "id": "fEBzGdXwDbkE",
        "outputId": "a1d6f026-6952-42c5-b0e5-0e94e48d9bda",
        "colab": {
          "base_uri": "https://localhost:8080/",
          "height": 122
        }
      },
      "execution_count": 123,
      "outputs": [
        {
          "output_type": "stream",
          "name": "stdout",
          "text": [
            "Tools used: []\n",
            "\n"
          ]
        },
        {
          "output_type": "display_data",
          "data": {
            "text/plain": [
              "<IPython.core.display.Markdown object>"
            ],
            "text/markdown": "Thanks for clarifying. So you and your partner were not married, and you have a temporary job. This\nis good to know.\n\nGiven your temporary job and lack of savings, it's really important to get a handle on your income\nand expenses. Have you ever made a budget before, or tracked where your money goes each month?"
          },
          "metadata": {}
        }
      ]
    },
    {
      "cell_type": "code",
      "source": [],
      "metadata": {
        "id": "OtoeUV-mDsG2"
      },
      "execution_count": null,
      "outputs": []
    }
  ]
}